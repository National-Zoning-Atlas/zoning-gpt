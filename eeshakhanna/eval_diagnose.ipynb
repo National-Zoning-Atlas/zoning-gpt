{
 "cells": [
  {
   "cell_type": "code",
   "execution_count": 38,
   "metadata": {},
   "outputs": [],
   "source": [
    "import numpy as np\n",
    "import pandas as pd\n",
    "import matplotlib.pyplot as plt"
   ]
  },
  {
   "attachments": {},
   "cell_type": "markdown",
   "metadata": {},
   "source": [
    "### Search recall"
   ]
  },
  {
   "cell_type": "code",
   "execution_count": 39,
   "metadata": {},
   "outputs": [],
   "source": [
    "df = pd.read_csv('../data/results/eval.csv')\n",
    "\n",
    "df = df[df[\"term\"] == \"min_parking_spaces\"][[\"town\", \"district\", \"correct_answer\", \"expected\", \"expected_normalized\", \"expected_extended\", \"actual\", \"actual_normalized\", \"confidence\", \"correct_page_searched\", \"correct_page_extracted\", \"gt_page\", \"searched_pages\", \"searched_pages_expanded\", \"extracted_pages\"]]"
   ]
  },
  {
   "cell_type": "code",
   "execution_count": 40,
   "metadata": {},
   "outputs": [],
   "source": [
    "sdf = df.groupby(by=['town', 'district']).agg({\"correct_page_searched\": \"max\"}).reset_index()"
   ]
  },
  {
   "cell_type": "code",
   "execution_count": 41,
   "metadata": {},
   "outputs": [
    {
     "name": "stdout",
     "output_type": "stream",
     "text": [
      "page search recall = 1.0\n"
     ]
    }
   ],
   "source": [
    "recall = sdf[\"correct_page_searched\"].sum() / sdf.shape[0]\n",
    "print(\"page search recall =\", recall)"
   ]
  },
  {
   "cell_type": "code",
   "execution_count": 42,
   "metadata": {},
   "outputs": [
    {
     "data": {
      "text/html": [
       "<div>\n",
       "<style scoped>\n",
       "    .dataframe tbody tr th:only-of-type {\n",
       "        vertical-align: middle;\n",
       "    }\n",
       "\n",
       "    .dataframe tbody tr th {\n",
       "        vertical-align: top;\n",
       "    }\n",
       "\n",
       "    .dataframe thead th {\n",
       "        text-align: right;\n",
       "    }\n",
       "</style>\n",
       "<table border=\"1\" class=\"dataframe\">\n",
       "  <thead>\n",
       "    <tr style=\"text-align: right;\">\n",
       "      <th></th>\n",
       "      <th>town</th>\n",
       "      <th>district</th>\n",
       "      <th>correct_answer</th>\n",
       "      <th>expected</th>\n",
       "      <th>expected_normalized</th>\n",
       "      <th>expected_extended</th>\n",
       "      <th>actual</th>\n",
       "      <th>actual_normalized</th>\n",
       "      <th>confidence</th>\n",
       "      <th>correct_page_searched_x</th>\n",
       "      <th>correct_page_extracted</th>\n",
       "      <th>gt_page</th>\n",
       "      <th>searched_pages</th>\n",
       "      <th>searched_pages_expanded</th>\n",
       "      <th>extracted_pages</th>\n",
       "      <th>correct_page_searched_y</th>\n",
       "    </tr>\n",
       "  </thead>\n",
       "  <tbody>\n",
       "  </tbody>\n",
       "</table>\n",
       "</div>"
      ],
      "text/plain": [
       "Empty DataFrame\n",
       "Columns: [town, district, correct_answer, expected, expected_normalized, expected_extended, actual, actual_normalized, confidence, correct_page_searched_x, correct_page_extracted, gt_page, searched_pages, searched_pages_expanded, extracted_pages, correct_page_searched_y]\n",
       "Index: []"
      ]
     },
     "execution_count": 42,
     "metadata": {},
     "output_type": "execute_result"
    }
   ],
   "source": [
    "# Display all results for which no correct page was searched.\n",
    "df.merge(sdf.query(\"correct_page_searched == 0\"), on=[\"town\", \"district\"]).query(\"~actual_normalized.isna()\")"
   ]
  },
  {
   "cell_type": "markdown",
   "metadata": {},
   "source": [
    "### Answer accuracy"
   ]
  },
  {
   "cell_type": "code",
   "execution_count": 43,
   "metadata": {},
   "outputs": [],
   "source": [
    "gt = pd.read_csv('../data/ground_truth.csv')"
   ]
  },
  {
   "cell_type": "code",
   "execution_count": 44,
   "metadata": {},
   "outputs": [],
   "source": [
    "gt_towns = list(gt['town'].unique())"
   ]
  },
  {
   "cell_type": "code",
   "execution_count": 45,
   "metadata": {},
   "outputs": [],
   "source": [
    "df = pd.read_csv('../data/results/eval.csv')\n",
    "term = 'min_parking_spaces'\n",
    "df = df[df['term'] == term]"
   ]
  },
  {
   "cell_type": "code",
   "execution_count": 46,
   "metadata": {},
   "outputs": [],
   "source": [
    "df_towns = list(df['town'].unique())"
   ]
  },
  {
   "cell_type": "code",
   "execution_count": 47,
   "metadata": {},
   "outputs": [],
   "source": [
    "adf = df.groupby(by=['town', 'district']).agg({\"correct_answer\": \"max\"}).reset_index()"
   ]
  },
  {
   "cell_type": "code",
   "execution_count": 48,
   "metadata": {},
   "outputs": [
    {
     "name": "stdout",
     "output_type": "stream",
     "text": [
      "accuracy = 1.0\n"
     ]
    }
   ],
   "source": [
    "acc = adf[\"correct_answer\"].sum() / adf.shape[0]\n",
    "print(\"accuracy =\", acc)"
   ]
  },
  {
   "cell_type": "code",
   "execution_count": 49,
   "metadata": {},
   "outputs": [],
   "source": [
    "df_inc = df.merge(adf.query(\"correct_answer == 0\"), on=[\"town\", \"district\"])"
   ]
  },
  {
   "cell_type": "code",
   "execution_count": 50,
   "metadata": {},
   "outputs": [
    {
     "data": {
      "text/plain": [
       "0"
      ]
     },
     "execution_count": 50,
     "metadata": {},
     "output_type": "execute_result"
    }
   ],
   "source": [
    "len(df_inc.query(\"correct_page_searched == 1\"))"
   ]
  },
  {
   "cell_type": "code",
   "execution_count": 51,
   "metadata": {},
   "outputs": [],
   "source": [
    "df_wrong = df_inc.query(\"~correct_answer_y\")\n",
    "df_cond_wrong = df_wrong.query(\"correct_page_searched == 1\")\n",
    "df_search_wrong = df_wrong.query(\"correct_page_searched == 0\")"
   ]
  },
  {
   "cell_type": "code",
   "execution_count": 52,
   "metadata": {},
   "outputs": [
    {
     "data": {
      "text/html": [
       "<div>\n",
       "<style scoped>\n",
       "    .dataframe tbody tr th:only-of-type {\n",
       "        vertical-align: middle;\n",
       "    }\n",
       "\n",
       "    .dataframe tbody tr th {\n",
       "        vertical-align: top;\n",
       "    }\n",
       "\n",
       "    .dataframe thead th {\n",
       "        text-align: right;\n",
       "    }\n",
       "</style>\n",
       "<table border=\"1\" class=\"dataframe\">\n",
       "  <thead>\n",
       "    <tr style=\"text-align: right;\">\n",
       "      <th></th>\n",
       "      <th>town</th>\n",
       "      <th>district</th>\n",
       "      <th>term</th>\n",
       "      <th>expected</th>\n",
       "      <th>expected_extended</th>\n",
       "      <th>actual</th>\n",
       "      <th>confidence</th>\n",
       "      <th>correct_page_searched</th>\n",
       "      <th>correct_page_extracted</th>\n",
       "      <th>gt_page</th>\n",
       "      <th>searched_pages</th>\n",
       "      <th>searched_pages_expanded</th>\n",
       "      <th>extracted_pages</th>\n",
       "      <th>actual_normalized</th>\n",
       "      <th>expected_normalized</th>\n",
       "      <th>correct_answer_x</th>\n",
       "      <th>correct_answer_y</th>\n",
       "    </tr>\n",
       "  </thead>\n",
       "  <tbody>\n",
       "  </tbody>\n",
       "</table>\n",
       "</div>"
      ],
      "text/plain": [
       "Empty DataFrame\n",
       "Columns: [town, district, term, expected, expected_extended, actual, confidence, correct_page_searched, correct_page_extracted, gt_page, searched_pages, searched_pages_expanded, extracted_pages, actual_normalized, expected_normalized, correct_answer_x, correct_answer_y]\n",
       "Index: []"
      ]
     },
     "execution_count": 52,
     "metadata": {},
     "output_type": "execute_result"
    }
   ],
   "source": [
    "df_wrong"
   ]
  },
  {
   "attachments": {},
   "cell_type": "markdown",
   "metadata": {},
   "source": [
    "### Estimating performance plot"
   ]
  },
  {
   "cell_type": "code",
   "execution_count": 64,
   "metadata": {},
   "outputs": [],
   "source": [
    "df = pd.read_csv('../data/results/eval.csv')\n",
    "term = 'min_lot_size'\n",
    "df = df[df['term'] == term]"
   ]
  },
  {
   "cell_type": "code",
   "execution_count": 65,
   "metadata": {},
   "outputs": [],
   "source": [
    "# recall \n",
    "df_recall = df.groupby(by=['town', 'district']).agg({\"correct_page_searched\": \"sum\"}).reset_index()\n",
    "df_recall[\"correct_search\"] = df_recall[\"correct_page_searched\"].apply(lambda x: 1 if x > 0 else 0)\n",
    "\n",
    "# acc \n",
    "df_acc = df.groupby(by=['town', 'district']).agg({\"correct_answer\": \"sum\"}).reset_index()\n",
    "df_acc[\"correct_acc\"] = df_acc[\"correct_answer\"].apply(lambda x: 1 if x > 0 else 0)"
   ]
  },
  {
   "cell_type": "code",
   "execution_count": 66,
   "metadata": {},
   "outputs": [],
   "source": [
    "df_sample = df_recall.copy()\n",
    "df_sample[\"correct_acc\"] = df_acc[\"correct_acc\"]"
   ]
  },
  {
   "cell_type": "code",
   "execution_count": 67,
   "metadata": {},
   "outputs": [
    {
     "ename": "ValueError",
     "evalue": "Cannot take a larger sample than population when 'replace=False'",
     "output_type": "error",
     "traceback": [
      "\u001b[0;31m---------------------------------------------------------------------------\u001b[0m",
      "\u001b[0;31mValueError\u001b[0m                                Traceback (most recent call last)",
      "Cell \u001b[0;32mIn[67], line 16\u001b[0m\n\u001b[1;32m     14\u001b[0m total_accs \u001b[39m=\u001b[39m \u001b[39m0\u001b[39m\n\u001b[1;32m     15\u001b[0m \u001b[39mfor\u001b[39;00m i \u001b[39min\u001b[39;00m \u001b[39mrange\u001b[39m(avg_over):\n\u001b[0;32m---> 16\u001b[0m     sample \u001b[39m=\u001b[39m df_sample\u001b[39m.\u001b[39;49msample(n\u001b[39m=\u001b[39;49mn, replace\u001b[39m=\u001b[39;49m\u001b[39mFalse\u001b[39;49;00m)\n\u001b[1;32m     17\u001b[0m     sample_recall \u001b[39m=\u001b[39m sample[\u001b[39m'\u001b[39m\u001b[39mcorrect_search\u001b[39m\u001b[39m'\u001b[39m]\u001b[39m.\u001b[39msum() \u001b[39m/\u001b[39m n\n\u001b[1;32m     18\u001b[0m     sample_acc \u001b[39m=\u001b[39m sample[\u001b[39m'\u001b[39m\u001b[39mcorrect_acc\u001b[39m\u001b[39m'\u001b[39m]\u001b[39m.\u001b[39msum() \u001b[39m/\u001b[39m n\n",
      "File \u001b[0;32m/opt/homebrew/Caskroom/mambaforge/base/envs/zoning/lib/python3.10/site-packages/pandas/core/generic.py:5773\u001b[0m, in \u001b[0;36mNDFrame.sample\u001b[0;34m(self, n, frac, replace, weights, random_state, axis, ignore_index)\u001b[0m\n\u001b[1;32m   5770\u001b[0m \u001b[39mif\u001b[39;00m weights \u001b[39mis\u001b[39;00m \u001b[39mnot\u001b[39;00m \u001b[39mNone\u001b[39;00m:\n\u001b[1;32m   5771\u001b[0m     weights \u001b[39m=\u001b[39m sample\u001b[39m.\u001b[39mpreprocess_weights(\u001b[39mself\u001b[39m, weights, axis)\n\u001b[0;32m-> 5773\u001b[0m sampled_indices \u001b[39m=\u001b[39m sample\u001b[39m.\u001b[39;49msample(obj_len, size, replace, weights, rs)\n\u001b[1;32m   5774\u001b[0m result \u001b[39m=\u001b[39m \u001b[39mself\u001b[39m\u001b[39m.\u001b[39mtake(sampled_indices, axis\u001b[39m=\u001b[39maxis)\n\u001b[1;32m   5776\u001b[0m \u001b[39mif\u001b[39;00m ignore_index:\n",
      "File \u001b[0;32m/opt/homebrew/Caskroom/mambaforge/base/envs/zoning/lib/python3.10/site-packages/pandas/core/sample.py:150\u001b[0m, in \u001b[0;36msample\u001b[0;34m(obj_len, size, replace, weights, random_state)\u001b[0m\n\u001b[1;32m    147\u001b[0m     \u001b[39melse\u001b[39;00m:\n\u001b[1;32m    148\u001b[0m         \u001b[39mraise\u001b[39;00m \u001b[39mValueError\u001b[39;00m(\u001b[39m\"\u001b[39m\u001b[39mInvalid weights: weights sum to zero\u001b[39m\u001b[39m\"\u001b[39m)\n\u001b[0;32m--> 150\u001b[0m \u001b[39mreturn\u001b[39;00m random_state\u001b[39m.\u001b[39;49mchoice(obj_len, size\u001b[39m=\u001b[39;49msize, replace\u001b[39m=\u001b[39;49mreplace, p\u001b[39m=\u001b[39;49mweights)\u001b[39m.\u001b[39mastype(\n\u001b[1;32m    151\u001b[0m     np\u001b[39m.\u001b[39mintp, copy\u001b[39m=\u001b[39m\u001b[39mFalse\u001b[39;00m\n\u001b[1;32m    152\u001b[0m )\n",
      "File \u001b[0;32mmtrand.pyx:984\u001b[0m, in \u001b[0;36mnumpy.random.mtrand.RandomState.choice\u001b[0;34m()\u001b[0m\n",
      "\u001b[0;31mValueError\u001b[0m: Cannot take a larger sample than population when 'replace=False'"
     ]
    }
   ],
   "source": [
    "n_all = [10, 20, 30, 40, 50, 60, 70, 80, 90, 100, 110, 120]\n",
    "\n",
    "res_recalls = {}\n",
    "res_accs = {}\n",
    "recalls = []\n",
    "accs = []\n",
    "\n",
    "avg_over = 50\n",
    "\n",
    "for n in n_all:\n",
    "    res_recalls[n] = []\n",
    "    res_accs[n] = []\n",
    "    total_recall = 0\n",
    "    total_accs = 0\n",
    "    for i in range(avg_over):\n",
    "        sample = df_sample.sample(n=n, replace=False)\n",
    "        sample_recall = sample['correct_search'].sum() / n\n",
    "        sample_acc = sample['correct_acc'].sum() / n\n",
    "        res_recalls[n].append(sample_recall)\n",
    "        res_accs[n].append(sample_acc)\n",
    "        total_recall += sample_recall\n",
    "        total_accs += sample_acc\n",
    "    recalls.append(total_recall/avg_over)\n",
    "    accs.append(total_accs/avg_over)"
   ]
  },
  {
   "cell_type": "code",
   "execution_count": null,
   "metadata": {},
   "outputs": [
    {
     "data": {
      "image/png": "[encoded data removed]",
      "text/plain": [
       "<Figure size 640x480 with 1 Axes>"
      ]
     },
     "metadata": {},
     "output_type": "display_data"
    }
   ],
   "source": [
    "labels, data = [*zip(*res_recalls.items())]  # 'transpose' items to parallel key, value lists\n",
    "\n",
    "# or backwards compatable    \n",
    "labels, data = res_recalls.keys(), res_recalls.values()\n",
    "\n",
    "plt.boxplot(data)\n",
    "plt.axhline(y = .8734, color = 'r', linestyle = '-')\n",
    "plt.xticks(range(1, len(labels) + 1), labels)\n",
    "plt.xlabel('number of samples')\n",
    "plt.ylabel('page recall')\n",
    "plt.title('page recall estimation')\n",
    "plt.show()"
   ]
  },
  {
   "cell_type": "code",
   "execution_count": null,
   "metadata": {},
   "outputs": [
    {
     "data": {
      "image/png": "[encoded data removed]",
      "text/plain": [
       "<Figure size 640x480 with 1 Axes>"
      ]
     },
     "metadata": {},
     "output_type": "display_data"
    }
   ],
   "source": [
    "labels, data = [*zip(*res_accs.items())]  # 'transpose' items to parallel key, value lists\n",
    "\n",
    "# or backwards compatable    \n",
    "labels, data = res_accs.keys(), res_accs.values()\n",
    "\n",
    "plt.boxplot(data)\n",
    "plt.axhline(y = .8241, color = 'r', linestyle = '-')\n",
    "plt.xticks(range(1, len(labels) + 1), labels)\n",
    "plt.xlabel('number of samples')\n",
    "plt.ylabel('answer accuracy')\n",
    "plt.title('answer accuracy estimation')\n",
    "plt.show()"
   ]
  },
  {
   "cell_type": "code",
   "execution_count": null,
   "metadata": {},
   "outputs": [
    {
     "data": {
      "text/plain": [
       "Text(0, 0.5, 'page recall')"
      ]
     },
     "execution_count": 59,
     "metadata": {},
     "output_type": "execute_result"
    },
    {
     "data": {
      "image/png": "[encoded data removed]",
      "text/plain": [
       "<Figure size 640x480 with 1 Axes>"
      ]
     },
     "metadata": {},
     "output_type": "display_data"
    }
   ],
   "source": [
    "import matplotlib.pyplot as plt\n",
    "plt.plot(n_all, recalls)\n",
    "plt.axhline(y = .8734, color = 'r', linestyle = '-')\n",
    "plt.xlabel('number of samples')\n",
    "plt.ylabel('page recall')\n",
    "#plt.ylim(0.5, 1)"
   ]
  },
  {
   "cell_type": "code",
   "execution_count": null,
   "metadata": {},
   "outputs": [
    {
     "data": {
      "text/plain": [
       "Text(0, 0.5, 'answer accuracy')"
      ]
     },
     "execution_count": 60,
     "metadata": {},
     "output_type": "execute_result"
    },
    {
     "data": {
      "image/png": "[encoded data removed]",
      "text/plain": [
       "<Figure size 640x480 with 1 Axes>"
      ]
     },
     "metadata": {},
     "output_type": "display_data"
    }
   ],
   "source": [
    "import matplotlib.pyplot as plt\n",
    "plt.plot(n_all, accs)\n",
    "plt.axhline(y = .8241, color = 'r', linestyle = '-')\n",
    "plt.xlabel('number of samples')\n",
    "plt.ylabel('answer accuracy')\n",
    "#plt.ylim(0.5, 1)"
   ]
  },
  {
   "cell_type": "markdown",
   "metadata": {},
   "source": [
    "# Confidence Estimation"
   ]
  },
  {
   "cell_type": "code",
   "execution_count": 107,
   "metadata": {},
   "outputs": [
    {
     "data": {
      "text/html": [
       "<div>\n",
       "<style scoped>\n",
       "    .dataframe tbody tr th:only-of-type {\n",
       "        vertical-align: middle;\n",
       "    }\n",
       "\n",
       "    .dataframe tbody tr th {\n",
       "        vertical-align: top;\n",
       "    }\n",
       "\n",
       "    .dataframe thead th {\n",
       "        text-align: right;\n",
       "    }\n",
       "</style>\n",
       "<table border=\"1\" class=\"dataframe\">\n",
       "  <thead>\n",
       "    <tr style=\"text-align: right;\">\n",
       "      <th></th>\n",
       "      <th>town</th>\n",
       "      <th>district</th>\n",
       "      <th>term</th>\n",
       "      <th>expected</th>\n",
       "      <th>expected_extended</th>\n",
       "      <th>actual</th>\n",
       "      <th>confidence</th>\n",
       "      <th>correct_page_searched</th>\n",
       "      <th>correct_page_extracted</th>\n",
       "      <th>gt_page</th>\n",
       "      <th>searched_pages</th>\n",
       "      <th>searched_pages_expanded</th>\n",
       "      <th>extracted_pages</th>\n",
       "      <th>actual_normalized</th>\n",
       "      <th>expected_normalized</th>\n",
       "      <th>correct_answer</th>\n",
       "    </tr>\n",
       "  </thead>\n",
       "  <tbody>\n",
       "    <tr>\n",
       "      <th>0</th>\n",
       "      <td>andover</td>\n",
       "      <td>Andover Lake</td>\n",
       "      <td>min_lot_size</td>\n",
       "      <td>NaN</td>\n",
       "      <td>60000 (year-round); 30000 (seasonal)</td>\n",
       "      <td>120,000 sq ft</td>\n",
       "      <td>1.0</td>\n",
       "      <td>0</td>\n",
       "      <td>0</td>\n",
       "      <td>{97}</td>\n",
       "      <td>{20}</td>\n",
       "      <td>{19, 20, 21, 22}</td>\n",
       "      <td>{22}</td>\n",
       "      <td>120000.0</td>\n",
       "      <td>NaN</td>\n",
       "      <td>False</td>\n",
       "    </tr>\n",
       "    <tr>\n",
       "      <th>1</th>\n",
       "      <td>andover</td>\n",
       "      <td>Andover Lake</td>\n",
       "      <td>min_lot_size</td>\n",
       "      <td>NaN</td>\n",
       "      <td>60000 (year-round); 30000 (seasonal)</td>\n",
       "      <td>120,000 sq ft or 2.75 acres</td>\n",
       "      <td>1.0</td>\n",
       "      <td>0</td>\n",
       "      <td>0</td>\n",
       "      <td>{97}</td>\n",
       "      <td>{21}</td>\n",
       "      <td>{20, 21, 22, 23}</td>\n",
       "      <td>{22}</td>\n",
       "      <td>120000.0</td>\n",
       "      <td>NaN</td>\n",
       "      <td>False</td>\n",
       "    </tr>\n",
       "    <tr>\n",
       "      <th>2</th>\n",
       "      <td>andover</td>\n",
       "      <td>Andover Lake</td>\n",
       "      <td>min_lot_size</td>\n",
       "      <td>NaN</td>\n",
       "      <td>60000 (year-round); 30000 (seasonal)</td>\n",
       "      <td>120,000 sq ft or 2.75 acres</td>\n",
       "      <td>1.0</td>\n",
       "      <td>0</td>\n",
       "      <td>0</td>\n",
       "      <td>{97}</td>\n",
       "      <td>{21}</td>\n",
       "      <td>{20, 21, 22, 23}</td>\n",
       "      <td>{22}</td>\n",
       "      <td>119790.0</td>\n",
       "      <td>NaN</td>\n",
       "      <td>False</td>\n",
       "    </tr>\n",
       "    <tr>\n",
       "      <th>3</th>\n",
       "      <td>andover</td>\n",
       "      <td>Andover Lake</td>\n",
       "      <td>min_lot_size</td>\n",
       "      <td>NaN</td>\n",
       "      <td>60000 (year-round); 30000 (seasonal)</td>\n",
       "      <td>120,000 sq ft or 2.75 acres</td>\n",
       "      <td>1.0</td>\n",
       "      <td>0</td>\n",
       "      <td>0</td>\n",
       "      <td>{97}</td>\n",
       "      <td>{23}</td>\n",
       "      <td>{22, 23, 24, 25, 26}</td>\n",
       "      <td>{22}</td>\n",
       "      <td>120000.0</td>\n",
       "      <td>NaN</td>\n",
       "      <td>False</td>\n",
       "    </tr>\n",
       "    <tr>\n",
       "      <th>4</th>\n",
       "      <td>andover</td>\n",
       "      <td>Andover Lake</td>\n",
       "      <td>min_lot_size</td>\n",
       "      <td>NaN</td>\n",
       "      <td>60000 (year-round); 30000 (seasonal)</td>\n",
       "      <td>120,000 sq ft or 2.75 acres</td>\n",
       "      <td>1.0</td>\n",
       "      <td>0</td>\n",
       "      <td>0</td>\n",
       "      <td>{97}</td>\n",
       "      <td>{23}</td>\n",
       "      <td>{22, 23, 24, 25, 26}</td>\n",
       "      <td>{22}</td>\n",
       "      <td>119790.0</td>\n",
       "      <td>NaN</td>\n",
       "      <td>False</td>\n",
       "    </tr>\n",
       "    <tr>\n",
       "      <th>...</th>\n",
       "      <td>...</td>\n",
       "      <td>...</td>\n",
       "      <td>...</td>\n",
       "      <td>...</td>\n",
       "      <td>...</td>\n",
       "      <td>...</td>\n",
       "      <td>...</td>\n",
       "      <td>...</td>\n",
       "      <td>...</td>\n",
       "      <td>...</td>\n",
       "      <td>...</td>\n",
       "      <td>...</td>\n",
       "      <td>...</td>\n",
       "      <td>...</td>\n",
       "      <td>...</td>\n",
       "      <td>...</td>\n",
       "    </tr>\n",
       "    <tr>\n",
       "      <th>700</th>\n",
       "      <td>barkhamsted</td>\n",
       "      <td>Restricted Business</td>\n",
       "      <td>min_lot_size</td>\n",
       "      <td>43560.0</td>\n",
       "      <td>NaN</td>\n",
       "      <td>NaN</td>\n",
       "      <td>0.0</td>\n",
       "      <td>0</td>\n",
       "      <td>0</td>\n",
       "      <td>{20}</td>\n",
       "      <td>{81}</td>\n",
       "      <td>{80, 81, 82, 83}</td>\n",
       "      <td>set()</td>\n",
       "      <td>NaN</td>\n",
       "      <td>43560.0</td>\n",
       "      <td>False</td>\n",
       "    </tr>\n",
       "    <tr>\n",
       "      <th>701</th>\n",
       "      <td>barkhamsted</td>\n",
       "      <td>Restricted Business</td>\n",
       "      <td>min_lot_size</td>\n",
       "      <td>43560.0</td>\n",
       "      <td>NaN</td>\n",
       "      <td>NaN</td>\n",
       "      <td>0.0</td>\n",
       "      <td>0</td>\n",
       "      <td>0</td>\n",
       "      <td>{20}</td>\n",
       "      <td>{82}</td>\n",
       "      <td>{81, 82, 83}</td>\n",
       "      <td>set()</td>\n",
       "      <td>NaN</td>\n",
       "      <td>43560.0</td>\n",
       "      <td>False</td>\n",
       "    </tr>\n",
       "    <tr>\n",
       "      <th>702</th>\n",
       "      <td>barkhamsted</td>\n",
       "      <td>Restricted Business</td>\n",
       "      <td>min_lot_size</td>\n",
       "      <td>43560.0</td>\n",
       "      <td>NaN</td>\n",
       "      <td>NaN</td>\n",
       "      <td>0.0</td>\n",
       "      <td>0</td>\n",
       "      <td>0</td>\n",
       "      <td>{20}</td>\n",
       "      <td>{83}</td>\n",
       "      <td>{82, 83, 84}</td>\n",
       "      <td>set()</td>\n",
       "      <td>NaN</td>\n",
       "      <td>43560.0</td>\n",
       "      <td>False</td>\n",
       "    </tr>\n",
       "    <tr>\n",
       "      <th>703</th>\n",
       "      <td>barkhamsted</td>\n",
       "      <td>Restricted Business</td>\n",
       "      <td>min_lot_size</td>\n",
       "      <td>43560.0</td>\n",
       "      <td>NaN</td>\n",
       "      <td>NaN</td>\n",
       "      <td>0.0</td>\n",
       "      <td>0</td>\n",
       "      <td>0</td>\n",
       "      <td>{20}</td>\n",
       "      <td>{84}</td>\n",
       "      <td>{83, 84}</td>\n",
       "      <td>set()</td>\n",
       "      <td>NaN</td>\n",
       "      <td>43560.0</td>\n",
       "      <td>False</td>\n",
       "    </tr>\n",
       "    <tr>\n",
       "      <th>704</th>\n",
       "      <td>barkhamsted</td>\n",
       "      <td>Restricted Business</td>\n",
       "      <td>min_lot_size</td>\n",
       "      <td>43560.0</td>\n",
       "      <td>NaN</td>\n",
       "      <td>NaN</td>\n",
       "      <td>0.0</td>\n",
       "      <td>0</td>\n",
       "      <td>0</td>\n",
       "      <td>{20}</td>\n",
       "      <td>{85}</td>\n",
       "      <td>{84}</td>\n",
       "      <td>set()</td>\n",
       "      <td>NaN</td>\n",
       "      <td>43560.0</td>\n",
       "      <td>False</td>\n",
       "    </tr>\n",
       "  </tbody>\n",
       "</table>\n",
       "<p>705 rows × 16 columns</p>\n",
       "</div>"
      ],
      "text/plain": [
       "            town             district          term  expected  \\\n",
       "0        andover         Andover Lake  min_lot_size       NaN   \n",
       "1        andover         Andover Lake  min_lot_size       NaN   \n",
       "2        andover         Andover Lake  min_lot_size       NaN   \n",
       "3        andover         Andover Lake  min_lot_size       NaN   \n",
       "4        andover         Andover Lake  min_lot_size       NaN   \n",
       "..           ...                  ...           ...       ...   \n",
       "700  barkhamsted  Restricted Business  min_lot_size   43560.0   \n",
       "701  barkhamsted  Restricted Business  min_lot_size   43560.0   \n",
       "702  barkhamsted  Restricted Business  min_lot_size   43560.0   \n",
       "703  barkhamsted  Restricted Business  min_lot_size   43560.0   \n",
       "704  barkhamsted  Restricted Business  min_lot_size   43560.0   \n",
       "\n",
       "                        expected_extended                       actual  \\\n",
       "0    60000 (year-round); 30000 (seasonal)                120,000 sq ft   \n",
       "1    60000 (year-round); 30000 (seasonal)  120,000 sq ft or 2.75 acres   \n",
       "2    60000 (year-round); 30000 (seasonal)  120,000 sq ft or 2.75 acres   \n",
       "3    60000 (year-round); 30000 (seasonal)  120,000 sq ft or 2.75 acres   \n",
       "4    60000 (year-round); 30000 (seasonal)  120,000 sq ft or 2.75 acres   \n",
       "..                                    ...                          ...   \n",
       "700                                   NaN                          NaN   \n",
       "701                                   NaN                          NaN   \n",
       "702                                   NaN                          NaN   \n",
       "703                                   NaN                          NaN   \n",
       "704                                   NaN                          NaN   \n",
       "\n",
       "     confidence  correct_page_searched  correct_page_extracted gt_page  \\\n",
       "0           1.0                      0                       0    {97}   \n",
       "1           1.0                      0                       0    {97}   \n",
       "2           1.0                      0                       0    {97}   \n",
       "3           1.0                      0                       0    {97}   \n",
       "4           1.0                      0                       0    {97}   \n",
       "..          ...                    ...                     ...     ...   \n",
       "700         0.0                      0                       0    {20}   \n",
       "701         0.0                      0                       0    {20}   \n",
       "702         0.0                      0                       0    {20}   \n",
       "703         0.0                      0                       0    {20}   \n",
       "704         0.0                      0                       0    {20}   \n",
       "\n",
       "    searched_pages searched_pages_expanded extracted_pages  actual_normalized  \\\n",
       "0             {20}        {19, 20, 21, 22}            {22}           120000.0   \n",
       "1             {21}        {20, 21, 22, 23}            {22}           120000.0   \n",
       "2             {21}        {20, 21, 22, 23}            {22}           119790.0   \n",
       "3             {23}    {22, 23, 24, 25, 26}            {22}           120000.0   \n",
       "4             {23}    {22, 23, 24, 25, 26}            {22}           119790.0   \n",
       "..             ...                     ...             ...                ...   \n",
       "700           {81}        {80, 81, 82, 83}           set()                NaN   \n",
       "701           {82}            {81, 82, 83}           set()                NaN   \n",
       "702           {83}            {82, 83, 84}           set()                NaN   \n",
       "703           {84}                {83, 84}           set()                NaN   \n",
       "704           {85}                    {84}           set()                NaN   \n",
       "\n",
       "     expected_normalized  correct_answer  \n",
       "0                    NaN           False  \n",
       "1                    NaN           False  \n",
       "2                    NaN           False  \n",
       "3                    NaN           False  \n",
       "4                    NaN           False  \n",
       "..                   ...             ...  \n",
       "700              43560.0           False  \n",
       "701              43560.0           False  \n",
       "702              43560.0           False  \n",
       "703              43560.0           False  \n",
       "704              43560.0           False  \n",
       "\n",
       "[705 rows x 16 columns]"
      ]
     },
     "execution_count": 107,
     "metadata": {},
     "output_type": "execute_result"
    }
   ],
   "source": [
    "df"
   ]
  },
  {
   "cell_type": "code",
   "execution_count": 84,
   "metadata": {},
   "outputs": [
    {
     "data": {
      "text/html": [
       "<div>\n",
       "<style scoped>\n",
       "    .dataframe tbody tr th:only-of-type {\n",
       "        vertical-align: middle;\n",
       "    }\n",
       "\n",
       "    .dataframe tbody tr th {\n",
       "        vertical-align: top;\n",
       "    }\n",
       "\n",
       "    .dataframe thead th {\n",
       "        text-align: right;\n",
       "    }\n",
       "</style>\n",
       "<table border=\"1\" class=\"dataframe\">\n",
       "  <thead>\n",
       "    <tr style=\"text-align: right;\">\n",
       "      <th></th>\n",
       "      <th>town</th>\n",
       "      <th>district</th>\n",
       "      <th>term</th>\n",
       "      <th>expected</th>\n",
       "      <th>expected_extended</th>\n",
       "      <th>actual</th>\n",
       "      <th>confidence</th>\n",
       "      <th>correct_page_searched</th>\n",
       "      <th>correct_page_extracted</th>\n",
       "      <th>gt_page</th>\n",
       "      <th>searched_pages</th>\n",
       "      <th>searched_pages_expanded</th>\n",
       "      <th>extracted_pages</th>\n",
       "      <th>actual_normalized</th>\n",
       "      <th>expected_normalized</th>\n",
       "      <th>correct_answer</th>\n",
       "    </tr>\n",
       "  </thead>\n",
       "  <tbody>\n",
       "    <tr>\n",
       "      <th>29</th>\n",
       "      <td>andover</td>\n",
       "      <td>Andover Lake</td>\n",
       "      <td>min_lot_size</td>\n",
       "      <td>NaN</td>\n",
       "      <td>60000 (year-round); 30000 (seasonal)</td>\n",
       "      <td>60000 sq ft</td>\n",
       "      <td>0.5</td>\n",
       "      <td>1</td>\n",
       "      <td>1</td>\n",
       "      <td>{97}</td>\n",
       "      <td>{95}</td>\n",
       "      <td>{96, 97, 94, 95}</td>\n",
       "      <td>{97}</td>\n",
       "      <td>60000.0</td>\n",
       "      <td>NaN</td>\n",
       "      <td>True</td>\n",
       "    </tr>\n",
       "    <tr>\n",
       "      <th>112</th>\n",
       "      <td>andover</td>\n",
       "      <td>Andover Lake</td>\n",
       "      <td>min_lot_size</td>\n",
       "      <td>NaN</td>\n",
       "      <td>60000 (year-round); 30000 (seasonal)</td>\n",
       "      <td>NaN</td>\n",
       "      <td>0.0</td>\n",
       "      <td>1</td>\n",
       "      <td>0</td>\n",
       "      <td>{97}</td>\n",
       "      <td>{94}</td>\n",
       "      <td>{96, 97, 93, 94, 95}</td>\n",
       "      <td>set()</td>\n",
       "      <td>NaN</td>\n",
       "      <td>NaN</td>\n",
       "      <td>True</td>\n",
       "    </tr>\n",
       "    <tr>\n",
       "      <th>208</th>\n",
       "      <td>ansonia</td>\n",
       "      <td>AA Residence</td>\n",
       "      <td>min_lot_size</td>\n",
       "      <td>30000.0</td>\n",
       "      <td>0.69</td>\n",
       "      <td>30,000 sq ft</td>\n",
       "      <td>1.0</td>\n",
       "      <td>1</td>\n",
       "      <td>1</td>\n",
       "      <td>{52, 150}</td>\n",
       "      <td>{51}</td>\n",
       "      <td>{50, 51, 52, 53}</td>\n",
       "      <td>{52}</td>\n",
       "      <td>30000.0</td>\n",
       "      <td>30000.0</td>\n",
       "      <td>True</td>\n",
       "    </tr>\n",
       "    <tr>\n",
       "      <th>209</th>\n",
       "      <td>ansonia</td>\n",
       "      <td>AA Residence</td>\n",
       "      <td>min_lot_size</td>\n",
       "      <td>30000.0</td>\n",
       "      <td>0.69</td>\n",
       "      <td>30,000 sq ft</td>\n",
       "      <td>1.0</td>\n",
       "      <td>1</td>\n",
       "      <td>1</td>\n",
       "      <td>{52, 150}</td>\n",
       "      <td>{52}</td>\n",
       "      <td>{51, 52, 53, 54}</td>\n",
       "      <td>{52}</td>\n",
       "      <td>30000.0</td>\n",
       "      <td>30000.0</td>\n",
       "      <td>True</td>\n",
       "    </tr>\n",
       "    <tr>\n",
       "      <th>210</th>\n",
       "      <td>ansonia</td>\n",
       "      <td>AA Residence</td>\n",
       "      <td>min_lot_size</td>\n",
       "      <td>30000.0</td>\n",
       "      <td>0.69</td>\n",
       "      <td>30,000 sq ft</td>\n",
       "      <td>1.0</td>\n",
       "      <td>1</td>\n",
       "      <td>1</td>\n",
       "      <td>{52, 150}</td>\n",
       "      <td>{53}</td>\n",
       "      <td>{52, 53, 54, 55}</td>\n",
       "      <td>{52}</td>\n",
       "      <td>30000.0</td>\n",
       "      <td>30000.0</td>\n",
       "      <td>True</td>\n",
       "    </tr>\n",
       "    <tr>\n",
       "      <th>...</th>\n",
       "      <td>...</td>\n",
       "      <td>...</td>\n",
       "      <td>...</td>\n",
       "      <td>...</td>\n",
       "      <td>...</td>\n",
       "      <td>...</td>\n",
       "      <td>...</td>\n",
       "      <td>...</td>\n",
       "      <td>...</td>\n",
       "      <td>...</td>\n",
       "      <td>...</td>\n",
       "      <td>...</td>\n",
       "      <td>...</td>\n",
       "      <td>...</td>\n",
       "      <td>...</td>\n",
       "      <td>...</td>\n",
       "    </tr>\n",
       "    <tr>\n",
       "      <th>616</th>\n",
       "      <td>avon</td>\n",
       "      <td>Industrial Park</td>\n",
       "      <td>min_lot_size</td>\n",
       "      <td>NaN</td>\n",
       "      <td>NaN</td>\n",
       "      <td>NaN</td>\n",
       "      <td>0.0</td>\n",
       "      <td>1</td>\n",
       "      <td>1</td>\n",
       "      <td>set()</td>\n",
       "      <td>{123}</td>\n",
       "      <td>{122, 123, 124}</td>\n",
       "      <td>set()</td>\n",
       "      <td>NaN</td>\n",
       "      <td>NaN</td>\n",
       "      <td>True</td>\n",
       "    </tr>\n",
       "    <tr>\n",
       "      <th>617</th>\n",
       "      <td>avon</td>\n",
       "      <td>Industrial Park</td>\n",
       "      <td>min_lot_size</td>\n",
       "      <td>NaN</td>\n",
       "      <td>NaN</td>\n",
       "      <td>NaN</td>\n",
       "      <td>0.0</td>\n",
       "      <td>1</td>\n",
       "      <td>1</td>\n",
       "      <td>set()</td>\n",
       "      <td>{124}</td>\n",
       "      <td>{123, 124, 125}</td>\n",
       "      <td>set()</td>\n",
       "      <td>NaN</td>\n",
       "      <td>NaN</td>\n",
       "      <td>True</td>\n",
       "    </tr>\n",
       "    <tr>\n",
       "      <th>618</th>\n",
       "      <td>avon</td>\n",
       "      <td>Industrial Park</td>\n",
       "      <td>min_lot_size</td>\n",
       "      <td>NaN</td>\n",
       "      <td>NaN</td>\n",
       "      <td>NaN</td>\n",
       "      <td>0.0</td>\n",
       "      <td>1</td>\n",
       "      <td>1</td>\n",
       "      <td>set()</td>\n",
       "      <td>{125}</td>\n",
       "      <td>{124, 125}</td>\n",
       "      <td>set()</td>\n",
       "      <td>NaN</td>\n",
       "      <td>NaN</td>\n",
       "      <td>True</td>\n",
       "    </tr>\n",
       "    <tr>\n",
       "      <th>619</th>\n",
       "      <td>avon</td>\n",
       "      <td>Industrial Park</td>\n",
       "      <td>min_lot_size</td>\n",
       "      <td>NaN</td>\n",
       "      <td>NaN</td>\n",
       "      <td>NaN</td>\n",
       "      <td>0.0</td>\n",
       "      <td>1</td>\n",
       "      <td>1</td>\n",
       "      <td>set()</td>\n",
       "      <td>{126}</td>\n",
       "      <td>{125}</td>\n",
       "      <td>set()</td>\n",
       "      <td>NaN</td>\n",
       "      <td>NaN</td>\n",
       "      <td>True</td>\n",
       "    </tr>\n",
       "    <tr>\n",
       "      <th>620</th>\n",
       "      <td>barkhamsted</td>\n",
       "      <td>Restricted Business</td>\n",
       "      <td>min_lot_size</td>\n",
       "      <td>43560.0</td>\n",
       "      <td>NaN</td>\n",
       "      <td>1 acre</td>\n",
       "      <td>1.0</td>\n",
       "      <td>1</td>\n",
       "      <td>1</td>\n",
       "      <td>{20}</td>\n",
       "      <td>{21}</td>\n",
       "      <td>{20, 21}</td>\n",
       "      <td>{20}</td>\n",
       "      <td>43560.0</td>\n",
       "      <td>43560.0</td>\n",
       "      <td>True</td>\n",
       "    </tr>\n",
       "  </tbody>\n",
       "</table>\n",
       "<p>188 rows × 16 columns</p>\n",
       "</div>"
      ],
      "text/plain": [
       "            town             district          term  expected  \\\n",
       "29       andover         Andover Lake  min_lot_size       NaN   \n",
       "112      andover         Andover Lake  min_lot_size       NaN   \n",
       "208      ansonia         AA Residence  min_lot_size   30000.0   \n",
       "209      ansonia         AA Residence  min_lot_size   30000.0   \n",
       "210      ansonia         AA Residence  min_lot_size   30000.0   \n",
       "..           ...                  ...           ...       ...   \n",
       "616         avon      Industrial Park  min_lot_size       NaN   \n",
       "617         avon      Industrial Park  min_lot_size       NaN   \n",
       "618         avon      Industrial Park  min_lot_size       NaN   \n",
       "619         avon      Industrial Park  min_lot_size       NaN   \n",
       "620  barkhamsted  Restricted Business  min_lot_size   43560.0   \n",
       "\n",
       "                        expected_extended        actual  confidence  \\\n",
       "29   60000 (year-round); 30000 (seasonal)   60000 sq ft         0.5   \n",
       "112  60000 (year-round); 30000 (seasonal)           NaN         0.0   \n",
       "208                                  0.69  30,000 sq ft         1.0   \n",
       "209                                  0.69  30,000 sq ft         1.0   \n",
       "210                                  0.69  30,000 sq ft         1.0   \n",
       "..                                    ...           ...         ...   \n",
       "616                                   NaN           NaN         0.0   \n",
       "617                                   NaN           NaN         0.0   \n",
       "618                                   NaN           NaN         0.0   \n",
       "619                                   NaN           NaN         0.0   \n",
       "620                                   NaN        1 acre         1.0   \n",
       "\n",
       "     correct_page_searched  correct_page_extracted    gt_page searched_pages  \\\n",
       "29                       1                       1       {97}           {95}   \n",
       "112                      1                       0       {97}           {94}   \n",
       "208                      1                       1  {52, 150}           {51}   \n",
       "209                      1                       1  {52, 150}           {52}   \n",
       "210                      1                       1  {52, 150}           {53}   \n",
       "..                     ...                     ...        ...            ...   \n",
       "616                      1                       1      set()          {123}   \n",
       "617                      1                       1      set()          {124}   \n",
       "618                      1                       1      set()          {125}   \n",
       "619                      1                       1      set()          {126}   \n",
       "620                      1                       1       {20}           {21}   \n",
       "\n",
       "    searched_pages_expanded extracted_pages  actual_normalized  \\\n",
       "29         {96, 97, 94, 95}            {97}            60000.0   \n",
       "112    {96, 97, 93, 94, 95}           set()                NaN   \n",
       "208        {50, 51, 52, 53}            {52}            30000.0   \n",
       "209        {51, 52, 53, 54}            {52}            30000.0   \n",
       "210        {52, 53, 54, 55}            {52}            30000.0   \n",
       "..                      ...             ...                ...   \n",
       "616         {122, 123, 124}           set()                NaN   \n",
       "617         {123, 124, 125}           set()                NaN   \n",
       "618              {124, 125}           set()                NaN   \n",
       "619                   {125}           set()                NaN   \n",
       "620                {20, 21}            {20}            43560.0   \n",
       "\n",
       "     expected_normalized  correct_answer  \n",
       "29                   NaN            True  \n",
       "112                  NaN            True  \n",
       "208              30000.0            True  \n",
       "209              30000.0            True  \n",
       "210              30000.0            True  \n",
       "..                   ...             ...  \n",
       "616                  NaN            True  \n",
       "617                  NaN            True  \n",
       "618                  NaN            True  \n",
       "619                  NaN            True  \n",
       "620              43560.0            True  \n",
       "\n",
       "[188 rows x 16 columns]"
      ]
     },
     "execution_count": 84,
     "metadata": {},
     "output_type": "execute_result"
    }
   ],
   "source": [
    "# The proportion of towns where at least one correct answer included the correct\n",
    "# page, and the confidence was > 0.5.\n",
    "df.query(\"correct_answer == 1 & correct_page_searched == 1\")"
   ]
  },
  {
   "cell_type": "code",
   "execution_count": 97,
   "metadata": {},
   "outputs": [
    {
     "data": {
      "text/plain": [
       "Text(0.5, 1.0, 'Confidence estimates across all outputs')"
      ]
     },
     "execution_count": 97,
     "metadata": {},
     "output_type": "execute_result"
    },
    {
     "data": {
      "image/png": "[encoded data removed]",
      "text/plain": [
       "<Figure size 640x480 with 1 Axes>"
      ]
     },
     "metadata": {},
     "output_type": "display_data"
    }
   ],
   "source": [
    "import seaborn as sns\n",
    "\n",
    "plt = sns.histplot(df, x=\"confidence\", hue=\"correct_answer\", multiple=\"stack\")\n",
    "plt.set_title(\"Confidence estimates across all outputs\")"
   ]
  },
  {
   "cell_type": "code",
   "execution_count": 99,
   "metadata": {},
   "outputs": [
    {
     "data": {
      "text/plain": [
       "0.9543147208121827"
      ]
     },
     "execution_count": 99,
     "metadata": {},
     "output_type": "execute_result"
    }
   ],
   "source": [
    "len(df.query(\"correct_page_searched == 1 & correct_answer == 1\")) / len(df.query(\"correct_page_searched == 1\"))"
   ]
  },
  {
   "cell_type": "code",
   "execution_count": 111,
   "metadata": {},
   "outputs": [
    {
     "data": {
      "text/plain": [
       "Text(0.5, 1.0, 'Confidence estimates given the correct page')"
      ]
     },
     "execution_count": 111,
     "metadata": {},
     "output_type": "execute_result"
    },
    {
     "data": {
      "image/png": "[encoded data removed]",
      "text/plain": [
       "<Figure size 640x480 with 1 Axes>"
      ]
     },
     "metadata": {},
     "output_type": "display_data"
    }
   ],
   "source": [
    "\n",
    "plt = sns.histplot(df.query(\"correct_page_searched == 1\"), x=\"confidence\", hue=\"correct_answer\", multiple=\"stack\")\n",
    "plt.set_title(\"Confidence estimates given the correct page\")"
   ]
  }
 ],
 "metadata": {
  "kernelspec": {
   "display_name": "zoning",
   "language": "python",
   "name": "python3"
  },
  "language_info": {
   "codemirror_mode": {
    "name": "ipython",
    "version": 3
   },
   "file_extension": ".py",
   "mimetype": "text/x-python",
   "name": "python",
   "nbconvert_exporter": "python",
   "pygments_lexer": "ipython3",
   "version": "3.10.9"
  },
  "orig_nbformat": 4
 },
 "nbformat": 4,
 "nbformat_minor": 2
}
