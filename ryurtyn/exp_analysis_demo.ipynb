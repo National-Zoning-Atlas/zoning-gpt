{
 "cells": [
  {
   "cell_type": "code",
   "execution_count": 1,
   "metadata": {},
   "outputs": [],
   "source": [
    "import polars as pl\n",
    "import plotly.express as px"
   ]
  },
  {
   "cell_type": "code",
   "execution_count": 2,
   "metadata": {},
   "outputs": [
    {
     "data": {
      "text/html": [
       "<div><style>\n",
       ".dataframe > thead > tr > th,\n",
       ".dataframe > tbody > tr > td {\n",
       "  text-align: right;\n",
       "}\n",
       "</style>\n",
       "<small>shape: (60, 104)</small><table border=\"1\" class=\"dataframe\"><thead><tr><th>Experiment</th><th>rev</th><th>typ</th><th>Created</th><th>parent</th><th>answer_accuracy</th><th>conditional_answer_accuracy</th><th>max_height.answer_accuracy</th><th>max_height.conditional_answer_accuracy</th><th>max_height.num_correct_answer</th><th>max_height.num_correct_page_searched</th><th>max_height.num_results</th><th>max_height.page_search_recall</th><th>max_lot_coverage.answer_accuracy</th><th>max_lot_coverage.conditional_answer_accuracy</th><th>max_lot_coverage.num_correct_answer</th><th>max_lot_coverage.num_correct_page_searched</th><th>max_lot_coverage.num_results</th><th>max_lot_coverage.page_search_recall</th><th>max_lot_coverage_pavement.answer_accuracy</th><th>max_lot_coverage_pavement.conditional_answer_accuracy</th><th>max_lot_coverage_pavement.num_correct_answer</th><th>max_lot_coverage_pavement.num_correct_page_searched</th><th>max_lot_coverage_pavement.num_results</th><th>max_lot_coverage_pavement.page_search_recall</th><th>min_lot_size.answer_accuracy</th><th>min_lot_size.conditional_answer_accuracy</th><th>min_lot_size.num_correct_answer</th><th>min_lot_size.num_correct_page_searched</th><th>min_lot_size.num_results</th><th>min_lot_size.page_search_recall</th><th>min_parking_spaces.answer_accuracy</th><th>min_parking_spaces.conditional_answer_accuracy</th><th>min_parking_spaces.num_correct_answer</th><th>min_parking_spaces.num_correct_page_searched</th><th>min_parking_spaces.num_results</th><th>min_parking_spaces.page_search_recall</th><th>&hellip;</th><th>min unit size.num_correct_page_extracted</th><th>min unit size.num_correct_page_searched</th><th>min unit size.num_results</th><th>min unit size.page_extract_recall</th><th>min unit size.page_search_recall</th><th>num_correct_answer</th><th>num_correct_page_extracted</th><th>num_correct_page_searched</th><th>num_results</th><th>page_extract_recall</th><th>extract_text.orig_document_s3_bucket</th><th>generate_dataset.seed</th><th>generate_dataset.test_split_frac</th><th>publish_datasets</th><th>eval.num-eval-rows</th><th>eval.terms</th><th>eval.search-method</th><th>eval.extraction-method</th><th>eval.k</th><th>data/hf_dataset</th><th>data/hf_text_dataset</th><th>data/names_all_towns.json</th><th>data/orig-documents</th><th>data/orig_documents_s3_manifest.json</th><th>data/textract_dataset</th><th>maxdumas/extract_text.py</th><th>maxdumas/generate_dataset.py</th><th>maxdumas/upload_zoning_docs.sh</th><th>templates/extraction.pmpt.tpl</th><th>templates/extraction_chat_completion.pmpt.tpl</th><th>templates/extraction_completion.pmpt.tpl</th><th>zoning/data_processing/eval.py</th><th>zoning/data_processing/extract_text.py</th><th>zoning/data_processing/generate_dataset.py</th><th>zoning/data_processing/generate_text_dataset.py</th><th>zoning/data_processing/index_towns.py</th><th>zoning/data_processing/upload_zoning_docs.sh</th></tr><tr><td>str</td><td>str</td><td>str</td><td>str</td><td>str</td><td>f32</td><td>f32</td><td>str</td><td>str</td><td>str</td><td>str</td><td>str</td><td>str</td><td>str</td><td>str</td><td>str</td><td>str</td><td>str</td><td>str</td><td>str</td><td>str</td><td>str</td><td>str</td><td>str</td><td>str</td><td>str</td><td>str</td><td>str</td><td>str</td><td>str</td><td>str</td><td>str</td><td>str</td><td>str</td><td>str</td><td>str</td><td>str</td><td>&hellip;</td><td>str</td><td>str</td><td>str</td><td>str</td><td>str</td><td>str</td><td>str</td><td>str</td><td>str</td><td>str</td><td>str</td><td>i64</td><td>f64</td><td>bool</td><td>i64</td><td>str</td><td>str</td><td>str</td><td>i64</td><td>str</td><td>str</td><td>str</td><td>str</td><td>str</td><td>str</td><td>str</td><td>str</td><td>str</td><td>str</td><td>str</td><td>str</td><td>str</td><td>str</td><td>str</td><td>str</td><td>str</td><td>str</td></tr></thead><tbody><tr><td>null</td><td>&quot;adaa401&quot;</td><td>&quot;baseline&quot;</td><td>&quot;2023-08-21T20:…</td><td>null</td><td>0.783333</td><td>0.800794</td><td>&quot;1.0&quot;</td><td>&quot;1.0&quot;</td><td>&quot;10&quot;</td><td>&quot;8&quot;</td><td>&quot;163&quot;</td><td>&quot;0.8&quot;</td><td>&quot;0.9&quot;</td><td>&quot;1.0&quot;</td><td>&quot;9&quot;</td><td>&quot;4&quot;</td><td>&quot;166&quot;</td><td>&quot;0.4&quot;</td><td>&quot;0.7&quot;</td><td>&quot;0.833333333333…</td><td>&quot;7&quot;</td><td>&quot;6&quot;</td><td>&quot;160&quot;</td><td>&quot;0.6&quot;</td><td>&quot;0.7&quot;</td><td>&quot;0.8&quot;</td><td>&quot;7&quot;</td><td>&quot;5&quot;</td><td>&quot;163&quot;</td><td>&quot;0.5&quot;</td><td>&quot;0.6&quot;</td><td>&quot;0.571428571428…</td><td>&quot;6&quot;</td><td>&quot;7&quot;</td><td>&quot;165&quot;</td><td>&quot;0.7&quot;</td><td>&hellip;</td><td>null</td><td>null</td><td>null</td><td>null</td><td>null</td><td>null</td><td>null</td><td>null</td><td>null</td><td>null</td><td>&quot;cornell-mfd64&quot;</td><td>42</td><td>0.3</td><td>true</td><td>10</td><td>&quot;[&#x27;min_lot_size…</td><td>&quot;embeddings_knn…</td><td>&quot;map&quot;</td><td>16</td><td>&quot;302e323289b318…</td><td>&quot;e832d3471ef79f…</td><td>&quot;0013040cfeb0f4…</td><td>&quot;2311e7a6bb96f9…</td><td>&quot;897ea14dfed07e…</td><td>&quot;11062398489b76…</td><td>null</td><td>null</td><td>null</td><td>null</td><td>&quot;1a26f472c8a488…</td><td>&quot;cdd9b0b79ac4ed…</td><td>&quot;d422252768218b…</td><td>&quot;98404ae0ff0f6d…</td><td>&quot;51f7f2eef57fa4…</td><td>&quot;45a291510a51b8…</td><td>&quot;cd3c4af8c8e19c…</td><td>&quot;4bc9fb2d649525…</td></tr><tr><td>null</td><td>&quot;master&quot;</td><td>&quot;baseline&quot;</td><td>&quot;2023-08-25T10:…</td><td>null</td><td>0.766667</td><td>0.97619</td><td>&quot;1.0&quot;</td><td>&quot;1.0&quot;</td><td>&quot;10&quot;</td><td>&quot;10&quot;</td><td>&quot;123&quot;</td><td>&quot;1.0&quot;</td><td>&quot;0.9&quot;</td><td>&quot;1.0&quot;</td><td>&quot;9&quot;</td><td>&quot;9&quot;</td><td>&quot;126&quot;</td><td>&quot;0.9&quot;</td><td>&quot;0.6&quot;</td><td>&quot;0.857142857142…</td><td>&quot;6&quot;</td><td>&quot;7&quot;</td><td>&quot;120&quot;</td><td>&quot;0.7&quot;</td><td>&quot;0.7&quot;</td><td>&quot;1.0&quot;</td><td>&quot;7&quot;</td><td>&quot;7&quot;</td><td>&quot;123&quot;</td><td>&quot;0.7&quot;</td><td>&quot;0.6&quot;</td><td>&quot;1.0&quot;</td><td>&quot;6&quot;</td><td>&quot;4&quot;</td><td>&quot;125&quot;</td><td>&quot;0.4&quot;</td><td>&hellip;</td><td>null</td><td>null</td><td>null</td><td>null</td><td>null</td><td>null</td><td>null</td><td>null</td><td>null</td><td>null</td><td>&quot;cornell-mfd64&quot;</td><td>42</td><td>0.3</td><td>true</td><td>10</td><td>&quot;[&#x27;min_lot_size…</td><td>&quot;elasticsearch&quot;</td><td>&quot;map&quot;</td><td>12</td><td>&quot;302e323289b318…</td><td>&quot;e832d3471ef79f…</td><td>&quot;0013040cfeb0f4…</td><td>&quot;2311e7a6bb96f9…</td><td>&quot;897ea14dfed07e…</td><td>&quot;11062398489b76…</td><td>null</td><td>null</td><td>null</td><td>null</td><td>&quot;1a26f472c8a488…</td><td>&quot;cdd9b0b79ac4ed…</td><td>&quot;ed75967007eee2…</td><td>&quot;98404ae0ff0f6d…</td><td>&quot;51f7f2eef57fa4…</td><td>&quot;45a291510a51b8…</td><td>&quot;cd3c4af8c8e19c…</td><td>&quot;4bc9fb2d649525…</td></tr><tr><td>null</td><td>&quot;c67cc3f&quot;</td><td>&quot;baseline&quot;</td><td>&quot;2023-08-25T10:…</td><td>null</td><td>0.766667</td><td>0.97619</td><td>&quot;1.0&quot;</td><td>&quot;1.0&quot;</td><td>&quot;10&quot;</td><td>&quot;10&quot;</td><td>&quot;123&quot;</td><td>&quot;1.0&quot;</td><td>&quot;0.9&quot;</td><td>&quot;1.0&quot;</td><td>&quot;9&quot;</td><td>&quot;9&quot;</td><td>&quot;126&quot;</td><td>&quot;0.9&quot;</td><td>&quot;0.6&quot;</td><td>&quot;0.857142857142…</td><td>&quot;6&quot;</td><td>&quot;7&quot;</td><td>&quot;120&quot;</td><td>&quot;0.7&quot;</td><td>&quot;0.7&quot;</td><td>&quot;1.0&quot;</td><td>&quot;7&quot;</td><td>&quot;7&quot;</td><td>&quot;123&quot;</td><td>&quot;0.7&quot;</td><td>&quot;0.6&quot;</td><td>&quot;1.0&quot;</td><td>&quot;6&quot;</td><td>&quot;4&quot;</td><td>&quot;125&quot;</td><td>&quot;0.4&quot;</td><td>&hellip;</td><td>null</td><td>null</td><td>null</td><td>null</td><td>null</td><td>null</td><td>null</td><td>null</td><td>null</td><td>null</td><td>&quot;cornell-mfd64&quot;</td><td>42</td><td>0.3</td><td>true</td><td>10</td><td>&quot;[&#x27;min_lot_size…</td><td>&quot;elasticsearch&quot;</td><td>&quot;map&quot;</td><td>12</td><td>&quot;302e323289b318…</td><td>&quot;e832d3471ef79f…</td><td>&quot;0013040cfeb0f4…</td><td>&quot;2311e7a6bb96f9…</td><td>&quot;897ea14dfed07e…</td><td>&quot;11062398489b76…</td><td>null</td><td>null</td><td>null</td><td>null</td><td>&quot;1a26f472c8a488…</td><td>&quot;cdd9b0b79ac4ed…</td><td>&quot;ed75967007eee2…</td><td>&quot;98404ae0ff0f6d…</td><td>&quot;51f7f2eef57fa4…</td><td>&quot;45a291510a51b8…</td><td>&quot;cd3c4af8c8e19c…</td><td>&quot;4bc9fb2d649525…</td></tr><tr><td>null</td><td>&quot;9ef0240&quot;</td><td>&quot;baseline&quot;</td><td>&quot;2023-08-25T10:…</td><td>null</td><td>0.766667</td><td>0.97619</td><td>&quot;1.0&quot;</td><td>&quot;1.0&quot;</td><td>&quot;10&quot;</td><td>&quot;10&quot;</td><td>&quot;123&quot;</td><td>&quot;1.0&quot;</td><td>&quot;0.9&quot;</td><td>&quot;1.0&quot;</td><td>&quot;9&quot;</td><td>&quot;9&quot;</td><td>&quot;126&quot;</td><td>&quot;0.9&quot;</td><td>&quot;0.6&quot;</td><td>&quot;0.857142857142…</td><td>&quot;6&quot;</td><td>&quot;7&quot;</td><td>&quot;120&quot;</td><td>&quot;0.7&quot;</td><td>&quot;0.7&quot;</td><td>&quot;1.0&quot;</td><td>&quot;7&quot;</td><td>&quot;7&quot;</td><td>&quot;123&quot;</td><td>&quot;0.7&quot;</td><td>&quot;0.6&quot;</td><td>&quot;1.0&quot;</td><td>&quot;6&quot;</td><td>&quot;4&quot;</td><td>&quot;125&quot;</td><td>&quot;0.4&quot;</td><td>&hellip;</td><td>null</td><td>null</td><td>null</td><td>null</td><td>null</td><td>null</td><td>null</td><td>null</td><td>null</td><td>null</td><td>&quot;cornell-mfd64&quot;</td><td>42</td><td>0.3</td><td>true</td><td>10</td><td>&quot;[&#x27;min_lot_size…</td><td>&quot;elasticsearch&quot;</td><td>&quot;map&quot;</td><td>12</td><td>&quot;302e323289b318…</td><td>&quot;e832d3471ef79f…</td><td>&quot;0013040cfeb0f4…</td><td>&quot;2311e7a6bb96f9…</td><td>&quot;897ea14dfed07e…</td><td>&quot;11062398489b76…</td><td>null</td><td>null</td><td>null</td><td>null</td><td>&quot;1a26f472c8a488…</td><td>&quot;cdd9b0b79ac4ed…</td><td>&quot;ed75967007eee2…</td><td>&quot;98404ae0ff0f6d…</td><td>&quot;51f7f2eef57fa4…</td><td>&quot;45a291510a51b8…</td><td>&quot;cd3c4af8c8e19c…</td><td>&quot;4bc9fb2d649525…</td></tr><tr><td>null</td><td>&quot;66b94c6&quot;</td><td>&quot;baseline&quot;</td><td>&quot;2023-08-21T19:…</td><td>null</td><td>0.7</td><td>0.808333</td><td>&quot;0.9&quot;</td><td>&quot;1.0&quot;</td><td>&quot;9&quot;</td><td>&quot;7&quot;</td><td>&quot;63&quot;</td><td>&quot;0.7&quot;</td><td>&quot;0.9&quot;</td><td>&quot;1.0&quot;</td><td>&quot;9&quot;</td><td>&quot;4&quot;</td><td>&quot;66&quot;</td><td>&quot;0.4&quot;</td><td>&quot;0.6&quot;</td><td>&quot;0.8&quot;</td><td>&quot;6&quot;</td><td>&quot;5&quot;</td><td>&quot;60&quot;</td><td>&quot;0.5&quot;</td><td>&quot;0.7&quot;</td><td>&quot;0.8&quot;</td><td>&quot;7&quot;</td><td>&quot;5&quot;</td><td>&quot;63&quot;</td><td>&quot;0.5&quot;</td><td>&quot;0.3&quot;</td><td>&quot;0.5&quot;</td><td>&quot;3&quot;</td><td>&quot;2&quot;</td><td>&quot;61&quot;</td><td>&quot;0.2&quot;</td><td>&hellip;</td><td>null</td><td>null</td><td>null</td><td>null</td><td>null</td><td>null</td><td>null</td><td>null</td><td>null</td><td>null</td><td>&quot;cornell-mfd64&quot;</td><td>42</td><td>0.3</td><td>true</td><td>10</td><td>&quot;[&#x27;min_lot_size…</td><td>&quot;embeddings_knn…</td><td>&quot;map&quot;</td><td>6</td><td>&quot;302e323289b318…</td><td>&quot;e832d3471ef79f…</td><td>&quot;0013040cfeb0f4…</td><td>&quot;2311e7a6bb96f9…</td><td>&quot;897ea14dfed07e…</td><td>&quot;11062398489b76…</td><td>null</td><td>null</td><td>null</td><td>null</td><td>&quot;1a26f472c8a488…</td><td>&quot;cdd9b0b79ac4ed…</td><td>&quot;88e27afc9f9706…</td><td>&quot;98404ae0ff0f6d…</td><td>&quot;51f7f2eef57fa4…</td><td>&quot;45a291510a51b8…</td><td>&quot;cd3c4af8c8e19c…</td><td>&quot;4bc9fb2d649525…</td></tr><tr><td>null</td><td>&quot;workspace&quot;</td><td>&quot;baseline&quot;</td><td>null</td><td>null</td><td>0.687037</td><td>0.958333</td><td>&quot;0.9&quot;</td><td>&quot;1.0&quot;</td><td>&quot;9&quot;</td><td>&quot;9&quot;</td><td>&quot;35&quot;</td><td>&quot;0.9&quot;</td><td>&quot;0.666666666666…</td><td>&quot;1.0&quot;</td><td>&quot;6&quot;</td><td>&quot;6&quot;</td><td>&quot;17&quot;</td><td>&quot;0.666666666666…</td><td>&quot;0.666666666666…</td><td>&quot;0.75&quot;</td><td>&quot;6&quot;</td><td>&quot;8&quot;</td><td>&quot;23&quot;</td><td>&quot;0.888888888888…</td><td>&quot;0.8&quot;</td><td>&quot;1.0&quot;</td><td>&quot;8&quot;</td><td>&quot;8&quot;</td><td>&quot;25&quot;</td><td>&quot;0.8&quot;</td><td>&quot;0.2&quot;</td><td>&quot;1.0&quot;</td><td>&quot;2&quot;</td><td>&quot;1&quot;</td><td>&quot;32&quot;</td><td>&quot;0.1&quot;</td><td>&hellip;</td><td>null</td><td>null</td><td>null</td><td>null</td><td>null</td><td>null</td><td>null</td><td>null</td><td>null</td><td>null</td><td>&quot;cornell-mfd64&quot;</td><td>42</td><td>0.3</td><td>true</td><td>10</td><td>&quot;[&#x27;min_lot_size…</td><td>&quot;elasticsearch&quot;</td><td>&quot;map&quot;</td><td>12</td><td>&quot;302e323289b318…</td><td>&quot;e832d3471ef79f…</td><td>&quot;0013040cfeb0f4…</td><td>&quot;2311e7a6bb96f9…</td><td>&quot;897ea14dfed07e…</td><td>&quot;11062398489b76…</td><td>null</td><td>null</td><td>null</td><td>null</td><td>&quot;1a26f472c8a488…</td><td>&quot;cdd9b0b79ac4ed…</td><td>&quot;ed75967007eee2…</td><td>&quot;98404ae0ff0f6d…</td><td>&quot;51f7f2eef57fa4…</td><td>&quot;45a291510a51b8…</td><td>&quot;cd3c4af8c8e19c…</td><td>&quot;4bc9fb2d649525…</td></tr><tr><td>&quot;lated-tart&quot;</td><td>&quot;237374a&quot;</td><td>&quot;branch_base&quot;</td><td>&quot;2023-09-20T15:…</td><td>null</td><td>0.687037</td><td>0.958333</td><td>&quot;0.9&quot;</td><td>&quot;1.0&quot;</td><td>&quot;9&quot;</td><td>&quot;9&quot;</td><td>&quot;35&quot;</td><td>&quot;0.9&quot;</td><td>&quot;0.666666666666…</td><td>&quot;1.0&quot;</td><td>&quot;6&quot;</td><td>&quot;6&quot;</td><td>&quot;17&quot;</td><td>&quot;0.666666666666…</td><td>&quot;0.666666666666…</td><td>&quot;0.75&quot;</td><td>&quot;6&quot;</td><td>&quot;8&quot;</td><td>&quot;23&quot;</td><td>&quot;0.888888888888…</td><td>&quot;0.8&quot;</td><td>&quot;1.0&quot;</td><td>&quot;8&quot;</td><td>&quot;8&quot;</td><td>&quot;25&quot;</td><td>&quot;0.8&quot;</td><td>&quot;0.2&quot;</td><td>&quot;1.0&quot;</td><td>&quot;2&quot;</td><td>&quot;1&quot;</td><td>&quot;32&quot;</td><td>&quot;0.1&quot;</td><td>&hellip;</td><td>null</td><td>null</td><td>null</td><td>null</td><td>null</td><td>null</td><td>null</td><td>null</td><td>null</td><td>null</td><td>&quot;cornell-mfd64&quot;</td><td>42</td><td>0.3</td><td>true</td><td>10</td><td>&quot;[&#x27;min_lot_size…</td><td>&quot;elasticsearch&quot;</td><td>&quot;map&quot;</td><td>12</td><td>&quot;302e323289b318…</td><td>&quot;e832d3471ef79f…</td><td>&quot;0013040cfeb0f4…</td><td>&quot;2311e7a6bb96f9…</td><td>&quot;897ea14dfed07e…</td><td>&quot;11062398489b76…</td><td>null</td><td>null</td><td>null</td><td>null</td><td>&quot;1a26f472c8a488…</td><td>&quot;cdd9b0b79ac4ed…</td><td>&quot;ed75967007eee2…</td><td>&quot;98404ae0ff0f6d…</td><td>&quot;51f7f2eef57fa4…</td><td>&quot;45a291510a51b8…</td><td>&quot;cd3c4af8c8e19c…</td><td>&quot;4bc9fb2d649525…</td></tr><tr><td>null</td><td>&quot;241aa7b&quot;</td><td>&quot;baseline&quot;</td><td>&quot;2023-08-21T19:…</td><td>null</td><td>0.685185</td><td>0.685516</td><td>&quot;0.9&quot;</td><td>&quot;0.875&quot;</td><td>&quot;9&quot;</td><td>&quot;8&quot;</td><td>&quot;36&quot;</td><td>&quot;0.8&quot;</td><td>&quot;0.666666666666…</td><td>&quot;1.0&quot;</td><td>&quot;6&quot;</td><td>&quot;4&quot;</td><td>&quot;19&quot;</td><td>&quot;0.444444444444…</td><td>&quot;0.555555555555…</td><td>&quot;0.571428571428…</td><td>&quot;5&quot;</td><td>&quot;7&quot;</td><td>&quot;19&quot;</td><td>&quot;0.777777777777…</td><td>&quot;0.8&quot;</td><td>&quot;0.666666666666…</td><td>&quot;8&quot;</td><td>&quot;6&quot;</td><td>&quot;25&quot;</td><td>&quot;0.6&quot;</td><td>&quot;0.3&quot;</td><td>&quot;0&quot;</td><td>&quot;3&quot;</td><td>&quot;0&quot;</td><td>&quot;32&quot;</td><td>&quot;0.0&quot;</td><td>&hellip;</td><td>null</td><td>null</td><td>null</td><td>null</td><td>null</td><td>null</td><td>null</td><td>null</td><td>null</td><td>null</td><td>&quot;cornell-mfd64&quot;</td><td>42</td><td>0.3</td><td>true</td><td>10</td><td>&quot;[&#x27;min_lot_size…</td><td>&quot;elasticsearch&quot;</td><td>&quot;map&quot;</td><td>6</td><td>&quot;302e323289b318…</td><td>&quot;e832d3471ef79f…</td><td>&quot;0013040cfeb0f4…</td><td>&quot;2311e7a6bb96f9…</td><td>&quot;897ea14dfed07e…</td><td>&quot;11062398489b76…</td><td>null</td><td>null</td><td>null</td><td>null</td><td>&quot;1a26f472c8a488…</td><td>&quot;cdd9b0b79ac4ed…</td><td>&quot;88e27afc9f9706…</td><td>&quot;98404ae0ff0f6d…</td><td>&quot;51f7f2eef57fa4…</td><td>&quot;45a291510a51b8…</td><td>&quot;cd3c4af8c8e19c…</td><td>&quot;4bc9fb2d649525…</td></tr><tr><td>null</td><td>&quot;f0134e1&quot;</td><td>&quot;baseline&quot;</td><td>&quot;2023-08-21T19:…</td><td>null</td><td>0.668056</td><td>0.8</td><td>&quot;0.875&quot;</td><td>&quot;1.0&quot;</td><td>&quot;7&quot;</td><td>&quot;7&quot;</td><td>&quot;11&quot;</td><td>&quot;0.875&quot;</td><td>&quot;0.5&quot;</td><td>&quot;1.0&quot;</td><td>&quot;4&quot;</td><td>&quot;4&quot;</td><td>&quot;10&quot;</td><td>&quot;0.5&quot;</td><td>&quot;0.666666666666…</td><td>&quot;0.8&quot;</td><td>&quot;4&quot;</td><td>&quot;5&quot;</td><td>&quot;6&quot;</td><td>&quot;0.833333333333…</td><td>&quot;0.666666666666…</td><td>&quot;1.0&quot;</td><td>&quot;4&quot;</td><td>&quot;4&quot;</td><td>&quot;6&quot;</td><td>&quot;0.666666666666…</td><td>&quot;0.5&quot;</td><td>&quot;0&quot;</td><td>&quot;2&quot;</td><td>&quot;0&quot;</td><td>&quot;5&quot;</td><td>&quot;0.0&quot;</td><td>&hellip;</td><td>null</td><td>null</td><td>null</td><td>null</td><td>null</td><td>null</td><td>null</td><td>null</td><td>null</td><td>null</td><td>&quot;cornell-mfd64&quot;</td><td>42</td><td>0.3</td><td>true</td><td>10</td><td>&quot;[&#x27;min_lot_size…</td><td>&quot;elasticsearch&quot;</td><td>&quot;tournament_red…</td><td>6</td><td>&quot;302e323289b318…</td><td>&quot;e832d3471ef79f…</td><td>&quot;0013040cfeb0f4…</td><td>&quot;2311e7a6bb96f9…</td><td>&quot;897ea14dfed07e…</td><td>&quot;11062398489b76…</td><td>null</td><td>null</td><td>null</td><td>null</td><td>&quot;1a26f472c8a488…</td><td>&quot;cdd9b0b79ac4ed…</td><td>&quot;88e27afc9f9706…</td><td>&quot;98404ae0ff0f6d…</td><td>&quot;51f7f2eef57fa4…</td><td>&quot;45a291510a51b8…</td><td>&quot;cd3c4af8c8e19c…</td><td>&quot;4bc9fb2d649525…</td></tr><tr><td>null</td><td>&quot;c8abaa3&quot;</td><td>&quot;baseline&quot;</td><td>&quot;2023-05-02T17:…</td><td>null</td><td>0.563291</td><td>0.630435</td><td>null</td><td>null</td><td>null</td><td>null</td><td>null</td><td>null</td><td>null</td><td>null</td><td>null</td><td>null</td><td>null</td><td>null</td><td>null</td><td>null</td><td>null</td><td>null</td><td>null</td><td>null</td><td>null</td><td>null</td><td>null</td><td>null</td><td>null</td><td>null</td><td>null</td><td>null</td><td>null</td><td>null</td><td>null</td><td>null</td><td>&hellip;</td><td>null</td><td>null</td><td>null</td><td>null</td><td>null</td><td>&quot;89.0&quot;</td><td>&quot;83.0&quot;</td><td>&quot;138.0&quot;</td><td>&quot;535&quot;</td><td>&quot;0.525316455696…</td><td>&quot;cornell-mfd64&quot;</td><td>42</td><td>0.3</td><td>true</td><td>null</td><td>null</td><td>null</td><td>null</td><td>null</td><td>&quot;302e323289b318…</td><td>&quot;e832d3471ef79f…</td><td>&quot;0013040cfeb0f4…</td><td>&quot;b208d6a5c83a0e…</td><td>&quot;897ea14dfed07e…</td><td>&quot;11062398489b76…</td><td>null</td><td>null</td><td>null</td><td>null</td><td>&quot;51cad22a5491c3…</td><td>&quot;cdd9b0b79ac4ed…</td><td>&quot;3c2b4a5fe88ae3…</td><td>&quot;98404ae0ff0f6d…</td><td>&quot;51f7f2eef57fa4…</td><td>&quot;45a291510a51b8…</td><td>&quot;cd3c4af8c8e19c…</td><td>&quot;4bc9fb2d649525…</td></tr><tr><td>null</td><td>&quot;80c8189&quot;</td><td>&quot;baseline&quot;</td><td>&quot;2023-08-21T21:…</td><td>null</td><td>0.561905</td><td>0.972222</td><td>&quot;0.8&quot;</td><td>&quot;1.0&quot;</td><td>&quot;8&quot;</td><td>&quot;8&quot;</td><td>&quot;13&quot;</td><td>&quot;0.8&quot;</td><td>&quot;0.428571428571…</td><td>&quot;1.0&quot;</td><td>&quot;3&quot;</td><td>&quot;3&quot;</td><td>&quot;12&quot;</td><td>&quot;0.428571428571…</td><td>&quot;0.625&quot;</td><td>&quot;0.833333333333…</td><td>&quot;5&quot;</td><td>&quot;6&quot;</td><td>&quot;8&quot;</td><td>&quot;0.75&quot;</td><td>&quot;0.428571428571…</td><td>&quot;1.0&quot;</td><td>&quot;3&quot;</td><td>&quot;3&quot;</td><td>&quot;7&quot;</td><td>&quot;0.428571428571…</td><td>&quot;0.714285714285…</td><td>&quot;1.0&quot;</td><td>&quot;5&quot;</td><td>&quot;3&quot;</td><td>&quot;8&quot;</td><td>&quot;0.428571428571…</td><td>&hellip;</td><td>null</td><td>null</td><td>null</td><td>null</td><td>null</td><td>null</td><td>null</td><td>null</td><td>null</td><td>null</td><td>&quot;cornell-mfd64&quot;</td><td>42</td><td>0.3</td><td>true</td><td>10</td><td>&quot;[&#x27;min_lot_size…</td><td>&quot;embeddings_knn…</td><td>&quot;tournament_red…</td><td>16</td><td>&quot;302e323289b318…</td><td>&quot;e832d3471ef79f…</td><td>&quot;0013040cfeb0f4…</td><td>&quot;2311e7a6bb96f9…</td><td>&quot;897ea14dfed07e…</td><td>&quot;11062398489b76…</td><td>null</td><td>null</td><td>null</td><td>null</td><td>&quot;1a26f472c8a488…</td><td>&quot;cdd9b0b79ac4ed…</td><td>&quot;ed75967007eee2…</td><td>&quot;98404ae0ff0f6d…</td><td>&quot;51f7f2eef57fa4…</td><td>&quot;45a291510a51b8…</td><td>&quot;cd3c4af8c8e19c…</td><td>&quot;4bc9fb2d649525…</td></tr><tr><td>null</td><td>&quot;663e478&quot;</td><td>&quot;baseline&quot;</td><td>&quot;2023-05-02T15:…</td><td>null</td><td>0.556962</td><td>0.623188</td><td>null</td><td>null</td><td>null</td><td>null</td><td>null</td><td>null</td><td>null</td><td>null</td><td>null</td><td>null</td><td>null</td><td>null</td><td>null</td><td>null</td><td>null</td><td>null</td><td>null</td><td>null</td><td>null</td><td>null</td><td>null</td><td>null</td><td>null</td><td>null</td><td>null</td><td>null</td><td>null</td><td>null</td><td>null</td><td>null</td><td>&hellip;</td><td>null</td><td>null</td><td>null</td><td>null</td><td>null</td><td>&quot;88.0&quot;</td><td>&quot;98.0&quot;</td><td>&quot;138.0&quot;</td><td>&quot;522&quot;</td><td>&quot;0.620253164556…</td><td>&quot;cornell-mfd64&quot;</td><td>42</td><td>0.3</td><td>true</td><td>null</td><td>null</td><td>null</td><td>null</td><td>null</td><td>&quot;302e323289b318…</td><td>&quot;e832d3471ef79f…</td><td>&quot;0013040cfeb0f4…</td><td>&quot;b208d6a5c83a0e…</td><td>&quot;897ea14dfed07e…</td><td>&quot;11062398489b76…</td><td>null</td><td>null</td><td>null</td><td>null</td><td>&quot;f69d5a408f2314…</td><td>&quot;cdd9b0b79ac4ed…</td><td>&quot;7d151a1659212a…</td><td>&quot;98404ae0ff0f6d…</td><td>&quot;51f7f2eef57fa4…</td><td>&quot;45a291510a51b8…</td><td>&quot;cd3c4af8c8e19c…</td><td>&quot;4bc9fb2d649525…</td></tr><tr><td>&hellip;</td><td>&hellip;</td><td>&hellip;</td><td>&hellip;</td><td>&hellip;</td><td>&hellip;</td><td>&hellip;</td><td>&hellip;</td><td>&hellip;</td><td>&hellip;</td><td>&hellip;</td><td>&hellip;</td><td>&hellip;</td><td>&hellip;</td><td>&hellip;</td><td>&hellip;</td><td>&hellip;</td><td>&hellip;</td><td>&hellip;</td><td>&hellip;</td><td>&hellip;</td><td>&hellip;</td><td>&hellip;</td><td>&hellip;</td><td>&hellip;</td><td>&hellip;</td><td>&hellip;</td><td>&hellip;</td><td>&hellip;</td><td>&hellip;</td><td>&hellip;</td><td>&hellip;</td><td>&hellip;</td><td>&hellip;</td><td>&hellip;</td><td>&hellip;</td><td>&hellip;</td><td>&hellip;</td><td>&hellip;</td><td>&hellip;</td><td>&hellip;</td><td>&hellip;</td><td>&hellip;</td><td>&hellip;</td><td>&hellip;</td><td>&hellip;</td><td>&hellip;</td><td>&hellip;</td><td>&hellip;</td><td>&hellip;</td><td>&hellip;</td><td>&hellip;</td><td>&hellip;</td><td>&hellip;</td><td>&hellip;</td><td>&hellip;</td><td>&hellip;</td><td>&hellip;</td><td>&hellip;</td><td>&hellip;</td><td>&hellip;</td><td>&hellip;</td><td>&hellip;</td><td>&hellip;</td><td>&hellip;</td><td>&hellip;</td><td>&hellip;</td><td>&hellip;</td><td>&hellip;</td><td>&hellip;</td><td>&hellip;</td><td>&hellip;</td><td>&hellip;</td><td>&hellip;</td><td>&hellip;</td></tr><tr><td>null</td><td>&quot;d1adcd4&quot;</td><td>&quot;baseline&quot;</td><td>&quot;2023-05-03T11:…</td><td>null</td><td>null</td><td>null</td><td>&quot;!&quot;</td><td>&quot;!&quot;</td><td>&quot;!&quot;</td><td>&quot;!&quot;</td><td>&quot;!&quot;</td><td>&quot;!&quot;</td><td>&quot;!&quot;</td><td>&quot;!&quot;</td><td>&quot;!&quot;</td><td>&quot;!&quot;</td><td>&quot;!&quot;</td><td>&quot;!&quot;</td><td>&quot;!&quot;</td><td>&quot;!&quot;</td><td>&quot;!&quot;</td><td>&quot;!&quot;</td><td>&quot;!&quot;</td><td>&quot;!&quot;</td><td>&quot;!&quot;</td><td>&quot;!&quot;</td><td>&quot;!&quot;</td><td>&quot;!&quot;</td><td>&quot;!&quot;</td><td>&quot;!&quot;</td><td>&quot;!&quot;</td><td>&quot;!&quot;</td><td>&quot;!&quot;</td><td>&quot;!&quot;</td><td>&quot;!&quot;</td><td>&quot;!&quot;</td><td>&hellip;</td><td>&quot;!&quot;</td><td>&quot;!&quot;</td><td>&quot;!&quot;</td><td>&quot;!&quot;</td><td>&quot;!&quot;</td><td>&quot;!&quot;</td><td>&quot;!&quot;</td><td>&quot;!&quot;</td><td>&quot;!&quot;</td><td>&quot;!&quot;</td><td>&quot;cornell-mfd64&quot;</td><td>42</td><td>0.3</td><td>true</td><td>null</td><td>null</td><td>null</td><td>null</td><td>null</td><td>&quot;302e323289b318…</td><td>&quot;e832d3471ef79f…</td><td>&quot;0013040cfeb0f4…</td><td>&quot;b208d6a5c83a0e…</td><td>&quot;897ea14dfed07e…</td><td>&quot;11062398489b76…</td><td>null</td><td>null</td><td>null</td><td>null</td><td>&quot;51cad22a5491c3…</td><td>&quot;cdd9b0b79ac4ed…</td><td>&quot;a2c9dd83648f26…</td><td>&quot;98404ae0ff0f6d…</td><td>&quot;51f7f2eef57fa4…</td><td>&quot;45a291510a51b8…</td><td>&quot;cd3c4af8c8e19c…</td><td>&quot;4bc9fb2d649525…</td></tr><tr><td>null</td><td>&quot;6b3d1bf&quot;</td><td>&quot;baseline&quot;</td><td>&quot;2023-05-03T12:…</td><td>null</td><td>null</td><td>null</td><td>&quot;!&quot;</td><td>&quot;!&quot;</td><td>&quot;!&quot;</td><td>&quot;!&quot;</td><td>&quot;!&quot;</td><td>&quot;!&quot;</td><td>&quot;!&quot;</td><td>&quot;!&quot;</td><td>&quot;!&quot;</td><td>&quot;!&quot;</td><td>&quot;!&quot;</td><td>&quot;!&quot;</td><td>&quot;!&quot;</td><td>&quot;!&quot;</td><td>&quot;!&quot;</td><td>&quot;!&quot;</td><td>&quot;!&quot;</td><td>&quot;!&quot;</td><td>&quot;!&quot;</td><td>&quot;!&quot;</td><td>&quot;!&quot;</td><td>&quot;!&quot;</td><td>&quot;!&quot;</td><td>&quot;!&quot;</td><td>&quot;!&quot;</td><td>&quot;!&quot;</td><td>&quot;!&quot;</td><td>&quot;!&quot;</td><td>&quot;!&quot;</td><td>&quot;!&quot;</td><td>&hellip;</td><td>&quot;!&quot;</td><td>&quot;!&quot;</td><td>&quot;!&quot;</td><td>&quot;!&quot;</td><td>&quot;!&quot;</td><td>&quot;!&quot;</td><td>&quot;!&quot;</td><td>&quot;!&quot;</td><td>&quot;!&quot;</td><td>&quot;!&quot;</td><td>&quot;cornell-mfd64&quot;</td><td>42</td><td>0.3</td><td>true</td><td>null</td><td>null</td><td>null</td><td>null</td><td>null</td><td>&quot;302e323289b318…</td><td>&quot;e832d3471ef79f…</td><td>&quot;0013040cfeb0f4…</td><td>&quot;b208d6a5c83a0e…</td><td>&quot;897ea14dfed07e…</td><td>&quot;11062398489b76…</td><td>null</td><td>null</td><td>null</td><td>null</td><td>&quot;51cad22a5491c3…</td><td>&quot;cdd9b0b79ac4ed…</td><td>&quot;5f6ac3a26bf6a6…</td><td>&quot;98404ae0ff0f6d…</td><td>&quot;51f7f2eef57fa4…</td><td>&quot;45a291510a51b8…</td><td>&quot;cd3c4af8c8e19c…</td><td>&quot;4bc9fb2d649525…</td></tr><tr><td>null</td><td>&quot;b6219e8&quot;</td><td>&quot;baseline&quot;</td><td>&quot;2023-07-28T08:…</td><td>null</td><td>null</td><td>null</td><td>&quot;!&quot;</td><td>&quot;!&quot;</td><td>&quot;!&quot;</td><td>&quot;!&quot;</td><td>&quot;!&quot;</td><td>&quot;!&quot;</td><td>&quot;!&quot;</td><td>&quot;!&quot;</td><td>&quot;!&quot;</td><td>&quot;!&quot;</td><td>&quot;!&quot;</td><td>&quot;!&quot;</td><td>&quot;!&quot;</td><td>&quot;!&quot;</td><td>&quot;!&quot;</td><td>&quot;!&quot;</td><td>&quot;!&quot;</td><td>&quot;!&quot;</td><td>&quot;!&quot;</td><td>&quot;!&quot;</td><td>&quot;!&quot;</td><td>&quot;!&quot;</td><td>&quot;!&quot;</td><td>&quot;!&quot;</td><td>&quot;!&quot;</td><td>&quot;!&quot;</td><td>&quot;!&quot;</td><td>&quot;!&quot;</td><td>&quot;!&quot;</td><td>&quot;!&quot;</td><td>&hellip;</td><td>&quot;!&quot;</td><td>&quot;!&quot;</td><td>&quot;!&quot;</td><td>&quot;!&quot;</td><td>&quot;!&quot;</td><td>&quot;!&quot;</td><td>&quot;!&quot;</td><td>&quot;!&quot;</td><td>&quot;!&quot;</td><td>&quot;!&quot;</td><td>&quot;cornell-mfd64&quot;</td><td>42</td><td>0.3</td><td>true</td><td>null</td><td>null</td><td>null</td><td>null</td><td>null</td><td>&quot;302e323289b318…</td><td>&quot;e832d3471ef79f…</td><td>&quot;0013040cfeb0f4…</td><td>&quot;b208d6a5c83a0e…</td><td>&quot;897ea14dfed07e…</td><td>&quot;11062398489b76…</td><td>null</td><td>null</td><td>null</td><td>null</td><td>&quot;fb8c39e56d3add…</td><td>&quot;cdd9b0b79ac4ed…</td><td>&quot;2846533e8053c7…</td><td>&quot;98404ae0ff0f6d…</td><td>&quot;51f7f2eef57fa4…</td><td>&quot;45a291510a51b8…</td><td>&quot;cd3c4af8c8e19c…</td><td>&quot;4bc9fb2d649525…</td></tr><tr><td>null</td><td>&quot;1ff54ca&quot;</td><td>&quot;baseline&quot;</td><td>&quot;2023-07-28T09:…</td><td>null</td><td>null</td><td>null</td><td>&quot;!&quot;</td><td>&quot;!&quot;</td><td>&quot;!&quot;</td><td>&quot;!&quot;</td><td>&quot;!&quot;</td><td>&quot;!&quot;</td><td>&quot;!&quot;</td><td>&quot;!&quot;</td><td>&quot;!&quot;</td><td>&quot;!&quot;</td><td>&quot;!&quot;</td><td>&quot;!&quot;</td><td>&quot;!&quot;</td><td>&quot;!&quot;</td><td>&quot;!&quot;</td><td>&quot;!&quot;</td><td>&quot;!&quot;</td><td>&quot;!&quot;</td><td>&quot;!&quot;</td><td>&quot;!&quot;</td><td>&quot;!&quot;</td><td>&quot;!&quot;</td><td>&quot;!&quot;</td><td>&quot;!&quot;</td><td>&quot;!&quot;</td><td>&quot;!&quot;</td><td>&quot;!&quot;</td><td>&quot;!&quot;</td><td>&quot;!&quot;</td><td>&quot;!&quot;</td><td>&hellip;</td><td>&quot;!&quot;</td><td>&quot;!&quot;</td><td>&quot;!&quot;</td><td>&quot;!&quot;</td><td>&quot;!&quot;</td><td>&quot;!&quot;</td><td>&quot;!&quot;</td><td>&quot;!&quot;</td><td>&quot;!&quot;</td><td>&quot;!&quot;</td><td>&quot;cornell-mfd64&quot;</td><td>42</td><td>0.3</td><td>true</td><td>null</td><td>null</td><td>null</td><td>null</td><td>null</td><td>&quot;302e323289b318…</td><td>&quot;e832d3471ef79f…</td><td>&quot;0013040cfeb0f4…</td><td>&quot;b208d6a5c83a0e…</td><td>&quot;897ea14dfed07e…</td><td>&quot;11062398489b76…</td><td>null</td><td>null</td><td>null</td><td>null</td><td>&quot;fb8c39e56d3add…</td><td>&quot;cdd9b0b79ac4ed…</td><td>&quot;2846533e8053c7…</td><td>&quot;98404ae0ff0f6d…</td><td>&quot;51f7f2eef57fa4…</td><td>&quot;45a291510a51b8…</td><td>&quot;cd3c4af8c8e19c…</td><td>&quot;4bc9fb2d649525…</td></tr><tr><td>null</td><td>&quot;9fc7c77&quot;</td><td>&quot;baseline&quot;</td><td>&quot;2023-07-28T09:…</td><td>null</td><td>null</td><td>null</td><td>&quot;!&quot;</td><td>&quot;!&quot;</td><td>&quot;!&quot;</td><td>&quot;!&quot;</td><td>&quot;!&quot;</td><td>&quot;!&quot;</td><td>&quot;!&quot;</td><td>&quot;!&quot;</td><td>&quot;!&quot;</td><td>&quot;!&quot;</td><td>&quot;!&quot;</td><td>&quot;!&quot;</td><td>&quot;!&quot;</td><td>&quot;!&quot;</td><td>&quot;!&quot;</td><td>&quot;!&quot;</td><td>&quot;!&quot;</td><td>&quot;!&quot;</td><td>&quot;!&quot;</td><td>&quot;!&quot;</td><td>&quot;!&quot;</td><td>&quot;!&quot;</td><td>&quot;!&quot;</td><td>&quot;!&quot;</td><td>&quot;!&quot;</td><td>&quot;!&quot;</td><td>&quot;!&quot;</td><td>&quot;!&quot;</td><td>&quot;!&quot;</td><td>&quot;!&quot;</td><td>&hellip;</td><td>&quot;!&quot;</td><td>&quot;!&quot;</td><td>&quot;!&quot;</td><td>&quot;!&quot;</td><td>&quot;!&quot;</td><td>&quot;!&quot;</td><td>&quot;!&quot;</td><td>&quot;!&quot;</td><td>&quot;!&quot;</td><td>&quot;!&quot;</td><td>&quot;cornell-mfd64&quot;</td><td>42</td><td>0.3</td><td>true</td><td>null</td><td>null</td><td>null</td><td>null</td><td>null</td><td>&quot;302e323289b318…</td><td>&quot;e832d3471ef79f…</td><td>&quot;0013040cfeb0f4…</td><td>&quot;b208d6a5c83a0e…</td><td>&quot;897ea14dfed07e…</td><td>&quot;11062398489b76…</td><td>null</td><td>null</td><td>null</td><td>null</td><td>&quot;fb8c39e56d3add…</td><td>&quot;cdd9b0b79ac4ed…</td><td>&quot;2846533e8053c7…</td><td>&quot;98404ae0ff0f6d…</td><td>&quot;51f7f2eef57fa4…</td><td>&quot;45a291510a51b8…</td><td>&quot;cd3c4af8c8e19c…</td><td>&quot;4bc9fb2d649525…</td></tr><tr><td>null</td><td>&quot;b6f0e07&quot;</td><td>&quot;baseline&quot;</td><td>&quot;2023-08-01T10:…</td><td>null</td><td>null</td><td>null</td><td>&quot;!&quot;</td><td>&quot;!&quot;</td><td>&quot;!&quot;</td><td>&quot;!&quot;</td><td>&quot;!&quot;</td><td>&quot;!&quot;</td><td>&quot;!&quot;</td><td>&quot;!&quot;</td><td>&quot;!&quot;</td><td>&quot;!&quot;</td><td>&quot;!&quot;</td><td>&quot;!&quot;</td><td>&quot;!&quot;</td><td>&quot;!&quot;</td><td>&quot;!&quot;</td><td>&quot;!&quot;</td><td>&quot;!&quot;</td><td>&quot;!&quot;</td><td>&quot;!&quot;</td><td>&quot;!&quot;</td><td>&quot;!&quot;</td><td>&quot;!&quot;</td><td>&quot;!&quot;</td><td>&quot;!&quot;</td><td>&quot;!&quot;</td><td>&quot;!&quot;</td><td>&quot;!&quot;</td><td>&quot;!&quot;</td><td>&quot;!&quot;</td><td>&quot;!&quot;</td><td>&hellip;</td><td>&quot;!&quot;</td><td>&quot;!&quot;</td><td>&quot;!&quot;</td><td>&quot;!&quot;</td><td>&quot;!&quot;</td><td>&quot;!&quot;</td><td>&quot;!&quot;</td><td>&quot;!&quot;</td><td>&quot;!&quot;</td><td>&quot;!&quot;</td><td>&quot;cornell-mfd64&quot;</td><td>42</td><td>0.3</td><td>true</td><td>null</td><td>null</td><td>null</td><td>null</td><td>null</td><td>&quot;302e323289b318…</td><td>&quot;e832d3471ef79f…</td><td>&quot;0013040cfeb0f4…</td><td>&quot;b208d6a5c83a0e…</td><td>&quot;897ea14dfed07e…</td><td>&quot;11062398489b76…</td><td>null</td><td>null</td><td>null</td><td>null</td><td>&quot;fb8c39e56d3add…</td><td>&quot;cdd9b0b79ac4ed…</td><td>&quot;b99fd5c5331dfe…</td><td>&quot;98404ae0ff0f6d…</td><td>&quot;51f7f2eef57fa4…</td><td>&quot;45a291510a51b8…</td><td>&quot;cd3c4af8c8e19c…</td><td>&quot;4bc9fb2d649525…</td></tr><tr><td>null</td><td>&quot;69f2010&quot;</td><td>&quot;baseline&quot;</td><td>&quot;2023-08-01T12:…</td><td>null</td><td>null</td><td>null</td><td>&quot;!&quot;</td><td>&quot;!&quot;</td><td>&quot;!&quot;</td><td>&quot;!&quot;</td><td>&quot;!&quot;</td><td>&quot;!&quot;</td><td>&quot;!&quot;</td><td>&quot;!&quot;</td><td>&quot;!&quot;</td><td>&quot;!&quot;</td><td>&quot;!&quot;</td><td>&quot;!&quot;</td><td>&quot;!&quot;</td><td>&quot;!&quot;</td><td>&quot;!&quot;</td><td>&quot;!&quot;</td><td>&quot;!&quot;</td><td>&quot;!&quot;</td><td>&quot;!&quot;</td><td>&quot;!&quot;</td><td>&quot;!&quot;</td><td>&quot;!&quot;</td><td>&quot;!&quot;</td><td>&quot;!&quot;</td><td>&quot;!&quot;</td><td>&quot;!&quot;</td><td>&quot;!&quot;</td><td>&quot;!&quot;</td><td>&quot;!&quot;</td><td>&quot;!&quot;</td><td>&hellip;</td><td>&quot;!&quot;</td><td>&quot;!&quot;</td><td>&quot;!&quot;</td><td>&quot;!&quot;</td><td>&quot;!&quot;</td><td>&quot;!&quot;</td><td>&quot;!&quot;</td><td>&quot;!&quot;</td><td>&quot;!&quot;</td><td>&quot;!&quot;</td><td>&quot;cornell-mfd64&quot;</td><td>42</td><td>0.3</td><td>true</td><td>null</td><td>null</td><td>null</td><td>null</td><td>null</td><td>&quot;302e323289b318…</td><td>&quot;e832d3471ef79f…</td><td>&quot;0013040cfeb0f4…</td><td>&quot;b208d6a5c83a0e…</td><td>&quot;897ea14dfed07e…</td><td>&quot;11062398489b76…</td><td>null</td><td>null</td><td>null</td><td>null</td><td>&quot;fb8c39e56d3add…</td><td>&quot;cdd9b0b79ac4ed…</td><td>&quot;b99fd5c5331dfe…</td><td>&quot;98404ae0ff0f6d…</td><td>&quot;51f7f2eef57fa4…</td><td>&quot;45a291510a51b8…</td><td>&quot;cd3c4af8c8e19c…</td><td>&quot;4bc9fb2d649525…</td></tr><tr><td>null</td><td>&quot;39a49c2&quot;</td><td>&quot;baseline&quot;</td><td>&quot;2023-08-03T15:…</td><td>null</td><td>null</td><td>null</td><td>&quot;!&quot;</td><td>&quot;!&quot;</td><td>&quot;!&quot;</td><td>&quot;!&quot;</td><td>&quot;!&quot;</td><td>&quot;!&quot;</td><td>&quot;!&quot;</td><td>&quot;!&quot;</td><td>&quot;!&quot;</td><td>&quot;!&quot;</td><td>&quot;!&quot;</td><td>&quot;!&quot;</td><td>&quot;!&quot;</td><td>&quot;!&quot;</td><td>&quot;!&quot;</td><td>&quot;!&quot;</td><td>&quot;!&quot;</td><td>&quot;!&quot;</td><td>&quot;!&quot;</td><td>&quot;!&quot;</td><td>&quot;!&quot;</td><td>&quot;!&quot;</td><td>&quot;!&quot;</td><td>&quot;!&quot;</td><td>&quot;!&quot;</td><td>&quot;!&quot;</td><td>&quot;!&quot;</td><td>&quot;!&quot;</td><td>&quot;!&quot;</td><td>&quot;!&quot;</td><td>&hellip;</td><td>&quot;!&quot;</td><td>&quot;!&quot;</td><td>&quot;!&quot;</td><td>&quot;!&quot;</td><td>&quot;!&quot;</td><td>&quot;!&quot;</td><td>&quot;!&quot;</td><td>&quot;!&quot;</td><td>&quot;!&quot;</td><td>&quot;!&quot;</td><td>&quot;cornell-mfd64&quot;</td><td>42</td><td>0.3</td><td>true</td><td>null</td><td>null</td><td>null</td><td>null</td><td>null</td><td>&quot;302e323289b318…</td><td>&quot;e832d3471ef79f…</td><td>&quot;0013040cfeb0f4…</td><td>&quot;b208d6a5c83a0e…</td><td>&quot;897ea14dfed07e…</td><td>&quot;11062398489b76…</td><td>null</td><td>null</td><td>null</td><td>null</td><td>&quot;fb8c39e56d3add…</td><td>&quot;cdd9b0b79ac4ed…</td><td>&quot;85202e679061f8…</td><td>&quot;98404ae0ff0f6d…</td><td>&quot;51f7f2eef57fa4…</td><td>&quot;45a291510a51b8…</td><td>&quot;cd3c4af8c8e19c…</td><td>&quot;4bc9fb2d649525…</td></tr><tr><td>null</td><td>&quot;1534763&quot;</td><td>&quot;baseline&quot;</td><td>&quot;2023-08-03T15:…</td><td>null</td><td>null</td><td>null</td><td>&quot;!&quot;</td><td>&quot;!&quot;</td><td>&quot;!&quot;</td><td>&quot;!&quot;</td><td>&quot;!&quot;</td><td>&quot;!&quot;</td><td>&quot;!&quot;</td><td>&quot;!&quot;</td><td>&quot;!&quot;</td><td>&quot;!&quot;</td><td>&quot;!&quot;</td><td>&quot;!&quot;</td><td>&quot;!&quot;</td><td>&quot;!&quot;</td><td>&quot;!&quot;</td><td>&quot;!&quot;</td><td>&quot;!&quot;</td><td>&quot;!&quot;</td><td>&quot;!&quot;</td><td>&quot;!&quot;</td><td>&quot;!&quot;</td><td>&quot;!&quot;</td><td>&quot;!&quot;</td><td>&quot;!&quot;</td><td>&quot;!&quot;</td><td>&quot;!&quot;</td><td>&quot;!&quot;</td><td>&quot;!&quot;</td><td>&quot;!&quot;</td><td>&quot;!&quot;</td><td>&hellip;</td><td>&quot;!&quot;</td><td>&quot;!&quot;</td><td>&quot;!&quot;</td><td>&quot;!&quot;</td><td>&quot;!&quot;</td><td>&quot;!&quot;</td><td>&quot;!&quot;</td><td>&quot;!&quot;</td><td>&quot;!&quot;</td><td>&quot;!&quot;</td><td>&quot;cornell-mfd64&quot;</td><td>42</td><td>0.3</td><td>true</td><td>null</td><td>null</td><td>null</td><td>null</td><td>null</td><td>&quot;302e323289b318…</td><td>&quot;e832d3471ef79f…</td><td>&quot;0013040cfeb0f4…</td><td>&quot;b208d6a5c83a0e…</td><td>&quot;897ea14dfed07e…</td><td>&quot;11062398489b76…</td><td>null</td><td>null</td><td>null</td><td>null</td><td>&quot;fb8c39e56d3add…</td><td>&quot;cdd9b0b79ac4ed…</td><td>&quot;85202e679061f8…</td><td>&quot;98404ae0ff0f6d…</td><td>&quot;51f7f2eef57fa4…</td><td>&quot;45a291510a51b8…</td><td>&quot;cd3c4af8c8e19c…</td><td>&quot;4bc9fb2d649525…</td></tr><tr><td>null</td><td>&quot;2fb8531&quot;</td><td>&quot;baseline&quot;</td><td>&quot;2023-08-04T08:…</td><td>null</td><td>null</td><td>null</td><td>&quot;!&quot;</td><td>&quot;!&quot;</td><td>&quot;!&quot;</td><td>&quot;!&quot;</td><td>&quot;!&quot;</td><td>&quot;!&quot;</td><td>&quot;!&quot;</td><td>&quot;!&quot;</td><td>&quot;!&quot;</td><td>&quot;!&quot;</td><td>&quot;!&quot;</td><td>&quot;!&quot;</td><td>&quot;!&quot;</td><td>&quot;!&quot;</td><td>&quot;!&quot;</td><td>&quot;!&quot;</td><td>&quot;!&quot;</td><td>&quot;!&quot;</td><td>&quot;!&quot;</td><td>&quot;!&quot;</td><td>&quot;!&quot;</td><td>&quot;!&quot;</td><td>&quot;!&quot;</td><td>&quot;!&quot;</td><td>&quot;!&quot;</td><td>&quot;!&quot;</td><td>&quot;!&quot;</td><td>&quot;!&quot;</td><td>&quot;!&quot;</td><td>&quot;!&quot;</td><td>&hellip;</td><td>&quot;!&quot;</td><td>&quot;!&quot;</td><td>&quot;!&quot;</td><td>&quot;!&quot;</td><td>&quot;!&quot;</td><td>&quot;!&quot;</td><td>&quot;!&quot;</td><td>&quot;!&quot;</td><td>&quot;!&quot;</td><td>&quot;!&quot;</td><td>&quot;cornell-mfd64&quot;</td><td>42</td><td>0.3</td><td>true</td><td>null</td><td>null</td><td>null</td><td>null</td><td>null</td><td>&quot;302e323289b318…</td><td>&quot;e832d3471ef79f…</td><td>&quot;0013040cfeb0f4…</td><td>&quot;b208d6a5c83a0e…</td><td>&quot;897ea14dfed07e…</td><td>&quot;11062398489b76…</td><td>null</td><td>null</td><td>null</td><td>null</td><td>&quot;fb8c39e56d3add…</td><td>&quot;cdd9b0b79ac4ed…</td><td>&quot;85202e679061f8…</td><td>&quot;98404ae0ff0f6d…</td><td>&quot;51f7f2eef57fa4…</td><td>&quot;45a291510a51b8…</td><td>&quot;cd3c4af8c8e19c…</td><td>&quot;4bc9fb2d649525…</td></tr><tr><td>null</td><td>&quot;8e52cfc&quot;</td><td>&quot;baseline&quot;</td><td>&quot;2023-08-04T11:…</td><td>null</td><td>null</td><td>null</td><td>&quot;!&quot;</td><td>&quot;!&quot;</td><td>&quot;!&quot;</td><td>&quot;!&quot;</td><td>&quot;!&quot;</td><td>&quot;!&quot;</td><td>&quot;!&quot;</td><td>&quot;!&quot;</td><td>&quot;!&quot;</td><td>&quot;!&quot;</td><td>&quot;!&quot;</td><td>&quot;!&quot;</td><td>&quot;!&quot;</td><td>&quot;!&quot;</td><td>&quot;!&quot;</td><td>&quot;!&quot;</td><td>&quot;!&quot;</td><td>&quot;!&quot;</td><td>&quot;!&quot;</td><td>&quot;!&quot;</td><td>&quot;!&quot;</td><td>&quot;!&quot;</td><td>&quot;!&quot;</td><td>&quot;!&quot;</td><td>&quot;!&quot;</td><td>&quot;!&quot;</td><td>&quot;!&quot;</td><td>&quot;!&quot;</td><td>&quot;!&quot;</td><td>&quot;!&quot;</td><td>&hellip;</td><td>&quot;!&quot;</td><td>&quot;!&quot;</td><td>&quot;!&quot;</td><td>&quot;!&quot;</td><td>&quot;!&quot;</td><td>&quot;!&quot;</td><td>&quot;!&quot;</td><td>&quot;!&quot;</td><td>&quot;!&quot;</td><td>&quot;!&quot;</td><td>&quot;cornell-mfd64&quot;</td><td>42</td><td>0.3</td><td>true</td><td>null</td><td>null</td><td>null</td><td>null</td><td>null</td><td>&quot;302e323289b318…</td><td>&quot;e832d3471ef79f…</td><td>&quot;0013040cfeb0f4…</td><td>&quot;b208d6a5c83a0e…</td><td>&quot;897ea14dfed07e…</td><td>&quot;11062398489b76…</td><td>null</td><td>null</td><td>null</td><td>null</td><td>&quot;fb8c39e56d3add…</td><td>&quot;cdd9b0b79ac4ed…</td><td>&quot;85202e679061f8…</td><td>&quot;98404ae0ff0f6d…</td><td>&quot;51f7f2eef57fa4…</td><td>&quot;45a291510a51b8…</td><td>&quot;cd3c4af8c8e19c…</td><td>&quot;4bc9fb2d649525…</td></tr><tr><td>null</td><td>&quot;bb0ce1f&quot;</td><td>&quot;baseline&quot;</td><td>&quot;2023-08-14T20:…</td><td>null</td><td>null</td><td>null</td><td>&quot;!&quot;</td><td>&quot;!&quot;</td><td>&quot;!&quot;</td><td>&quot;!&quot;</td><td>&quot;!&quot;</td><td>&quot;!&quot;</td><td>&quot;!&quot;</td><td>&quot;!&quot;</td><td>&quot;!&quot;</td><td>&quot;!&quot;</td><td>&quot;!&quot;</td><td>&quot;!&quot;</td><td>&quot;!&quot;</td><td>&quot;!&quot;</td><td>&quot;!&quot;</td><td>&quot;!&quot;</td><td>&quot;!&quot;</td><td>&quot;!&quot;</td><td>&quot;!&quot;</td><td>&quot;!&quot;</td><td>&quot;!&quot;</td><td>&quot;!&quot;</td><td>&quot;!&quot;</td><td>&quot;!&quot;</td><td>&quot;!&quot;</td><td>&quot;!&quot;</td><td>&quot;!&quot;</td><td>&quot;!&quot;</td><td>&quot;!&quot;</td><td>&quot;!&quot;</td><td>&hellip;</td><td>&quot;!&quot;</td><td>&quot;!&quot;</td><td>&quot;!&quot;</td><td>&quot;!&quot;</td><td>&quot;!&quot;</td><td>&quot;!&quot;</td><td>&quot;!&quot;</td><td>&quot;!&quot;</td><td>&quot;!&quot;</td><td>&quot;!&quot;</td><td>&quot;cornell-mfd64&quot;</td><td>42</td><td>0.3</td><td>true</td><td>null</td><td>null</td><td>null</td><td>null</td><td>null</td><td>&quot;302e323289b318…</td><td>&quot;e832d3471ef79f…</td><td>&quot;0013040cfeb0f4…</td><td>&quot;b208d6a5c83a0e…</td><td>&quot;897ea14dfed07e…</td><td>&quot;11062398489b76…</td><td>null</td><td>null</td><td>null</td><td>null</td><td>&quot;1a26f472c8a488…</td><td>&quot;cdd9b0b79ac4ed…</td><td>&quot;72e2ee26949e7a…</td><td>&quot;98404ae0ff0f6d…</td><td>&quot;51f7f2eef57fa4…</td><td>&quot;45a291510a51b8…</td><td>&quot;cd3c4af8c8e19c…</td><td>&quot;4bc9fb2d649525…</td></tr></tbody></table></div>"
      ],
      "text/plain": [
       "shape: (60, 104)\n",
       "┌────────────┬─────────┬──────────┬────────────┬───┬───────────┬───────────┬───────────┬───────────┐\n",
       "│ Experiment ┆ rev     ┆ typ      ┆ Created    ┆ … ┆ zoning/da ┆ zoning/da ┆ zoning/da ┆ zoning/da │\n",
       "│ ---        ┆ ---     ┆ ---      ┆ ---        ┆   ┆ ta_proces ┆ ta_proces ┆ ta_proces ┆ ta_proces │\n",
       "│ str        ┆ str     ┆ str      ┆ str        ┆   ┆ sing/gene ┆ sing/gene ┆ sing/inde ┆ sing/uplo │\n",
       "│            ┆         ┆          ┆            ┆   ┆ rate_…    ┆ rate_…    ┆ x_tow…    ┆ ad_zo…    │\n",
       "│            ┆         ┆          ┆            ┆   ┆ ---       ┆ ---       ┆ ---       ┆ ---       │\n",
       "│            ┆         ┆          ┆            ┆   ┆ str       ┆ str       ┆ str       ┆ str       │\n",
       "╞════════════╪═════════╪══════════╪════════════╪═══╪═══════════╪═══════════╪═══════════╪═══════════╡\n",
       "│ null       ┆ adaa401 ┆ baseline ┆ 2023-08-21 ┆ … ┆ 51f7f2eef ┆ 45a291510 ┆ cd3c4af8c ┆ 4bc9fb2d6 │\n",
       "│            ┆         ┆          ┆ T20:13:41  ┆   ┆ 57fa468b3 ┆ a51b88863 ┆ 8e19c9927 ┆ 49525a0c3 │\n",
       "│            ┆         ┆          ┆            ┆   ┆ d03fd2d8f ┆ 978680521 ┆ e28912aaf ┆ 928fe4f7b │\n",
       "│            ┆         ┆          ┆            ┆   ┆ aa385     ┆ 38501     ┆ 7ced5     ┆ c2307     │\n",
       "│ null       ┆ master  ┆ baseline ┆ 2023-08-25 ┆ … ┆ 51f7f2eef ┆ 45a291510 ┆ cd3c4af8c ┆ 4bc9fb2d6 │\n",
       "│            ┆         ┆          ┆ T10:35:22  ┆   ┆ 57fa468b3 ┆ a51b88863 ┆ 8e19c9927 ┆ 49525a0c3 │\n",
       "│            ┆         ┆          ┆            ┆   ┆ d03fd2d8f ┆ 978680521 ┆ e28912aaf ┆ 928fe4f7b │\n",
       "│            ┆         ┆          ┆            ┆   ┆ aa385     ┆ 38501     ┆ 7ced5     ┆ c2307     │\n",
       "│ null       ┆ c67cc3f ┆ baseline ┆ 2023-08-25 ┆ … ┆ 51f7f2eef ┆ 45a291510 ┆ cd3c4af8c ┆ 4bc9fb2d6 │\n",
       "│            ┆         ┆          ┆ T10:33:01  ┆   ┆ 57fa468b3 ┆ a51b88863 ┆ 8e19c9927 ┆ 49525a0c3 │\n",
       "│            ┆         ┆          ┆            ┆   ┆ d03fd2d8f ┆ 978680521 ┆ e28912aaf ┆ 928fe4f7b │\n",
       "│            ┆         ┆          ┆            ┆   ┆ aa385     ┆ 38501     ┆ 7ced5     ┆ c2307     │\n",
       "│ null       ┆ 9ef0240 ┆ baseline ┆ 2023-08-25 ┆ … ┆ 51f7f2eef ┆ 45a291510 ┆ cd3c4af8c ┆ 4bc9fb2d6 │\n",
       "│            ┆         ┆          ┆ T10:25:55  ┆   ┆ 57fa468b3 ┆ a51b88863 ┆ 8e19c9927 ┆ 49525a0c3 │\n",
       "│            ┆         ┆          ┆            ┆   ┆ d03fd2d8f ┆ 978680521 ┆ e28912aaf ┆ 928fe4f7b │\n",
       "│            ┆         ┆          ┆            ┆   ┆ aa385     ┆ 38501     ┆ 7ced5     ┆ c2307     │\n",
       "│ …          ┆ …       ┆ …        ┆ …          ┆ … ┆ …         ┆ …         ┆ …         ┆ …         │\n",
       "│ null       ┆ 1534763 ┆ baseline ┆ 2023-08-03 ┆ … ┆ 51f7f2eef ┆ 45a291510 ┆ cd3c4af8c ┆ 4bc9fb2d6 │\n",
       "│            ┆         ┆          ┆ T15:59:15  ┆   ┆ 57fa468b3 ┆ a51b88863 ┆ 8e19c9927 ┆ 49525a0c3 │\n",
       "│            ┆         ┆          ┆            ┆   ┆ d03fd2d8f ┆ 978680521 ┆ e28912aaf ┆ 928fe4f7b │\n",
       "│            ┆         ┆          ┆            ┆   ┆ aa385     ┆ 38501     ┆ 7ced5     ┆ c2307     │\n",
       "│ null       ┆ 2fb8531 ┆ baseline ┆ 2023-08-04 ┆ … ┆ 51f7f2eef ┆ 45a291510 ┆ cd3c4af8c ┆ 4bc9fb2d6 │\n",
       "│            ┆         ┆          ┆ T08:57:26  ┆   ┆ 57fa468b3 ┆ a51b88863 ┆ 8e19c9927 ┆ 49525a0c3 │\n",
       "│            ┆         ┆          ┆            ┆   ┆ d03fd2d8f ┆ 978680521 ┆ e28912aaf ┆ 928fe4f7b │\n",
       "│            ┆         ┆          ┆            ┆   ┆ aa385     ┆ 38501     ┆ 7ced5     ┆ c2307     │\n",
       "│ null       ┆ 8e52cfc ┆ baseline ┆ 2023-08-04 ┆ … ┆ 51f7f2eef ┆ 45a291510 ┆ cd3c4af8c ┆ 4bc9fb2d6 │\n",
       "│            ┆         ┆          ┆ T11:05:12  ┆   ┆ 57fa468b3 ┆ a51b88863 ┆ 8e19c9927 ┆ 49525a0c3 │\n",
       "│            ┆         ┆          ┆            ┆   ┆ d03fd2d8f ┆ 978680521 ┆ e28912aaf ┆ 928fe4f7b │\n",
       "│            ┆         ┆          ┆            ┆   ┆ aa385     ┆ 38501     ┆ 7ced5     ┆ c2307     │\n",
       "│ null       ┆ bb0ce1f ┆ baseline ┆ 2023-08-14 ┆ … ┆ 51f7f2eef ┆ 45a291510 ┆ cd3c4af8c ┆ 4bc9fb2d6 │\n",
       "│            ┆         ┆          ┆ T20:34:22  ┆   ┆ 57fa468b3 ┆ a51b88863 ┆ 8e19c9927 ┆ 49525a0c3 │\n",
       "│            ┆         ┆          ┆            ┆   ┆ d03fd2d8f ┆ 978680521 ┆ e28912aaf ┆ 928fe4f7b │\n",
       "│            ┆         ┆          ┆            ┆   ┆ aa385     ┆ 38501     ┆ 7ced5     ┆ c2307     │\n",
       "└────────────┴─────────┴──────────┴────────────┴───┴───────────┴───────────┴───────────┴───────────┘"
      ]
     },
     "execution_count": 2,
     "metadata": {},
     "output_type": "execute_result"
    }
   ],
   "source": [
    "df = (\n",
    "    pl.read_csv(\"../exps.csv\")\n",
    "    .filter(pl.col(\"answer_accuracy\").is_not_null())\n",
    "    .with_columns(\n",
    "        pl.col(\"answer_accuracy\").cast(pl.Float32, strict=False),\n",
    "        pl.col(\"conditional_answer_accuracy\").cast(pl.Float32, strict=False),\n",
    "    )\n",
    "    .sort(pl.col(\"answer_accuracy\"), descending=True)\n",
    ")\n",
    "df"
   ]
  },
  {
   "cell_type": "code",
   "execution_count": 3,
   "metadata": {},
   "outputs": [],
   "source": [
    "terms = [\n",
    "    \"min_lot_size\",\n",
    "    \"min_unit_size\",\n",
    "    \"max_height\",\n",
    "    \"max_lot_coverage\",\n",
    "    \"max_lot_coverage_pavement\",\n",
    "    \"min_parking_spaces\",\n",
    "]"
   ]
  },
  {
   "cell_type": "code",
   "execution_count": 4,
   "metadata": {},
   "outputs": [
    {
     "name": "stderr",
     "output_type": "stream",
     "text": [
      "/var/folders/pg/t0tz6xss5qddq7q6kvltyp5c0000gn/T/ipykernel_63809/3546865340.py:7: DeprecationWarning: Behavior for `lit` will change for sequence inputs. The result will change to be a literal of type List. To retain the old behavior, pass a Series instead, e.g. `Series(sequence)`.\n",
      "  .filter(pl.col(\"term\").is_in(pl.lit(terms)))\n"
     ]
    },
    {
     "data": {
      "text/html": [
       "<div><style>\n",
       ".dataframe > thead > tr > th,\n",
       ".dataframe > tbody > tr > td {\n",
       "  text-align: right;\n",
       "}\n",
       "</style>\n",
       "<small>shape: (2_880, 13)</small><table border=\"1\" class=\"dataframe\"><thead><tr><th>rev</th><th>Experiment</th><th>Created</th><th>typ</th><th>parent</th><th>eval.num-eval-rows</th><th>eval.search-method</th><th>eval.extraction-method</th><th>eval.k</th><th>variable</th><th>value</th><th>term</th><th>term_variable</th></tr><tr><td>str</td><td>str</td><td>str</td><td>str</td><td>str</td><td>i64</td><td>str</td><td>str</td><td>i64</td><td>str</td><td>str</td><td>str</td><td>str</td></tr></thead><tbody><tr><td>&quot;adaa401&quot;</td><td>null</td><td>&quot;2023-08-21T20:…</td><td>&quot;baseline&quot;</td><td>null</td><td>10</td><td>&quot;embeddings_knn…</td><td>&quot;map&quot;</td><td>16</td><td>&quot;max_height.ans…</td><td>&quot;1.0&quot;</td><td>&quot;max_height&quot;</td><td>&quot;answer_accurac…</td></tr><tr><td>&quot;master&quot;</td><td>null</td><td>&quot;2023-08-25T10:…</td><td>&quot;baseline&quot;</td><td>null</td><td>10</td><td>&quot;elasticsearch&quot;</td><td>&quot;map&quot;</td><td>12</td><td>&quot;max_height.ans…</td><td>&quot;1.0&quot;</td><td>&quot;max_height&quot;</td><td>&quot;answer_accurac…</td></tr><tr><td>&quot;c67cc3f&quot;</td><td>null</td><td>&quot;2023-08-25T10:…</td><td>&quot;baseline&quot;</td><td>null</td><td>10</td><td>&quot;elasticsearch&quot;</td><td>&quot;map&quot;</td><td>12</td><td>&quot;max_height.ans…</td><td>&quot;1.0&quot;</td><td>&quot;max_height&quot;</td><td>&quot;answer_accurac…</td></tr><tr><td>&quot;9ef0240&quot;</td><td>null</td><td>&quot;2023-08-25T10:…</td><td>&quot;baseline&quot;</td><td>null</td><td>10</td><td>&quot;elasticsearch&quot;</td><td>&quot;map&quot;</td><td>12</td><td>&quot;max_height.ans…</td><td>&quot;1.0&quot;</td><td>&quot;max_height&quot;</td><td>&quot;answer_accurac…</td></tr><tr><td>&quot;66b94c6&quot;</td><td>null</td><td>&quot;2023-08-21T19:…</td><td>&quot;baseline&quot;</td><td>null</td><td>10</td><td>&quot;embeddings_knn…</td><td>&quot;map&quot;</td><td>6</td><td>&quot;max_height.ans…</td><td>&quot;0.9&quot;</td><td>&quot;max_height&quot;</td><td>&quot;answer_accurac…</td></tr><tr><td>&quot;workspace&quot;</td><td>null</td><td>null</td><td>&quot;baseline&quot;</td><td>null</td><td>10</td><td>&quot;elasticsearch&quot;</td><td>&quot;map&quot;</td><td>12</td><td>&quot;max_height.ans…</td><td>&quot;0.9&quot;</td><td>&quot;max_height&quot;</td><td>&quot;answer_accurac…</td></tr><tr><td>&quot;237374a&quot;</td><td>&quot;lated-tart&quot;</td><td>&quot;2023-09-20T15:…</td><td>&quot;branch_base&quot;</td><td>null</td><td>10</td><td>&quot;elasticsearch&quot;</td><td>&quot;map&quot;</td><td>12</td><td>&quot;max_height.ans…</td><td>&quot;0.9&quot;</td><td>&quot;max_height&quot;</td><td>&quot;answer_accurac…</td></tr><tr><td>&quot;241aa7b&quot;</td><td>null</td><td>&quot;2023-08-21T19:…</td><td>&quot;baseline&quot;</td><td>null</td><td>10</td><td>&quot;elasticsearch&quot;</td><td>&quot;map&quot;</td><td>6</td><td>&quot;max_height.ans…</td><td>&quot;0.9&quot;</td><td>&quot;max_height&quot;</td><td>&quot;answer_accurac…</td></tr><tr><td>&quot;f0134e1&quot;</td><td>null</td><td>&quot;2023-08-21T19:…</td><td>&quot;baseline&quot;</td><td>null</td><td>10</td><td>&quot;elasticsearch&quot;</td><td>&quot;tournament_red…</td><td>6</td><td>&quot;max_height.ans…</td><td>&quot;0.875&quot;</td><td>&quot;max_height&quot;</td><td>&quot;answer_accurac…</td></tr><tr><td>&quot;c8abaa3&quot;</td><td>null</td><td>&quot;2023-05-02T17:…</td><td>&quot;baseline&quot;</td><td>null</td><td>null</td><td>null</td><td>null</td><td>null</td><td>&quot;max_height.ans…</td><td>null</td><td>&quot;max_height&quot;</td><td>&quot;answer_accurac…</td></tr><tr><td>&quot;80c8189&quot;</td><td>null</td><td>&quot;2023-08-21T21:…</td><td>&quot;baseline&quot;</td><td>null</td><td>10</td><td>&quot;embeddings_knn…</td><td>&quot;tournament_red…</td><td>16</td><td>&quot;max_height.ans…</td><td>&quot;0.8&quot;</td><td>&quot;max_height&quot;</td><td>&quot;answer_accurac…</td></tr><tr><td>&quot;663e478&quot;</td><td>null</td><td>&quot;2023-05-02T15:…</td><td>&quot;baseline&quot;</td><td>null</td><td>null</td><td>null</td><td>null</td><td>null</td><td>&quot;max_height.ans…</td><td>null</td><td>&quot;max_height&quot;</td><td>&quot;answer_accurac…</td></tr><tr><td>&hellip;</td><td>&hellip;</td><td>&hellip;</td><td>&hellip;</td><td>&hellip;</td><td>&hellip;</td><td>&hellip;</td><td>&hellip;</td><td>&hellip;</td><td>&hellip;</td><td>&hellip;</td><td>&hellip;</td><td>&hellip;</td></tr><tr><td>&quot;d1adcd4&quot;</td><td>null</td><td>&quot;2023-05-03T11:…</td><td>&quot;baseline&quot;</td><td>null</td><td>null</td><td>null</td><td>null</td><td>null</td><td>&quot;min_unit_size.…</td><td>&quot;!&quot;</td><td>&quot;min_unit_size&quot;</td><td>&quot;page_extract_r…</td></tr><tr><td>&quot;6b3d1bf&quot;</td><td>null</td><td>&quot;2023-05-03T12:…</td><td>&quot;baseline&quot;</td><td>null</td><td>null</td><td>null</td><td>null</td><td>null</td><td>&quot;min_unit_size.…</td><td>&quot;!&quot;</td><td>&quot;min_unit_size&quot;</td><td>&quot;page_extract_r…</td></tr><tr><td>&quot;b6219e8&quot;</td><td>null</td><td>&quot;2023-07-28T08:…</td><td>&quot;baseline&quot;</td><td>null</td><td>null</td><td>null</td><td>null</td><td>null</td><td>&quot;min_unit_size.…</td><td>&quot;!&quot;</td><td>&quot;min_unit_size&quot;</td><td>&quot;page_extract_r…</td></tr><tr><td>&quot;1ff54ca&quot;</td><td>null</td><td>&quot;2023-07-28T09:…</td><td>&quot;baseline&quot;</td><td>null</td><td>null</td><td>null</td><td>null</td><td>null</td><td>&quot;min_unit_size.…</td><td>&quot;!&quot;</td><td>&quot;min_unit_size&quot;</td><td>&quot;page_extract_r…</td></tr><tr><td>&quot;9fc7c77&quot;</td><td>null</td><td>&quot;2023-07-28T09:…</td><td>&quot;baseline&quot;</td><td>null</td><td>null</td><td>null</td><td>null</td><td>null</td><td>&quot;min_unit_size.…</td><td>&quot;!&quot;</td><td>&quot;min_unit_size&quot;</td><td>&quot;page_extract_r…</td></tr><tr><td>&quot;b6f0e07&quot;</td><td>null</td><td>&quot;2023-08-01T10:…</td><td>&quot;baseline&quot;</td><td>null</td><td>null</td><td>null</td><td>null</td><td>null</td><td>&quot;min_unit_size.…</td><td>&quot;!&quot;</td><td>&quot;min_unit_size&quot;</td><td>&quot;page_extract_r…</td></tr><tr><td>&quot;69f2010&quot;</td><td>null</td><td>&quot;2023-08-01T12:…</td><td>&quot;baseline&quot;</td><td>null</td><td>null</td><td>null</td><td>null</td><td>null</td><td>&quot;min_unit_size.…</td><td>&quot;!&quot;</td><td>&quot;min_unit_size&quot;</td><td>&quot;page_extract_r…</td></tr><tr><td>&quot;39a49c2&quot;</td><td>null</td><td>&quot;2023-08-03T15:…</td><td>&quot;baseline&quot;</td><td>null</td><td>null</td><td>null</td><td>null</td><td>null</td><td>&quot;min_unit_size.…</td><td>&quot;!&quot;</td><td>&quot;min_unit_size&quot;</td><td>&quot;page_extract_r…</td></tr><tr><td>&quot;1534763&quot;</td><td>null</td><td>&quot;2023-08-03T15:…</td><td>&quot;baseline&quot;</td><td>null</td><td>null</td><td>null</td><td>null</td><td>null</td><td>&quot;min_unit_size.…</td><td>&quot;!&quot;</td><td>&quot;min_unit_size&quot;</td><td>&quot;page_extract_r…</td></tr><tr><td>&quot;2fb8531&quot;</td><td>null</td><td>&quot;2023-08-04T08:…</td><td>&quot;baseline&quot;</td><td>null</td><td>null</td><td>null</td><td>null</td><td>null</td><td>&quot;min_unit_size.…</td><td>&quot;!&quot;</td><td>&quot;min_unit_size&quot;</td><td>&quot;page_extract_r…</td></tr><tr><td>&quot;8e52cfc&quot;</td><td>null</td><td>&quot;2023-08-04T11:…</td><td>&quot;baseline&quot;</td><td>null</td><td>null</td><td>null</td><td>null</td><td>null</td><td>&quot;min_unit_size.…</td><td>&quot;!&quot;</td><td>&quot;min_unit_size&quot;</td><td>&quot;page_extract_r…</td></tr><tr><td>&quot;bb0ce1f&quot;</td><td>null</td><td>&quot;2023-08-14T20:…</td><td>&quot;baseline&quot;</td><td>null</td><td>null</td><td>null</td><td>null</td><td>null</td><td>&quot;min_unit_size.…</td><td>&quot;!&quot;</td><td>&quot;min_unit_size&quot;</td><td>&quot;page_extract_r…</td></tr></tbody></table></div>"
      ],
      "text/plain": [
       "shape: (2_880, 13)\n",
       "┌─────────┬────────────┬─────────────┬──────────┬───┬────────────┬───────┬────────────┬────────────┐\n",
       "│ rev     ┆ Experiment ┆ Created     ┆ typ      ┆ … ┆ variable   ┆ value ┆ term       ┆ term_varia │\n",
       "│ ---     ┆ ---        ┆ ---         ┆ ---      ┆   ┆ ---        ┆ ---   ┆ ---        ┆ ble        │\n",
       "│ str     ┆ str        ┆ str         ┆ str      ┆   ┆ str        ┆ str   ┆ str        ┆ ---        │\n",
       "│         ┆            ┆             ┆          ┆   ┆            ┆       ┆            ┆ str        │\n",
       "╞═════════╪════════════╪═════════════╪══════════╪═══╪════════════╪═══════╪════════════╪════════════╡\n",
       "│ adaa401 ┆ null       ┆ 2023-08-21T ┆ baseline ┆ … ┆ max_height ┆ 1.0   ┆ max_height ┆ answer_acc │\n",
       "│         ┆            ┆ 20:13:41    ┆          ┆   ┆ .answer_ac ┆       ┆            ┆ uracy      │\n",
       "│         ┆            ┆             ┆          ┆   ┆ curacy     ┆       ┆            ┆            │\n",
       "│ master  ┆ null       ┆ 2023-08-25T ┆ baseline ┆ … ┆ max_height ┆ 1.0   ┆ max_height ┆ answer_acc │\n",
       "│         ┆            ┆ 10:35:22    ┆          ┆   ┆ .answer_ac ┆       ┆            ┆ uracy      │\n",
       "│         ┆            ┆             ┆          ┆   ┆ curacy     ┆       ┆            ┆            │\n",
       "│ c67cc3f ┆ null       ┆ 2023-08-25T ┆ baseline ┆ … ┆ max_height ┆ 1.0   ┆ max_height ┆ answer_acc │\n",
       "│         ┆            ┆ 10:33:01    ┆          ┆   ┆ .answer_ac ┆       ┆            ┆ uracy      │\n",
       "│         ┆            ┆             ┆          ┆   ┆ curacy     ┆       ┆            ┆            │\n",
       "│ 9ef0240 ┆ null       ┆ 2023-08-25T ┆ baseline ┆ … ┆ max_height ┆ 1.0   ┆ max_height ┆ answer_acc │\n",
       "│         ┆            ┆ 10:25:55    ┆          ┆   ┆ .answer_ac ┆       ┆            ┆ uracy      │\n",
       "│         ┆            ┆             ┆          ┆   ┆ curacy     ┆       ┆            ┆            │\n",
       "│ …       ┆ …          ┆ …           ┆ …        ┆ … ┆ …          ┆ …     ┆ …          ┆ …          │\n",
       "│ 1534763 ┆ null       ┆ 2023-08-03T ┆ baseline ┆ … ┆ min_unit_s ┆ !     ┆ min_unit_s ┆ page_extra │\n",
       "│         ┆            ┆ 15:59:15    ┆          ┆   ┆ ize.page_e ┆       ┆ ize        ┆ ct_recall  │\n",
       "│         ┆            ┆             ┆          ┆   ┆ xtract_rec ┆       ┆            ┆            │\n",
       "│         ┆            ┆             ┆          ┆   ┆ al…        ┆       ┆            ┆            │\n",
       "│ 2fb8531 ┆ null       ┆ 2023-08-04T ┆ baseline ┆ … ┆ min_unit_s ┆ !     ┆ min_unit_s ┆ page_extra │\n",
       "│         ┆            ┆ 08:57:26    ┆          ┆   ┆ ize.page_e ┆       ┆ ize        ┆ ct_recall  │\n",
       "│         ┆            ┆             ┆          ┆   ┆ xtract_rec ┆       ┆            ┆            │\n",
       "│         ┆            ┆             ┆          ┆   ┆ al…        ┆       ┆            ┆            │\n",
       "│ 8e52cfc ┆ null       ┆ 2023-08-04T ┆ baseline ┆ … ┆ min_unit_s ┆ !     ┆ min_unit_s ┆ page_extra │\n",
       "│         ┆            ┆ 11:05:12    ┆          ┆   ┆ ize.page_e ┆       ┆ ize        ┆ ct_recall  │\n",
       "│         ┆            ┆             ┆          ┆   ┆ xtract_rec ┆       ┆            ┆            │\n",
       "│         ┆            ┆             ┆          ┆   ┆ al…        ┆       ┆            ┆            │\n",
       "│ bb0ce1f ┆ null       ┆ 2023-08-14T ┆ baseline ┆ … ┆ min_unit_s ┆ !     ┆ min_unit_s ┆ page_extra │\n",
       "│         ┆            ┆ 20:34:22    ┆          ┆   ┆ ize.page_e ┆       ┆ ize        ┆ ct_recall  │\n",
       "│         ┆            ┆             ┆          ┆   ┆ xtract_rec ┆       ┆            ┆            │\n",
       "│         ┆            ┆             ┆          ┆   ┆ al…        ┆       ┆            ┆            │\n",
       "└─────────┴────────────┴─────────────┴──────────┴───┴────────────┴───────┴────────────┴────────────┘"
      ]
     },
     "execution_count": 4,
     "metadata": {},
     "output_type": "execute_result"
    }
   ],
   "source": [
    "df_terms = (\n",
    "    df.melt(id_vars=[\"rev\", \"Experiment\", \"Created\", \"typ\", \"parent\", \"eval.num-eval-rows\", \"eval.search-method\", \"eval.extraction-method\", \"eval.k\"])\n",
    "    .with_columns(\n",
    "        pl.col(\"variable\").str.extract(r\"^(\\w+)\\.\\w+$\").alias(\"term\"),\n",
    "        pl.col(\"variable\").str.extract(r\"^\\w+\\.(\\w+$)\").alias(\"term_variable\"),\n",
    "    )\n",
    "    .filter(pl.col(\"term\").is_in(pl.lit(terms)))\n",
    ")\n",
    "df_terms"
   ]
  },
  {
   "cell_type": "code",
   "execution_count": 5,
   "metadata": {},
   "outputs": [
    {
     "data": {
      "text/html": [
       "<div><style>\n",
       ".dataframe > thead > tr > th,\n",
       ".dataframe > tbody > tr > td {\n",
       "  text-align: right;\n",
       "}\n",
       "</style>\n",
       "<small>shape: (360, 13)</small><table border=\"1\" class=\"dataframe\"><thead><tr><th>rev</th><th>Experiment</th><th>Created</th><th>typ</th><th>parent</th><th>eval.num-eval-rows</th><th>eval.search-method</th><th>eval.extraction-method</th><th>eval.k</th><th>variable</th><th>value</th><th>term</th><th>term_variable</th></tr><tr><td>str</td><td>str</td><td>str</td><td>str</td><td>str</td><td>i64</td><td>str</td><td>str</td><td>i64</td><td>str</td><td>f32</td><td>str</td><td>str</td></tr></thead><tbody><tr><td>&quot;adaa401&quot;</td><td>null</td><td>&quot;2023-08-21T20:…</td><td>&quot;baseline&quot;</td><td>null</td><td>10</td><td>&quot;embeddings_knn…</td><td>&quot;map&quot;</td><td>16</td><td>&quot;max_height.ans…</td><td>1.0</td><td>&quot;max_height&quot;</td><td>&quot;answer_accurac…</td></tr><tr><td>&quot;master&quot;</td><td>null</td><td>&quot;2023-08-25T10:…</td><td>&quot;baseline&quot;</td><td>null</td><td>10</td><td>&quot;elasticsearch&quot;</td><td>&quot;map&quot;</td><td>12</td><td>&quot;max_height.ans…</td><td>1.0</td><td>&quot;max_height&quot;</td><td>&quot;answer_accurac…</td></tr><tr><td>&quot;c67cc3f&quot;</td><td>null</td><td>&quot;2023-08-25T10:…</td><td>&quot;baseline&quot;</td><td>null</td><td>10</td><td>&quot;elasticsearch&quot;</td><td>&quot;map&quot;</td><td>12</td><td>&quot;max_height.ans…</td><td>1.0</td><td>&quot;max_height&quot;</td><td>&quot;answer_accurac…</td></tr><tr><td>&quot;9ef0240&quot;</td><td>null</td><td>&quot;2023-08-25T10:…</td><td>&quot;baseline&quot;</td><td>null</td><td>10</td><td>&quot;elasticsearch&quot;</td><td>&quot;map&quot;</td><td>12</td><td>&quot;max_height.ans…</td><td>1.0</td><td>&quot;max_height&quot;</td><td>&quot;answer_accurac…</td></tr><tr><td>&quot;66b94c6&quot;</td><td>null</td><td>&quot;2023-08-21T19:…</td><td>&quot;baseline&quot;</td><td>null</td><td>10</td><td>&quot;embeddings_knn…</td><td>&quot;map&quot;</td><td>6</td><td>&quot;max_height.ans…</td><td>0.9</td><td>&quot;max_height&quot;</td><td>&quot;answer_accurac…</td></tr><tr><td>&quot;workspace&quot;</td><td>null</td><td>null</td><td>&quot;baseline&quot;</td><td>null</td><td>10</td><td>&quot;elasticsearch&quot;</td><td>&quot;map&quot;</td><td>12</td><td>&quot;max_height.ans…</td><td>0.9</td><td>&quot;max_height&quot;</td><td>&quot;answer_accurac…</td></tr><tr><td>&quot;237374a&quot;</td><td>&quot;lated-tart&quot;</td><td>&quot;2023-09-20T15:…</td><td>&quot;branch_base&quot;</td><td>null</td><td>10</td><td>&quot;elasticsearch&quot;</td><td>&quot;map&quot;</td><td>12</td><td>&quot;max_height.ans…</td><td>0.9</td><td>&quot;max_height&quot;</td><td>&quot;answer_accurac…</td></tr><tr><td>&quot;241aa7b&quot;</td><td>null</td><td>&quot;2023-08-21T19:…</td><td>&quot;baseline&quot;</td><td>null</td><td>10</td><td>&quot;elasticsearch&quot;</td><td>&quot;map&quot;</td><td>6</td><td>&quot;max_height.ans…</td><td>0.9</td><td>&quot;max_height&quot;</td><td>&quot;answer_accurac…</td></tr><tr><td>&quot;f0134e1&quot;</td><td>null</td><td>&quot;2023-08-21T19:…</td><td>&quot;baseline&quot;</td><td>null</td><td>10</td><td>&quot;elasticsearch&quot;</td><td>&quot;tournament_red…</td><td>6</td><td>&quot;max_height.ans…</td><td>0.875</td><td>&quot;max_height&quot;</td><td>&quot;answer_accurac…</td></tr><tr><td>&quot;c8abaa3&quot;</td><td>null</td><td>&quot;2023-05-02T17:…</td><td>&quot;baseline&quot;</td><td>null</td><td>null</td><td>null</td><td>null</td><td>null</td><td>&quot;max_height.ans…</td><td>null</td><td>&quot;max_height&quot;</td><td>&quot;answer_accurac…</td></tr><tr><td>&quot;80c8189&quot;</td><td>null</td><td>&quot;2023-08-21T21:…</td><td>&quot;baseline&quot;</td><td>null</td><td>10</td><td>&quot;embeddings_knn…</td><td>&quot;tournament_red…</td><td>16</td><td>&quot;max_height.ans…</td><td>0.8</td><td>&quot;max_height&quot;</td><td>&quot;answer_accurac…</td></tr><tr><td>&quot;663e478&quot;</td><td>null</td><td>&quot;2023-05-02T15:…</td><td>&quot;baseline&quot;</td><td>null</td><td>null</td><td>null</td><td>null</td><td>null</td><td>&quot;max_height.ans…</td><td>null</td><td>&quot;max_height&quot;</td><td>&quot;answer_accurac…</td></tr><tr><td>&hellip;</td><td>&hellip;</td><td>&hellip;</td><td>&hellip;</td><td>&hellip;</td><td>&hellip;</td><td>&hellip;</td><td>&hellip;</td><td>&hellip;</td><td>&hellip;</td><td>&hellip;</td><td>&hellip;</td><td>&hellip;</td></tr><tr><td>&quot;d1adcd4&quot;</td><td>null</td><td>&quot;2023-05-03T11:…</td><td>&quot;baseline&quot;</td><td>null</td><td>null</td><td>null</td><td>null</td><td>null</td><td>&quot;min_unit_size.…</td><td>null</td><td>&quot;min_unit_size&quot;</td><td>&quot;answer_accurac…</td></tr><tr><td>&quot;6b3d1bf&quot;</td><td>null</td><td>&quot;2023-05-03T12:…</td><td>&quot;baseline&quot;</td><td>null</td><td>null</td><td>null</td><td>null</td><td>null</td><td>&quot;min_unit_size.…</td><td>null</td><td>&quot;min_unit_size&quot;</td><td>&quot;answer_accurac…</td></tr><tr><td>&quot;b6219e8&quot;</td><td>null</td><td>&quot;2023-07-28T08:…</td><td>&quot;baseline&quot;</td><td>null</td><td>null</td><td>null</td><td>null</td><td>null</td><td>&quot;min_unit_size.…</td><td>null</td><td>&quot;min_unit_size&quot;</td><td>&quot;answer_accurac…</td></tr><tr><td>&quot;1ff54ca&quot;</td><td>null</td><td>&quot;2023-07-28T09:…</td><td>&quot;baseline&quot;</td><td>null</td><td>null</td><td>null</td><td>null</td><td>null</td><td>&quot;min_unit_size.…</td><td>null</td><td>&quot;min_unit_size&quot;</td><td>&quot;answer_accurac…</td></tr><tr><td>&quot;9fc7c77&quot;</td><td>null</td><td>&quot;2023-07-28T09:…</td><td>&quot;baseline&quot;</td><td>null</td><td>null</td><td>null</td><td>null</td><td>null</td><td>&quot;min_unit_size.…</td><td>null</td><td>&quot;min_unit_size&quot;</td><td>&quot;answer_accurac…</td></tr><tr><td>&quot;b6f0e07&quot;</td><td>null</td><td>&quot;2023-08-01T10:…</td><td>&quot;baseline&quot;</td><td>null</td><td>null</td><td>null</td><td>null</td><td>null</td><td>&quot;min_unit_size.…</td><td>null</td><td>&quot;min_unit_size&quot;</td><td>&quot;answer_accurac…</td></tr><tr><td>&quot;69f2010&quot;</td><td>null</td><td>&quot;2023-08-01T12:…</td><td>&quot;baseline&quot;</td><td>null</td><td>null</td><td>null</td><td>null</td><td>null</td><td>&quot;min_unit_size.…</td><td>null</td><td>&quot;min_unit_size&quot;</td><td>&quot;answer_accurac…</td></tr><tr><td>&quot;39a49c2&quot;</td><td>null</td><td>&quot;2023-08-03T15:…</td><td>&quot;baseline&quot;</td><td>null</td><td>null</td><td>null</td><td>null</td><td>null</td><td>&quot;min_unit_size.…</td><td>null</td><td>&quot;min_unit_size&quot;</td><td>&quot;answer_accurac…</td></tr><tr><td>&quot;1534763&quot;</td><td>null</td><td>&quot;2023-08-03T15:…</td><td>&quot;baseline&quot;</td><td>null</td><td>null</td><td>null</td><td>null</td><td>null</td><td>&quot;min_unit_size.…</td><td>null</td><td>&quot;min_unit_size&quot;</td><td>&quot;answer_accurac…</td></tr><tr><td>&quot;2fb8531&quot;</td><td>null</td><td>&quot;2023-08-04T08:…</td><td>&quot;baseline&quot;</td><td>null</td><td>null</td><td>null</td><td>null</td><td>null</td><td>&quot;min_unit_size.…</td><td>null</td><td>&quot;min_unit_size&quot;</td><td>&quot;answer_accurac…</td></tr><tr><td>&quot;8e52cfc&quot;</td><td>null</td><td>&quot;2023-08-04T11:…</td><td>&quot;baseline&quot;</td><td>null</td><td>null</td><td>null</td><td>null</td><td>null</td><td>&quot;min_unit_size.…</td><td>null</td><td>&quot;min_unit_size&quot;</td><td>&quot;answer_accurac…</td></tr><tr><td>&quot;bb0ce1f&quot;</td><td>null</td><td>&quot;2023-08-14T20:…</td><td>&quot;baseline&quot;</td><td>null</td><td>null</td><td>null</td><td>null</td><td>null</td><td>&quot;min_unit_size.…</td><td>null</td><td>&quot;min_unit_size&quot;</td><td>&quot;answer_accurac…</td></tr></tbody></table></div>"
      ],
      "text/plain": [
       "shape: (360, 13)\n",
       "┌─────────┬────────────┬─────────────┬──────────┬───┬────────────┬───────┬────────────┬────────────┐\n",
       "│ rev     ┆ Experiment ┆ Created     ┆ typ      ┆ … ┆ variable   ┆ value ┆ term       ┆ term_varia │\n",
       "│ ---     ┆ ---        ┆ ---         ┆ ---      ┆   ┆ ---        ┆ ---   ┆ ---        ┆ ble        │\n",
       "│ str     ┆ str        ┆ str         ┆ str      ┆   ┆ str        ┆ f32   ┆ str        ┆ ---        │\n",
       "│         ┆            ┆             ┆          ┆   ┆            ┆       ┆            ┆ str        │\n",
       "╞═════════╪════════════╪═════════════╪══════════╪═══╪════════════╪═══════╪════════════╪════════════╡\n",
       "│ adaa401 ┆ null       ┆ 2023-08-21T ┆ baseline ┆ … ┆ max_height ┆ 1.0   ┆ max_height ┆ answer_acc │\n",
       "│         ┆            ┆ 20:13:41    ┆          ┆   ┆ .answer_ac ┆       ┆            ┆ uracy      │\n",
       "│         ┆            ┆             ┆          ┆   ┆ curacy     ┆       ┆            ┆            │\n",
       "│ master  ┆ null       ┆ 2023-08-25T ┆ baseline ┆ … ┆ max_height ┆ 1.0   ┆ max_height ┆ answer_acc │\n",
       "│         ┆            ┆ 10:35:22    ┆          ┆   ┆ .answer_ac ┆       ┆            ┆ uracy      │\n",
       "│         ┆            ┆             ┆          ┆   ┆ curacy     ┆       ┆            ┆            │\n",
       "│ c67cc3f ┆ null       ┆ 2023-08-25T ┆ baseline ┆ … ┆ max_height ┆ 1.0   ┆ max_height ┆ answer_acc │\n",
       "│         ┆            ┆ 10:33:01    ┆          ┆   ┆ .answer_ac ┆       ┆            ┆ uracy      │\n",
       "│         ┆            ┆             ┆          ┆   ┆ curacy     ┆       ┆            ┆            │\n",
       "│ 9ef0240 ┆ null       ┆ 2023-08-25T ┆ baseline ┆ … ┆ max_height ┆ 1.0   ┆ max_height ┆ answer_acc │\n",
       "│         ┆            ┆ 10:25:55    ┆          ┆   ┆ .answer_ac ┆       ┆            ┆ uracy      │\n",
       "│         ┆            ┆             ┆          ┆   ┆ curacy     ┆       ┆            ┆            │\n",
       "│ …       ┆ …          ┆ …           ┆ …        ┆ … ┆ …          ┆ …     ┆ …          ┆ …          │\n",
       "│ 1534763 ┆ null       ┆ 2023-08-03T ┆ baseline ┆ … ┆ min_unit_s ┆ null  ┆ min_unit_s ┆ answer_acc │\n",
       "│         ┆            ┆ 15:59:15    ┆          ┆   ┆ ize.answer ┆       ┆ ize        ┆ uracy      │\n",
       "│         ┆            ┆             ┆          ┆   ┆ _accuracy  ┆       ┆            ┆            │\n",
       "│ 2fb8531 ┆ null       ┆ 2023-08-04T ┆ baseline ┆ … ┆ min_unit_s ┆ null  ┆ min_unit_s ┆ answer_acc │\n",
       "│         ┆            ┆ 08:57:26    ┆          ┆   ┆ ize.answer ┆       ┆ ize        ┆ uracy      │\n",
       "│         ┆            ┆             ┆          ┆   ┆ _accuracy  ┆       ┆            ┆            │\n",
       "│ 8e52cfc ┆ null       ┆ 2023-08-04T ┆ baseline ┆ … ┆ min_unit_s ┆ null  ┆ min_unit_s ┆ answer_acc │\n",
       "│         ┆            ┆ 11:05:12    ┆          ┆   ┆ ize.answer ┆       ┆ ize        ┆ uracy      │\n",
       "│         ┆            ┆             ┆          ┆   ┆ _accuracy  ┆       ┆            ┆            │\n",
       "│ bb0ce1f ┆ null       ┆ 2023-08-14T ┆ baseline ┆ … ┆ min_unit_s ┆ null  ┆ min_unit_s ┆ answer_acc │\n",
       "│         ┆            ┆ 20:34:22    ┆          ┆   ┆ ize.answer ┆       ┆ ize        ┆ uracy      │\n",
       "│         ┆            ┆             ┆          ┆   ┆ _accuracy  ┆       ┆            ┆            │\n",
       "└─────────┴────────────┴─────────────┴──────────┴───┴────────────┴───────┴────────────┴────────────┘"
      ]
     },
     "execution_count": 5,
     "metadata": {},
     "output_type": "execute_result"
    }
   ],
   "source": [
    "df_terms.filter(pl.col(\"term_variable\") == \"answer_accuracy\").with_columns(pl.col(\"value\").cast(pl.Float32, strict=False))"
   ]
  },
  {
   "cell_type": "code",
   "execution_count": 6,
   "metadata": {},
   "outputs": [
    {
     "data": {
      "application/vnd.plotly.v1+json": {
       "config": {
        "plotlyServerURL": "https://plot.ly"
       },
       "data": [
        {
         "alignmentgroup": "True",
         "hovertemplate": "term=max_height<br>eval.search-method=embeddings_knn<br>value=%{x}<extra></extra>",
         "legendgroup": "max_height",
         "marker": {
          "color": "#636efa"
         },
         "name": "max_height",
         "notched": false,
         "offsetgroup": "max_height",
         "orientation": "h",
         "showlegend": true,
         "type": "box",
         "x": [
          1,
          0.9,
          0.8
         ],
         "x0": " ",
         "xaxis": "x",
         "y0": " ",
         "yaxis": "y"
        },
        {
         "alignmentgroup": "True",
         "hovertemplate": "term=max_height<br>eval.search-method=elasticsearch<br>value=%{x}<extra></extra>",
         "legendgroup": "max_height",
         "marker": {
          "color": "#636efa"
         },
         "name": "max_height",
         "notched": false,
         "offsetgroup": "max_height",
         "orientation": "h",
         "showlegend": false,
         "type": "box",
         "x": [
          1,
          1,
          1,
          0.9,
          0.9,
          0.9,
          0.875
         ],
         "x0": " ",
         "xaxis": "x2",
         "y0": " ",
         "yaxis": "y2"
        },
        {
         "alignmentgroup": "True",
         "hovertemplate": "term=max_lot_coverage<br>eval.search-method=embeddings_knn<br>value=%{x}<extra></extra>",
         "legendgroup": "max_lot_coverage",
         "marker": {
          "color": "#EF553B"
         },
         "name": "max_lot_coverage",
         "notched": false,
         "offsetgroup": "max_lot_coverage",
         "orientation": "h",
         "showlegend": true,
         "type": "box",
         "x": [
          0.9,
          0.9,
          0.42857143
         ],
         "x0": " ",
         "xaxis": "x",
         "y0": " ",
         "yaxis": "y"
        },
        {
         "alignmentgroup": "True",
         "hovertemplate": "term=max_lot_coverage<br>eval.search-method=elasticsearch<br>value=%{x}<extra></extra>",
         "legendgroup": "max_lot_coverage",
         "marker": {
          "color": "#EF553B"
         },
         "name": "max_lot_coverage",
         "notched": false,
         "offsetgroup": "max_lot_coverage",
         "orientation": "h",
         "showlegend": false,
         "type": "box",
         "x": [
          0.9,
          0.9,
          0.9,
          0.6666667,
          0.6666667,
          0.6666667,
          0.5
         ],
         "x0": " ",
         "xaxis": "x2",
         "y0": " ",
         "yaxis": "y2"
        },
        {
         "alignmentgroup": "True",
         "hovertemplate": "term=max_lot_coverage_pavement<br>eval.search-method=embeddings_knn<br>value=%{x}<extra></extra>",
         "legendgroup": "max_lot_coverage_pavement",
         "marker": {
          "color": "#00cc96"
         },
         "name": "max_lot_coverage_pavement",
         "notched": false,
         "offsetgroup": "max_lot_coverage_pavement",
         "orientation": "h",
         "showlegend": true,
         "type": "box",
         "x": [
          0.7,
          0.6,
          0.625
         ],
         "x0": " ",
         "xaxis": "x",
         "y0": " ",
         "yaxis": "y"
        },
        {
         "alignmentgroup": "True",
         "hovertemplate": "term=max_lot_coverage_pavement<br>eval.search-method=elasticsearch<br>value=%{x}<extra></extra>",
         "legendgroup": "max_lot_coverage_pavement",
         "marker": {
          "color": "#00cc96"
         },
         "name": "max_lot_coverage_pavement",
         "notched": false,
         "offsetgroup": "max_lot_coverage_pavement",
         "orientation": "h",
         "showlegend": false,
         "type": "box",
         "x": [
          0.6,
          0.6,
          0.6,
          0.6666667,
          0.6666667,
          0.5555556,
          0.6666667
         ],
         "x0": " ",
         "xaxis": "x2",
         "y0": " ",
         "yaxis": "y2"
        },
        {
         "alignmentgroup": "True",
         "hovertemplate": "term=min_lot_size<br>eval.search-method=embeddings_knn<br>value=%{x}<extra></extra>",
         "legendgroup": "min_lot_size",
         "marker": {
          "color": "#ab63fa"
         },
         "name": "min_lot_size",
         "notched": false,
         "offsetgroup": "min_lot_size",
         "orientation": "h",
         "showlegend": true,
         "type": "box",
         "x": [
          0.7,
          0.7,
          0.42857143
         ],
         "x0": " ",
         "xaxis": "x",
         "y0": " ",
         "yaxis": "y"
        },
        {
         "alignmentgroup": "True",
         "hovertemplate": "term=min_lot_size<br>eval.search-method=elasticsearch<br>value=%{x}<extra></extra>",
         "legendgroup": "min_lot_size",
         "marker": {
          "color": "#ab63fa"
         },
         "name": "min_lot_size",
         "notched": false,
         "offsetgroup": "min_lot_size",
         "orientation": "h",
         "showlegend": false,
         "type": "box",
         "x": [
          0.7,
          0.7,
          0.7,
          0.8,
          0.8,
          0.8,
          0.6666667
         ],
         "x0": " ",
         "xaxis": "x2",
         "y0": " ",
         "yaxis": "y2"
        },
        {
         "alignmentgroup": "True",
         "hovertemplate": "term=min_parking_spaces<br>eval.search-method=embeddings_knn<br>value=%{x}<extra></extra>",
         "legendgroup": "min_parking_spaces",
         "marker": {
          "color": "#FFA15A"
         },
         "name": "min_parking_spaces",
         "notched": false,
         "offsetgroup": "min_parking_spaces",
         "orientation": "h",
         "showlegend": true,
         "type": "box",
         "x": [
          0.6,
          0.3,
          0.71428573
         ],
         "x0": " ",
         "xaxis": "x",
         "y0": " ",
         "yaxis": "y"
        },
        {
         "alignmentgroup": "True",
         "hovertemplate": "term=min_parking_spaces<br>eval.search-method=elasticsearch<br>value=%{x}<extra></extra>",
         "legendgroup": "min_parking_spaces",
         "marker": {
          "color": "#FFA15A"
         },
         "name": "min_parking_spaces",
         "notched": false,
         "offsetgroup": "min_parking_spaces",
         "orientation": "h",
         "showlegend": false,
         "type": "box",
         "x": [
          0.6,
          0.6,
          0.6,
          0.2,
          0.2,
          0.3,
          0.5
         ],
         "x0": " ",
         "xaxis": "x2",
         "y0": " ",
         "yaxis": "y2"
        },
        {
         "alignmentgroup": "True",
         "hovertemplate": "term=min_unit_size<br>eval.search-method=embeddings_knn<br>value=%{x}<extra></extra>",
         "legendgroup": "min_unit_size",
         "marker": {
          "color": "#19d3f3"
         },
         "name": "min_unit_size",
         "notched": false,
         "offsetgroup": "min_unit_size",
         "orientation": "h",
         "showlegend": true,
         "type": "box",
         "x": [
          0.8,
          0.8,
          0.375
         ],
         "x0": " ",
         "xaxis": "x",
         "y0": " ",
         "yaxis": "y"
        },
        {
         "alignmentgroup": "True",
         "hovertemplate": "term=min_unit_size<br>eval.search-method=elasticsearch<br>value=%{x}<extra></extra>",
         "legendgroup": "min_unit_size",
         "marker": {
          "color": "#19d3f3"
         },
         "name": "min_unit_size",
         "notched": false,
         "offsetgroup": "min_unit_size",
         "orientation": "h",
         "showlegend": false,
         "type": "box",
         "x": [
          0.8,
          0.8,
          0.8,
          0.8888889,
          0.8888889,
          0.8888889,
          0.8
         ],
         "x0": " ",
         "xaxis": "x2",
         "y0": " ",
         "yaxis": "y2"
        }
       ],
       "layout": {
        "annotations": [
         {
          "font": {},
          "showarrow": false,
          "text": "eval.search-method=embeddings_knn",
          "x": 0.245,
          "xanchor": "center",
          "xref": "paper",
          "y": 1,
          "yanchor": "bottom",
          "yref": "paper"
         },
         {
          "font": {},
          "showarrow": false,
          "text": "eval.search-method=elasticsearch",
          "x": 0.755,
          "xanchor": "center",
          "xref": "paper",
          "y": 1,
          "yanchor": "bottom",
          "yref": "paper"
         }
        ],
        "boxmode": "group",
        "legend": {
         "title": {
          "text": "term"
         },
         "tracegroupgap": 0
        },
        "margin": {
         "t": 60
        },
        "template": {
         "data": {
          "bar": [
           {
            "error_x": {
             "color": "#2a3f5f"
            },
            "error_y": {
             "color": "#2a3f5f"
            },
            "marker": {
             "line": {
              "color": "#E5ECF6",
              "width": 0.5
             },
             "pattern": {
              "fillmode": "overlay",
              "size": 10,
              "solidity": 0.2
             }
            },
            "type": "bar"
           }
          ],
          "barpolar": [
           {
            "marker": {
             "line": {
              "color": "#E5ECF6",
              "width": 0.5
             },
             "pattern": {
              "fillmode": "overlay",
              "size": 10,
              "solidity": 0.2
             }
            },
            "type": "barpolar"
           }
          ],
          "carpet": [
           {
            "aaxis": {
             "endlinecolor": "#2a3f5f",
             "gridcolor": "white",
             "linecolor": "white",
             "minorgridcolor": "white",
             "startlinecolor": "#2a3f5f"
            },
            "baxis": {
             "endlinecolor": "#2a3f5f",
             "gridcolor": "white",
             "linecolor": "white",
             "minorgridcolor": "white",
             "startlinecolor": "#2a3f5f"
            },
            "type": "carpet"
           }
          ],
          "choropleth": [
           {
            "colorbar": {
             "outlinewidth": 0,
             "ticks": ""
            },
            "type": "choropleth"
           }
          ],
          "contour": [
           {
            "colorbar": {
             "outlinewidth": 0,
             "ticks": ""
            },
            "colorscale": [
             [
              0,
              "#0d0887"
             ],
             [
              0.1111111111111111,
              "#46039f"
             ],
             [
              0.2222222222222222,
              "#7201a8"
             ],
             [
              0.3333333333333333,
              "#9c179e"
             ],
             [
              0.4444444444444444,
              "#bd3786"
             ],
             [
              0.5555555555555556,
              "#d8576b"
             ],
             [
              0.6666666666666666,
              "#ed7953"
             ],
             [
              0.7777777777777778,
              "#fb9f3a"
             ],
             [
              0.8888888888888888,
              "#fdca26"
             ],
             [
              1,
              "#f0f921"
             ]
            ],
            "type": "contour"
           }
          ],
          "contourcarpet": [
           {
            "colorbar": {
             "outlinewidth": 0,
             "ticks": ""
            },
            "type": "contourcarpet"
           }
          ],
          "heatmap": [
           {
            "colorbar": {
             "outlinewidth": 0,
             "ticks": ""
            },
            "colorscale": [
             [
              0,
              "#0d0887"
             ],
             [
              0.1111111111111111,
              "#46039f"
             ],
             [
              0.2222222222222222,
              "#7201a8"
             ],
             [
              0.3333333333333333,
              "#9c179e"
             ],
             [
              0.4444444444444444,
              "#bd3786"
             ],
             [
              0.5555555555555556,
              "#d8576b"
             ],
             [
              0.6666666666666666,
              "#ed7953"
             ],
             [
              0.7777777777777778,
              "#fb9f3a"
             ],
             [
              0.8888888888888888,
              "#fdca26"
             ],
             [
              1,
              "#f0f921"
             ]
            ],
            "type": "heatmap"
           }
          ],
          "heatmapgl": [
           {
            "colorbar": {
             "outlinewidth": 0,
             "ticks": ""
            },
            "colorscale": [
             [
              0,
              "#0d0887"
             ],
             [
              0.1111111111111111,
              "#46039f"
             ],
             [
              0.2222222222222222,
              "#7201a8"
             ],
             [
              0.3333333333333333,
              "#9c179e"
             ],
             [
              0.4444444444444444,
              "#bd3786"
             ],
             [
              0.5555555555555556,
              "#d8576b"
             ],
             [
              0.6666666666666666,
              "#ed7953"
             ],
             [
              0.7777777777777778,
              "#fb9f3a"
             ],
             [
              0.8888888888888888,
              "#fdca26"
             ],
             [
              1,
              "#f0f921"
             ]
            ],
            "type": "heatmapgl"
           }
          ],
          "histogram": [
           {
            "marker": {
             "pattern": {
              "fillmode": "overlay",
              "size": 10,
              "solidity": 0.2
             }
            },
            "type": "histogram"
           }
          ],
          "histogram2d": [
           {
            "colorbar": {
             "outlinewidth": 0,
             "ticks": ""
            },
            "colorscale": [
             [
              0,
              "#0d0887"
             ],
             [
              0.1111111111111111,
              "#46039f"
             ],
             [
              0.2222222222222222,
              "#7201a8"
             ],
             [
              0.3333333333333333,
              "#9c179e"
             ],
             [
              0.4444444444444444,
              "#bd3786"
             ],
             [
              0.5555555555555556,
              "#d8576b"
             ],
             [
              0.6666666666666666,
              "#ed7953"
             ],
             [
              0.7777777777777778,
              "#fb9f3a"
             ],
             [
              0.8888888888888888,
              "#fdca26"
             ],
             [
              1,
              "#f0f921"
             ]
            ],
            "type": "histogram2d"
           }
          ],
          "histogram2dcontour": [
           {
            "colorbar": {
             "outlinewidth": 0,
             "ticks": ""
            },
            "colorscale": [
             [
              0,
              "#0d0887"
             ],
             [
              0.1111111111111111,
              "#46039f"
             ],
             [
              0.2222222222222222,
              "#7201a8"
             ],
             [
              0.3333333333333333,
              "#9c179e"
             ],
             [
              0.4444444444444444,
              "#bd3786"
             ],
             [
              0.5555555555555556,
              "#d8576b"
             ],
             [
              0.6666666666666666,
              "#ed7953"
             ],
             [
              0.7777777777777778,
              "#fb9f3a"
             ],
             [
              0.8888888888888888,
              "#fdca26"
             ],
             [
              1,
              "#f0f921"
             ]
            ],
            "type": "histogram2dcontour"
           }
          ],
          "mesh3d": [
           {
            "colorbar": {
             "outlinewidth": 0,
             "ticks": ""
            },
            "type": "mesh3d"
           }
          ],
          "parcoords": [
           {
            "line": {
             "colorbar": {
              "outlinewidth": 0,
              "ticks": ""
             }
            },
            "type": "parcoords"
           }
          ],
          "pie": [
           {
            "automargin": true,
            "type": "pie"
           }
          ],
          "scatter": [
           {
            "fillpattern": {
             "fillmode": "overlay",
             "size": 10,
             "solidity": 0.2
            },
            "type": "scatter"
           }
          ],
          "scatter3d": [
           {
            "line": {
             "colorbar": {
              "outlinewidth": 0,
              "ticks": ""
             }
            },
            "marker": {
             "colorbar": {
              "outlinewidth": 0,
              "ticks": ""
             }
            },
            "type": "scatter3d"
           }
          ],
          "scattercarpet": [
           {
            "marker": {
             "colorbar": {
              "outlinewidth": 0,
              "ticks": ""
             }
            },
            "type": "scattercarpet"
           }
          ],
          "scattergeo": [
           {
            "marker": {
             "colorbar": {
              "outlinewidth": 0,
              "ticks": ""
             }
            },
            "type": "scattergeo"
           }
          ],
          "scattergl": [
           {
            "marker": {
             "colorbar": {
              "outlinewidth": 0,
              "ticks": ""
             }
            },
            "type": "scattergl"
           }
          ],
          "scattermapbox": [
           {
            "marker": {
             "colorbar": {
              "outlinewidth": 0,
              "ticks": ""
             }
            },
            "type": "scattermapbox"
           }
          ],
          "scatterpolar": [
           {
            "marker": {
             "colorbar": {
              "outlinewidth": 0,
              "ticks": ""
             }
            },
            "type": "scatterpolar"
           }
          ],
          "scatterpolargl": [
           {
            "marker": {
             "colorbar": {
              "outlinewidth": 0,
              "ticks": ""
             }
            },
            "type": "scatterpolargl"
           }
          ],
          "scatterternary": [
           {
            "marker": {
             "colorbar": {
              "outlinewidth": 0,
              "ticks": ""
             }
            },
            "type": "scatterternary"
           }
          ],
          "surface": [
           {
            "colorbar": {
             "outlinewidth": 0,
             "ticks": ""
            },
            "colorscale": [
             [
              0,
              "#0d0887"
             ],
             [
              0.1111111111111111,
              "#46039f"
             ],
             [
              0.2222222222222222,
              "#7201a8"
             ],
             [
              0.3333333333333333,
              "#9c179e"
             ],
             [
              0.4444444444444444,
              "#bd3786"
             ],
             [
              0.5555555555555556,
              "#d8576b"
             ],
             [
              0.6666666666666666,
              "#ed7953"
             ],
             [
              0.7777777777777778,
              "#fb9f3a"
             ],
             [
              0.8888888888888888,
              "#fdca26"
             ],
             [
              1,
              "#f0f921"
             ]
            ],
            "type": "surface"
           }
          ],
          "table": [
           {
            "cells": {
             "fill": {
              "color": "#EBF0F8"
             },
             "line": {
              "color": "white"
             }
            },
            "header": {
             "fill": {
              "color": "#C8D4E3"
             },
             "line": {
              "color": "white"
             }
            },
            "type": "table"
           }
          ]
         },
         "layout": {
          "annotationdefaults": {
           "arrowcolor": "#2a3f5f",
           "arrowhead": 0,
           "arrowwidth": 1
          },
          "autotypenumbers": "strict",
          "coloraxis": {
           "colorbar": {
            "outlinewidth": 0,
            "ticks": ""
           }
          },
          "colorscale": {
           "diverging": [
            [
             0,
             "#8e0152"
            ],
            [
             0.1,
             "#c51b7d"
            ],
            [
             0.2,
             "#de77ae"
            ],
            [
             0.3,
             "#f1b6da"
            ],
            [
             0.4,
             "#fde0ef"
            ],
            [
             0.5,
             "#f7f7f7"
            ],
            [
             0.6,
             "#e6f5d0"
            ],
            [
             0.7,
             "#b8e186"
            ],
            [
             0.8,
             "#7fbc41"
            ],
            [
             0.9,
             "#4d9221"
            ],
            [
             1,
             "#276419"
            ]
           ],
           "sequential": [
            [
             0,
             "#0d0887"
            ],
            [
             0.1111111111111111,
             "#46039f"
            ],
            [
             0.2222222222222222,
             "#7201a8"
            ],
            [
             0.3333333333333333,
             "#9c179e"
            ],
            [
             0.4444444444444444,
             "#bd3786"
            ],
            [
             0.5555555555555556,
             "#d8576b"
            ],
            [
             0.6666666666666666,
             "#ed7953"
            ],
            [
             0.7777777777777778,
             "#fb9f3a"
            ],
            [
             0.8888888888888888,
             "#fdca26"
            ],
            [
             1,
             "#f0f921"
            ]
           ],
           "sequentialminus": [
            [
             0,
             "#0d0887"
            ],
            [
             0.1111111111111111,
             "#46039f"
            ],
            [
             0.2222222222222222,
             "#7201a8"
            ],
            [
             0.3333333333333333,
             "#9c179e"
            ],
            [
             0.4444444444444444,
             "#bd3786"
            ],
            [
             0.5555555555555556,
             "#d8576b"
            ],
            [
             0.6666666666666666,
             "#ed7953"
            ],
            [
             0.7777777777777778,
             "#fb9f3a"
            ],
            [
             0.8888888888888888,
             "#fdca26"
            ],
            [
             1,
             "#f0f921"
            ]
           ]
          },
          "colorway": [
           "#636efa",
           "#EF553B",
           "#00cc96",
           "#ab63fa",
           "#FFA15A",
           "#19d3f3",
           "#FF6692",
           "#B6E880",
           "#FF97FF",
           "#FECB52"
          ],
          "font": {
           "color": "#2a3f5f"
          },
          "geo": {
           "bgcolor": "white",
           "lakecolor": "white",
           "landcolor": "#E5ECF6",
           "showlakes": true,
           "showland": true,
           "subunitcolor": "white"
          },
          "hoverlabel": {
           "align": "left"
          },
          "hovermode": "closest",
          "mapbox": {
           "style": "light"
          },
          "paper_bgcolor": "white",
          "plot_bgcolor": "#E5ECF6",
          "polar": {
           "angularaxis": {
            "gridcolor": "white",
            "linecolor": "white",
            "ticks": ""
           },
           "bgcolor": "#E5ECF6",
           "radialaxis": {
            "gridcolor": "white",
            "linecolor": "white",
            "ticks": ""
           }
          },
          "scene": {
           "xaxis": {
            "backgroundcolor": "#E5ECF6",
            "gridcolor": "white",
            "gridwidth": 2,
            "linecolor": "white",
            "showbackground": true,
            "ticks": "",
            "zerolinecolor": "white"
           },
           "yaxis": {
            "backgroundcolor": "#E5ECF6",
            "gridcolor": "white",
            "gridwidth": 2,
            "linecolor": "white",
            "showbackground": true,
            "ticks": "",
            "zerolinecolor": "white"
           },
           "zaxis": {
            "backgroundcolor": "#E5ECF6",
            "gridcolor": "white",
            "gridwidth": 2,
            "linecolor": "white",
            "showbackground": true,
            "ticks": "",
            "zerolinecolor": "white"
           }
          },
          "shapedefaults": {
           "line": {
            "color": "#2a3f5f"
           }
          },
          "ternary": {
           "aaxis": {
            "gridcolor": "white",
            "linecolor": "white",
            "ticks": ""
           },
           "baxis": {
            "gridcolor": "white",
            "linecolor": "white",
            "ticks": ""
           },
           "bgcolor": "#E5ECF6",
           "caxis": {
            "gridcolor": "white",
            "linecolor": "white",
            "ticks": ""
           }
          },
          "title": {
           "x": 0.05
          },
          "xaxis": {
           "automargin": true,
           "gridcolor": "white",
           "linecolor": "white",
           "ticks": "",
           "title": {
            "standoff": 15
           },
           "zerolinecolor": "white",
           "zerolinewidth": 2
          },
          "yaxis": {
           "automargin": true,
           "gridcolor": "white",
           "linecolor": "white",
           "ticks": "",
           "title": {
            "standoff": 15
           },
           "zerolinecolor": "white",
           "zerolinewidth": 2
          }
         }
        },
        "xaxis": {
         "anchor": "y",
         "domain": [
          0,
          0.49
         ],
         "title": {
          "text": "value"
         }
        },
        "xaxis2": {
         "anchor": "y2",
         "domain": [
          0.51,
          1
         ],
         "matches": "x",
         "title": {
          "text": "value"
         }
        },
        "yaxis": {
         "anchor": "x",
         "domain": [
          0,
          1
         ]
        },
        "yaxis2": {
         "anchor": "x2",
         "domain": [
          0,
          1
         ],
         "matches": "y",
         "showticklabels": false
        }
       }
      }
     },
     "metadata": {},
     "output_type": "display_data"
    }
   ],
   "source": [
    "px.box(\n",
    "    df_terms.filter(\n",
    "        (pl.col(\"term_variable\") == \"answer_accuracy\")\n",
    "        & (pl.col(\"eval.search-method\").is_not_null())\n",
    "    ).with_columns(pl.col(\"value\").cast(pl.Float32, strict=False)),\n",
    "    x=\"value\",\n",
    "    color=\"term\",\n",
    "    facet_col=\"eval.search-method\",\n",
    ")"
   ]
  },
  {
   "cell_type": "code",
   "execution_count": 7,
   "metadata": {},
   "outputs": [
    {
     "data": {
      "text/html": [
       "<div><style>\n",
       ".dataframe > thead > tr > th,\n",
       ".dataframe > tbody > tr > td {\n",
       "  text-align: right;\n",
       "}\n",
       "</style>\n",
       "<small>shape: (6, 104)</small><table border=\"1\" class=\"dataframe\"><thead><tr><th>eval.num-eval-rows</th><th>eval.terms</th><th>eval.search-method</th><th>eval.extraction-method</th><th>eval.k</th><th>Experiment</th><th>rev</th><th>typ</th><th>Created</th><th>parent</th><th>answer_accuracy</th><th>conditional_answer_accuracy</th><th>max_height.answer_accuracy</th><th>max_height.conditional_answer_accuracy</th><th>max_height.num_correct_answer</th><th>max_height.num_correct_page_searched</th><th>max_height.num_results</th><th>max_height.page_search_recall</th><th>max_lot_coverage.answer_accuracy</th><th>max_lot_coverage.conditional_answer_accuracy</th><th>max_lot_coverage.num_correct_answer</th><th>max_lot_coverage.num_correct_page_searched</th><th>max_lot_coverage.num_results</th><th>max_lot_coverage.page_search_recall</th><th>max_lot_coverage_pavement.answer_accuracy</th><th>max_lot_coverage_pavement.conditional_answer_accuracy</th><th>max_lot_coverage_pavement.num_correct_answer</th><th>max_lot_coverage_pavement.num_correct_page_searched</th><th>max_lot_coverage_pavement.num_results</th><th>max_lot_coverage_pavement.page_search_recall</th><th>min_lot_size.answer_accuracy</th><th>min_lot_size.conditional_answer_accuracy</th><th>min_lot_size.num_correct_answer</th><th>min_lot_size.num_correct_page_searched</th><th>min_lot_size.num_results</th><th>min_lot_size.page_search_recall</th><th>min_parking_spaces.answer_accuracy</th><th>&hellip;</th><th>min lot size.page_extract_recall</th><th>min lot size.page_search_recall</th><th>min unit size.answer_accuracy</th><th>min unit size.conditional_answer_accuracy</th><th>min unit size.num_correct_answer</th><th>min unit size.num_correct_page_extracted</th><th>min unit size.num_correct_page_searched</th><th>min unit size.num_results</th><th>min unit size.page_extract_recall</th><th>min unit size.page_search_recall</th><th>num_correct_answer</th><th>num_correct_page_extracted</th><th>num_correct_page_searched</th><th>num_results</th><th>page_extract_recall</th><th>extract_text.orig_document_s3_bucket</th><th>generate_dataset.seed</th><th>generate_dataset.test_split_frac</th><th>publish_datasets</th><th>data/hf_dataset</th><th>data/hf_text_dataset</th><th>data/names_all_towns.json</th><th>data/orig-documents</th><th>data/orig_documents_s3_manifest.json</th><th>data/textract_dataset</th><th>maxdumas/extract_text.py</th><th>maxdumas/generate_dataset.py</th><th>maxdumas/upload_zoning_docs.sh</th><th>templates/extraction.pmpt.tpl</th><th>templates/extraction_chat_completion.pmpt.tpl</th><th>templates/extraction_completion.pmpt.tpl</th><th>zoning/data_processing/eval.py</th><th>zoning/data_processing/extract_text.py</th><th>zoning/data_processing/generate_dataset.py</th><th>zoning/data_processing/generate_text_dataset.py</th><th>zoning/data_processing/index_towns.py</th><th>zoning/data_processing/upload_zoning_docs.sh</th></tr><tr><td>i64</td><td>str</td><td>str</td><td>str</td><td>i64</td><td>str</td><td>str</td><td>str</td><td>str</td><td>str</td><td>f32</td><td>f32</td><td>str</td><td>str</td><td>str</td><td>str</td><td>str</td><td>str</td><td>str</td><td>str</td><td>str</td><td>str</td><td>str</td><td>str</td><td>str</td><td>str</td><td>str</td><td>str</td><td>str</td><td>str</td><td>str</td><td>str</td><td>str</td><td>str</td><td>str</td><td>str</td><td>str</td><td>&hellip;</td><td>str</td><td>str</td><td>str</td><td>str</td><td>str</td><td>str</td><td>str</td><td>str</td><td>str</td><td>str</td><td>str</td><td>str</td><td>str</td><td>str</td><td>str</td><td>str</td><td>i64</td><td>f64</td><td>bool</td><td>str</td><td>str</td><td>str</td><td>str</td><td>str</td><td>str</td><td>str</td><td>str</td><td>str</td><td>str</td><td>str</td><td>str</td><td>str</td><td>str</td><td>str</td><td>str</td><td>str</td><td>str</td></tr></thead><tbody><tr><td>10</td><td>&quot;[&#x27;min_lot_size…</td><td>&quot;embeddings_knn…</td><td>&quot;map&quot;</td><td>16</td><td>null</td><td>&quot;adaa401&quot;</td><td>&quot;baseline&quot;</td><td>&quot;2023-08-21T20:…</td><td>null</td><td>0.783333</td><td>0.800794</td><td>&quot;1.0&quot;</td><td>&quot;1.0&quot;</td><td>&quot;10&quot;</td><td>&quot;8&quot;</td><td>&quot;163&quot;</td><td>&quot;0.8&quot;</td><td>&quot;0.9&quot;</td><td>&quot;1.0&quot;</td><td>&quot;9&quot;</td><td>&quot;4&quot;</td><td>&quot;166&quot;</td><td>&quot;0.4&quot;</td><td>&quot;0.7&quot;</td><td>&quot;0.833333333333…</td><td>&quot;7&quot;</td><td>&quot;6&quot;</td><td>&quot;160&quot;</td><td>&quot;0.6&quot;</td><td>&quot;0.7&quot;</td><td>&quot;0.8&quot;</td><td>&quot;7&quot;</td><td>&quot;5&quot;</td><td>&quot;163&quot;</td><td>&quot;0.5&quot;</td><td>&quot;0.6&quot;</td><td>&hellip;</td><td>null</td><td>null</td><td>null</td><td>null</td><td>null</td><td>null</td><td>null</td><td>null</td><td>null</td><td>null</td><td>null</td><td>null</td><td>null</td><td>null</td><td>null</td><td>&quot;cornell-mfd64&quot;</td><td>42</td><td>0.3</td><td>true</td><td>&quot;302e323289b318…</td><td>&quot;e832d3471ef79f…</td><td>&quot;0013040cfeb0f4…</td><td>&quot;2311e7a6bb96f9…</td><td>&quot;897ea14dfed07e…</td><td>&quot;11062398489b76…</td><td>null</td><td>null</td><td>null</td><td>null</td><td>&quot;1a26f472c8a488…</td><td>&quot;cdd9b0b79ac4ed…</td><td>&quot;d422252768218b…</td><td>&quot;98404ae0ff0f6d…</td><td>&quot;51f7f2eef57fa4…</td><td>&quot;45a291510a51b8…</td><td>&quot;cd3c4af8c8e19c…</td><td>&quot;4bc9fb2d649525…</td></tr><tr><td>10</td><td>&quot;[&#x27;min_lot_size…</td><td>&quot;elasticsearch&quot;</td><td>&quot;map&quot;</td><td>12</td><td>null</td><td>&quot;master&quot;</td><td>&quot;baseline&quot;</td><td>&quot;2023-08-25T10:…</td><td>null</td><td>0.766667</td><td>0.97619</td><td>&quot;1.0&quot;</td><td>&quot;1.0&quot;</td><td>&quot;10&quot;</td><td>&quot;10&quot;</td><td>&quot;123&quot;</td><td>&quot;1.0&quot;</td><td>&quot;0.9&quot;</td><td>&quot;1.0&quot;</td><td>&quot;9&quot;</td><td>&quot;9&quot;</td><td>&quot;126&quot;</td><td>&quot;0.9&quot;</td><td>&quot;0.6&quot;</td><td>&quot;0.857142857142…</td><td>&quot;6&quot;</td><td>&quot;7&quot;</td><td>&quot;120&quot;</td><td>&quot;0.7&quot;</td><td>&quot;0.7&quot;</td><td>&quot;1.0&quot;</td><td>&quot;7&quot;</td><td>&quot;7&quot;</td><td>&quot;123&quot;</td><td>&quot;0.7&quot;</td><td>&quot;0.6&quot;</td><td>&hellip;</td><td>null</td><td>null</td><td>null</td><td>null</td><td>null</td><td>null</td><td>null</td><td>null</td><td>null</td><td>null</td><td>null</td><td>null</td><td>null</td><td>null</td><td>null</td><td>&quot;cornell-mfd64&quot;</td><td>42</td><td>0.3</td><td>true</td><td>&quot;302e323289b318…</td><td>&quot;e832d3471ef79f…</td><td>&quot;0013040cfeb0f4…</td><td>&quot;2311e7a6bb96f9…</td><td>&quot;897ea14dfed07e…</td><td>&quot;11062398489b76…</td><td>null</td><td>null</td><td>null</td><td>null</td><td>&quot;1a26f472c8a488…</td><td>&quot;cdd9b0b79ac4ed…</td><td>&quot;ed75967007eee2…</td><td>&quot;98404ae0ff0f6d…</td><td>&quot;51f7f2eef57fa4…</td><td>&quot;45a291510a51b8…</td><td>&quot;cd3c4af8c8e19c…</td><td>&quot;4bc9fb2d649525…</td></tr><tr><td>10</td><td>&quot;[&#x27;min_lot_size…</td><td>&quot;embeddings_knn…</td><td>&quot;map&quot;</td><td>6</td><td>null</td><td>&quot;66b94c6&quot;</td><td>&quot;baseline&quot;</td><td>&quot;2023-08-21T19:…</td><td>null</td><td>0.7</td><td>0.808333</td><td>&quot;0.9&quot;</td><td>&quot;1.0&quot;</td><td>&quot;9&quot;</td><td>&quot;7&quot;</td><td>&quot;63&quot;</td><td>&quot;0.7&quot;</td><td>&quot;0.9&quot;</td><td>&quot;1.0&quot;</td><td>&quot;9&quot;</td><td>&quot;4&quot;</td><td>&quot;66&quot;</td><td>&quot;0.4&quot;</td><td>&quot;0.6&quot;</td><td>&quot;0.8&quot;</td><td>&quot;6&quot;</td><td>&quot;5&quot;</td><td>&quot;60&quot;</td><td>&quot;0.5&quot;</td><td>&quot;0.7&quot;</td><td>&quot;0.8&quot;</td><td>&quot;7&quot;</td><td>&quot;5&quot;</td><td>&quot;63&quot;</td><td>&quot;0.5&quot;</td><td>&quot;0.3&quot;</td><td>&hellip;</td><td>null</td><td>null</td><td>null</td><td>null</td><td>null</td><td>null</td><td>null</td><td>null</td><td>null</td><td>null</td><td>null</td><td>null</td><td>null</td><td>null</td><td>null</td><td>&quot;cornell-mfd64&quot;</td><td>42</td><td>0.3</td><td>true</td><td>&quot;302e323289b318…</td><td>&quot;e832d3471ef79f…</td><td>&quot;0013040cfeb0f4…</td><td>&quot;2311e7a6bb96f9…</td><td>&quot;897ea14dfed07e…</td><td>&quot;11062398489b76…</td><td>null</td><td>null</td><td>null</td><td>null</td><td>&quot;1a26f472c8a488…</td><td>&quot;cdd9b0b79ac4ed…</td><td>&quot;88e27afc9f9706…</td><td>&quot;98404ae0ff0f6d…</td><td>&quot;51f7f2eef57fa4…</td><td>&quot;45a291510a51b8…</td><td>&quot;cd3c4af8c8e19c…</td><td>&quot;4bc9fb2d649525…</td></tr><tr><td>10</td><td>&quot;[&#x27;min_lot_size…</td><td>&quot;elasticsearch&quot;</td><td>&quot;map&quot;</td><td>6</td><td>null</td><td>&quot;241aa7b&quot;</td><td>&quot;baseline&quot;</td><td>&quot;2023-08-21T19:…</td><td>null</td><td>0.685185</td><td>0.685516</td><td>&quot;0.9&quot;</td><td>&quot;0.875&quot;</td><td>&quot;9&quot;</td><td>&quot;8&quot;</td><td>&quot;36&quot;</td><td>&quot;0.8&quot;</td><td>&quot;0.666666666666…</td><td>&quot;1.0&quot;</td><td>&quot;6&quot;</td><td>&quot;4&quot;</td><td>&quot;19&quot;</td><td>&quot;0.444444444444…</td><td>&quot;0.555555555555…</td><td>&quot;0.571428571428…</td><td>&quot;5&quot;</td><td>&quot;7&quot;</td><td>&quot;19&quot;</td><td>&quot;0.777777777777…</td><td>&quot;0.8&quot;</td><td>&quot;0.666666666666…</td><td>&quot;8&quot;</td><td>&quot;6&quot;</td><td>&quot;25&quot;</td><td>&quot;0.6&quot;</td><td>&quot;0.3&quot;</td><td>&hellip;</td><td>null</td><td>null</td><td>null</td><td>null</td><td>null</td><td>null</td><td>null</td><td>null</td><td>null</td><td>null</td><td>null</td><td>null</td><td>null</td><td>null</td><td>null</td><td>&quot;cornell-mfd64&quot;</td><td>42</td><td>0.3</td><td>true</td><td>&quot;302e323289b318…</td><td>&quot;e832d3471ef79f…</td><td>&quot;0013040cfeb0f4…</td><td>&quot;2311e7a6bb96f9…</td><td>&quot;897ea14dfed07e…</td><td>&quot;11062398489b76…</td><td>null</td><td>null</td><td>null</td><td>null</td><td>&quot;1a26f472c8a488…</td><td>&quot;cdd9b0b79ac4ed…</td><td>&quot;88e27afc9f9706…</td><td>&quot;98404ae0ff0f6d…</td><td>&quot;51f7f2eef57fa4…</td><td>&quot;45a291510a51b8…</td><td>&quot;cd3c4af8c8e19c…</td><td>&quot;4bc9fb2d649525…</td></tr><tr><td>10</td><td>&quot;[&#x27;min_lot_size…</td><td>&quot;elasticsearch&quot;</td><td>&quot;tournament_red…</td><td>6</td><td>null</td><td>&quot;f0134e1&quot;</td><td>&quot;baseline&quot;</td><td>&quot;2023-08-21T19:…</td><td>null</td><td>0.668056</td><td>0.8</td><td>&quot;0.875&quot;</td><td>&quot;1.0&quot;</td><td>&quot;7&quot;</td><td>&quot;7&quot;</td><td>&quot;11&quot;</td><td>&quot;0.875&quot;</td><td>&quot;0.5&quot;</td><td>&quot;1.0&quot;</td><td>&quot;4&quot;</td><td>&quot;4&quot;</td><td>&quot;10&quot;</td><td>&quot;0.5&quot;</td><td>&quot;0.666666666666…</td><td>&quot;0.8&quot;</td><td>&quot;4&quot;</td><td>&quot;5&quot;</td><td>&quot;6&quot;</td><td>&quot;0.833333333333…</td><td>&quot;0.666666666666…</td><td>&quot;1.0&quot;</td><td>&quot;4&quot;</td><td>&quot;4&quot;</td><td>&quot;6&quot;</td><td>&quot;0.666666666666…</td><td>&quot;0.5&quot;</td><td>&hellip;</td><td>null</td><td>null</td><td>null</td><td>null</td><td>null</td><td>null</td><td>null</td><td>null</td><td>null</td><td>null</td><td>null</td><td>null</td><td>null</td><td>null</td><td>null</td><td>&quot;cornell-mfd64&quot;</td><td>42</td><td>0.3</td><td>true</td><td>&quot;302e323289b318…</td><td>&quot;e832d3471ef79f…</td><td>&quot;0013040cfeb0f4…</td><td>&quot;2311e7a6bb96f9…</td><td>&quot;897ea14dfed07e…</td><td>&quot;11062398489b76…</td><td>null</td><td>null</td><td>null</td><td>null</td><td>&quot;1a26f472c8a488…</td><td>&quot;cdd9b0b79ac4ed…</td><td>&quot;88e27afc9f9706…</td><td>&quot;98404ae0ff0f6d…</td><td>&quot;51f7f2eef57fa4…</td><td>&quot;45a291510a51b8…</td><td>&quot;cd3c4af8c8e19c…</td><td>&quot;4bc9fb2d649525…</td></tr><tr><td>10</td><td>&quot;[&#x27;min_lot_size…</td><td>&quot;embeddings_knn…</td><td>&quot;tournament_red…</td><td>16</td><td>null</td><td>&quot;80c8189&quot;</td><td>&quot;baseline&quot;</td><td>&quot;2023-08-21T21:…</td><td>null</td><td>0.561905</td><td>0.972222</td><td>&quot;0.8&quot;</td><td>&quot;1.0&quot;</td><td>&quot;8&quot;</td><td>&quot;8&quot;</td><td>&quot;13&quot;</td><td>&quot;0.8&quot;</td><td>&quot;0.428571428571…</td><td>&quot;1.0&quot;</td><td>&quot;3&quot;</td><td>&quot;3&quot;</td><td>&quot;12&quot;</td><td>&quot;0.428571428571…</td><td>&quot;0.625&quot;</td><td>&quot;0.833333333333…</td><td>&quot;5&quot;</td><td>&quot;6&quot;</td><td>&quot;8&quot;</td><td>&quot;0.75&quot;</td><td>&quot;0.428571428571…</td><td>&quot;1.0&quot;</td><td>&quot;3&quot;</td><td>&quot;3&quot;</td><td>&quot;7&quot;</td><td>&quot;0.428571428571…</td><td>&quot;0.714285714285…</td><td>&hellip;</td><td>null</td><td>null</td><td>null</td><td>null</td><td>null</td><td>null</td><td>null</td><td>null</td><td>null</td><td>null</td><td>null</td><td>null</td><td>null</td><td>null</td><td>null</td><td>&quot;cornell-mfd64&quot;</td><td>42</td><td>0.3</td><td>true</td><td>&quot;302e323289b318…</td><td>&quot;e832d3471ef79f…</td><td>&quot;0013040cfeb0f4…</td><td>&quot;2311e7a6bb96f9…</td><td>&quot;897ea14dfed07e…</td><td>&quot;11062398489b76…</td><td>null</td><td>null</td><td>null</td><td>null</td><td>&quot;1a26f472c8a488…</td><td>&quot;cdd9b0b79ac4ed…</td><td>&quot;ed75967007eee2…</td><td>&quot;98404ae0ff0f6d…</td><td>&quot;51f7f2eef57fa4…</td><td>&quot;45a291510a51b8…</td><td>&quot;cd3c4af8c8e19c…</td><td>&quot;4bc9fb2d649525…</td></tr></tbody></table></div>"
      ],
      "text/plain": [
       "shape: (6, 104)\n",
       "┌───────────┬───────────┬───────────┬───────────┬───┬───────────┬───────────┬───────────┬──────────┐\n",
       "│ eval.num- ┆ eval.term ┆ eval.sear ┆ eval.extr ┆ … ┆ zoning/da ┆ zoning/da ┆ zoning/da ┆ zoning/d │\n",
       "│ eval-rows ┆ s         ┆ ch-method ┆ action-me ┆   ┆ ta_proces ┆ ta_proces ┆ ta_proces ┆ ata_proc │\n",
       "│ ---       ┆ ---       ┆ ---       ┆ thod      ┆   ┆ sing/gene ┆ sing/gene ┆ sing/inde ┆ essing/u │\n",
       "│ i64       ┆ str       ┆ str       ┆ ---       ┆   ┆ rate_…    ┆ rate_…    ┆ x_tow…    ┆ pload_zo │\n",
       "│           ┆           ┆           ┆ str       ┆   ┆ ---       ┆ ---       ┆ ---       ┆ …        │\n",
       "│           ┆           ┆           ┆           ┆   ┆ str       ┆ str       ┆ str       ┆ ---      │\n",
       "│           ┆           ┆           ┆           ┆   ┆           ┆           ┆           ┆ str      │\n",
       "╞═══════════╪═══════════╪═══════════╪═══════════╪═══╪═══════════╪═══════════╪═══════════╪══════════╡\n",
       "│ 10        ┆ ['min_lot ┆ embedding ┆ map       ┆ … ┆ 51f7f2eef ┆ 45a291510 ┆ cd3c4af8c ┆ 4bc9fb2d │\n",
       "│           ┆ _size',   ┆ s_knn     ┆           ┆   ┆ 57fa468b3 ┆ a51b88863 ┆ 8e19c9927 ┆ 649525a0 │\n",
       "│           ┆ 'min_unit ┆           ┆           ┆   ┆ d03fd2d8f ┆ 978680521 ┆ e28912aaf ┆ c3928fe4 │\n",
       "│           ┆ _size'…   ┆           ┆           ┆   ┆ aa385     ┆ 38501     ┆ 7ced5     ┆ f7bc2307 │\n",
       "│ 10        ┆ ['min_lot ┆ elasticse ┆ map       ┆ … ┆ 51f7f2eef ┆ 45a291510 ┆ cd3c4af8c ┆ 4bc9fb2d │\n",
       "│           ┆ _size',   ┆ arch      ┆           ┆   ┆ 57fa468b3 ┆ a51b88863 ┆ 8e19c9927 ┆ 649525a0 │\n",
       "│           ┆ 'min_unit ┆           ┆           ┆   ┆ d03fd2d8f ┆ 978680521 ┆ e28912aaf ┆ c3928fe4 │\n",
       "│           ┆ _size'…   ┆           ┆           ┆   ┆ aa385     ┆ 38501     ┆ 7ced5     ┆ f7bc2307 │\n",
       "│ 10        ┆ ['min_lot ┆ embedding ┆ map       ┆ … ┆ 51f7f2eef ┆ 45a291510 ┆ cd3c4af8c ┆ 4bc9fb2d │\n",
       "│           ┆ _size',   ┆ s_knn     ┆           ┆   ┆ 57fa468b3 ┆ a51b88863 ┆ 8e19c9927 ┆ 649525a0 │\n",
       "│           ┆ 'min_unit ┆           ┆           ┆   ┆ d03fd2d8f ┆ 978680521 ┆ e28912aaf ┆ c3928fe4 │\n",
       "│           ┆ _size'…   ┆           ┆           ┆   ┆ aa385     ┆ 38501     ┆ 7ced5     ┆ f7bc2307 │\n",
       "│ 10        ┆ ['min_lot ┆ elasticse ┆ map       ┆ … ┆ 51f7f2eef ┆ 45a291510 ┆ cd3c4af8c ┆ 4bc9fb2d │\n",
       "│           ┆ _size',   ┆ arch      ┆           ┆   ┆ 57fa468b3 ┆ a51b88863 ┆ 8e19c9927 ┆ 649525a0 │\n",
       "│           ┆ 'min_unit ┆           ┆           ┆   ┆ d03fd2d8f ┆ 978680521 ┆ e28912aaf ┆ c3928fe4 │\n",
       "│           ┆ _size'…   ┆           ┆           ┆   ┆ aa385     ┆ 38501     ┆ 7ced5     ┆ f7bc2307 │\n",
       "│ 10        ┆ ['min_lot ┆ elasticse ┆ tournamen ┆ … ┆ 51f7f2eef ┆ 45a291510 ┆ cd3c4af8c ┆ 4bc9fb2d │\n",
       "│           ┆ _size',   ┆ arch      ┆ t_reduce  ┆   ┆ 57fa468b3 ┆ a51b88863 ┆ 8e19c9927 ┆ 649525a0 │\n",
       "│           ┆ 'min_unit ┆           ┆           ┆   ┆ d03fd2d8f ┆ 978680521 ┆ e28912aaf ┆ c3928fe4 │\n",
       "│           ┆ _size'…   ┆           ┆           ┆   ┆ aa385     ┆ 38501     ┆ 7ced5     ┆ f7bc2307 │\n",
       "│ 10        ┆ ['min_lot ┆ embedding ┆ tournamen ┆ … ┆ 51f7f2eef ┆ 45a291510 ┆ cd3c4af8c ┆ 4bc9fb2d │\n",
       "│           ┆ _size',   ┆ s_knn     ┆ t_reduce  ┆   ┆ 57fa468b3 ┆ a51b88863 ┆ 8e19c9927 ┆ 649525a0 │\n",
       "│           ┆ 'min_unit ┆           ┆           ┆   ┆ d03fd2d8f ┆ 978680521 ┆ e28912aaf ┆ c3928fe4 │\n",
       "│           ┆ _size'…   ┆           ┆           ┆   ┆ aa385     ┆ 38501     ┆ 7ced5     ┆ f7bc2307 │\n",
       "└───────────┴───────────┴───────────┴───────────┴───┴───────────┴───────────┴───────────┴──────────┘"
      ]
     },
     "execution_count": 7,
     "metadata": {},
     "output_type": "execute_result"
    }
   ],
   "source": [
    "df.filter(\n",
    "    pl.all_horizontal(\n",
    "        pl.col(r\"^eval\\.*.$\").is_not_null()\n",
    "    )\n",
    ").groupby(pl.col(r\"^eval\\..*$\")).agg(\n",
    "    pl.col(\"*\").first()\n",
    ").sort(pl.col(\"answer_accuracy\"), descending=True)"
   ]
  },
  {
   "cell_type": "code",
   "execution_count": 8,
   "metadata": {},
   "outputs": [
    {
     "data": {
      "application/vnd.plotly.v1+json": {
       "config": {
        "plotlyServerURL": "https://plot.ly"
       },
       "data": [
        {
         "alignmentgroup": "True",
         "hovertemplate": "eval.search-method=embeddings_knn<br>eval.extraction-method=map<br>eval.k=%{x}<br>answer_accuracy=%{y}<extra></extra>",
         "legendgroup": "embeddings_knn",
         "marker": {
          "color": "#636efa",
          "pattern": {
           "shape": ""
          }
         },
         "name": "embeddings_knn",
         "offsetgroup": "embeddings_knn",
         "orientation": "v",
         "showlegend": true,
         "textposition": "auto",
         "type": "bar",
         "x": [
          16,
          6
         ],
         "xaxis": "x",
         "y": [
          0.78333336,
          0.7
         ],
         "yaxis": "y"
        },
        {
         "alignmentgroup": "True",
         "hovertemplate": "eval.search-method=embeddings_knn<br>eval.extraction-method=tournament_reduce<br>eval.k=%{x}<br>answer_accuracy=%{y}<extra></extra>",
         "legendgroup": "embeddings_knn",
         "marker": {
          "color": "#636efa",
          "pattern": {
           "shape": ""
          }
         },
         "name": "embeddings_knn",
         "offsetgroup": "embeddings_knn",
         "orientation": "v",
         "showlegend": false,
         "textposition": "auto",
         "type": "bar",
         "x": [
          16
         ],
         "xaxis": "x2",
         "y": [
          0.5619048
         ],
         "yaxis": "y2"
        },
        {
         "alignmentgroup": "True",
         "hovertemplate": "eval.search-method=elasticsearch<br>eval.extraction-method=map<br>eval.k=%{x}<br>answer_accuracy=%{y}<extra></extra>",
         "legendgroup": "elasticsearch",
         "marker": {
          "color": "#EF553B",
          "pattern": {
           "shape": ""
          }
         },
         "name": "elasticsearch",
         "offsetgroup": "elasticsearch",
         "orientation": "v",
         "showlegend": true,
         "textposition": "auto",
         "type": "bar",
         "x": [
          12,
          6
         ],
         "xaxis": "x",
         "y": [
          0.76666665,
          0.6851852
         ],
         "yaxis": "y"
        },
        {
         "alignmentgroup": "True",
         "hovertemplate": "eval.search-method=elasticsearch<br>eval.extraction-method=tournament_reduce<br>eval.k=%{x}<br>answer_accuracy=%{y}<extra></extra>",
         "legendgroup": "elasticsearch",
         "marker": {
          "color": "#EF553B",
          "pattern": {
           "shape": ""
          }
         },
         "name": "elasticsearch",
         "offsetgroup": "elasticsearch",
         "orientation": "v",
         "showlegend": false,
         "textposition": "auto",
         "type": "bar",
         "x": [
          6
         ],
         "xaxis": "x2",
         "y": [
          0.66805553
         ],
         "yaxis": "y2"
        }
       ],
       "layout": {
        "annotations": [
         {
          "font": {},
          "showarrow": false,
          "text": "eval.extraction-method=map",
          "x": 0.245,
          "xanchor": "center",
          "xref": "paper",
          "y": 1,
          "yanchor": "bottom",
          "yref": "paper"
         },
         {
          "font": {},
          "showarrow": false,
          "text": "eval.extraction-method=tournament_reduce",
          "x": 0.755,
          "xanchor": "center",
          "xref": "paper",
          "y": 1,
          "yanchor": "bottom",
          "yref": "paper"
         }
        ],
        "barmode": "group",
        "legend": {
         "title": {
          "text": "eval.search-method"
         },
         "tracegroupgap": 0
        },
        "margin": {
         "t": 60
        },
        "template": {
         "data": {
          "bar": [
           {
            "error_x": {
             "color": "#2a3f5f"
            },
            "error_y": {
             "color": "#2a3f5f"
            },
            "marker": {
             "line": {
              "color": "#E5ECF6",
              "width": 0.5
             },
             "pattern": {
              "fillmode": "overlay",
              "size": 10,
              "solidity": 0.2
             }
            },
            "type": "bar"
           }
          ],
          "barpolar": [
           {
            "marker": {
             "line": {
              "color": "#E5ECF6",
              "width": 0.5
             },
             "pattern": {
              "fillmode": "overlay",
              "size": 10,
              "solidity": 0.2
             }
            },
            "type": "barpolar"
           }
          ],
          "carpet": [
           {
            "aaxis": {
             "endlinecolor": "#2a3f5f",
             "gridcolor": "white",
             "linecolor": "white",
             "minorgridcolor": "white",
             "startlinecolor": "#2a3f5f"
            },
            "baxis": {
             "endlinecolor": "#2a3f5f",
             "gridcolor": "white",
             "linecolor": "white",
             "minorgridcolor": "white",
             "startlinecolor": "#2a3f5f"
            },
            "type": "carpet"
           }
          ],
          "choropleth": [
           {
            "colorbar": {
             "outlinewidth": 0,
             "ticks": ""
            },
            "type": "choropleth"
           }
          ],
          "contour": [
           {
            "colorbar": {
             "outlinewidth": 0,
             "ticks": ""
            },
            "colorscale": [
             [
              0,
              "#0d0887"
             ],
             [
              0.1111111111111111,
              "#46039f"
             ],
             [
              0.2222222222222222,
              "#7201a8"
             ],
             [
              0.3333333333333333,
              "#9c179e"
             ],
             [
              0.4444444444444444,
              "#bd3786"
             ],
             [
              0.5555555555555556,
              "#d8576b"
             ],
             [
              0.6666666666666666,
              "#ed7953"
             ],
             [
              0.7777777777777778,
              "#fb9f3a"
             ],
             [
              0.8888888888888888,
              "#fdca26"
             ],
             [
              1,
              "#f0f921"
             ]
            ],
            "type": "contour"
           }
          ],
          "contourcarpet": [
           {
            "colorbar": {
             "outlinewidth": 0,
             "ticks": ""
            },
            "type": "contourcarpet"
           }
          ],
          "heatmap": [
           {
            "colorbar": {
             "outlinewidth": 0,
             "ticks": ""
            },
            "colorscale": [
             [
              0,
              "#0d0887"
             ],
             [
              0.1111111111111111,
              "#46039f"
             ],
             [
              0.2222222222222222,
              "#7201a8"
             ],
             [
              0.3333333333333333,
              "#9c179e"
             ],
             [
              0.4444444444444444,
              "#bd3786"
             ],
             [
              0.5555555555555556,
              "#d8576b"
             ],
             [
              0.6666666666666666,
              "#ed7953"
             ],
             [
              0.7777777777777778,
              "#fb9f3a"
             ],
             [
              0.8888888888888888,
              "#fdca26"
             ],
             [
              1,
              "#f0f921"
             ]
            ],
            "type": "heatmap"
           }
          ],
          "heatmapgl": [
           {
            "colorbar": {
             "outlinewidth": 0,
             "ticks": ""
            },
            "colorscale": [
             [
              0,
              "#0d0887"
             ],
             [
              0.1111111111111111,
              "#46039f"
             ],
             [
              0.2222222222222222,
              "#7201a8"
             ],
             [
              0.3333333333333333,
              "#9c179e"
             ],
             [
              0.4444444444444444,
              "#bd3786"
             ],
             [
              0.5555555555555556,
              "#d8576b"
             ],
             [
              0.6666666666666666,
              "#ed7953"
             ],
             [
              0.7777777777777778,
              "#fb9f3a"
             ],
             [
              0.8888888888888888,
              "#fdca26"
             ],
             [
              1,
              "#f0f921"
             ]
            ],
            "type": "heatmapgl"
           }
          ],
          "histogram": [
           {
            "marker": {
             "pattern": {
              "fillmode": "overlay",
              "size": 10,
              "solidity": 0.2
             }
            },
            "type": "histogram"
           }
          ],
          "histogram2d": [
           {
            "colorbar": {
             "outlinewidth": 0,
             "ticks": ""
            },
            "colorscale": [
             [
              0,
              "#0d0887"
             ],
             [
              0.1111111111111111,
              "#46039f"
             ],
             [
              0.2222222222222222,
              "#7201a8"
             ],
             [
              0.3333333333333333,
              "#9c179e"
             ],
             [
              0.4444444444444444,
              "#bd3786"
             ],
             [
              0.5555555555555556,
              "#d8576b"
             ],
             [
              0.6666666666666666,
              "#ed7953"
             ],
             [
              0.7777777777777778,
              "#fb9f3a"
             ],
             [
              0.8888888888888888,
              "#fdca26"
             ],
             [
              1,
              "#f0f921"
             ]
            ],
            "type": "histogram2d"
           }
          ],
          "histogram2dcontour": [
           {
            "colorbar": {
             "outlinewidth": 0,
             "ticks": ""
            },
            "colorscale": [
             [
              0,
              "#0d0887"
             ],
             [
              0.1111111111111111,
              "#46039f"
             ],
             [
              0.2222222222222222,
              "#7201a8"
             ],
             [
              0.3333333333333333,
              "#9c179e"
             ],
             [
              0.4444444444444444,
              "#bd3786"
             ],
             [
              0.5555555555555556,
              "#d8576b"
             ],
             [
              0.6666666666666666,
              "#ed7953"
             ],
             [
              0.7777777777777778,
              "#fb9f3a"
             ],
             [
              0.8888888888888888,
              "#fdca26"
             ],
             [
              1,
              "#f0f921"
             ]
            ],
            "type": "histogram2dcontour"
           }
          ],
          "mesh3d": [
           {
            "colorbar": {
             "outlinewidth": 0,
             "ticks": ""
            },
            "type": "mesh3d"
           }
          ],
          "parcoords": [
           {
            "line": {
             "colorbar": {
              "outlinewidth": 0,
              "ticks": ""
             }
            },
            "type": "parcoords"
           }
          ],
          "pie": [
           {
            "automargin": true,
            "type": "pie"
           }
          ],
          "scatter": [
           {
            "fillpattern": {
             "fillmode": "overlay",
             "size": 10,
             "solidity": 0.2
            },
            "type": "scatter"
           }
          ],
          "scatter3d": [
           {
            "line": {
             "colorbar": {
              "outlinewidth": 0,
              "ticks": ""
             }
            },
            "marker": {
             "colorbar": {
              "outlinewidth": 0,
              "ticks": ""
             }
            },
            "type": "scatter3d"
           }
          ],
          "scattercarpet": [
           {
            "marker": {
             "colorbar": {
              "outlinewidth": 0,
              "ticks": ""
             }
            },
            "type": "scattercarpet"
           }
          ],
          "scattergeo": [
           {
            "marker": {
             "colorbar": {
              "outlinewidth": 0,
              "ticks": ""
             }
            },
            "type": "scattergeo"
           }
          ],
          "scattergl": [
           {
            "marker": {
             "colorbar": {
              "outlinewidth": 0,
              "ticks": ""
             }
            },
            "type": "scattergl"
           }
          ],
          "scattermapbox": [
           {
            "marker": {
             "colorbar": {
              "outlinewidth": 0,
              "ticks": ""
             }
            },
            "type": "scattermapbox"
           }
          ],
          "scatterpolar": [
           {
            "marker": {
             "colorbar": {
              "outlinewidth": 0,
              "ticks": ""
             }
            },
            "type": "scatterpolar"
           }
          ],
          "scatterpolargl": [
           {
            "marker": {
             "colorbar": {
              "outlinewidth": 0,
              "ticks": ""
             }
            },
            "type": "scatterpolargl"
           }
          ],
          "scatterternary": [
           {
            "marker": {
             "colorbar": {
              "outlinewidth": 0,
              "ticks": ""
             }
            },
            "type": "scatterternary"
           }
          ],
          "surface": [
           {
            "colorbar": {
             "outlinewidth": 0,
             "ticks": ""
            },
            "colorscale": [
             [
              0,
              "#0d0887"
             ],
             [
              0.1111111111111111,
              "#46039f"
             ],
             [
              0.2222222222222222,
              "#7201a8"
             ],
             [
              0.3333333333333333,
              "#9c179e"
             ],
             [
              0.4444444444444444,
              "#bd3786"
             ],
             [
              0.5555555555555556,
              "#d8576b"
             ],
             [
              0.6666666666666666,
              "#ed7953"
             ],
             [
              0.7777777777777778,
              "#fb9f3a"
             ],
             [
              0.8888888888888888,
              "#fdca26"
             ],
             [
              1,
              "#f0f921"
             ]
            ],
            "type": "surface"
           }
          ],
          "table": [
           {
            "cells": {
             "fill": {
              "color": "#EBF0F8"
             },
             "line": {
              "color": "white"
             }
            },
            "header": {
             "fill": {
              "color": "#C8D4E3"
             },
             "line": {
              "color": "white"
             }
            },
            "type": "table"
           }
          ]
         },
         "layout": {
          "annotationdefaults": {
           "arrowcolor": "#2a3f5f",
           "arrowhead": 0,
           "arrowwidth": 1
          },
          "autotypenumbers": "strict",
          "coloraxis": {
           "colorbar": {
            "outlinewidth": 0,
            "ticks": ""
           }
          },
          "colorscale": {
           "diverging": [
            [
             0,
             "#8e0152"
            ],
            [
             0.1,
             "#c51b7d"
            ],
            [
             0.2,
             "#de77ae"
            ],
            [
             0.3,
             "#f1b6da"
            ],
            [
             0.4,
             "#fde0ef"
            ],
            [
             0.5,
             "#f7f7f7"
            ],
            [
             0.6,
             "#e6f5d0"
            ],
            [
             0.7,
             "#b8e186"
            ],
            [
             0.8,
             "#7fbc41"
            ],
            [
             0.9,
             "#4d9221"
            ],
            [
             1,
             "#276419"
            ]
           ],
           "sequential": [
            [
             0,
             "#0d0887"
            ],
            [
             0.1111111111111111,
             "#46039f"
            ],
            [
             0.2222222222222222,
             "#7201a8"
            ],
            [
             0.3333333333333333,
             "#9c179e"
            ],
            [
             0.4444444444444444,
             "#bd3786"
            ],
            [
             0.5555555555555556,
             "#d8576b"
            ],
            [
             0.6666666666666666,
             "#ed7953"
            ],
            [
             0.7777777777777778,
             "#fb9f3a"
            ],
            [
             0.8888888888888888,
             "#fdca26"
            ],
            [
             1,
             "#f0f921"
            ]
           ],
           "sequentialminus": [
            [
             0,
             "#0d0887"
            ],
            [
             0.1111111111111111,
             "#46039f"
            ],
            [
             0.2222222222222222,
             "#7201a8"
            ],
            [
             0.3333333333333333,
             "#9c179e"
            ],
            [
             0.4444444444444444,
             "#bd3786"
            ],
            [
             0.5555555555555556,
             "#d8576b"
            ],
            [
             0.6666666666666666,
             "#ed7953"
            ],
            [
             0.7777777777777778,
             "#fb9f3a"
            ],
            [
             0.8888888888888888,
             "#fdca26"
            ],
            [
             1,
             "#f0f921"
            ]
           ]
          },
          "colorway": [
           "#636efa",
           "#EF553B",
           "#00cc96",
           "#ab63fa",
           "#FFA15A",
           "#19d3f3",
           "#FF6692",
           "#B6E880",
           "#FF97FF",
           "#FECB52"
          ],
          "font": {
           "color": "#2a3f5f"
          },
          "geo": {
           "bgcolor": "white",
           "lakecolor": "white",
           "landcolor": "#E5ECF6",
           "showlakes": true,
           "showland": true,
           "subunitcolor": "white"
          },
          "hoverlabel": {
           "align": "left"
          },
          "hovermode": "closest",
          "mapbox": {
           "style": "light"
          },
          "paper_bgcolor": "white",
          "plot_bgcolor": "#E5ECF6",
          "polar": {
           "angularaxis": {
            "gridcolor": "white",
            "linecolor": "white",
            "ticks": ""
           },
           "bgcolor": "#E5ECF6",
           "radialaxis": {
            "gridcolor": "white",
            "linecolor": "white",
            "ticks": ""
           }
          },
          "scene": {
           "xaxis": {
            "backgroundcolor": "#E5ECF6",
            "gridcolor": "white",
            "gridwidth": 2,
            "linecolor": "white",
            "showbackground": true,
            "ticks": "",
            "zerolinecolor": "white"
           },
           "yaxis": {
            "backgroundcolor": "#E5ECF6",
            "gridcolor": "white",
            "gridwidth": 2,
            "linecolor": "white",
            "showbackground": true,
            "ticks": "",
            "zerolinecolor": "white"
           },
           "zaxis": {
            "backgroundcolor": "#E5ECF6",
            "gridcolor": "white",
            "gridwidth": 2,
            "linecolor": "white",
            "showbackground": true,
            "ticks": "",
            "zerolinecolor": "white"
           }
          },
          "shapedefaults": {
           "line": {
            "color": "#2a3f5f"
           }
          },
          "ternary": {
           "aaxis": {
            "gridcolor": "white",
            "linecolor": "white",
            "ticks": ""
           },
           "baxis": {
            "gridcolor": "white",
            "linecolor": "white",
            "ticks": ""
           },
           "bgcolor": "#E5ECF6",
           "caxis": {
            "gridcolor": "white",
            "linecolor": "white",
            "ticks": ""
           }
          },
          "title": {
           "x": 0.05
          },
          "xaxis": {
           "automargin": true,
           "gridcolor": "white",
           "linecolor": "white",
           "ticks": "",
           "title": {
            "standoff": 15
           },
           "zerolinecolor": "white",
           "zerolinewidth": 2
          },
          "yaxis": {
           "automargin": true,
           "gridcolor": "white",
           "linecolor": "white",
           "ticks": "",
           "title": {
            "standoff": 15
           },
           "zerolinecolor": "white",
           "zerolinewidth": 2
          }
         }
        },
        "xaxis": {
         "anchor": "y",
         "domain": [
          0,
          0.49
         ],
         "title": {
          "text": "eval.k"
         }
        },
        "xaxis2": {
         "anchor": "y2",
         "domain": [
          0.51,
          1
         ],
         "matches": "x",
         "title": {
          "text": "eval.k"
         }
        },
        "yaxis": {
         "anchor": "x",
         "domain": [
          0,
          1
         ],
         "title": {
          "text": "answer_accuracy"
         }
        },
        "yaxis2": {
         "anchor": "x2",
         "domain": [
          0,
          1
         ],
         "matches": "y",
         "showticklabels": false
        }
       }
      }
     },
     "metadata": {},
     "output_type": "display_data"
    }
   ],
   "source": [
    "px.bar(\n",
    "    df.filter(pl.all_horizontal(pl.col(r\"^eval\\.*.$\").is_not_null()))\n",
    "    .groupby(pl.col(r\"^eval\\..*$\"))\n",
    "    .agg(pl.col(\"*\").first())\n",
    "    .sort(pl.col(\"answer_accuracy\"), descending=True),\n",
    "\n",
    "    x=\"eval.k\",\n",
    "    y=\"answer_accuracy\",\n",
    "    color=\"eval.search-method\",\n",
    "    facet_col=\"eval.extraction-method\",\n",
    "    barmode=\"group\",\n",
    ")"
   ]
  },
  {
   "cell_type": "code",
   "execution_count": 9,
   "metadata": {},
   "outputs": [
    {
     "data": {
      "application/vnd.plotly.v1+json": {
       "config": {
        "plotlyServerURL": "https://plot.ly"
       },
       "data": [
        {
         "hovertemplate": "eval.extraction-method=map<br>eval.search-method=embeddings_knn<br>eval.k=%{x}<br>answer_accuracy=%{y}<extra></extra>",
         "legendgroup": "map",
         "marker": {
          "color": "#636efa",
          "symbol": "circle"
         },
         "mode": "markers",
         "name": "map",
         "orientation": "v",
         "showlegend": true,
         "type": "scatter",
         "x": [
          16,
          6
         ],
         "xaxis": "x",
         "y": [
          0.78333336,
          0.7
         ],
         "yaxis": "y"
        },
        {
         "hovertemplate": "eval.extraction-method=map<br>eval.search-method=elasticsearch<br>eval.k=%{x}<br>answer_accuracy=%{y}<extra></extra>",
         "legendgroup": "map",
         "marker": {
          "color": "#636efa",
          "symbol": "circle"
         },
         "mode": "markers",
         "name": "map",
         "orientation": "v",
         "showlegend": false,
         "type": "scatter",
         "x": [
          12,
          12,
          12,
          12,
          12,
          6
         ],
         "xaxis": "x2",
         "y": [
          0.76666665,
          0.76666665,
          0.76666665,
          0.68703705,
          0.68703705,
          0.6851852
         ],
         "yaxis": "y2"
        },
        {
         "hovertemplate": "eval.extraction-method=tournament_reduce<br>eval.search-method=embeddings_knn<br>eval.k=%{x}<br>answer_accuracy=%{y}<extra></extra>",
         "legendgroup": "tournament_reduce",
         "marker": {
          "color": "#EF553B",
          "symbol": "circle"
         },
         "mode": "markers",
         "name": "tournament_reduce",
         "orientation": "v",
         "showlegend": true,
         "type": "scatter",
         "x": [
          16
         ],
         "xaxis": "x",
         "y": [
          0.5619048
         ],
         "yaxis": "y"
        },
        {
         "hovertemplate": "eval.extraction-method=tournament_reduce<br>eval.search-method=elasticsearch<br>eval.k=%{x}<br>answer_accuracy=%{y}<extra></extra>",
         "legendgroup": "tournament_reduce",
         "marker": {
          "color": "#EF553B",
          "symbol": "circle"
         },
         "mode": "markers",
         "name": "tournament_reduce",
         "orientation": "v",
         "showlegend": false,
         "type": "scatter",
         "x": [
          6
         ],
         "xaxis": "x2",
         "y": [
          0.66805553
         ],
         "yaxis": "y2"
        }
       ],
       "layout": {
        "annotations": [
         {
          "font": {},
          "showarrow": false,
          "text": "eval.search-method=embeddings_knn",
          "x": 0.15999999999999998,
          "xanchor": "center",
          "xref": "paper",
          "y": 1,
          "yanchor": "bottom",
          "yref": "paper"
         },
         {
          "font": {},
          "showarrow": false,
          "text": "eval.search-method=elasticsearch",
          "x": 0.49999999999999994,
          "xanchor": "center",
          "xref": "paper",
          "y": 1,
          "yanchor": "bottom",
          "yref": "paper"
         },
         {
          "font": {},
          "showarrow": false,
          "text": "eval.search-method=nan",
          "x": 0.8399999999999999,
          "xanchor": "center",
          "xref": "paper",
          "y": 1,
          "yanchor": "bottom",
          "yref": "paper"
         }
        ],
        "legend": {
         "title": {
          "text": "eval.extraction-method"
         },
         "tracegroupgap": 0
        },
        "margin": {
         "t": 60
        },
        "template": {
         "data": {
          "bar": [
           {
            "error_x": {
             "color": "#2a3f5f"
            },
            "error_y": {
             "color": "#2a3f5f"
            },
            "marker": {
             "line": {
              "color": "#E5ECF6",
              "width": 0.5
             },
             "pattern": {
              "fillmode": "overlay",
              "size": 10,
              "solidity": 0.2
             }
            },
            "type": "bar"
           }
          ],
          "barpolar": [
           {
            "marker": {
             "line": {
              "color": "#E5ECF6",
              "width": 0.5
             },
             "pattern": {
              "fillmode": "overlay",
              "size": 10,
              "solidity": 0.2
             }
            },
            "type": "barpolar"
           }
          ],
          "carpet": [
           {
            "aaxis": {
             "endlinecolor": "#2a3f5f",
             "gridcolor": "white",
             "linecolor": "white",
             "minorgridcolor": "white",
             "startlinecolor": "#2a3f5f"
            },
            "baxis": {
             "endlinecolor": "#2a3f5f",
             "gridcolor": "white",
             "linecolor": "white",
             "minorgridcolor": "white",
             "startlinecolor": "#2a3f5f"
            },
            "type": "carpet"
           }
          ],
          "choropleth": [
           {
            "colorbar": {
             "outlinewidth": 0,
             "ticks": ""
            },
            "type": "choropleth"
           }
          ],
          "contour": [
           {
            "colorbar": {
             "outlinewidth": 0,
             "ticks": ""
            },
            "colorscale": [
             [
              0,
              "#0d0887"
             ],
             [
              0.1111111111111111,
              "#46039f"
             ],
             [
              0.2222222222222222,
              "#7201a8"
             ],
             [
              0.3333333333333333,
              "#9c179e"
             ],
             [
              0.4444444444444444,
              "#bd3786"
             ],
             [
              0.5555555555555556,
              "#d8576b"
             ],
             [
              0.6666666666666666,
              "#ed7953"
             ],
             [
              0.7777777777777778,
              "#fb9f3a"
             ],
             [
              0.8888888888888888,
              "#fdca26"
             ],
             [
              1,
              "#f0f921"
             ]
            ],
            "type": "contour"
           }
          ],
          "contourcarpet": [
           {
            "colorbar": {
             "outlinewidth": 0,
             "ticks": ""
            },
            "type": "contourcarpet"
           }
          ],
          "heatmap": [
           {
            "colorbar": {
             "outlinewidth": 0,
             "ticks": ""
            },
            "colorscale": [
             [
              0,
              "#0d0887"
             ],
             [
              0.1111111111111111,
              "#46039f"
             ],
             [
              0.2222222222222222,
              "#7201a8"
             ],
             [
              0.3333333333333333,
              "#9c179e"
             ],
             [
              0.4444444444444444,
              "#bd3786"
             ],
             [
              0.5555555555555556,
              "#d8576b"
             ],
             [
              0.6666666666666666,
              "#ed7953"
             ],
             [
              0.7777777777777778,
              "#fb9f3a"
             ],
             [
              0.8888888888888888,
              "#fdca26"
             ],
             [
              1,
              "#f0f921"
             ]
            ],
            "type": "heatmap"
           }
          ],
          "heatmapgl": [
           {
            "colorbar": {
             "outlinewidth": 0,
             "ticks": ""
            },
            "colorscale": [
             [
              0,
              "#0d0887"
             ],
             [
              0.1111111111111111,
              "#46039f"
             ],
             [
              0.2222222222222222,
              "#7201a8"
             ],
             [
              0.3333333333333333,
              "#9c179e"
             ],
             [
              0.4444444444444444,
              "#bd3786"
             ],
             [
              0.5555555555555556,
              "#d8576b"
             ],
             [
              0.6666666666666666,
              "#ed7953"
             ],
             [
              0.7777777777777778,
              "#fb9f3a"
             ],
             [
              0.8888888888888888,
              "#fdca26"
             ],
             [
              1,
              "#f0f921"
             ]
            ],
            "type": "heatmapgl"
           }
          ],
          "histogram": [
           {
            "marker": {
             "pattern": {
              "fillmode": "overlay",
              "size": 10,
              "solidity": 0.2
             }
            },
            "type": "histogram"
           }
          ],
          "histogram2d": [
           {
            "colorbar": {
             "outlinewidth": 0,
             "ticks": ""
            },
            "colorscale": [
             [
              0,
              "#0d0887"
             ],
             [
              0.1111111111111111,
              "#46039f"
             ],
             [
              0.2222222222222222,
              "#7201a8"
             ],
             [
              0.3333333333333333,
              "#9c179e"
             ],
             [
              0.4444444444444444,
              "#bd3786"
             ],
             [
              0.5555555555555556,
              "#d8576b"
             ],
             [
              0.6666666666666666,
              "#ed7953"
             ],
             [
              0.7777777777777778,
              "#fb9f3a"
             ],
             [
              0.8888888888888888,
              "#fdca26"
             ],
             [
              1,
              "#f0f921"
             ]
            ],
            "type": "histogram2d"
           }
          ],
          "histogram2dcontour": [
           {
            "colorbar": {
             "outlinewidth": 0,
             "ticks": ""
            },
            "colorscale": [
             [
              0,
              "#0d0887"
             ],
             [
              0.1111111111111111,
              "#46039f"
             ],
             [
              0.2222222222222222,
              "#7201a8"
             ],
             [
              0.3333333333333333,
              "#9c179e"
             ],
             [
              0.4444444444444444,
              "#bd3786"
             ],
             [
              0.5555555555555556,
              "#d8576b"
             ],
             [
              0.6666666666666666,
              "#ed7953"
             ],
             [
              0.7777777777777778,
              "#fb9f3a"
             ],
             [
              0.8888888888888888,
              "#fdca26"
             ],
             [
              1,
              "#f0f921"
             ]
            ],
            "type": "histogram2dcontour"
           }
          ],
          "mesh3d": [
           {
            "colorbar": {
             "outlinewidth": 0,
             "ticks": ""
            },
            "type": "mesh3d"
           }
          ],
          "parcoords": [
           {
            "line": {
             "colorbar": {
              "outlinewidth": 0,
              "ticks": ""
             }
            },
            "type": "parcoords"
           }
          ],
          "pie": [
           {
            "automargin": true,
            "type": "pie"
           }
          ],
          "scatter": [
           {
            "fillpattern": {
             "fillmode": "overlay",
             "size": 10,
             "solidity": 0.2
            },
            "type": "scatter"
           }
          ],
          "scatter3d": [
           {
            "line": {
             "colorbar": {
              "outlinewidth": 0,
              "ticks": ""
             }
            },
            "marker": {
             "colorbar": {
              "outlinewidth": 0,
              "ticks": ""
             }
            },
            "type": "scatter3d"
           }
          ],
          "scattercarpet": [
           {
            "marker": {
             "colorbar": {
              "outlinewidth": 0,
              "ticks": ""
             }
            },
            "type": "scattercarpet"
           }
          ],
          "scattergeo": [
           {
            "marker": {
             "colorbar": {
              "outlinewidth": 0,
              "ticks": ""
             }
            },
            "type": "scattergeo"
           }
          ],
          "scattergl": [
           {
            "marker": {
             "colorbar": {
              "outlinewidth": 0,
              "ticks": ""
             }
            },
            "type": "scattergl"
           }
          ],
          "scattermapbox": [
           {
            "marker": {
             "colorbar": {
              "outlinewidth": 0,
              "ticks": ""
             }
            },
            "type": "scattermapbox"
           }
          ],
          "scatterpolar": [
           {
            "marker": {
             "colorbar": {
              "outlinewidth": 0,
              "ticks": ""
             }
            },
            "type": "scatterpolar"
           }
          ],
          "scatterpolargl": [
           {
            "marker": {
             "colorbar": {
              "outlinewidth": 0,
              "ticks": ""
             }
            },
            "type": "scatterpolargl"
           }
          ],
          "scatterternary": [
           {
            "marker": {
             "colorbar": {
              "outlinewidth": 0,
              "ticks": ""
             }
            },
            "type": "scatterternary"
           }
          ],
          "surface": [
           {
            "colorbar": {
             "outlinewidth": 0,
             "ticks": ""
            },
            "colorscale": [
             [
              0,
              "#0d0887"
             ],
             [
              0.1111111111111111,
              "#46039f"
             ],
             [
              0.2222222222222222,
              "#7201a8"
             ],
             [
              0.3333333333333333,
              "#9c179e"
             ],
             [
              0.4444444444444444,
              "#bd3786"
             ],
             [
              0.5555555555555556,
              "#d8576b"
             ],
             [
              0.6666666666666666,
              "#ed7953"
             ],
             [
              0.7777777777777778,
              "#fb9f3a"
             ],
             [
              0.8888888888888888,
              "#fdca26"
             ],
             [
              1,
              "#f0f921"
             ]
            ],
            "type": "surface"
           }
          ],
          "table": [
           {
            "cells": {
             "fill": {
              "color": "#EBF0F8"
             },
             "line": {
              "color": "white"
             }
            },
            "header": {
             "fill": {
              "color": "#C8D4E3"
             },
             "line": {
              "color": "white"
             }
            },
            "type": "table"
           }
          ]
         },
         "layout": {
          "annotationdefaults": {
           "arrowcolor": "#2a3f5f",
           "arrowhead": 0,
           "arrowwidth": 1
          },
          "autotypenumbers": "strict",
          "coloraxis": {
           "colorbar": {
            "outlinewidth": 0,
            "ticks": ""
           }
          },
          "colorscale": {
           "diverging": [
            [
             0,
             "#8e0152"
            ],
            [
             0.1,
             "#c51b7d"
            ],
            [
             0.2,
             "#de77ae"
            ],
            [
             0.3,
             "#f1b6da"
            ],
            [
             0.4,
             "#fde0ef"
            ],
            [
             0.5,
             "#f7f7f7"
            ],
            [
             0.6,
             "#e6f5d0"
            ],
            [
             0.7,
             "#b8e186"
            ],
            [
             0.8,
             "#7fbc41"
            ],
            [
             0.9,
             "#4d9221"
            ],
            [
             1,
             "#276419"
            ]
           ],
           "sequential": [
            [
             0,
             "#0d0887"
            ],
            [
             0.1111111111111111,
             "#46039f"
            ],
            [
             0.2222222222222222,
             "#7201a8"
            ],
            [
             0.3333333333333333,
             "#9c179e"
            ],
            [
             0.4444444444444444,
             "#bd3786"
            ],
            [
             0.5555555555555556,
             "#d8576b"
            ],
            [
             0.6666666666666666,
             "#ed7953"
            ],
            [
             0.7777777777777778,
             "#fb9f3a"
            ],
            [
             0.8888888888888888,
             "#fdca26"
            ],
            [
             1,
             "#f0f921"
            ]
           ],
           "sequentialminus": [
            [
             0,
             "#0d0887"
            ],
            [
             0.1111111111111111,
             "#46039f"
            ],
            [
             0.2222222222222222,
             "#7201a8"
            ],
            [
             0.3333333333333333,
             "#9c179e"
            ],
            [
             0.4444444444444444,
             "#bd3786"
            ],
            [
             0.5555555555555556,
             "#d8576b"
            ],
            [
             0.6666666666666666,
             "#ed7953"
            ],
            [
             0.7777777777777778,
             "#fb9f3a"
            ],
            [
             0.8888888888888888,
             "#fdca26"
            ],
            [
             1,
             "#f0f921"
            ]
           ]
          },
          "colorway": [
           "#636efa",
           "#EF553B",
           "#00cc96",
           "#ab63fa",
           "#FFA15A",
           "#19d3f3",
           "#FF6692",
           "#B6E880",
           "#FF97FF",
           "#FECB52"
          ],
          "font": {
           "color": "#2a3f5f"
          },
          "geo": {
           "bgcolor": "white",
           "lakecolor": "white",
           "landcolor": "#E5ECF6",
           "showlakes": true,
           "showland": true,
           "subunitcolor": "white"
          },
          "hoverlabel": {
           "align": "left"
          },
          "hovermode": "closest",
          "mapbox": {
           "style": "light"
          },
          "paper_bgcolor": "white",
          "plot_bgcolor": "#E5ECF6",
          "polar": {
           "angularaxis": {
            "gridcolor": "white",
            "linecolor": "white",
            "ticks": ""
           },
           "bgcolor": "#E5ECF6",
           "radialaxis": {
            "gridcolor": "white",
            "linecolor": "white",
            "ticks": ""
           }
          },
          "scene": {
           "xaxis": {
            "backgroundcolor": "#E5ECF6",
            "gridcolor": "white",
            "gridwidth": 2,
            "linecolor": "white",
            "showbackground": true,
            "ticks": "",
            "zerolinecolor": "white"
           },
           "yaxis": {
            "backgroundcolor": "#E5ECF6",
            "gridcolor": "white",
            "gridwidth": 2,
            "linecolor": "white",
            "showbackground": true,
            "ticks": "",
            "zerolinecolor": "white"
           },
           "zaxis": {
            "backgroundcolor": "#E5ECF6",
            "gridcolor": "white",
            "gridwidth": 2,
            "linecolor": "white",
            "showbackground": true,
            "ticks": "",
            "zerolinecolor": "white"
           }
          },
          "shapedefaults": {
           "line": {
            "color": "#2a3f5f"
           }
          },
          "ternary": {
           "aaxis": {
            "gridcolor": "white",
            "linecolor": "white",
            "ticks": ""
           },
           "baxis": {
            "gridcolor": "white",
            "linecolor": "white",
            "ticks": ""
           },
           "bgcolor": "#E5ECF6",
           "caxis": {
            "gridcolor": "white",
            "linecolor": "white",
            "ticks": ""
           }
          },
          "title": {
           "x": 0.05
          },
          "xaxis": {
           "automargin": true,
           "gridcolor": "white",
           "linecolor": "white",
           "ticks": "",
           "title": {
            "standoff": 15
           },
           "zerolinecolor": "white",
           "zerolinewidth": 2
          },
          "yaxis": {
           "automargin": true,
           "gridcolor": "white",
           "linecolor": "white",
           "ticks": "",
           "title": {
            "standoff": 15
           },
           "zerolinecolor": "white",
           "zerolinewidth": 2
          }
         }
        },
        "xaxis": {
         "anchor": "y",
         "domain": [
          0,
          0.31999999999999995
         ],
         "title": {
          "text": "eval.k"
         }
        },
        "xaxis2": {
         "anchor": "y2",
         "domain": [
          0.33999999999999997,
          0.6599999999999999
         ],
         "matches": "x",
         "title": {
          "text": "eval.k"
         }
        },
        "xaxis3": {
         "anchor": "y3",
         "domain": [
          0.6799999999999999,
          0.9999999999999999
         ],
         "matches": "x",
         "title": {
          "text": "eval.k"
         }
        },
        "yaxis": {
         "anchor": "x",
         "domain": [
          0,
          1
         ],
         "title": {
          "text": "answer_accuracy"
         }
        },
        "yaxis2": {
         "anchor": "x2",
         "domain": [
          0,
          1
         ],
         "matches": "y",
         "showticklabels": false
        },
        "yaxis3": {
         "anchor": "x3",
         "domain": [
          0,
          1
         ],
         "matches": "y",
         "showticklabels": false
        }
       }
      }
     },
     "metadata": {},
     "output_type": "display_data"
    }
   ],
   "source": [
    "px.scatter(\n",
    "    df.with_columns(pl.col(\"answer_accuracy\").cast(pl.Float32, strict=False)),\n",
    "    x=\"eval.k\",\n",
    "    y=\"answer_accuracy\",\n",
    "    facet_col=\"eval.search-method\",\n",
    "    color=\"eval.extraction-method\",\n",
    ")"
   ]
  },
  {
   "cell_type": "code",
   "execution_count": null,
   "metadata": {},
   "outputs": [],
   "source": []
  }
 ],
 "metadata": {
  "kernelspec": {
   "display_name": ".venv",
   "language": "python",
   "name": "python3"
  },
  "language_info": {
   "codemirror_mode": {
    "name": "ipython",
    "version": 3
   },
   "file_extension": ".py",
   "mimetype": "text/x-python",
   "name": "python",
   "nbconvert_exporter": "python",
   "pygments_lexer": "ipython3",
   "version": "3.11.5"
  },
  "orig_nbformat": 4
 },
 "nbformat": 4,
 "nbformat_minor": 2
}
