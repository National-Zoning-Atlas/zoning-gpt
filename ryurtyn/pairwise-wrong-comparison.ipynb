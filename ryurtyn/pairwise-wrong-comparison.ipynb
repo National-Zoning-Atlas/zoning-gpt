{
 "cells": [
  {
   "cell_type": "code",
   "execution_count": 31,
   "metadata": {},
   "outputs": [
    {
     "ename": "NameError",
     "evalue": "name 'LookupOutput' is not defined",
     "output_type": "error",
     "traceback": [
      "\u001b[0;31m---------------------------------------------------------------------------\u001b[0m",
      "\u001b[0;31mNameError\u001b[0m                                 Traceback (most recent call last)",
      "\u001b[1;32m/Users/rusy/Documents/Cornell/fa23/Zoning/zoning-gpt/ryurtyn/pairwise-wrong-comparison.ipynb Cell 2\u001b[0m line \u001b[0;36m7\n\u001b[1;32m      <a href='vscode-notebook-cell:/Users/rusy/Documents/Cornell/fa23/Zoning/zoning-gpt/ryurtyn/pairwise-wrong-comparison.ipynb#X46sZmlsZQ%3D%3D?line=0'>1</a>\u001b[0m \u001b[39m\"\"\"\u001b[39;00m\n\u001b[1;32m      <a href='vscode-notebook-cell:/Users/rusy/Documents/Cornell/fa23/Zoning/zoning-gpt/ryurtyn/pairwise-wrong-comparison.ipynb#X46sZmlsZQ%3D%3D?line=1'>2</a>\u001b[0m \u001b[39mIf you want to use new map results, then go to tournament_reduce.py, and replace the extract() method with the following code. \u001b[39;00m\n\u001b[1;32m      <a href='vscode-notebook-cell:/Users/rusy/Documents/Cornell/fa23/Zoning/zoning-gpt/ryurtyn/pairwise-wrong-comparison.ipynb#X46sZmlsZQ%3D%3D?line=2'>3</a>\u001b[0m \u001b[39mThis will save the map results for use in this notebook. Once those are saved, switch the original code back. \u001b[39;00m\n\u001b[1;32m      <a href='vscode-notebook-cell:/Users/rusy/Documents/Cornell/fa23/Zoning/zoning-gpt/ryurtyn/pairwise-wrong-comparison.ipynb#X46sZmlsZQ%3D%3D?line=3'>4</a>\u001b[0m \u001b[39m\"\"\"\u001b[39;00m\n\u001b[1;32m      <a href='vscode-notebook-cell:/Users/rusy/Documents/Cornell/fa23/Zoning/zoning-gpt/ryurtyn/pairwise-wrong-comparison.ipynb#X46sZmlsZQ%3D%3D?line=5'>6</a>\u001b[0m \u001b[39masync\u001b[39;00m \u001b[39mdef\u001b[39;00m \u001b[39mextract\u001b[39m(\n\u001b[0;32m----> <a href='vscode-notebook-cell:/Users/rusy/Documents/Cornell/fa23/Zoning/zoning-gpt/ryurtyn/pairwise-wrong-comparison.ipynb#X46sZmlsZQ%3D%3D?line=6'>7</a>\u001b[0m     \u001b[39mself\u001b[39m, results: \u001b[39mlist\u001b[39m[LookupOutput], district: District, term: \u001b[39mstr\u001b[39m\n\u001b[1;32m      <a href='vscode-notebook-cell:/Users/rusy/Documents/Cornell/fa23/Zoning/zoning-gpt/ryurtyn/pairwise-wrong-comparison.ipynb#X46sZmlsZQ%3D%3D?line=7'>8</a>\u001b[0m ):\n\u001b[1;32m      <a href='vscode-notebook-cell:/Users/rusy/Documents/Cornell/fa23/Zoning/zoning-gpt/ryurtyn/pairwise-wrong-comparison.ipynb#X46sZmlsZQ%3D%3D?line=8'>9</a>\u001b[0m     \u001b[39m# We first map extraction across all pages.\u001b[39;00m\n\u001b[1;32m     <a href='vscode-notebook-cell:/Users/rusy/Documents/Cornell/fa23/Zoning/zoning-gpt/ryurtyn/pairwise-wrong-comparison.ipynb#X46sZmlsZQ%3D%3D?line=9'>10</a>\u001b[0m     results \u001b[39m=\u001b[39m []\n\u001b[1;32m     <a href='vscode-notebook-cell:/Users/rusy/Documents/Cornell/fa23/Zoning/zoning-gpt/ryurtyn/pairwise-wrong-comparison.ipynb#X46sZmlsZQ%3D%3D?line=10'>11</a>\u001b[0m     empty_results \u001b[39m=\u001b[39m []\n",
      "\u001b[0;31mNameError\u001b[0m: name 'LookupOutput' is not defined"
     ]
    }
   ],
   "source": [
    "\"\"\"\n",
    "If you want to use new map results, then go to tournament_reduce.py, and replace the extract() method with the following code. \n",
    "This will save the map results for use in this notebook. Once those are saved, switch the original code back. \n",
    "\"\"\"\n",
    "\n",
    "async def extract(\n",
    "    self, results: list[LookupOutput], district: District, term: str\n",
    "):\n",
    "    # We first map extraction across all pages.\n",
    "    results = []\n",
    "    empty_results = []\n",
    "    map_pickle = []\n",
    "    async for r in super().extract(pages, district, term):\n",
    "        map_pickle.append(r)\n",
    "        if (r.output is not None) and r.output.extracted_text:\n",
    "            results.append(r)\n",
    "        else:\n",
    "            empty_results.append(r)\n",
    "            \n",
    "    # Load existing data if the file already exists\n",
    "    try:\n",
    "        with open(\"./ryurtyn/map_results_11_14_0.dat\", \"rb\") as f:\n",
    "            existing_data = pickle.load(f)\n",
    "    except FileNotFoundError:\n",
    "        existing_data = {}  # If the file doesn't exist, initialize an empty dictionary\n",
    "\n",
    "    try:\n",
    "        with open(\"./ryurtyn/districts_11_14_0.dat\", \"rb\") as f:\n",
    "            existing_data_district = pickle.load(f)\n",
    "    except FileNotFoundError:\n",
    "        existing_data_district = {} \n",
    "    # Assuming district.short_name and results are defined somewhere in your code\n",
    "    new_data = {district.short_name: map_pickle}\n",
    "    new_data_district = {district.short_name: district}\n",
    "\n",
    "    # Merge the existing data with the new data\n",
    "    existing_data.update(new_data)\n",
    "    existing_data_district.update(new_data_district)\n",
    "\n",
    "    # Write the updated data back to the file\n",
    "    with open(\"./ryurtyn/map_results_11_14_0.dat\", \"wb\") as f:\n",
    "        pickle.dump(existing_data, f)\n",
    "\n",
    "    with open(\"./ryurtyn/districts_11_14_0.dat\", \"wb\") as f:\n",
    "        pickle.dump(existing_data_district, f)\n",
    "\n",
    "    # Ensure that we yield one empty result to handle case when the expected output is None\n",
    "    if len(empty_results) != 0:\n",
    "        yield empty_results[0]"
   ]
  },
  {
   "cell_type": "code",
   "execution_count": 42,
   "metadata": {},
   "outputs": [],
   "source": [
    "import pickle\n",
    "from zoning.term_extraction.extract.tournament_reduce import TournamentReduceExtractor, tournament_reduce\n",
    "import asyncio\n",
    "import pandas as pd"
   ]
  },
  {
   "cell_type": "code",
   "execution_count": 38,
   "metadata": {},
   "outputs": [],
   "source": [
    "# load the map outputs\n",
    "with open(\"map_results_11_14_0.dat\", \"rb\") as f:\n",
    "    map_outputs = pickle.load(f)\n",
    "\n",
    "# load the dictionary of district objects\n",
    "with open(\"districts_11_14_0.dat\", \"rb\") as f:\n",
    "    districts = pickle.load(f)"
   ]
  },
  {
   "cell_type": "code",
   "execution_count": 39,
   "metadata": {},
   "outputs": [
    {
     "data": {
      "text/plain": [
       "(8, 20)"
      ]
     },
     "execution_count": 39,
     "metadata": {},
     "output_type": "execute_result"
    }
   ],
   "source": [
    "# get districts \n",
    "districts_without_ground_truth = [\"TD\", \"IP\", \"VDO\", \"IND-1\", \"GB\", \"MXN\", \"MX2\", \"AZ\"]\n",
    "districts_with_ground_truth = [d for d in districts.keys() if d not in districts_without_ground_truth]\n",
    "len(districts_without_ground_truth), len(districts_with_ground_truth)"
   ]
  },
  {
   "cell_type": "code",
   "execution_count": 40,
   "metadata": {},
   "outputs": [],
   "source": [
    "# Define an asynchronous function that executes the coroutine object\n",
    "async def execute_tournament_test(inputs, term, district):\n",
    "    # Your coroutine object (replace this with your actual coroutine)\n",
    "    async def my_coroutine():\n",
    "        return await tournament_reduce(inputs, term, district, 1)\n",
    "    # Execute the coroutine object using await\n",
    "    return await my_coroutine()"
   ]
  },
  {
   "cell_type": "code",
   "execution_count": 36,
   "metadata": {},
   "outputs": [
    {
     "ename": "NameError",
     "evalue": "name 'LookupOutput' is not defined",
     "output_type": "error",
     "traceback": [
      "\u001b[0;31m---------------------------------------------------------------------------\u001b[0m",
      "\u001b[0;31mNameError\u001b[0m                                 Traceback (most recent call last)",
      "\u001b[1;32m/Users/rusy/Documents/Cornell/fa23/Zoning/zoning-gpt/ryurtyn/pairwise-wrong-comparison.ipynb Cell 6\u001b[0m line \u001b[0;36m6\n\u001b[1;32m      <a href='vscode-notebook-cell:/Users/rusy/Documents/Cornell/fa23/Zoning/zoning-gpt/ryurtyn/pairwise-wrong-comparison.ipynb#X50sZmlsZQ%3D%3D?line=0'>1</a>\u001b[0m \u001b[39m\"\"\"\u001b[39;00m\n\u001b[1;32m      <a href='vscode-notebook-cell:/Users/rusy/Documents/Cornell/fa23/Zoning/zoning-gpt/ryurtyn/pairwise-wrong-comparison.ipynb#X50sZmlsZQ%3D%3D?line=1'>2</a>\u001b[0m \u001b[39mWhen you're ready to run the experiment, replace the extract method of tournament with this code.\u001b[39;00m\n\u001b[1;32m      <a href='vscode-notebook-cell:/Users/rusy/Documents/Cornell/fa23/Zoning/zoning-gpt/ryurtyn/pairwise-wrong-comparison.ipynb#X50sZmlsZQ%3D%3D?line=2'>3</a>\u001b[0m \u001b[39mThis ensure that you don't map extract, and just run tournamnet on your pair of elements\u001b[39;00m\n\u001b[1;32m      <a href='vscode-notebook-cell:/Users/rusy/Documents/Cornell/fa23/Zoning/zoning-gpt/ryurtyn/pairwise-wrong-comparison.ipynb#X50sZmlsZQ%3D%3D?line=3'>4</a>\u001b[0m \u001b[39m\"\"\"\u001b[39;00m\n\u001b[1;32m      <a href='vscode-notebook-cell:/Users/rusy/Documents/Cornell/fa23/Zoning/zoning-gpt/ryurtyn/pairwise-wrong-comparison.ipynb#X50sZmlsZQ%3D%3D?line=4'>5</a>\u001b[0m \u001b[39masync\u001b[39;00m \u001b[39mdef\u001b[39;00m \u001b[39mextract\u001b[39m(\n\u001b[0;32m----> <a href='vscode-notebook-cell:/Users/rusy/Documents/Cornell/fa23/Zoning/zoning-gpt/ryurtyn/pairwise-wrong-comparison.ipynb#X50sZmlsZQ%3D%3D?line=5'>6</a>\u001b[0m     \u001b[39mself\u001b[39m, pages: \u001b[39mlist\u001b[39m[LookupOutput], district: District, term: \u001b[39mstr\u001b[39m\n\u001b[1;32m      <a href='vscode-notebook-cell:/Users/rusy/Documents/Cornell/fa23/Zoning/zoning-gpt/ryurtyn/pairwise-wrong-comparison.ipynb#X50sZmlsZQ%3D%3D?line=6'>7</a>\u001b[0m ):\n\u001b[1;32m      <a href='vscode-notebook-cell:/Users/rusy/Documents/Cornell/fa23/Zoning/zoning-gpt/ryurtyn/pairwise-wrong-comparison.ipynb#X50sZmlsZQ%3D%3D?line=7'>8</a>\u001b[0m     results \u001b[39m=\u001b[39m pages\n\u001b[1;32m      <a href='vscode-notebook-cell:/Users/rusy/Documents/Cornell/fa23/Zoning/zoning-gpt/ryurtyn/pairwise-wrong-comparison.ipynb#X50sZmlsZQ%3D%3D?line=8'>9</a>\u001b[0m     \u001b[39mfor\u001b[39;00m result \u001b[39min\u001b[39;00m \u001b[39mawait\u001b[39;00m tournament_reduce(results, term, district, \u001b[39mself\u001b[39m\u001b[39m.\u001b[39mk):\n",
      "\u001b[0;31mNameError\u001b[0m: name 'LookupOutput' is not defined"
     ]
    }
   ],
   "source": [
    "\"\"\"\n",
    "When you're ready to run the experiment, replace the extract method of tournament with this code.\n",
    "This ensure that you don't map extract, and just run tournamnet on your pair of elements\n",
    "\"\"\"\n",
    "async def extract(\n",
    "    self, pages: list[LookupOutput], district: District, term: str\n",
    "):\n",
    "    results = pages\n",
    "    for result in await tournament_reduce(results, term, district, self.k):\n",
    "        yield result"
   ]
  },
  {
   "cell_type": "markdown",
   "metadata": {},
   "source": [
    "Comparing Results Where GT doesn't exist"
   ]
  },
  {
   "cell_type": "code",
   "execution_count": 41,
   "metadata": {},
   "outputs": [
    {
     "name": "stdout",
     "output_type": "stream",
     "text": [
      "District:  full_name='Technology Development' short_name='TD'\n",
      "Selected None:  0\n",
      "Selected Index:  3\n",
      "Accuracy:  0.0\n",
      "District:  full_name='Industrial Park' short_name='IP'\n"
     ]
    },
    {
     "name": "stderr",
     "output_type": "stream",
     "text": [
      "/Users/rusy/Documents/Cornell/fa23/Zoning/zoning-gpt/zoning/term_extraction/extract/utils.py:37: UserWarning: Phrase CELL (1, 1): \n",
      "Minimum lot area was found more than once in the document.\n",
      "  warnings.warn(f\"Phrase {phrase} was found more than once in the document.\")\n"
     ]
    },
    {
     "name": "stdout",
     "output_type": "stream",
     "text": [
      "Selected None:  0\n",
      "Selected Index:  28\n",
      "Accuracy:  0.0\n",
      "District:  full_name='Village Overlay' short_name='VDO'\n"
     ]
    },
    {
     "ename": "CancelledError",
     "evalue": "",
     "output_type": "error",
     "traceback": [
      "\u001b[0;31m---------------------------------------------------------------------------\u001b[0m",
      "\u001b[0;31mCancelledError\u001b[0m                            Traceback (most recent call last)",
      "\u001b[1;32m/Users/rusy/Documents/Cornell/fa23/Zoning/zoning-gpt/ryurtyn/pairwise-wrong-comparison.ipynb Cell 8\u001b[0m line \u001b[0;36m2\n\u001b[1;32m     <a href='vscode-notebook-cell:/Users/rusy/Documents/Cornell/fa23/Zoning/zoning-gpt/ryurtyn/pairwise-wrong-comparison.ipynb#X53sZmlsZQ%3D%3D?line=18'>19</a>\u001b[0m j \u001b[39m=\u001b[39m inputs[b]\n\u001b[1;32m     <a href='vscode-notebook-cell:/Users/rusy/Documents/Cornell/fa23/Zoning/zoning-gpt/ryurtyn/pairwise-wrong-comparison.ipynb#X53sZmlsZQ%3D%3D?line=19'>20</a>\u001b[0m \u001b[39mif\u001b[39;00m j\u001b[39m.\u001b[39moutput \u001b[39mand\u001b[39;00m j\u001b[39m.\u001b[39moutput\u001b[39m.\u001b[39mextracted_text:\n\u001b[0;32m---> <a href='vscode-notebook-cell:/Users/rusy/Documents/Cornell/fa23/Zoning/zoning-gpt/ryurtyn/pairwise-wrong-comparison.ipynb#X53sZmlsZQ%3D%3D?line=20'>21</a>\u001b[0m     res \u001b[39m=\u001b[39m \u001b[39mawait\u001b[39;00m execute_tournament_test([i, j], term, district)\n\u001b[1;32m     <a href='vscode-notebook-cell:/Users/rusy/Documents/Cornell/fa23/Zoning/zoning-gpt/ryurtyn/pairwise-wrong-comparison.ipynb#X53sZmlsZQ%3D%3D?line=21'>22</a>\u001b[0m     \u001b[39mif\u001b[39;00m res \u001b[39m==\u001b[39m \u001b[39m-\u001b[39m\u001b[39m1\u001b[39m:\n\u001b[1;32m     <a href='vscode-notebook-cell:/Users/rusy/Documents/Cornell/fa23/Zoning/zoning-gpt/ryurtyn/pairwise-wrong-comparison.ipynb#X53sZmlsZQ%3D%3D?line=22'>23</a>\u001b[0m         selected_none \u001b[39m+\u001b[39m\u001b[39m=\u001b[39m \u001b[39m1\u001b[39m\n",
      "\u001b[1;32m/Users/rusy/Documents/Cornell/fa23/Zoning/zoning-gpt/ryurtyn/pairwise-wrong-comparison.ipynb Cell 8\u001b[0m line \u001b[0;36m7\n\u001b[1;32m      <a href='vscode-notebook-cell:/Users/rusy/Documents/Cornell/fa23/Zoning/zoning-gpt/ryurtyn/pairwise-wrong-comparison.ipynb#X53sZmlsZQ%3D%3D?line=4'>5</a>\u001b[0m     \u001b[39mreturn\u001b[39;00m \u001b[39mawait\u001b[39;00m tournament_reduce(inputs, term, district, \u001b[39m1\u001b[39m)\n\u001b[1;32m      <a href='vscode-notebook-cell:/Users/rusy/Documents/Cornell/fa23/Zoning/zoning-gpt/ryurtyn/pairwise-wrong-comparison.ipynb#X53sZmlsZQ%3D%3D?line=5'>6</a>\u001b[0m \u001b[39m# Execute the coroutine object using await\u001b[39;00m\n\u001b[0;32m----> <a href='vscode-notebook-cell:/Users/rusy/Documents/Cornell/fa23/Zoning/zoning-gpt/ryurtyn/pairwise-wrong-comparison.ipynb#X53sZmlsZQ%3D%3D?line=6'>7</a>\u001b[0m \u001b[39mreturn\u001b[39;00m \u001b[39mawait\u001b[39;00m my_coroutine()\n",
      "\u001b[1;32m/Users/rusy/Documents/Cornell/fa23/Zoning/zoning-gpt/ryurtyn/pairwise-wrong-comparison.ipynb Cell 8\u001b[0m line \u001b[0;36m5\n\u001b[1;32m      <a href='vscode-notebook-cell:/Users/rusy/Documents/Cornell/fa23/Zoning/zoning-gpt/ryurtyn/pairwise-wrong-comparison.ipynb#X53sZmlsZQ%3D%3D?line=3'>4</a>\u001b[0m \u001b[39masync\u001b[39;00m \u001b[39mdef\u001b[39;00m \u001b[39mmy_coroutine\u001b[39m():\n\u001b[0;32m----> <a href='vscode-notebook-cell:/Users/rusy/Documents/Cornell/fa23/Zoning/zoning-gpt/ryurtyn/pairwise-wrong-comparison.ipynb#X53sZmlsZQ%3D%3D?line=4'>5</a>\u001b[0m     \u001b[39mreturn\u001b[39;00m \u001b[39mawait\u001b[39;00m tournament_reduce(inputs, term, district, \u001b[39m1\u001b[39m)\n",
      "File \u001b[0;32m~/Documents/Cornell/fa23/Zoning/zoning-gpt/zoning/term_extraction/extract/tournament_reduce.py:49\u001b[0m, in \u001b[0;36mtournament_reduce\u001b[0;34m(results, term, district, k)\u001b[0m\n\u001b[1;32m     39\u001b[0m \u001b[39mfor\u001b[39;00m competitor_batch \u001b[39min\u001b[39;00m batched((r \u001b[39mfor\u001b[39;00m r \u001b[39min\u001b[39;00m (results[current_winner_index], results[i]) \u001b[39mif\u001b[39;00m r\u001b[39m.\u001b[39moutput \u001b[39mis\u001b[39;00m \u001b[39mnot\u001b[39;00m \u001b[39mNone\u001b[39;00m), \u001b[39m2\u001b[39m):\n\u001b[1;32m     40\u001b[0m     input_prompt \u001b[39m=\u001b[39m tournament_reduce_tmpl\u001b[39m.\u001b[39mrender(\n\u001b[1;32m     41\u001b[0m         term\u001b[39m=\u001b[39mterm,\n\u001b[1;32m     42\u001b[0m         synonyms\u001b[39m=\u001b[39m\u001b[39m\"\u001b[39m\u001b[39m, \u001b[39m\u001b[39m\"\u001b[39m\u001b[39m.\u001b[39mjoin(thesaurus\u001b[39m.\u001b[39mget(term, [])),\n\u001b[0;32m   (...)\u001b[0m\n\u001b[1;32m     46\u001b[0m         ),\n\u001b[1;32m     47\u001b[0m     )\n\u001b[0;32m---> 49\u001b[0m     text \u001b[39m=\u001b[39m \u001b[39mawait\u001b[39;00m prompt(\n\u001b[1;32m     50\u001b[0m         \u001b[39m\"\u001b[39m\u001b[39mgpt-4-1106-preview\u001b[39m\u001b[39m\"\u001b[39m, [{\u001b[39m\"\u001b[39m\u001b[39mrole\u001b[39m\u001b[39m\"\u001b[39m: \u001b[39m\"\u001b[39m\u001b[39muser\u001b[39m\u001b[39m\"\u001b[39m, \u001b[39m\"\u001b[39m\u001b[39mcontent\u001b[39m\u001b[39m\"\u001b[39m: input_prompt}], max_tokens\u001b[39m=\u001b[39m\u001b[39m1\u001b[39m\n\u001b[1;32m     51\u001b[0m     )\n\u001b[1;32m     53\u001b[0m     \u001b[39mif\u001b[39;00m text \u001b[39mis\u001b[39;00m \u001b[39mNone\u001b[39;00m \u001b[39mor\u001b[39;00m text \u001b[39m==\u001b[39m \u001b[39m\"\u001b[39m\u001b[39mNO_ANSWER\u001b[39m\u001b[39m\"\u001b[39m:\n\u001b[1;32m     54\u001b[0m         warnings\u001b[39m.\u001b[39mwarn(\u001b[39m\"\u001b[39m\u001b[39mNo winner was present for a round in a tournament reduce.\u001b[39m\u001b[39m\"\u001b[39m)\n",
      "File \u001b[0;32m~/Documents/Cornell/fa23/Zoning/zoning-gpt/zoning/utils.py:94\u001b[0m, in \u001b[0;36mcached.<locals>.decorator.<locals>.async_wrapper\u001b[0;34m(*args, **kwargs)\u001b[0m\n\u001b[1;32m     89\u001b[0m key \u001b[39m=\u001b[39m keyfunc(\u001b[39m*\u001b[39margs, \u001b[39m*\u001b[39m\u001b[39m*\u001b[39mkwargs)\n\u001b[1;32m     91\u001b[0m \u001b[39m# if key in cache:\u001b[39;00m\n\u001b[1;32m     92\u001b[0m \u001b[39m#     return cache[key]\u001b[39;00m\n\u001b[1;32m     93\u001b[0m \u001b[39m# else:\u001b[39;00m\n\u001b[0;32m---> 94\u001b[0m result \u001b[39m=\u001b[39m \u001b[39mawait\u001b[39;00m func(\u001b[39m*\u001b[39margs, \u001b[39m*\u001b[39m\u001b[39m*\u001b[39mkwargs)\n\u001b[1;32m     95\u001b[0m cache[key] \u001b[39m=\u001b[39m result\n\u001b[1;32m     96\u001b[0m \u001b[39mreturn\u001b[39;00m result\n",
      "File \u001b[0;32m~/Documents/Cornell/fa23/Zoning/zoning-gpt/.venv/lib/python3.11/site-packages/tenacity/_asyncio.py:88\u001b[0m, in \u001b[0;36mAsyncRetrying.wraps.<locals>.async_wrapped\u001b[0;34m(*args, **kwargs)\u001b[0m\n\u001b[1;32m     86\u001b[0m \u001b[39m@functools\u001b[39m\u001b[39m.\u001b[39mwraps(fn)\n\u001b[1;32m     87\u001b[0m \u001b[39masync\u001b[39;00m \u001b[39mdef\u001b[39;00m \u001b[39masync_wrapped\u001b[39m(\u001b[39m*\u001b[39margs: t\u001b[39m.\u001b[39mAny, \u001b[39m*\u001b[39m\u001b[39m*\u001b[39mkwargs: t\u001b[39m.\u001b[39mAny) \u001b[39m-\u001b[39m\u001b[39m>\u001b[39m t\u001b[39m.\u001b[39mAny:\n\u001b[0;32m---> 88\u001b[0m     \u001b[39mreturn\u001b[39;00m \u001b[39mawait\u001b[39;00m fn(\u001b[39m*\u001b[39margs, \u001b[39m*\u001b[39m\u001b[39m*\u001b[39mkwargs)\n",
      "File \u001b[0;32m~/Documents/Cornell/fa23/Zoning/zoning-gpt/.venv/lib/python3.11/site-packages/tenacity/_asyncio.py:47\u001b[0m, in \u001b[0;36mAsyncRetrying.__call__\u001b[0;34m(self, fn, *args, **kwargs)\u001b[0m\n\u001b[1;32m     45\u001b[0m retry_state \u001b[39m=\u001b[39m RetryCallState(retry_object\u001b[39m=\u001b[39m\u001b[39mself\u001b[39m, fn\u001b[39m=\u001b[39mfn, args\u001b[39m=\u001b[39margs, kwargs\u001b[39m=\u001b[39mkwargs)\n\u001b[1;32m     46\u001b[0m \u001b[39mwhile\u001b[39;00m \u001b[39mTrue\u001b[39;00m:\n\u001b[0;32m---> 47\u001b[0m     do \u001b[39m=\u001b[39m \u001b[39mself\u001b[39;49m\u001b[39m.\u001b[39;49miter(retry_state\u001b[39m=\u001b[39;49mretry_state)\n\u001b[1;32m     48\u001b[0m     \u001b[39mif\u001b[39;00m \u001b[39misinstance\u001b[39m(do, DoAttempt):\n\u001b[1;32m     49\u001b[0m         \u001b[39mtry\u001b[39;00m:\n",
      "File \u001b[0;32m~/Documents/Cornell/fa23/Zoning/zoning-gpt/.venv/lib/python3.11/site-packages/tenacity/__init__.py:314\u001b[0m, in \u001b[0;36mBaseRetrying.iter\u001b[0;34m(self, retry_state)\u001b[0m\n\u001b[1;32m    312\u001b[0m is_explicit_retry \u001b[39m=\u001b[39m fut\u001b[39m.\u001b[39mfailed \u001b[39mand\u001b[39;00m \u001b[39misinstance\u001b[39m(fut\u001b[39m.\u001b[39mexception(), TryAgain)\n\u001b[1;32m    313\u001b[0m \u001b[39mif\u001b[39;00m \u001b[39mnot\u001b[39;00m (is_explicit_retry \u001b[39mor\u001b[39;00m \u001b[39mself\u001b[39m\u001b[39m.\u001b[39mretry(retry_state)):\n\u001b[0;32m--> 314\u001b[0m     \u001b[39mreturn\u001b[39;00m fut\u001b[39m.\u001b[39;49mresult()\n\u001b[1;32m    316\u001b[0m \u001b[39mif\u001b[39;00m \u001b[39mself\u001b[39m\u001b[39m.\u001b[39mafter \u001b[39mis\u001b[39;00m \u001b[39mnot\u001b[39;00m \u001b[39mNone\u001b[39;00m:\n\u001b[1;32m    317\u001b[0m     \u001b[39mself\u001b[39m\u001b[39m.\u001b[39mafter(retry_state)\n",
      "File \u001b[0;32m/opt/homebrew/Cellar/python@3.11/3.11.5/Frameworks/Python.framework/Versions/3.11/lib/python3.11/concurrent/futures/_base.py:449\u001b[0m, in \u001b[0;36mFuture.result\u001b[0;34m(self, timeout)\u001b[0m\n\u001b[1;32m    447\u001b[0m     \u001b[39mraise\u001b[39;00m CancelledError()\n\u001b[1;32m    448\u001b[0m \u001b[39melif\u001b[39;00m \u001b[39mself\u001b[39m\u001b[39m.\u001b[39m_state \u001b[39m==\u001b[39m FINISHED:\n\u001b[0;32m--> 449\u001b[0m     \u001b[39mreturn\u001b[39;00m \u001b[39mself\u001b[39;49m\u001b[39m.\u001b[39;49m__get_result()\n\u001b[1;32m    451\u001b[0m \u001b[39mself\u001b[39m\u001b[39m.\u001b[39m_condition\u001b[39m.\u001b[39mwait(timeout)\n\u001b[1;32m    453\u001b[0m \u001b[39mif\u001b[39;00m \u001b[39mself\u001b[39m\u001b[39m.\u001b[39m_state \u001b[39min\u001b[39;00m [CANCELLED, CANCELLED_AND_NOTIFIED]:\n",
      "File \u001b[0;32m/opt/homebrew/Cellar/python@3.11/3.11.5/Frameworks/Python.framework/Versions/3.11/lib/python3.11/concurrent/futures/_base.py:401\u001b[0m, in \u001b[0;36mFuture.__get_result\u001b[0;34m(self)\u001b[0m\n\u001b[1;32m    399\u001b[0m \u001b[39mif\u001b[39;00m \u001b[39mself\u001b[39m\u001b[39m.\u001b[39m_exception:\n\u001b[1;32m    400\u001b[0m     \u001b[39mtry\u001b[39;00m:\n\u001b[0;32m--> 401\u001b[0m         \u001b[39mraise\u001b[39;00m \u001b[39mself\u001b[39m\u001b[39m.\u001b[39m_exception\n\u001b[1;32m    402\u001b[0m     \u001b[39mfinally\u001b[39;00m:\n\u001b[1;32m    403\u001b[0m         \u001b[39m# Break a reference cycle with the exception in self._exception\u001b[39;00m\n\u001b[1;32m    404\u001b[0m         \u001b[39mself\u001b[39m \u001b[39m=\u001b[39m \u001b[39mNone\u001b[39;00m\n",
      "File \u001b[0;32m~/Documents/Cornell/fa23/Zoning/zoning-gpt/.venv/lib/python3.11/site-packages/tenacity/_asyncio.py:50\u001b[0m, in \u001b[0;36mAsyncRetrying.__call__\u001b[0;34m(self, fn, *args, **kwargs)\u001b[0m\n\u001b[1;32m     48\u001b[0m \u001b[39mif\u001b[39;00m \u001b[39misinstance\u001b[39m(do, DoAttempt):\n\u001b[1;32m     49\u001b[0m     \u001b[39mtry\u001b[39;00m:\n\u001b[0;32m---> 50\u001b[0m         result \u001b[39m=\u001b[39m \u001b[39mawait\u001b[39;00m fn(\u001b[39m*\u001b[39margs, \u001b[39m*\u001b[39m\u001b[39m*\u001b[39mkwargs)\n\u001b[1;32m     51\u001b[0m     \u001b[39mexcept\u001b[39;00m \u001b[39mBaseException\u001b[39;00m:  \u001b[39m# noqa: B902\u001b[39;00m\n\u001b[1;32m     52\u001b[0m         retry_state\u001b[39m.\u001b[39mset_exception(sys\u001b[39m.\u001b[39mexc_info())  \u001b[39m# type: ignore[arg-type]\u001b[39;00m\n",
      "File \u001b[0;32m~/Documents/Cornell/fa23/Zoning/zoning-gpt/zoning/utils.py:80\u001b[0m, in \u001b[0;36mlimit_global_concurrency.<locals>.decorator.<locals>.wrapper\u001b[0;34m(*args, **kwargs)\u001b[0m\n\u001b[1;32m     78\u001b[0m     \u001b[39masync\u001b[39;00m \u001b[39mwith\u001b[39;00m semaphore:\n\u001b[1;32m     79\u001b[0m         \u001b[39mreturn\u001b[39;00m \u001b[39mawait\u001b[39;00m coro\n\u001b[0;32m---> 80\u001b[0m \u001b[39mreturn\u001b[39;00m \u001b[39mawait\u001b[39;00m sem_coro(func(\u001b[39m*\u001b[39margs, \u001b[39m*\u001b[39m\u001b[39m*\u001b[39mkwargs))\n",
      "File \u001b[0;32m~/Documents/Cornell/fa23/Zoning/zoning-gpt/zoning/utils.py:79\u001b[0m, in \u001b[0;36mlimit_global_concurrency.<locals>.decorator.<locals>.wrapper.<locals>.sem_coro\u001b[0;34m(coro)\u001b[0m\n\u001b[1;32m     77\u001b[0m \u001b[39masync\u001b[39;00m \u001b[39mdef\u001b[39;00m \u001b[39msem_coro\u001b[39m(coro):\n\u001b[1;32m     78\u001b[0m     \u001b[39masync\u001b[39;00m \u001b[39mwith\u001b[39;00m semaphore:\n\u001b[0;32m---> 79\u001b[0m         \u001b[39mreturn\u001b[39;00m \u001b[39mawait\u001b[39;00m coro\n",
      "File \u001b[0;32m~/Documents/Cornell/fa23/Zoning/zoning-gpt/zoning/prompting.py:56\u001b[0m, in \u001b[0;36mprompt\u001b[0;34m(model_name, input_prompt, max_tokens)\u001b[0m\n\u001b[1;32m     54\u001b[0m     \u001b[39mreturn\u001b[39;00m top_choice\u001b[39m.\u001b[39mmessage\u001b[39m.\u001b[39mcontent\n\u001b[1;32m     55\u001b[0m \u001b[39mcase\u001b[39;00m \u001b[39m\"\u001b[39m\u001b[39mgpt-4-1106-preview\u001b[39m\u001b[39m\"\u001b[39m:\n\u001b[0;32m---> 56\u001b[0m     resp \u001b[39m=\u001b[39m \u001b[39mawait\u001b[39;00m openai\u001b[39m.\u001b[39mChatCompletion\u001b[39m.\u001b[39macreate(\n\u001b[1;32m     57\u001b[0m         \u001b[39m*\u001b[39m\u001b[39m*\u001b[39mbase_params,\n\u001b[1;32m     58\u001b[0m         messages\u001b[39m=\u001b[39minput_prompt,\n\u001b[1;32m     59\u001b[0m     )\n\u001b[1;32m     60\u001b[0m     top_choice \u001b[39m=\u001b[39m resp\u001b[39m.\u001b[39mchoices[\u001b[39m0\u001b[39m]  \u001b[39m# type: ignore\u001b[39;00m\n\u001b[1;32m     61\u001b[0m     \u001b[39mreturn\u001b[39;00m top_choice\u001b[39m.\u001b[39mmessage\u001b[39m.\u001b[39mcontent\n",
      "File \u001b[0;32m~/Documents/Cornell/fa23/Zoning/zoning-gpt/.venv/lib/python3.11/site-packages/openai/api_resources/chat_completion.py:45\u001b[0m, in \u001b[0;36mChatCompletion.acreate\u001b[0;34m(cls, *args, **kwargs)\u001b[0m\n\u001b[1;32m     43\u001b[0m \u001b[39mwhile\u001b[39;00m \u001b[39mTrue\u001b[39;00m:\n\u001b[1;32m     44\u001b[0m     \u001b[39mtry\u001b[39;00m:\n\u001b[0;32m---> 45\u001b[0m         \u001b[39mreturn\u001b[39;00m \u001b[39mawait\u001b[39;00m \u001b[39msuper\u001b[39m()\u001b[39m.\u001b[39macreate(\u001b[39m*\u001b[39margs, \u001b[39m*\u001b[39m\u001b[39m*\u001b[39mkwargs)\n\u001b[1;32m     46\u001b[0m     \u001b[39mexcept\u001b[39;00m TryAgain \u001b[39mas\u001b[39;00m e:\n\u001b[1;32m     47\u001b[0m         \u001b[39mif\u001b[39;00m timeout \u001b[39mis\u001b[39;00m \u001b[39mnot\u001b[39;00m \u001b[39mNone\u001b[39;00m \u001b[39mand\u001b[39;00m time\u001b[39m.\u001b[39mtime() \u001b[39m>\u001b[39m start \u001b[39m+\u001b[39m timeout:\n",
      "File \u001b[0;32m~/Documents/Cornell/fa23/Zoning/zoning-gpt/.venv/lib/python3.11/site-packages/openai/api_resources/abstract/engine_api_resource.py:217\u001b[0m, in \u001b[0;36mEngineAPIResource.acreate\u001b[0;34m(cls, api_key, api_base, api_type, request_id, api_version, organization, **params)\u001b[0m\n\u001b[1;32m    192\u001b[0m \u001b[39m@classmethod\u001b[39m\n\u001b[1;32m    193\u001b[0m \u001b[39masync\u001b[39;00m \u001b[39mdef\u001b[39;00m \u001b[39macreate\u001b[39m(\n\u001b[1;32m    194\u001b[0m     \u001b[39mcls\u001b[39m,\n\u001b[0;32m   (...)\u001b[0m\n\u001b[1;32m    201\u001b[0m     \u001b[39m*\u001b[39m\u001b[39m*\u001b[39mparams,\n\u001b[1;32m    202\u001b[0m ):\n\u001b[1;32m    203\u001b[0m     (\n\u001b[1;32m    204\u001b[0m         deployment_id,\n\u001b[1;32m    205\u001b[0m         engine,\n\u001b[0;32m   (...)\u001b[0m\n\u001b[1;32m    215\u001b[0m         api_key, api_base, api_type, api_version, organization, \u001b[39m*\u001b[39m\u001b[39m*\u001b[39mparams\n\u001b[1;32m    216\u001b[0m     )\n\u001b[0;32m--> 217\u001b[0m     response, _, api_key \u001b[39m=\u001b[39m \u001b[39mawait\u001b[39;00m requestor\u001b[39m.\u001b[39marequest(\n\u001b[1;32m    218\u001b[0m         \u001b[39m\"\u001b[39m\u001b[39mpost\u001b[39m\u001b[39m\"\u001b[39m,\n\u001b[1;32m    219\u001b[0m         url,\n\u001b[1;32m    220\u001b[0m         params\u001b[39m=\u001b[39mparams,\n\u001b[1;32m    221\u001b[0m         headers\u001b[39m=\u001b[39mheaders,\n\u001b[1;32m    222\u001b[0m         stream\u001b[39m=\u001b[39mstream,\n\u001b[1;32m    223\u001b[0m         request_id\u001b[39m=\u001b[39mrequest_id,\n\u001b[1;32m    224\u001b[0m         request_timeout\u001b[39m=\u001b[39mrequest_timeout,\n\u001b[1;32m    225\u001b[0m     )\n\u001b[1;32m    227\u001b[0m     \u001b[39mif\u001b[39;00m stream:\n\u001b[1;32m    228\u001b[0m         \u001b[39m# must be an iterator\u001b[39;00m\n\u001b[1;32m    229\u001b[0m         \u001b[39massert\u001b[39;00m \u001b[39mnot\u001b[39;00m \u001b[39misinstance\u001b[39m(response, OpenAIResponse)\n",
      "File \u001b[0;32m~/Documents/Cornell/fa23/Zoning/zoning-gpt/.venv/lib/python3.11/site-packages/openai/api_requestor.py:372\u001b[0m, in \u001b[0;36mAPIRequestor.arequest\u001b[0;34m(self, method, url, params, headers, files, stream, request_id, request_timeout)\u001b[0m\n\u001b[1;32m    370\u001b[0m session \u001b[39m=\u001b[39m \u001b[39mawait\u001b[39;00m ctx\u001b[39m.\u001b[39m\u001b[39m__aenter__\u001b[39m()\n\u001b[1;32m    371\u001b[0m \u001b[39mtry\u001b[39;00m:\n\u001b[0;32m--> 372\u001b[0m     result \u001b[39m=\u001b[39m \u001b[39mawait\u001b[39;00m \u001b[39mself\u001b[39m\u001b[39m.\u001b[39marequest_raw(\n\u001b[1;32m    373\u001b[0m         method\u001b[39m.\u001b[39mlower(),\n\u001b[1;32m    374\u001b[0m         url,\n\u001b[1;32m    375\u001b[0m         session,\n\u001b[1;32m    376\u001b[0m         params\u001b[39m=\u001b[39mparams,\n\u001b[1;32m    377\u001b[0m         supplied_headers\u001b[39m=\u001b[39mheaders,\n\u001b[1;32m    378\u001b[0m         files\u001b[39m=\u001b[39mfiles,\n\u001b[1;32m    379\u001b[0m         request_id\u001b[39m=\u001b[39mrequest_id,\n\u001b[1;32m    380\u001b[0m         request_timeout\u001b[39m=\u001b[39mrequest_timeout,\n\u001b[1;32m    381\u001b[0m     )\n\u001b[1;32m    382\u001b[0m     resp, got_stream \u001b[39m=\u001b[39m \u001b[39mawait\u001b[39;00m \u001b[39mself\u001b[39m\u001b[39m.\u001b[39m_interpret_async_response(result, stream)\n\u001b[1;32m    383\u001b[0m \u001b[39mexcept\u001b[39;00m \u001b[39mException\u001b[39;00m:\n",
      "File \u001b[0;32m~/Documents/Cornell/fa23/Zoning/zoning-gpt/.venv/lib/python3.11/site-packages/openai/api_requestor.py:668\u001b[0m, in \u001b[0;36mAPIRequestor.arequest_raw\u001b[0;34m(self, method, url, session, params, supplied_headers, files, request_id, request_timeout)\u001b[0m\n\u001b[1;32m    659\u001b[0m request_kwargs \u001b[39m=\u001b[39m {\n\u001b[1;32m    660\u001b[0m     \u001b[39m\"\u001b[39m\u001b[39mmethod\u001b[39m\u001b[39m\"\u001b[39m: method,\n\u001b[1;32m    661\u001b[0m     \u001b[39m\"\u001b[39m\u001b[39murl\u001b[39m\u001b[39m\"\u001b[39m: abs_url,\n\u001b[0;32m   (...)\u001b[0m\n\u001b[1;32m    665\u001b[0m     \u001b[39m\"\u001b[39m\u001b[39mtimeout\u001b[39m\u001b[39m\"\u001b[39m: timeout,\n\u001b[1;32m    666\u001b[0m }\n\u001b[1;32m    667\u001b[0m \u001b[39mtry\u001b[39;00m:\n\u001b[0;32m--> 668\u001b[0m     result \u001b[39m=\u001b[39m \u001b[39mawait\u001b[39;00m session\u001b[39m.\u001b[39mrequest(\u001b[39m*\u001b[39m\u001b[39m*\u001b[39mrequest_kwargs)\n\u001b[1;32m    669\u001b[0m     util\u001b[39m.\u001b[39mlog_info(\n\u001b[1;32m    670\u001b[0m         \u001b[39m\"\u001b[39m\u001b[39mOpenAI API response\u001b[39m\u001b[39m\"\u001b[39m,\n\u001b[1;32m    671\u001b[0m         path\u001b[39m=\u001b[39mabs_url,\n\u001b[0;32m   (...)\u001b[0m\n\u001b[1;32m    674\u001b[0m         request_id\u001b[39m=\u001b[39mresult\u001b[39m.\u001b[39mheaders\u001b[39m.\u001b[39mget(\u001b[39m\"\u001b[39m\u001b[39mX-Request-Id\u001b[39m\u001b[39m\"\u001b[39m),\n\u001b[1;32m    675\u001b[0m     )\n\u001b[1;32m    676\u001b[0m     \u001b[39m# Don't read the whole stream for debug logging unless necessary.\u001b[39;00m\n",
      "File \u001b[0;32m~/Documents/Cornell/fa23/Zoning/zoning-gpt/.venv/lib/python3.11/site-packages/aiohttp/client.py:560\u001b[0m, in \u001b[0;36mClientSession._request\u001b[0;34m(self, method, str_or_url, params, data, json, cookies, headers, skip_auto_headers, auth, allow_redirects, max_redirects, compress, chunked, expect100, raise_for_status, read_until_eof, proxy, proxy_auth, timeout, verify_ssl, fingerprint, ssl_context, ssl, proxy_headers, trace_request_ctx, read_bufsize)\u001b[0m\n\u001b[1;32m    558\u001b[0m resp \u001b[39m=\u001b[39m \u001b[39mawait\u001b[39;00m req\u001b[39m.\u001b[39msend(conn)\n\u001b[1;32m    559\u001b[0m \u001b[39mtry\u001b[39;00m:\n\u001b[0;32m--> 560\u001b[0m     \u001b[39mawait\u001b[39;00m resp\u001b[39m.\u001b[39mstart(conn)\n\u001b[1;32m    561\u001b[0m \u001b[39mexcept\u001b[39;00m \u001b[39mBaseException\u001b[39;00m:\n\u001b[1;32m    562\u001b[0m     resp\u001b[39m.\u001b[39mclose()\n",
      "File \u001b[0;32m~/Documents/Cornell/fa23/Zoning/zoning-gpt/.venv/lib/python3.11/site-packages/aiohttp/client_reqrep.py:899\u001b[0m, in \u001b[0;36mClientResponse.start\u001b[0;34m(self, connection)\u001b[0m\n\u001b[1;32m    897\u001b[0m \u001b[39mtry\u001b[39;00m:\n\u001b[1;32m    898\u001b[0m     protocol \u001b[39m=\u001b[39m \u001b[39mself\u001b[39m\u001b[39m.\u001b[39m_protocol\n\u001b[0;32m--> 899\u001b[0m     message, payload \u001b[39m=\u001b[39m \u001b[39mawait\u001b[39;00m protocol\u001b[39m.\u001b[39mread()  \u001b[39m# type: ignore[union-attr]\u001b[39;00m\n\u001b[1;32m    900\u001b[0m \u001b[39mexcept\u001b[39;00m http\u001b[39m.\u001b[39mHttpProcessingError \u001b[39mas\u001b[39;00m exc:\n\u001b[1;32m    901\u001b[0m     \u001b[39mraise\u001b[39;00m ClientResponseError(\n\u001b[1;32m    902\u001b[0m         \u001b[39mself\u001b[39m\u001b[39m.\u001b[39mrequest_info,\n\u001b[1;32m    903\u001b[0m         \u001b[39mself\u001b[39m\u001b[39m.\u001b[39mhistory,\n\u001b[0;32m   (...)\u001b[0m\n\u001b[1;32m    906\u001b[0m         headers\u001b[39m=\u001b[39mexc\u001b[39m.\u001b[39mheaders,\n\u001b[1;32m    907\u001b[0m     ) \u001b[39mfrom\u001b[39;00m \u001b[39mexc\u001b[39;00m\n",
      "File \u001b[0;32m~/Documents/Cornell/fa23/Zoning/zoning-gpt/.venv/lib/python3.11/site-packages/aiohttp/streams.py:616\u001b[0m, in \u001b[0;36mDataQueue.read\u001b[0;34m(self)\u001b[0m\n\u001b[1;32m    614\u001b[0m \u001b[39mself\u001b[39m\u001b[39m.\u001b[39m_waiter \u001b[39m=\u001b[39m \u001b[39mself\u001b[39m\u001b[39m.\u001b[39m_loop\u001b[39m.\u001b[39mcreate_future()\n\u001b[1;32m    615\u001b[0m \u001b[39mtry\u001b[39;00m:\n\u001b[0;32m--> 616\u001b[0m     \u001b[39mawait\u001b[39;00m \u001b[39mself\u001b[39m\u001b[39m.\u001b[39m_waiter\n\u001b[1;32m    617\u001b[0m \u001b[39mexcept\u001b[39;00m (asyncio\u001b[39m.\u001b[39mCancelledError, asyncio\u001b[39m.\u001b[39mTimeoutError):\n\u001b[1;32m    618\u001b[0m     \u001b[39mself\u001b[39m\u001b[39m.\u001b[39m_waiter \u001b[39m=\u001b[39m \u001b[39mNone\u001b[39;00m\n",
      "\u001b[0;31mCancelledError\u001b[0m: "
     ]
    }
   ],
   "source": [
    "total_length = 0\n",
    "total_selected_index = 0\n",
    "total_selected_none = 0\n",
    "\n",
    "\n",
    "for d in districts_without_ground_truth:\n",
    "    inputs = map_outputs[d]\n",
    "    district = districts[d]\n",
    "    term = \"min_lot_size\"\n",
    "    print(\"District: \", district)\n",
    "\n",
    "    selected_index = 0\n",
    "    selected_none = 0\n",
    "    total_length += len(inputs)\n",
    "    for a in range(len(inputs)):\n",
    "        i = inputs[a]\n",
    "        if i.output and i.output.extracted_text:\n",
    "            for b in range(a + 1, len(inputs)):\n",
    "                j = inputs[b]\n",
    "                if j.output and j.output.extracted_text:\n",
    "                    res = await execute_tournament_test([i, j], term, district)\n",
    "                    if res == -1:\n",
    "                        selected_none += 1\n",
    "                        total_selected_none += 1\n",
    "                        \n",
    "                    elif res == 1 or res == 0:\n",
    "                        selected_index += 1\n",
    "                        total_selected_index += 1\n",
    "                    \n",
    "\n",
    "    print(\"Selected None: \", selected_none)\n",
    "    print(\"Selected Index: \", selected_index)\n",
    "    print(\"Accuracy: \", selected_none / len(inputs))\n",
    "\n",
    "print(\"Final Selected None: \", total_selected_none)\n",
    "print(\"Final Accuracy: \", total_selected_none / total_length)"
   ]
  },
  {
   "cell_type": "markdown",
   "metadata": {},
   "source": [
    "Comparing Results Where GT exists"
   ]
  },
  {
   "cell_type": "code",
   "execution_count": 43,
   "metadata": {},
   "outputs": [],
   "source": [
    "gt = pd.read_csv(\"../data/ground_truth.csv\")\n",
    "gt_first_30 = gt.head(30)"
   ]
  },
  {
   "cell_type": "code",
   "execution_count": 67,
   "metadata": {},
   "outputs": [
    {
     "data": {
      "text/plain": [
       "'30000'"
      ]
     },
     "execution_count": 67,
     "metadata": {},
     "output_type": "execute_result"
    }
   ],
   "source": [
    "gt_first_30[gt_first_30[\"district_abb\"] == \"AA\"][\"min_lot_size_gt\"][1]"
   ]
  },
  {
   "cell_type": "code",
   "execution_count": 76,
   "metadata": {},
   "outputs": [],
   "source": [
    "from zoning.term_extraction.eval_results import clean_string_units"
   ]
  },
  {
   "cell_type": "code",
   "execution_count": 77,
   "metadata": {},
   "outputs": [
    {
     "data": {
      "text/plain": [
       "[30000.0]"
      ]
     },
     "execution_count": 77,
     "metadata": {},
     "output_type": "execute_result"
    }
   ],
   "source": [
    "clean_string_units(map_outputs[\"AA\"][0].output.answer)[0]"
   ]
  },
  {
   "cell_type": "code",
   "execution_count": 80,
   "metadata": {},
   "outputs": [
    {
     "ename": "KeyError",
     "evalue": "1",
     "output_type": "error",
     "traceback": [
      "\u001b[0;31m---------------------------------------------------------------------------\u001b[0m",
      "\u001b[0;31mKeyError\u001b[0m                                  Traceback (most recent call last)",
      "File \u001b[0;32m~/Documents/Cornell/fa23/Zoning/zoning-gpt/.venv/lib/python3.11/site-packages/pandas/core/indexes/base.py:3653\u001b[0m, in \u001b[0;36mIndex.get_loc\u001b[0;34m(self, key)\u001b[0m\n\u001b[1;32m   3652\u001b[0m \u001b[39mtry\u001b[39;00m:\n\u001b[0;32m-> 3653\u001b[0m     \u001b[39mreturn\u001b[39;00m \u001b[39mself\u001b[39;49m\u001b[39m.\u001b[39;49m_engine\u001b[39m.\u001b[39;49mget_loc(casted_key)\n\u001b[1;32m   3654\u001b[0m \u001b[39mexcept\u001b[39;00m \u001b[39mKeyError\u001b[39;00m \u001b[39mas\u001b[39;00m err:\n",
      "File \u001b[0;32m~/Documents/Cornell/fa23/Zoning/zoning-gpt/.venv/lib/python3.11/site-packages/pandas/_libs/index.pyx:147\u001b[0m, in \u001b[0;36mpandas._libs.index.IndexEngine.get_loc\u001b[0;34m()\u001b[0m\n",
      "File \u001b[0;32m~/Documents/Cornell/fa23/Zoning/zoning-gpt/.venv/lib/python3.11/site-packages/pandas/_libs/index.pyx:176\u001b[0m, in \u001b[0;36mpandas._libs.index.IndexEngine.get_loc\u001b[0;34m()\u001b[0m\n",
      "File \u001b[0;32mpandas/_libs/hashtable_class_helper.pxi:2606\u001b[0m, in \u001b[0;36mpandas._libs.hashtable.Int64HashTable.get_item\u001b[0;34m()\u001b[0m\n",
      "File \u001b[0;32mpandas/_libs/hashtable_class_helper.pxi:2630\u001b[0m, in \u001b[0;36mpandas._libs.hashtable.Int64HashTable.get_item\u001b[0;34m()\u001b[0m\n",
      "\u001b[0;31mKeyError\u001b[0m: 1",
      "\nThe above exception was the direct cause of the following exception:\n",
      "\u001b[0;31mKeyError\u001b[0m                                  Traceback (most recent call last)",
      "\u001b[1;32m/Users/rusy/Documents/Cornell/fa23/Zoning/zoning-gpt/ryurtyn/pairwise-wrong-comparison.ipynb Cell 14\u001b[0m line \u001b[0;36m1\n\u001b[0;32m----> <a href='vscode-notebook-cell:/Users/rusy/Documents/Cornell/fa23/Zoning/zoning-gpt/ryurtyn/pairwise-wrong-comparison.ipynb#Y100sZmlsZQ%3D%3D?line=0'>1</a>\u001b[0m true_val \u001b[39m=\u001b[39m gt_first_30[gt_first_30[\u001b[39m\"\u001b[39;49m\u001b[39mdistrict_abb\u001b[39;49m\u001b[39m\"\u001b[39;49m] \u001b[39m==\u001b[39;49m \u001b[39m\"\u001b[39;49m\u001b[39mAL\u001b[39;49m\u001b[39m\"\u001b[39;49m][\u001b[39m\"\u001b[39;49m\u001b[39mmin_lot_size_gt\u001b[39;49m\u001b[39m\"\u001b[39;49m][\u001b[39m1\u001b[39;49m]\n",
      "File \u001b[0;32m~/Documents/Cornell/fa23/Zoning/zoning-gpt/.venv/lib/python3.11/site-packages/pandas/core/series.py:1007\u001b[0m, in \u001b[0;36mSeries.__getitem__\u001b[0;34m(self, key)\u001b[0m\n\u001b[1;32m   1004\u001b[0m     \u001b[39mreturn\u001b[39;00m \u001b[39mself\u001b[39m\u001b[39m.\u001b[39m_values[key]\n\u001b[1;32m   1006\u001b[0m \u001b[39melif\u001b[39;00m key_is_scalar:\n\u001b[0;32m-> 1007\u001b[0m     \u001b[39mreturn\u001b[39;00m \u001b[39mself\u001b[39;49m\u001b[39m.\u001b[39;49m_get_value(key)\n\u001b[1;32m   1009\u001b[0m \u001b[39mif\u001b[39;00m is_hashable(key):\n\u001b[1;32m   1010\u001b[0m     \u001b[39m# Otherwise index.get_value will raise InvalidIndexError\u001b[39;00m\n\u001b[1;32m   1011\u001b[0m     \u001b[39mtry\u001b[39;00m:\n\u001b[1;32m   1012\u001b[0m         \u001b[39m# For labels that don't resolve as scalars like tuples and frozensets\u001b[39;00m\n",
      "File \u001b[0;32m~/Documents/Cornell/fa23/Zoning/zoning-gpt/.venv/lib/python3.11/site-packages/pandas/core/series.py:1116\u001b[0m, in \u001b[0;36mSeries._get_value\u001b[0;34m(self, label, takeable)\u001b[0m\n\u001b[1;32m   1113\u001b[0m     \u001b[39mreturn\u001b[39;00m \u001b[39mself\u001b[39m\u001b[39m.\u001b[39m_values[label]\n\u001b[1;32m   1115\u001b[0m \u001b[39m# Similar to Index.get_value, but we do not fall back to positional\u001b[39;00m\n\u001b[0;32m-> 1116\u001b[0m loc \u001b[39m=\u001b[39m \u001b[39mself\u001b[39;49m\u001b[39m.\u001b[39;49mindex\u001b[39m.\u001b[39;49mget_loc(label)\n\u001b[1;32m   1118\u001b[0m \u001b[39mif\u001b[39;00m is_integer(loc):\n\u001b[1;32m   1119\u001b[0m     \u001b[39mreturn\u001b[39;00m \u001b[39mself\u001b[39m\u001b[39m.\u001b[39m_values[loc]\n",
      "File \u001b[0;32m~/Documents/Cornell/fa23/Zoning/zoning-gpt/.venv/lib/python3.11/site-packages/pandas/core/indexes/base.py:3655\u001b[0m, in \u001b[0;36mIndex.get_loc\u001b[0;34m(self, key)\u001b[0m\n\u001b[1;32m   3653\u001b[0m     \u001b[39mreturn\u001b[39;00m \u001b[39mself\u001b[39m\u001b[39m.\u001b[39m_engine\u001b[39m.\u001b[39mget_loc(casted_key)\n\u001b[1;32m   3654\u001b[0m \u001b[39mexcept\u001b[39;00m \u001b[39mKeyError\u001b[39;00m \u001b[39mas\u001b[39;00m err:\n\u001b[0;32m-> 3655\u001b[0m     \u001b[39mraise\u001b[39;00m \u001b[39mKeyError\u001b[39;00m(key) \u001b[39mfrom\u001b[39;00m \u001b[39merr\u001b[39;00m\n\u001b[1;32m   3656\u001b[0m \u001b[39mexcept\u001b[39;00m \u001b[39mTypeError\u001b[39;00m:\n\u001b[1;32m   3657\u001b[0m     \u001b[39m# If we have a listlike key, _check_indexing_error will raise\u001b[39;00m\n\u001b[1;32m   3658\u001b[0m     \u001b[39m#  InvalidIndexError. Otherwise we fall through and re-raise\u001b[39;00m\n\u001b[1;32m   3659\u001b[0m     \u001b[39m#  the TypeError.\u001b[39;00m\n\u001b[1;32m   3660\u001b[0m     \u001b[39mself\u001b[39m\u001b[39m.\u001b[39m_check_indexing_error(key)\n",
      "\u001b[0;31mKeyError\u001b[0m: 1"
     ]
    }
   ],
   "source": [
    "true_val = gt_first_30[gt_first_30[\"district_abb\"] == \"AL\"][\"min_lot_size_gt\"][1]"
   ]
  },
  {
   "cell_type": "code",
   "execution_count": 79,
   "metadata": {},
   "outputs": [
    {
     "name": "stdout",
     "output_type": "stream",
     "text": [
      "AL\n"
     ]
    },
    {
     "ename": "KeyError",
     "evalue": "1",
     "output_type": "error",
     "traceback": [
      "\u001b[0;31m---------------------------------------------------------------------------\u001b[0m",
      "\u001b[0;31mKeyError\u001b[0m                                  Traceback (most recent call last)",
      "File \u001b[0;32m~/Documents/Cornell/fa23/Zoning/zoning-gpt/.venv/lib/python3.11/site-packages/pandas/core/indexes/base.py:3653\u001b[0m, in \u001b[0;36mIndex.get_loc\u001b[0;34m(self, key)\u001b[0m\n\u001b[1;32m   3652\u001b[0m \u001b[39mtry\u001b[39;00m:\n\u001b[0;32m-> 3653\u001b[0m     \u001b[39mreturn\u001b[39;00m \u001b[39mself\u001b[39;49m\u001b[39m.\u001b[39;49m_engine\u001b[39m.\u001b[39;49mget_loc(casted_key)\n\u001b[1;32m   3654\u001b[0m \u001b[39mexcept\u001b[39;00m \u001b[39mKeyError\u001b[39;00m \u001b[39mas\u001b[39;00m err:\n",
      "File \u001b[0;32m~/Documents/Cornell/fa23/Zoning/zoning-gpt/.venv/lib/python3.11/site-packages/pandas/_libs/index.pyx:147\u001b[0m, in \u001b[0;36mpandas._libs.index.IndexEngine.get_loc\u001b[0;34m()\u001b[0m\n",
      "File \u001b[0;32m~/Documents/Cornell/fa23/Zoning/zoning-gpt/.venv/lib/python3.11/site-packages/pandas/_libs/index.pyx:176\u001b[0m, in \u001b[0;36mpandas._libs.index.IndexEngine.get_loc\u001b[0;34m()\u001b[0m\n",
      "File \u001b[0;32mpandas/_libs/hashtable_class_helper.pxi:2606\u001b[0m, in \u001b[0;36mpandas._libs.hashtable.Int64HashTable.get_item\u001b[0;34m()\u001b[0m\n",
      "File \u001b[0;32mpandas/_libs/hashtable_class_helper.pxi:2630\u001b[0m, in \u001b[0;36mpandas._libs.hashtable.Int64HashTable.get_item\u001b[0;34m()\u001b[0m\n",
      "\u001b[0;31mKeyError\u001b[0m: 1",
      "\nThe above exception was the direct cause of the following exception:\n",
      "\u001b[0;31mKeyError\u001b[0m                                  Traceback (most recent call last)",
      "\u001b[1;32m/Users/rusy/Documents/Cornell/fa23/Zoning/zoning-gpt/ryurtyn/pairwise-wrong-comparison.ipynb Cell 14\u001b[0m line \u001b[0;36m1\n\u001b[1;32m      <a href='vscode-notebook-cell:/Users/rusy/Documents/Cornell/fa23/Zoning/zoning-gpt/ryurtyn/pairwise-wrong-comparison.ipynb#X40sZmlsZQ%3D%3D?line=7'>8</a>\u001b[0m district \u001b[39m=\u001b[39m districts[d]\n\u001b[1;32m      <a href='vscode-notebook-cell:/Users/rusy/Documents/Cornell/fa23/Zoning/zoning-gpt/ryurtyn/pairwise-wrong-comparison.ipynb#X40sZmlsZQ%3D%3D?line=8'>9</a>\u001b[0m \u001b[39mprint\u001b[39m(d)\n\u001b[0;32m---> <a href='vscode-notebook-cell:/Users/rusy/Documents/Cornell/fa23/Zoning/zoning-gpt/ryurtyn/pairwise-wrong-comparison.ipynb#X40sZmlsZQ%3D%3D?line=9'>10</a>\u001b[0m true_val \u001b[39m=\u001b[39m gt_first_30[gt_first_30[\u001b[39m\"\u001b[39;49m\u001b[39mdistrict_abb\u001b[39;49m\u001b[39m\"\u001b[39;49m] \u001b[39m==\u001b[39;49m d][\u001b[39m\"\u001b[39;49m\u001b[39mmin_lot_size_gt\u001b[39;49m\u001b[39m\"\u001b[39;49m][\u001b[39m1\u001b[39;49m]\n\u001b[1;32m     <a href='vscode-notebook-cell:/Users/rusy/Documents/Cornell/fa23/Zoning/zoning-gpt/ryurtyn/pairwise-wrong-comparison.ipynb#X40sZmlsZQ%3D%3D?line=10'>11</a>\u001b[0m term \u001b[39m=\u001b[39m \u001b[39m\"\u001b[39m\u001b[39mmin_lot_size\u001b[39m\u001b[39m\"\u001b[39m\n\u001b[1;32m     <a href='vscode-notebook-cell:/Users/rusy/Documents/Cornell/fa23/Zoning/zoning-gpt/ryurtyn/pairwise-wrong-comparison.ipynb#X40sZmlsZQ%3D%3D?line=11'>12</a>\u001b[0m \u001b[39mprint\u001b[39m(\u001b[39m\"\u001b[39m\u001b[39mDistrict: \u001b[39m\u001b[39m\"\u001b[39m, district)\n",
      "File \u001b[0;32m~/Documents/Cornell/fa23/Zoning/zoning-gpt/.venv/lib/python3.11/site-packages/pandas/core/series.py:1007\u001b[0m, in \u001b[0;36mSeries.__getitem__\u001b[0;34m(self, key)\u001b[0m\n\u001b[1;32m   1004\u001b[0m     \u001b[39mreturn\u001b[39;00m \u001b[39mself\u001b[39m\u001b[39m.\u001b[39m_values[key]\n\u001b[1;32m   1006\u001b[0m \u001b[39melif\u001b[39;00m key_is_scalar:\n\u001b[0;32m-> 1007\u001b[0m     \u001b[39mreturn\u001b[39;00m \u001b[39mself\u001b[39;49m\u001b[39m.\u001b[39;49m_get_value(key)\n\u001b[1;32m   1009\u001b[0m \u001b[39mif\u001b[39;00m is_hashable(key):\n\u001b[1;32m   1010\u001b[0m     \u001b[39m# Otherwise index.get_value will raise InvalidIndexError\u001b[39;00m\n\u001b[1;32m   1011\u001b[0m     \u001b[39mtry\u001b[39;00m:\n\u001b[1;32m   1012\u001b[0m         \u001b[39m# For labels that don't resolve as scalars like tuples and frozensets\u001b[39;00m\n",
      "File \u001b[0;32m~/Documents/Cornell/fa23/Zoning/zoning-gpt/.venv/lib/python3.11/site-packages/pandas/core/series.py:1116\u001b[0m, in \u001b[0;36mSeries._get_value\u001b[0;34m(self, label, takeable)\u001b[0m\n\u001b[1;32m   1113\u001b[0m     \u001b[39mreturn\u001b[39;00m \u001b[39mself\u001b[39m\u001b[39m.\u001b[39m_values[label]\n\u001b[1;32m   1115\u001b[0m \u001b[39m# Similar to Index.get_value, but we do not fall back to positional\u001b[39;00m\n\u001b[0;32m-> 1116\u001b[0m loc \u001b[39m=\u001b[39m \u001b[39mself\u001b[39;49m\u001b[39m.\u001b[39;49mindex\u001b[39m.\u001b[39;49mget_loc(label)\n\u001b[1;32m   1118\u001b[0m \u001b[39mif\u001b[39;00m is_integer(loc):\n\u001b[1;32m   1119\u001b[0m     \u001b[39mreturn\u001b[39;00m \u001b[39mself\u001b[39m\u001b[39m.\u001b[39m_values[loc]\n",
      "File \u001b[0;32m~/Documents/Cornell/fa23/Zoning/zoning-gpt/.venv/lib/python3.11/site-packages/pandas/core/indexes/base.py:3655\u001b[0m, in \u001b[0;36mIndex.get_loc\u001b[0;34m(self, key)\u001b[0m\n\u001b[1;32m   3653\u001b[0m     \u001b[39mreturn\u001b[39;00m \u001b[39mself\u001b[39m\u001b[39m.\u001b[39m_engine\u001b[39m.\u001b[39mget_loc(casted_key)\n\u001b[1;32m   3654\u001b[0m \u001b[39mexcept\u001b[39;00m \u001b[39mKeyError\u001b[39;00m \u001b[39mas\u001b[39;00m err:\n\u001b[0;32m-> 3655\u001b[0m     \u001b[39mraise\u001b[39;00m \u001b[39mKeyError\u001b[39;00m(key) \u001b[39mfrom\u001b[39;00m \u001b[39merr\u001b[39;00m\n\u001b[1;32m   3656\u001b[0m \u001b[39mexcept\u001b[39;00m \u001b[39mTypeError\u001b[39;00m:\n\u001b[1;32m   3657\u001b[0m     \u001b[39m# If we have a listlike key, _check_indexing_error will raise\u001b[39;00m\n\u001b[1;32m   3658\u001b[0m     \u001b[39m#  InvalidIndexError. Otherwise we fall through and re-raise\u001b[39;00m\n\u001b[1;32m   3659\u001b[0m     \u001b[39m#  the TypeError.\u001b[39;00m\n\u001b[1;32m   3660\u001b[0m     \u001b[39mself\u001b[39m\u001b[39m.\u001b[39m_check_indexing_error(key)\n",
      "\u001b[0;31mKeyError\u001b[0m: 1"
     ]
    }
   ],
   "source": [
    "total_length = 0\n",
    "total_selected_correct = 0\n",
    "total_selected_incorrect = 0\n",
    "\n",
    "\n",
    "for d in districts_with_ground_truth:\n",
    "    inputs = map_outputs[d]\n",
    "    district = districts[d]\n",
    "    print(d)\n",
    "    try:\n",
    "        true_val = gt_first_30[gt_first_30[\"district_abb\"] == d][\"min_lot_size_gt\"][1]\n",
    "    except KeyError:\n",
    "        print(\"skipping \", d)\n",
    "        continue\n",
    "\n",
    "    term = \"min_lot_size\"\n",
    "    print(\"District: \", district)\n",
    "\n",
    "    selected_correct = 0\n",
    "    selected_incorrect = 0\n",
    "    total_length += len(inputs)\n",
    "    # find which one is true answer\n",
    "    true_index = None\n",
    "    for a in range(len(inputs)):\n",
    "        i = inputs[a]\n",
    "        if i.output and i.output.answer:\n",
    "            print(true_val, i.output.answer)\n",
    "            i_answer_clean = clean_string_units(i.output.answer)[0]\n",
    "            if i_answer_clean == true_val:\n",
    "                true_index = a\n",
    "                continue\n",
    "    # if you found right answer, that becomes the 0th index you pass in to tournament\n",
    "    if true_index:\n",
    "        for a in range(len(inputs)):\n",
    "            if a != true_index:\n",
    "                i = inputs[a]\n",
    "                if i.output and i.output.extracted_text:\n",
    "                    res = await execute_tournament_test([i, j], term, district)\n",
    "                    if res == 0:\n",
    "                        selected_correct += 1\n",
    "                        total_selected_correct += 1 \n",
    "                    if res == 1:\n",
    "                        selected_incorrect += 1\n",
    "                        total_selected_incorrect += 1\n",
    "    else:\n",
    "        print(\"true answer not found in answers?? check this \")\n",
    "\n",
    "    print(\"Selected Correct: \", selected_correct)\n",
    "    print(\"Selected Incorrect: \", selected_incorrect)\n",
    "    print(\"Accuracy: \", selected_correct / len(inputs))\n",
    "\n",
    "print(\"Final Selected None: \", total_selected_correct)\n",
    "print(\"Final Accuracy: \", total_selected_correct / total_length)"
   ]
  },
  {
   "cell_type": "markdown",
   "metadata": {},
   "source": [
    "Original Zero-Shot Prompt: 0 nones selected\n",
    "\n",
    "Updated Zero-Shot Prompt: 0 nones selected"
   ]
  },
  {
   "cell_type": "code",
   "execution_count": null,
   "metadata": {},
   "outputs": [],
   "source": [
    "\n",
    "districts_with_ground_truth = [\"B-2\"]\n",
    "# for d in districts_without_ground_truth:\n",
    "for d in districts_with_ground_truth:\n",
    "    inputs = map_outputs[d]\n",
    "    district = districts[d]\n",
    "    term = \"min_lot_size\"\n",
    "    # print(\"map outputs is \", inputs)\n",
    "    print(\"District: \", district)\n",
    "\n",
    "\n",
    "    i = 0\n",
    "    while not i.output or not i.output.extracted_text:\n",
    "        i += 1\n",
    "    for j in range(i + 1, len(inputs)):\n",
    "        if i.output and j.output.extracted_text:\n",
    "            if j.output and j.output.extracted_text:\n",
    "                        res = await execute_tournament_test([i, j], term, district)\n",
    "                        if res == -1:\n",
    "                            reported_none += 1\n",
    "                            total_reported_none += 1\n",
    "                        print(\"i0: \", i.output.extracted_text[0], \"\\ni1: \",  j.output.extracted_text[0], \"\\n index: \", res)\n",
    "        "
   ]
  }
 ],
 "metadata": {
  "kernelspec": {
   "display_name": ".venv",
   "language": "python",
   "name": "python3"
  },
  "language_info": {
   "codemirror_mode": {
    "name": "ipython",
    "version": 3
   },
   "file_extension": ".py",
   "mimetype": "text/x-python",
   "name": "python",
   "nbconvert_exporter": "python",
   "pygments_lexer": "ipython3",
   "version": "3.11.5"
  },
  "orig_nbformat": 4
 },
 "nbformat": 4,
 "nbformat_minor": 2
}
