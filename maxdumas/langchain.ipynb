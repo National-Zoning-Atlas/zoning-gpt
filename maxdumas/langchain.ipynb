{
 "cells": [
  {
   "cell_type": "code",
   "execution_count": 72,
   "metadata": {},
   "outputs": [],
   "source": [
    "from langchain.docstore.document import Document\n",
    "from langchain.embeddings.cohere import CohereEmbeddings\n",
    "from langchain.embeddings.openai import OpenAIEmbeddings\n",
    "from langchain.prompts import PromptTemplate\n",
    "from langchain.text_splitter import CharacterTextSplitter, SpacyTextSplitter, TextSplitter\n",
    "from langchain.vectorstores import Chroma\n",
    "from langchain.vectorstores.elastic_vector_search import ElasticVectorSearch\n",
    "from langchain.document_loaders import UnstructuredPDFLoader, PyMuPDFLoader\n",
    "from langchain.indexes.vectorstore import VectorstoreIndexCreator"
   ]
  },
  {
   "cell_type": "code",
   "execution_count": 73,
   "metadata": {},
   "outputs": [],
   "source": [
    "import os\n",
    "import openai\n",
    "openai.api_key = \"<API KEY GOES HERE>\"\n",
    "os.environ[\"OPENAI_API_KEY\"] = openai.api_key"
   ]
  },
  {
   "cell_type": "code",
   "execution_count": 74,
   "metadata": {},
   "outputs": [],
   "source": [
    "loader = PyMuPDFLoader(\"../data/orig-documents/ashford-zoning-code.pdf\")"
   ]
  },
  {
   "cell_type": "code",
   "execution_count": 75,
   "metadata": {},
   "outputs": [
    {
     "name": "stdout",
     "output_type": "stream",
     "text": [
      "Running Chroma using direct local API.\n",
      "Using DuckDB in-memory for database. Data will be transient.\n",
      "Exiting: Cleaning up .chroma directory\n"
     ]
    }
   ],
   "source": [
    "from langchain.indexes import VectorstoreIndexCreator\n",
    "index = VectorstoreIndexCreator().from_loaders([loader])"
   ]
  },
  {
   "cell_type": "code",
   "execution_count": 76,
   "metadata": {},
   "outputs": [],
   "source": [
    "from langchain.chains.question_answering import load_qa_chain\n",
    "from langchain.llms import OpenAI"
   ]
  },
  {
   "cell_type": "code",
   "execution_count": 77,
   "metadata": {},
   "outputs": [],
   "source": [
    "chain = load_qa_chain(OpenAI(temperature=0), chain_type=\"map_reduce\")"
   ]
  },
  {
   "cell_type": "code",
   "execution_count": 78,
   "metadata": {},
   "outputs": [],
   "source": [
    "query = \"\"\"\n",
    "What are the zoning districts defined in this document? Return your results as a JSON array in the form [{ \"district_name\": <district name>, \"district_abbr\": <district abbreviation> }].\"\"\""
   ]
  },
  {
   "cell_type": "code",
   "execution_count": 82,
   "metadata": {},
   "outputs": [],
   "source": [
    "docs = index.vectorstore.similarity_search(query, k=10)"
   ]
  },
  {
   "cell_type": "code",
   "execution_count": 83,
   "metadata": {},
   "outputs": [
    {
     "data": {
      "text/plain": [
       "[Document(page_content='the district boundary line shall be determined using the scale on the Official Zoning Map. \\n \\nC. Where a District boundary divides a lot in one ownership into a residential and a nonresidential District  or into two \\nnonresidential Districts, the area and frontage requirements for that lot shall comply with those that are more \\nrestrictive as set forth for such Districts. All other building requirements shall correspond with those of the particular \\nDistrict in which a use, structure or building is established or constructed. \\n \\nD. Where the location of a district boundary line is uncertain, the Commission shall interpret the district boundary line.', lookup_str='', metadata={'file_path': '../data/orig-documents/ashford-zoning-code.pdf', 'page_number': 21, 'total_pages': 102, 'format': 'PDF 1.5', 'title': '', 'author': 'DFamiglietti', 'subject': '', 'keywords': '', 'creator': 'Microsoft® Word 2010', 'producer': 'Microsoft® Word 2010', 'creationDate': \"D:20141022104404-04'00'\", 'modDate': \"D:20141110140650-05'00'\", 'trapped': ''}, lookup_index=0),\n",
       " Document(page_content=\"The area of the zone change and all area within five hundred (500) feet of the proposed rezoning;  \\n \\nii. Existing and proposed zoning district boundary lines;  \\n \\niii. Existing streets, rights-of-ways, easements, watercourses, wetlands and flood hazard areas; \\n \\niv. Existing property lines and the names and addresses of the current property-owners within five-hundred \\n(500) feet of all property boundaries, as per the Ashford Assessor's records.\", lookup_str='', metadata={'file_path': '../data/orig-documents/ashford-zoning-code.pdf', 'page_number': 62, 'total_pages': 102, 'format': 'PDF 1.5', 'title': '', 'author': 'DFamiglietti', 'subject': '', 'keywords': '', 'creator': 'Microsoft® Word 2010', 'producer': 'Microsoft® Word 2010', 'creationDate': \"D:20141022104404-04'00'\", 'modDate': \"D:20141110140650-05'00'\", 'trapped': ''}, lookup_index=0),\n",
       " Document(page_content='Zone - an area within which certain uses of land and buildings are permitted, certain others are prohibited, and certain \\nothers are designated as uses requiring a Special Exception or Special Permit from the Commission or the Zoning Board \\nof Appeals; yards and other open spaces are required; lot areas, building height limits, and other requirements are \\nestablished; all of the foregoing being identical for all property located within the zone to which they apply.  \\n \\nZoning Permit - the approval of the Commission, pursuant to Article 5B of these Regulations indicating an existing \\nbuilding or structure, or an existing or proposed use is in compliance with these regulations.', lookup_str='', metadata={'file_path': '../data/orig-documents/ashford-zoning-code.pdf', 'page_number': 20, 'total_pages': 102, 'format': 'PDF 1.5', 'title': '', 'author': 'DFamiglietti', 'subject': '', 'keywords': '', 'creator': 'Microsoft® Word 2010', 'producer': 'Microsoft® Word 2010', 'creationDate': \"D:20141022104404-04'00'\", 'modDate': \"D:20141110140650-05'00'\", 'trapped': ''}, lookup_index=0),\n",
       " Document(page_content='District in which it is located.', lookup_str='', metadata={'file_path': '../data/orig-documents/ashford-zoning-code.pdf', 'page_number': 15, 'total_pages': 102, 'format': 'PDF 1.5', 'title': '', 'author': 'DFamiglietti', 'subject': '', 'keywords': '', 'creator': 'Microsoft® Word 2010', 'producer': 'Microsoft® Word 2010', 'creationDate': \"D:20141022104404-04'00'\", 'modDate': \"D:20141110140650-05'00'\", 'trapped': ''}, lookup_index=0),\n",
       " Document(page_content='Ashford, Connecticut - Zoning Regulations \\n__________________________________________________________________________________________________________________________________ \\n \\n \\n \\n \\n \\nOFFICIAL DRAFT – EFFECTIVE 11/1/2014 \\n \\n \\n \\n \\n21 \\nArticle 4 \\nZoning Districts \\n \\nArticle 4A, Section 1    Establishment of Zoning Districts  \\n \\n \\nFor the purposes of these regulations, the town of Ashford is hereby divided into the following zones:  \\n \\n1. Residential - Agricultural (RA)  \\n \\n2. General Commercial (C)  \\n \\n3. Interstate Interchange Development (SD) \\n \\n4. Technology Development (TD) \\n    \\n \\n Article 4A, Section 2    Zoning Map \\n \\nA. The boundaries of Districts are established as shown on the “Official Zoning Map.”   \\n \\n1. The Official Zoning Map shall be at a scale of 1” = 1000’ and identified by the signature of the Chairman of the \\nCommission, and shall bear the date of the most recent zoning map amendment.', lookup_str='', metadata={'file_path': '../data/orig-documents/ashford-zoning-code.pdf', 'page_number': 21, 'total_pages': 102, 'format': 'PDF 1.5', 'title': '', 'author': 'DFamiglietti', 'subject': '', 'keywords': '', 'creator': 'Microsoft® Word 2010', 'producer': 'Microsoft® Word 2010', 'creationDate': \"D:20141022104404-04'00'\", 'modDate': \"D:20141110140650-05'00'\", 'trapped': ''}, lookup_index=0),\n",
       " Document(page_content='2. When, in accordance with the provisions of these regulations, changes are made in district boundaries or other \\nmatter portrayed on the Official Zoning Map, such changes shall be made on the Official Zoning Map together \\nwith an entry on the Official Zoning Map as follows: “As amended to (date).” (Such date to be that of the most \\nrecent amendment.)  The Official Zoning Map shall be filed in the office of the Town Clerk and an updated copy \\nshall be displayed in Ashford Town Land Use Office. \\n \\nB. Where the boundary between districts is shown following a street, watercourse, railroad or utility right of way, the \\nboundary shall be the centerline thereof, unless otherwise indicated.  Where the boundary is shown approximately in \\nthe location of Boundary Lines or Lot Lines, then the Boundary Line or Lot Line shall be the district boundary line.  \\nWhere the boundary does not follow a street, watercourse, railroad or utility right of way, Boundary Line or Lot Line,', lookup_str='', metadata={'file_path': '../data/orig-documents/ashford-zoning-code.pdf', 'page_number': 21, 'total_pages': 102, 'format': 'PDF 1.5', 'title': '', 'author': 'DFamiglietti', 'subject': '', 'keywords': '', 'creator': 'Microsoft® Word 2010', 'producer': 'Microsoft® Word 2010', 'creationDate': \"D:20141022104404-04'00'\", 'modDate': \"D:20141110140650-05'00'\", 'trapped': ''}, lookup_index=0),\n",
       " Document(page_content='the largest areas of unfragmented wildlife habitat in the region.  Its natural environment supports rural economic \\nactivities, including farms and orchards, the forest products industry and tourism.  The Commission’s goal is to conserve \\nthese desirable features for future generations while also respecting landowner’s development rights.  With these goals in \\nmind, the Zoning Regulations and districts or boundaries are established for the following purposes:  \\n \\n1. To protect and promote the public health, safety, welfare, and property values from ﬁre, panic, ﬂood, \\nenvironmental damage and other dangers;  \\n \\n2. To lessen congestion in the streets and prevent the overcrowding of land;  \\n \\n3. To provide adequate light, air and water;  \\n \\n4. To avoid undue concentration of population; \\n \\n5. To facilitate adequate provisions for transportation, water, sewerage, schools, parks and other public \\nrequirements;', lookup_str='', metadata={'file_path': '../data/orig-documents/ashford-zoning-code.pdf', 'page_number': 1, 'total_pages': 102, 'format': 'PDF 1.5', 'title': '', 'author': 'DFamiglietti', 'subject': '', 'keywords': '', 'creator': 'Microsoft® Word 2010', 'producer': 'Microsoft® Word 2010', 'creationDate': \"D:20141022104404-04'00'\", 'modDate': \"D:20141110140650-05'00'\", 'trapped': ''}, lookup_index=0),\n",
       " Document(page_content='Ashford, Connecticut - Zoning Regulations \\n__________________________________________________________________________________________________________________________________ \\n \\n \\n \\n \\n \\nOFFICIAL DRAFT – EFFECTIVE 11/1/2014 \\n \\n \\n \\n \\n49 \\n1. A development plan of the site showing the location, arrangement, bulk, type and use of all existing and \\nproposed structures, the proposed traffic circulation pattern within and surrounding the development, the areas to \\nbe developed for parking, the points of ingress and egress, access streets where required, and the relationship of \\nabutting land uses.  \\n \\n2.   A statement of the anticipated residential density (when applicable), the proposed total gross floor area of \\nnonresidential uses, and the percentage of the development which is to be occupied by structures.  \\n \\n3. Preliminary sketches and/or description of the proposed screening and landscaping features', lookup_str='', metadata={'file_path': '../data/orig-documents/ashford-zoning-code.pdf', 'page_number': 49, 'total_pages': 102, 'format': 'PDF 1.5', 'title': '', 'author': 'DFamiglietti', 'subject': '', 'keywords': '', 'creator': 'Microsoft® Word 2010', 'producer': 'Microsoft® Word 2010', 'creationDate': \"D:20141022104404-04'00'\", 'modDate': \"D:20141110140650-05'00'\", 'trapped': ''}, lookup_index=0),\n",
       " Document(page_content='Ashford, Connecticut - Zoning Regulations \\n__________________________________________________________________________________________________________________________________ \\n \\n \\n \\n \\n \\nOFFICIAL DRAFT – EFFECTIVE 11/1/2014 \\n \\n \\n \\n \\n55 \\n6. The location of any required setback and yard lines and landscaped buffer areas;  \\n \\n7. A table showing the dimensional standards, frontage and setbacks requirements and any floor area/height \\nrequirements for the zone in which the lot is located as compared to the standards for the proposed building, \\nstructure and/or use;  \\n \\n8. The names of all owners of record of any land abutting the lot to which the zoning permit would apply; \\n \\n9. The location and name of any Town or State street, road or highway which passes through or adjoins the lot or, if \\nno such street, road or highway passes through or adjoins the lot, the  entire route of vehicular access to the lot \\nfrom such a street, road or highway;', lookup_str='', metadata={'file_path': '../data/orig-documents/ashford-zoning-code.pdf', 'page_number': 55, 'total_pages': 102, 'format': 'PDF 1.5', 'title': '', 'author': 'DFamiglietti', 'subject': '', 'keywords': '', 'creator': 'Microsoft® Word 2010', 'producer': 'Microsoft® Word 2010', 'creationDate': \"D:20141022104404-04'00'\", 'modDate': \"D:20141110140650-05'00'\", 'trapped': ''}, lookup_index=0),\n",
       " Document(page_content=\"Ashford, Connecticut - Zoning Regulations \\n__________________________________________________________________________________________________________________________________ \\n \\n \\n \\n \\n \\nOFFICIAL DRAFT – EFFECTIVE 11/1/2014 \\n \\n \\n \\n \\n63 \\n5. In situations where the mapping information required in Section 4 above cannot fit on one 24 inch by 36 inch \\nsheet, the application shall also include an additional 24 inch by 36 inch sheet depicting all property within the \\narea of the zone change and all property within five hundred (500) feet of the proposed rezoning.   \\n \\n \\nArticle 5E, Section 2    Criteria for Evaluation \\n \\nIn considering any petition to amend the Zoning Regulations or revise the Zoning Map, the Planning and Zoning \\nCommission shall determine that the applicant's proposal will promote the public's health, safety, property values and \\ngeneral welfare. Further, the Planning and Zoning Commission shall make the following findings:\", lookup_str='', metadata={'file_path': '../data/orig-documents/ashford-zoning-code.pdf', 'page_number': 63, 'total_pages': 102, 'format': 'PDF 1.5', 'title': '', 'author': 'DFamiglietti', 'subject': '', 'keywords': '', 'creator': 'Microsoft® Word 2010', 'producer': 'Microsoft® Word 2010', 'creationDate': \"D:20141022104404-04'00'\", 'modDate': \"D:20141110140650-05'00'\", 'trapped': ''}, lookup_index=0)]"
      ]
     },
     "execution_count": 83,
     "metadata": {},
     "output_type": "execute_result"
    }
   ],
   "source": [
    "docs"
   ]
  },
  {
   "cell_type": "code",
   "execution_count": 84,
   "metadata": {},
   "outputs": [
    {
     "data": {
      "text/plain": [
       "' [{ \"district_name\": \"Residential - Agricultural\", \"district_abbr\": \"RA\" }, { \"district_name\": \"General Commercial\", \"district_abbr\": \"C\" }, { \"district_name\": \"Interstate Interchange Development\", \"district_abbr\": \"SD\" }, { \"district_name\": \"Technology Development\", \"district_abbr\": \"TD\" }]'"
      ]
     },
     "execution_count": 84,
     "metadata": {},
     "output_type": "execute_result"
    }
   ],
   "source": [
    "chain.run(input_documents=docs, question=query)"
   ]
  }
 ],
 "metadata": {
  "kernelspec": {
   "display_name": "zoning",
   "language": "python",
   "name": "python3"
  },
  "language_info": {
   "codemirror_mode": {
    "name": "ipython",
    "version": 3
   },
   "file_extension": ".py",
   "mimetype": "text/x-python",
   "name": "python",
   "nbconvert_exporter": "python",
   "pygments_lexer": "ipython3",
   "version": "3.10.9"
  },
  "orig_nbformat": 4
 },
 "nbformat": 4,
 "nbformat_minor": 2
}
