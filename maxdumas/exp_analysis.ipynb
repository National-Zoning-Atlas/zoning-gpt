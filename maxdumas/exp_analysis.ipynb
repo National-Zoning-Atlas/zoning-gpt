{
 "cells": [
  {
   "cell_type": "code",
   "execution_count": 100,
   "metadata": {},
   "outputs": [],
   "source": [
    "import pandas as pd\n",
    "import polars as pl\n",
    "import plotly.express as px"
   ]
  },
  {
   "cell_type": "code",
   "execution_count": 101,
   "metadata": {},
   "outputs": [
    {
     "data": {
      "text/html": [
       "<div>\n",
       "<style scoped>\n",
       "    .dataframe tbody tr th:only-of-type {\n",
       "        vertical-align: middle;\n",
       "    }\n",
       "\n",
       "    .dataframe tbody tr th {\n",
       "        vertical-align: top;\n",
       "    }\n",
       "\n",
       "    .dataframe thead th {\n",
       "        text-align: right;\n",
       "    }\n",
       "</style>\n",
       "<table border=\"1\" class=\"dataframe\">\n",
       "  <thead>\n",
       "    <tr style=\"text-align: right;\">\n",
       "      <th></th>\n",
       "      <th>Experiment</th>\n",
       "      <th>rev</th>\n",
       "      <th>typ</th>\n",
       "      <th>Created</th>\n",
       "      <th>parent</th>\n",
       "      <th>answer_accuracy</th>\n",
       "      <th>answer_page_accuracy</th>\n",
       "      <th>conditional_answer_accuracy</th>\n",
       "      <th>min_lot_size.answer_accuracy</th>\n",
       "      <th>min_lot_size.answer_page_accuracy</th>\n",
       "      <th>...</th>\n",
       "      <th>maxdumas/upload_zoning_docs.sh</th>\n",
       "      <th>templates/extraction.pmpt.tpl</th>\n",
       "      <th>templates/extraction_chat_completion.pmpt.tpl</th>\n",
       "      <th>templates/extraction_completion.pmpt.tpl</th>\n",
       "      <th>zoning/data_processing/eval.py</th>\n",
       "      <th>zoning/data_processing/extract_text.py</th>\n",
       "      <th>zoning/data_processing/generate_dataset.py</th>\n",
       "      <th>zoning/data_processing/generate_text_dataset.py</th>\n",
       "      <th>zoning/data_processing/index_towns.py</th>\n",
       "      <th>zoning/data_processing/upload_zoning_docs.sh</th>\n",
       "    </tr>\n",
       "  </thead>\n",
       "  <tbody>\n",
       "    <tr>\n",
       "      <th>0</th>\n",
       "      <td>NaN</td>\n",
       "      <td>workspace</td>\n",
       "      <td>baseline</td>\n",
       "      <td>NaN</td>\n",
       "      <td>NaN</td>\n",
       "      <td>1.0</td>\n",
       "      <td>0.0</td>\n",
       "      <td>0.0</td>\n",
       "      <td>1.0</td>\n",
       "      <td>0.0</td>\n",
       "      <td>...</td>\n",
       "      <td>NaN</td>\n",
       "      <td>NaN</td>\n",
       "      <td>1a26f472c8a4889f0304b01f9732cfec</td>\n",
       "      <td>cdd9b0b79ac4ed02da5897315ccc15df</td>\n",
       "      <td>ed75967007eee28c738026ed9ca013da</td>\n",
       "      <td>98404ae0ff0f6d2466c5e067543c2e41</td>\n",
       "      <td>51f7f2eef57fa468b3d03fd2d8faa385</td>\n",
       "      <td>45a291510a51b8886397868052138501</td>\n",
       "      <td>cd3c4af8c8e19c9927e28912aaf7ced5</td>\n",
       "      <td>4bc9fb2d649525a0c3928fe4f7bc2307</td>\n",
       "    </tr>\n",
       "    <tr>\n",
       "      <th>1</th>\n",
       "      <td>NaN</td>\n",
       "      <td>02a6d8a</td>\n",
       "      <td>baseline</td>\n",
       "      <td>2023-10-23T16:50:46</td>\n",
       "      <td>NaN</td>\n",
       "      <td>0.7666666666666666</td>\n",
       "      <td>NaN</td>\n",
       "      <td>0.9761904761904762</td>\n",
       "      <td>0.7</td>\n",
       "      <td>NaN</td>\n",
       "      <td>...</td>\n",
       "      <td>NaN</td>\n",
       "      <td>NaN</td>\n",
       "      <td>1a26f472c8a4889f0304b01f9732cfec</td>\n",
       "      <td>cdd9b0b79ac4ed02da5897315ccc15df</td>\n",
       "      <td>ed75967007eee28c738026ed9ca013da</td>\n",
       "      <td>98404ae0ff0f6d2466c5e067543c2e41</td>\n",
       "      <td>51f7f2eef57fa468b3d03fd2d8faa385</td>\n",
       "      <td>45a291510a51b8886397868052138501</td>\n",
       "      <td>cd3c4af8c8e19c9927e28912aaf7ced5</td>\n",
       "      <td>4bc9fb2d649525a0c3928fe4f7bc2307</td>\n",
       "    </tr>\n",
       "    <tr>\n",
       "      <th>2</th>\n",
       "      <td>NaN</td>\n",
       "      <td>master</td>\n",
       "      <td>baseline</td>\n",
       "      <td>2023-10-21T20:22:47</td>\n",
       "      <td>NaN</td>\n",
       "      <td>0.7666666666666666</td>\n",
       "      <td>NaN</td>\n",
       "      <td>0.9761904761904762</td>\n",
       "      <td>0.7</td>\n",
       "      <td>NaN</td>\n",
       "      <td>...</td>\n",
       "      <td>NaN</td>\n",
       "      <td>NaN</td>\n",
       "      <td>1a26f472c8a4889f0304b01f9732cfec</td>\n",
       "      <td>cdd9b0b79ac4ed02da5897315ccc15df</td>\n",
       "      <td>ed75967007eee28c738026ed9ca013da</td>\n",
       "      <td>98404ae0ff0f6d2466c5e067543c2e41</td>\n",
       "      <td>51f7f2eef57fa468b3d03fd2d8faa385</td>\n",
       "      <td>45a291510a51b8886397868052138501</td>\n",
       "      <td>cd3c4af8c8e19c9927e28912aaf7ced5</td>\n",
       "      <td>4bc9fb2d649525a0c3928fe4f7bc2307</td>\n",
       "    </tr>\n",
       "    <tr>\n",
       "      <th>3</th>\n",
       "      <td>NaN</td>\n",
       "      <td>d2473af</td>\n",
       "      <td>baseline</td>\n",
       "      <td>2023-10-21T20:12:12</td>\n",
       "      <td>NaN</td>\n",
       "      <td>0.7666666666666666</td>\n",
       "      <td>NaN</td>\n",
       "      <td>0.9761904761904762</td>\n",
       "      <td>0.7</td>\n",
       "      <td>NaN</td>\n",
       "      <td>...</td>\n",
       "      <td>NaN</td>\n",
       "      <td>NaN</td>\n",
       "      <td>1a26f472c8a4889f0304b01f9732cfec</td>\n",
       "      <td>cdd9b0b79ac4ed02da5897315ccc15df</td>\n",
       "      <td>ed75967007eee28c738026ed9ca013da</td>\n",
       "      <td>98404ae0ff0f6d2466c5e067543c2e41</td>\n",
       "      <td>51f7f2eef57fa468b3d03fd2d8faa385</td>\n",
       "      <td>45a291510a51b8886397868052138501</td>\n",
       "      <td>cd3c4af8c8e19c9927e28912aaf7ced5</td>\n",
       "      <td>4bc9fb2d649525a0c3928fe4f7bc2307</td>\n",
       "    </tr>\n",
       "    <tr>\n",
       "      <th>4</th>\n",
       "      <td>NaN</td>\n",
       "      <td>0d2dcac</td>\n",
       "      <td>baseline</td>\n",
       "      <td>2023-10-21T21:20:43</td>\n",
       "      <td>NaN</td>\n",
       "      <td>0.7666666666666666</td>\n",
       "      <td>NaN</td>\n",
       "      <td>0.9761904761904762</td>\n",
       "      <td>0.7</td>\n",
       "      <td>NaN</td>\n",
       "      <td>...</td>\n",
       "      <td>NaN</td>\n",
       "      <td>NaN</td>\n",
       "      <td>1a26f472c8a4889f0304b01f9732cfec</td>\n",
       "      <td>cdd9b0b79ac4ed02da5897315ccc15df</td>\n",
       "      <td>ed75967007eee28c738026ed9ca013da</td>\n",
       "      <td>98404ae0ff0f6d2466c5e067543c2e41</td>\n",
       "      <td>51f7f2eef57fa468b3d03fd2d8faa385</td>\n",
       "      <td>45a291510a51b8886397868052138501</td>\n",
       "      <td>cd3c4af8c8e19c9927e28912aaf7ced5</td>\n",
       "      <td>4bc9fb2d649525a0c3928fe4f7bc2307</td>\n",
       "    </tr>\n",
       "    <tr>\n",
       "      <th>...</th>\n",
       "      <td>...</td>\n",
       "      <td>...</td>\n",
       "      <td>...</td>\n",
       "      <td>...</td>\n",
       "      <td>...</td>\n",
       "      <td>...</td>\n",
       "      <td>...</td>\n",
       "      <td>...</td>\n",
       "      <td>...</td>\n",
       "      <td>...</td>\n",
       "      <td>...</td>\n",
       "      <td>...</td>\n",
       "      <td>...</td>\n",
       "      <td>...</td>\n",
       "      <td>...</td>\n",
       "      <td>...</td>\n",
       "      <td>...</td>\n",
       "      <td>...</td>\n",
       "      <td>...</td>\n",
       "      <td>...</td>\n",
       "      <td>...</td>\n",
       "    </tr>\n",
       "    <tr>\n",
       "      <th>265</th>\n",
       "      <td>NaN</td>\n",
       "      <td>6cdc26b</td>\n",
       "      <td>baseline</td>\n",
       "      <td>2023-02-18T16:17:45</td>\n",
       "      <td>NaN</td>\n",
       "      <td>NaN</td>\n",
       "      <td>NaN</td>\n",
       "      <td>NaN</td>\n",
       "      <td>NaN</td>\n",
       "      <td>NaN</td>\n",
       "      <td>...</td>\n",
       "      <td>NaN</td>\n",
       "      <td>NaN</td>\n",
       "      <td>NaN</td>\n",
       "      <td>NaN</td>\n",
       "      <td>NaN</td>\n",
       "      <td>NaN</td>\n",
       "      <td>NaN</td>\n",
       "      <td>NaN</td>\n",
       "      <td>NaN</td>\n",
       "      <td>NaN</td>\n",
       "    </tr>\n",
       "    <tr>\n",
       "      <th>266</th>\n",
       "      <td>NaN</td>\n",
       "      <td>4cb4cec</td>\n",
       "      <td>baseline</td>\n",
       "      <td>2023-02-18T16:09:03</td>\n",
       "      <td>NaN</td>\n",
       "      <td>NaN</td>\n",
       "      <td>NaN</td>\n",
       "      <td>NaN</td>\n",
       "      <td>NaN</td>\n",
       "      <td>NaN</td>\n",
       "      <td>...</td>\n",
       "      <td>NaN</td>\n",
       "      <td>NaN</td>\n",
       "      <td>NaN</td>\n",
       "      <td>NaN</td>\n",
       "      <td>NaN</td>\n",
       "      <td>NaN</td>\n",
       "      <td>NaN</td>\n",
       "      <td>NaN</td>\n",
       "      <td>NaN</td>\n",
       "      <td>NaN</td>\n",
       "    </tr>\n",
       "    <tr>\n",
       "      <th>267</th>\n",
       "      <td>NaN</td>\n",
       "      <td>9e83f2a</td>\n",
       "      <td>baseline</td>\n",
       "      <td>2023-02-18T11:40:36</td>\n",
       "      <td>NaN</td>\n",
       "      <td>NaN</td>\n",
       "      <td>NaN</td>\n",
       "      <td>NaN</td>\n",
       "      <td>NaN</td>\n",
       "      <td>NaN</td>\n",
       "      <td>...</td>\n",
       "      <td>NaN</td>\n",
       "      <td>NaN</td>\n",
       "      <td>NaN</td>\n",
       "      <td>NaN</td>\n",
       "      <td>NaN</td>\n",
       "      <td>NaN</td>\n",
       "      <td>NaN</td>\n",
       "      <td>NaN</td>\n",
       "      <td>NaN</td>\n",
       "      <td>NaN</td>\n",
       "    </tr>\n",
       "    <tr>\n",
       "      <th>268</th>\n",
       "      <td>NaN</td>\n",
       "      <td>a4265cf</td>\n",
       "      <td>baseline</td>\n",
       "      <td>2023-02-01T19:49:30</td>\n",
       "      <td>NaN</td>\n",
       "      <td>NaN</td>\n",
       "      <td>NaN</td>\n",
       "      <td>NaN</td>\n",
       "      <td>NaN</td>\n",
       "      <td>NaN</td>\n",
       "      <td>...</td>\n",
       "      <td>NaN</td>\n",
       "      <td>NaN</td>\n",
       "      <td>NaN</td>\n",
       "      <td>NaN</td>\n",
       "      <td>NaN</td>\n",
       "      <td>NaN</td>\n",
       "      <td>NaN</td>\n",
       "      <td>NaN</td>\n",
       "      <td>NaN</td>\n",
       "      <td>NaN</td>\n",
       "    </tr>\n",
       "    <tr>\n",
       "      <th>269</th>\n",
       "      <td>NaN</td>\n",
       "      <td>9a77a7d</td>\n",
       "      <td>baseline</td>\n",
       "      <td>2023-01-30T22:38:02</td>\n",
       "      <td>NaN</td>\n",
       "      <td>NaN</td>\n",
       "      <td>NaN</td>\n",
       "      <td>NaN</td>\n",
       "      <td>NaN</td>\n",
       "      <td>NaN</td>\n",
       "      <td>...</td>\n",
       "      <td>NaN</td>\n",
       "      <td>NaN</td>\n",
       "      <td>NaN</td>\n",
       "      <td>NaN</td>\n",
       "      <td>NaN</td>\n",
       "      <td>NaN</td>\n",
       "      <td>NaN</td>\n",
       "      <td>NaN</td>\n",
       "      <td>NaN</td>\n",
       "      <td>NaN</td>\n",
       "    </tr>\n",
       "  </tbody>\n",
       "</table>\n",
       "<p>270 rows × 134 columns</p>\n",
       "</div>"
      ],
      "text/plain": [
       "    Experiment        rev       typ              Created  parent  \\\n",
       "0          NaN  workspace  baseline                  NaN     NaN   \n",
       "1          NaN    02a6d8a  baseline  2023-10-23T16:50:46     NaN   \n",
       "2          NaN     master  baseline  2023-10-21T20:22:47     NaN   \n",
       "3          NaN    d2473af  baseline  2023-10-21T20:12:12     NaN   \n",
       "4          NaN    0d2dcac  baseline  2023-10-21T21:20:43     NaN   \n",
       "..         ...        ...       ...                  ...     ...   \n",
       "265        NaN    6cdc26b  baseline  2023-02-18T16:17:45     NaN   \n",
       "266        NaN    4cb4cec  baseline  2023-02-18T16:09:03     NaN   \n",
       "267        NaN    9e83f2a  baseline  2023-02-18T11:40:36     NaN   \n",
       "268        NaN    a4265cf  baseline  2023-02-01T19:49:30     NaN   \n",
       "269        NaN    9a77a7d  baseline  2023-01-30T22:38:02     NaN   \n",
       "\n",
       "        answer_accuracy answer_page_accuracy conditional_answer_accuracy  \\\n",
       "0                   1.0                  0.0                         0.0   \n",
       "1    0.7666666666666666                  NaN          0.9761904761904762   \n",
       "2    0.7666666666666666                  NaN          0.9761904761904762   \n",
       "3    0.7666666666666666                  NaN          0.9761904761904762   \n",
       "4    0.7666666666666666                  NaN          0.9761904761904762   \n",
       "..                  ...                  ...                         ...   \n",
       "265                 NaN                  NaN                         NaN   \n",
       "266                 NaN                  NaN                         NaN   \n",
       "267                 NaN                  NaN                         NaN   \n",
       "268                 NaN                  NaN                         NaN   \n",
       "269                 NaN                  NaN                         NaN   \n",
       "\n",
       "    min_lot_size.answer_accuracy min_lot_size.answer_page_accuracy  ...  \\\n",
       "0                            1.0                               0.0  ...   \n",
       "1                            0.7                               NaN  ...   \n",
       "2                            0.7                               NaN  ...   \n",
       "3                            0.7                               NaN  ...   \n",
       "4                            0.7                               NaN  ...   \n",
       "..                           ...                               ...  ...   \n",
       "265                          NaN                               NaN  ...   \n",
       "266                          NaN                               NaN  ...   \n",
       "267                          NaN                               NaN  ...   \n",
       "268                          NaN                               NaN  ...   \n",
       "269                          NaN                               NaN  ...   \n",
       "\n",
       "    maxdumas/upload_zoning_docs.sh templates/extraction.pmpt.tpl  \\\n",
       "0                              NaN                           NaN   \n",
       "1                              NaN                           NaN   \n",
       "2                              NaN                           NaN   \n",
       "3                              NaN                           NaN   \n",
       "4                              NaN                           NaN   \n",
       "..                             ...                           ...   \n",
       "265                            NaN                           NaN   \n",
       "266                            NaN                           NaN   \n",
       "267                            NaN                           NaN   \n",
       "268                            NaN                           NaN   \n",
       "269                            NaN                           NaN   \n",
       "\n",
       "    templates/extraction_chat_completion.pmpt.tpl  \\\n",
       "0                1a26f472c8a4889f0304b01f9732cfec   \n",
       "1                1a26f472c8a4889f0304b01f9732cfec   \n",
       "2                1a26f472c8a4889f0304b01f9732cfec   \n",
       "3                1a26f472c8a4889f0304b01f9732cfec   \n",
       "4                1a26f472c8a4889f0304b01f9732cfec   \n",
       "..                                            ...   \n",
       "265                                           NaN   \n",
       "266                                           NaN   \n",
       "267                                           NaN   \n",
       "268                                           NaN   \n",
       "269                                           NaN   \n",
       "\n",
       "    templates/extraction_completion.pmpt.tpl  \\\n",
       "0           cdd9b0b79ac4ed02da5897315ccc15df   \n",
       "1           cdd9b0b79ac4ed02da5897315ccc15df   \n",
       "2           cdd9b0b79ac4ed02da5897315ccc15df   \n",
       "3           cdd9b0b79ac4ed02da5897315ccc15df   \n",
       "4           cdd9b0b79ac4ed02da5897315ccc15df   \n",
       "..                                       ...   \n",
       "265                                      NaN   \n",
       "266                                      NaN   \n",
       "267                                      NaN   \n",
       "268                                      NaN   \n",
       "269                                      NaN   \n",
       "\n",
       "       zoning/data_processing/eval.py zoning/data_processing/extract_text.py  \\\n",
       "0    ed75967007eee28c738026ed9ca013da       98404ae0ff0f6d2466c5e067543c2e41   \n",
       "1    ed75967007eee28c738026ed9ca013da       98404ae0ff0f6d2466c5e067543c2e41   \n",
       "2    ed75967007eee28c738026ed9ca013da       98404ae0ff0f6d2466c5e067543c2e41   \n",
       "3    ed75967007eee28c738026ed9ca013da       98404ae0ff0f6d2466c5e067543c2e41   \n",
       "4    ed75967007eee28c738026ed9ca013da       98404ae0ff0f6d2466c5e067543c2e41   \n",
       "..                                ...                                    ...   \n",
       "265                               NaN                                    NaN   \n",
       "266                               NaN                                    NaN   \n",
       "267                               NaN                                    NaN   \n",
       "268                               NaN                                    NaN   \n",
       "269                               NaN                                    NaN   \n",
       "\n",
       "    zoning/data_processing/generate_dataset.py  \\\n",
       "0             51f7f2eef57fa468b3d03fd2d8faa385   \n",
       "1             51f7f2eef57fa468b3d03fd2d8faa385   \n",
       "2             51f7f2eef57fa468b3d03fd2d8faa385   \n",
       "3             51f7f2eef57fa468b3d03fd2d8faa385   \n",
       "4             51f7f2eef57fa468b3d03fd2d8faa385   \n",
       "..                                         ...   \n",
       "265                                        NaN   \n",
       "266                                        NaN   \n",
       "267                                        NaN   \n",
       "268                                        NaN   \n",
       "269                                        NaN   \n",
       "\n",
       "    zoning/data_processing/generate_text_dataset.py  \\\n",
       "0                  45a291510a51b8886397868052138501   \n",
       "1                  45a291510a51b8886397868052138501   \n",
       "2                  45a291510a51b8886397868052138501   \n",
       "3                  45a291510a51b8886397868052138501   \n",
       "4                  45a291510a51b8886397868052138501   \n",
       "..                                              ...   \n",
       "265                                             NaN   \n",
       "266                                             NaN   \n",
       "267                                             NaN   \n",
       "268                                             NaN   \n",
       "269                                             NaN   \n",
       "\n",
       "    zoning/data_processing/index_towns.py  \\\n",
       "0        cd3c4af8c8e19c9927e28912aaf7ced5   \n",
       "1        cd3c4af8c8e19c9927e28912aaf7ced5   \n",
       "2        cd3c4af8c8e19c9927e28912aaf7ced5   \n",
       "3        cd3c4af8c8e19c9927e28912aaf7ced5   \n",
       "4        cd3c4af8c8e19c9927e28912aaf7ced5   \n",
       "..                                    ...   \n",
       "265                                   NaN   \n",
       "266                                   NaN   \n",
       "267                                   NaN   \n",
       "268                                   NaN   \n",
       "269                                   NaN   \n",
       "\n",
       "    zoning/data_processing/upload_zoning_docs.sh  \n",
       "0               4bc9fb2d649525a0c3928fe4f7bc2307  \n",
       "1               4bc9fb2d649525a0c3928fe4f7bc2307  \n",
       "2               4bc9fb2d649525a0c3928fe4f7bc2307  \n",
       "3               4bc9fb2d649525a0c3928fe4f7bc2307  \n",
       "4               4bc9fb2d649525a0c3928fe4f7bc2307  \n",
       "..                                           ...  \n",
       "265                                          NaN  \n",
       "266                                          NaN  \n",
       "267                                          NaN  \n",
       "268                                          NaN  \n",
       "269                                          NaN  \n",
       "\n",
       "[270 rows x 134 columns]"
      ]
     },
     "execution_count": 101,
     "metadata": {},
     "output_type": "execute_result"
    }
   ],
   "source": [
    "df = pd.read_csv('../exps.csv')\n",
    "df"
   ]
  },
  {
   "cell_type": "code",
   "execution_count": 102,
   "metadata": {},
   "outputs": [
    {
     "data": {
      "text/html": [
       "<div><style>\n",
       ".dataframe > thead > tr > th,\n",
       ".dataframe > tbody > tr > td {\n",
       "  text-align: right;\n",
       "  white-space: pre-wrap;\n",
       "}\n",
       "</style>\n",
       "<small>shape: (10, 134)</small><table border=\"1\" class=\"dataframe\"><thead><tr><th>Experiment</th><th>rev</th><th>typ</th><th>Created</th><th>parent</th><th>answer_accuracy</th><th>answer_page_accuracy</th><th>conditional_answer_accuracy</th><th>min_lot_size.answer_accuracy</th><th>min_lot_size.answer_page_accuracy</th><th>min_lot_size.conditional_answer_accuracy</th><th>min_lot_size.num_correct_answer</th><th>min_lot_size.num_correct_page_searched</th><th>min_lot_size.num_results</th><th>min_lot_size.num_row_input</th><th>min_lot_size.num_row_processed</th><th>min_lot_size.page_search_recall</th><th>min_lot_size.row_processed</th><th>page_search_recall</th><th>row_processed</th><th>max_height.answer_accuracy</th><th>max_height.conditional_answer_accuracy</th><th>max_height.num_correct_answer</th><th>max_height.num_correct_page_searched</th><th>max_height.num_results</th><th>max_height.page_search_recall</th><th>max_lot_coverage.answer_accuracy</th><th>max_lot_coverage.conditional_answer_accuracy</th><th>max_lot_coverage.num_correct_answer</th><th>max_lot_coverage.num_correct_page_searched</th><th>max_lot_coverage.num_results</th><th>max_lot_coverage.page_search_recall</th><th>max_lot_coverage_pavement.answer_accuracy</th><th>max_lot_coverage_pavement.conditional_answer_accuracy</th><th>max_lot_coverage_pavement.num_correct_answer</th><th>max_lot_coverage_pavement.num_correct_page_searched</th><th>max_lot_coverage_pavement.num_results</th><th>&hellip;</th><th>min unit size.num_results</th><th>min unit size.page_extract_recall</th><th>min unit size.page_search_recall</th><th>num_correct_answer</th><th>num_correct_page_extracted</th><th>num_correct_page_searched</th><th>num_results</th><th>page_extract_recall</th><th>extract_text.orig_document_s3_bucket</th><th>generate_dataset.seed</th><th>generate_dataset.test_split_frac</th><th>publish_datasets</th><th>num_districts</th><th>eval.terms</th><th>search</th><th>extraction</th><th>eval.k</th><th>eval.elastic-k</th><th>eval.embedding-k</th><th>data/hf_dataset</th><th>data/hf_text_dataset</th><th>data/names_all_towns.json</th><th>data/orig-documents</th><th>data/orig_documents_s3_manifest.json</th><th>data/textract_dataset</th><th>maxdumas/extract_text.py</th><th>maxdumas/generate_dataset.py</th><th>maxdumas/upload_zoning_docs.sh</th><th>templates/extraction.pmpt.tpl</th><th>templates/extraction_chat_completion.pmpt.tpl</th><th>templates/extraction_completion.pmpt.tpl</th><th>zoning/data_processing/eval.py</th><th>zoning/data_processing/extract_text.py</th><th>zoning/data_processing/generate_dataset.py</th><th>zoning/data_processing/generate_text_dataset.py</th><th>zoning/data_processing/index_towns.py</th><th>zoning/data_processing/upload_zoning_docs.sh</th></tr><tr><td>str</td><td>str</td><td>str</td><td>str</td><td>str</td><td>f32</td><td>f64</td><td>f32</td><td>f64</td><td>f64</td><td>f64</td><td>i64</td><td>i64</td><td>i64</td><td>i64</td><td>i64</td><td>f64</td><td>f64</td><td>f64</td><td>f64</td><td>f64</td><td>f64</td><td>i64</td><td>i64</td><td>i64</td><td>f64</td><td>f64</td><td>f64</td><td>i64</td><td>i64</td><td>i64</td><td>f64</td><td>f64</td><td>f64</td><td>i64</td><td>i64</td><td>i64</td><td>&hellip;</td><td>str</td><td>str</td><td>str</td><td>str</td><td>str</td><td>str</td><td>str</td><td>str</td><td>str</td><td>i64</td><td>f64</td><td>bool</td><td>i64</td><td>str</td><td>str</td><td>str</td><td>i64</td><td>i64</td><td>i64</td><td>str</td><td>str</td><td>str</td><td>str</td><td>str</td><td>str</td><td>str</td><td>str</td><td>str</td><td>str</td><td>str</td><td>str</td><td>str</td><td>str</td><td>str</td><td>str</td><td>str</td><td>str</td></tr></thead><tbody><tr><td>&quot;sixth-jake&quot;</td><td>&quot;4fc1490&quot;</td><td>&quot;branch_commit&quot;</td><td>&quot;2023-10-17T17:…</td><td>null</td><td>0.0</td><td>null</td><td>0.0</td><td>0.0</td><td>null</td><td>0.0</td><td>0</td><td>4</td><td>10</td><td>10</td><td>10</td><td>0.4</td><td>1.0</td><td>0.316667</td><td>1.0</td><td>0.0</td><td>0.0</td><td>0</td><td>2</td><td>10</td><td>0.2</td><td>0.0</td><td>0.0</td><td>0</td><td>5</td><td>10</td><td>0.5</td><td>0.0</td><td>0.0</td><td>0</td><td>2</td><td>10</td><td>&hellip;</td><td>null</td><td>null</td><td>null</td><td>null</td><td>null</td><td>null</td><td>null</td><td>null</td><td>&quot;cornell-mfd64&quot;</td><td>42</td><td>0.3</td><td>true</td><td>10</td><td>&quot;[&#x27;min_lot_size…</td><td>&quot;elasticsearch&quot;</td><td>&quot;tournament_red…</td><td>null</td><td>0</td><td>0</td><td>&quot;302e323289b318…</td><td>&quot;e832d3471ef79f…</td><td>&quot;0013040cfeb0f4…</td><td>&quot;2311e7a6bb96f9…</td><td>&quot;897ea14dfed07e…</td><td>&quot;11062398489b76…</td><td>null</td><td>null</td><td>null</td><td>null</td><td>&quot;1a26f472c8a488…</td><td>&quot;cdd9b0b79ac4ed…</td><td>&quot;73e54fedf2ba3b…</td><td>&quot;98404ae0ff0f6d…</td><td>&quot;51f7f2eef57fa4…</td><td>&quot;45a291510a51b8…</td><td>&quot;cd3c4af8c8e19c…</td><td>&quot;4bc9fb2d649525…</td></tr><tr><td>null</td><td>&quot;angky&quot;</td><td>&quot;baseline&quot;</td><td>&quot;2023-10-10T20:…</td><td>null</td><td>0.766667</td><td>null</td><td>0.97619</td><td>0.7</td><td>null</td><td>1.0</td><td>7</td><td>7</td><td>123</td><td>null</td><td>null</td><td>0.7</td><td>null</td><td>0.75</td><td>null</td><td>1.0</td><td>1.0</td><td>10</td><td>10</td><td>123</td><td>1.0</td><td>0.9</td><td>1.0</td><td>9</td><td>9</td><td>126</td><td>0.9</td><td>0.6</td><td>0.857143</td><td>6</td><td>7</td><td>120</td><td>&hellip;</td><td>null</td><td>null</td><td>null</td><td>null</td><td>null</td><td>null</td><td>null</td><td>null</td><td>&quot;cornell-mfd64&quot;</td><td>42</td><td>0.3</td><td>true</td><td>10</td><td>&quot;[&#x27;min_lot_size…</td><td>&quot;elasticsearch&quot;</td><td>&quot;map&quot;</td><td>12</td><td>null</td><td>null</td><td>&quot;302e323289b318…</td><td>&quot;e832d3471ef79f…</td><td>&quot;0013040cfeb0f4…</td><td>&quot;2311e7a6bb96f9…</td><td>&quot;897ea14dfed07e…</td><td>&quot;11062398489b76…</td><td>null</td><td>null</td><td>null</td><td>null</td><td>&quot;1a26f472c8a488…</td><td>&quot;cdd9b0b79ac4ed…</td><td>&quot;ed75967007eee2…</td><td>&quot;98404ae0ff0f6d…</td><td>&quot;51f7f2eef57fa4…</td><td>&quot;45a291510a51b8…</td><td>&quot;cd3c4af8c8e19c…</td><td>&quot;4bc9fb2d649525…</td></tr><tr><td>null</td><td>&quot;1223338&quot;</td><td>&quot;baseline&quot;</td><td>&quot;2023-04-22T19:…</td><td>null</td><td>0.280374</td><td>null</td><td>null</td><td>null</td><td>null</td><td>null</td><td>null</td><td>null</td><td>null</td><td>null</td><td>null</td><td>null</td><td>null</td><td>0.121495</td><td>null</td><td>null</td><td>null</td><td>null</td><td>null</td><td>null</td><td>null</td><td>null</td><td>null</td><td>null</td><td>null</td><td>null</td><td>null</td><td>null</td><td>null</td><td>null</td><td>null</td><td>null</td><td>&hellip;</td><td>null</td><td>null</td><td>null</td><td>&quot;90&quot;</td><td>&quot;52&quot;</td><td>&quot;39&quot;</td><td>&quot;321&quot;</td><td>&quot;0.161993769470…</td><td>&quot;cornell-mfd64&quot;</td><td>42</td><td>0.3</td><td>true</td><td>null</td><td>null</td><td>null</td><td>null</td><td>null</td><td>null</td><td>null</td><td>&quot;0057d2cb5fa96c…</td><td>&quot;e832d3471ef79f…</td><td>&quot;0013040cfeb0f4…</td><td>&quot;b208d6a5c83a0e…</td><td>&quot;897ea14dfed07e…</td><td>&quot;8d59315d9f3f21…</td><td>null</td><td>null</td><td>null</td><td>&quot;b72763886abe42…</td><td>null</td><td>null</td><td>&quot;4d53ca018b3e4c…</td><td>&quot;98404ae0ff0f6d…</td><td>&quot;51f7f2eef57fa4…</td><td>&quot;45a291510a51b8…</td><td>&quot;1de20cf7c54e7d…</td><td>&quot;4bc9fb2d649525…</td></tr><tr><td>&quot;metal-keep&quot;</td><td>&quot;fe16a0f&quot;</td><td>&quot;branch_base&quot;</td><td>&quot;2023-10-17T13:…</td><td>null</td><td>0.383333</td><td>null</td><td>0.944444</td><td>0.5</td><td>null</td><td>1.0</td><td>5</td><td>5</td><td>10</td><td>10</td><td>10</td><td>0.5</td><td>1.0</td><td>0.4</td><td>1.0</td><td>0.4</td><td>1.0</td><td>4</td><td>4</td><td>11</td><td>0.4</td><td>0.6</td><td>1.0</td><td>6</td><td>6</td><td>11</td><td>0.6</td><td>0.2</td><td>0.666667</td><td>2</td><td>3</td><td>10</td><td>&hellip;</td><td>null</td><td>null</td><td>null</td><td>null</td><td>null</td><td>null</td><td>null</td><td>null</td><td>&quot;cornell-mfd64&quot;</td><td>42</td><td>0.3</td><td>true</td><td>10</td><td>&quot;[&#x27;min_lot_size…</td><td>&quot;embeddings_knn…</td><td>&quot;map&quot;</td><td>1</td><td>null</td><td>null</td><td>&quot;302e323289b318…</td><td>&quot;e832d3471ef79f…</td><td>&quot;0013040cfeb0f4…</td><td>&quot;2311e7a6bb96f9…</td><td>&quot;897ea14dfed07e…</td><td>&quot;11062398489b76…</td><td>null</td><td>null</td><td>null</td><td>null</td><td>&quot;1a26f472c8a488…</td><td>&quot;cdd9b0b79ac4ed…</td><td>&quot;9ab9eaeba23798…</td><td>&quot;98404ae0ff0f6d…</td><td>&quot;51f7f2eef57fa4…</td><td>&quot;45a291510a51b8…</td><td>&quot;cd3c4af8c8e19c…</td><td>&quot;4bc9fb2d649525…</td></tr><tr><td>&quot;noted-jerk&quot;</td><td>&quot;27a1173&quot;</td><td>&quot;branch_commit&quot;</td><td>&quot;2023-10-17T17:…</td><td>null</td><td>0.0</td><td>null</td><td>0.0</td><td>0.0</td><td>null</td><td>0.0</td><td>0</td><td>9</td><td>54</td><td>10</td><td>10</td><td>0.9</td><td>1.0</td><td>0.716667</td><td>1.0</td><td>0.0</td><td>0.0</td><td>0</td><td>9</td><td>53</td><td>0.9</td><td>0.0</td><td>0.0</td><td>0</td><td>7</td><td>34</td><td>0.7</td><td>0.0</td><td>0.0</td><td>0</td><td>9</td><td>36</td><td>&hellip;</td><td>null</td><td>null</td><td>null</td><td>null</td><td>null</td><td>null</td><td>null</td><td>null</td><td>&quot;cornell-mfd64&quot;</td><td>42</td><td>0.3</td><td>true</td><td>10</td><td>&quot;[&#x27;min_lot_size…</td><td>&quot;elasticsearch&quot;</td><td>&quot;tournament_red…</td><td>null</td><td>4</td><td>0</td><td>&quot;302e323289b318…</td><td>&quot;e832d3471ef79f…</td><td>&quot;0013040cfeb0f4…</td><td>&quot;2311e7a6bb96f9…</td><td>&quot;897ea14dfed07e…</td><td>&quot;11062398489b76…</td><td>null</td><td>null</td><td>null</td><td>null</td><td>&quot;1a26f472c8a488…</td><td>&quot;cdd9b0b79ac4ed…</td><td>&quot;73e54fedf2ba3b…</td><td>&quot;98404ae0ff0f6d…</td><td>&quot;51f7f2eef57fa4…</td><td>&quot;45a291510a51b8…</td><td>&quot;cd3c4af8c8e19c…</td><td>&quot;4bc9fb2d649525…</td></tr><tr><td>&quot;mothy-wine&quot;</td><td>&quot;eb72ca9&quot;</td><td>&quot;branch_commit&quot;</td><td>&quot;2023-10-17T20:…</td><td>null</td><td>0.0</td><td>null</td><td>0.0</td><td>0.0</td><td>null</td><td>0.0</td><td>0</td><td>9</td><td>78</td><td>10</td><td>10</td><td>0.9</td><td>1.0</td><td>0.733333</td><td>1.0</td><td>0.0</td><td>0.0</td><td>0</td><td>10</td><td>69</td><td>1.0</td><td>0.0</td><td>0.0</td><td>0</td><td>7</td><td>39</td><td>0.7</td><td>0.0</td><td>0.0</td><td>0</td><td>9</td><td>41</td><td>&hellip;</td><td>null</td><td>null</td><td>null</td><td>null</td><td>null</td><td>null</td><td>null</td><td>null</td><td>&quot;cornell-mfd64&quot;</td><td>42</td><td>0.3</td><td>true</td><td>10</td><td>&quot;[&#x27;min_lot_size…</td><td>&quot;elasticsearch&quot;</td><td>&quot;map&quot;</td><td>null</td><td>6</td><td>2</td><td>&quot;302e323289b318…</td><td>&quot;e832d3471ef79f…</td><td>&quot;0013040cfeb0f4…</td><td>&quot;2311e7a6bb96f9…</td><td>&quot;897ea14dfed07e…</td><td>&quot;11062398489b76…</td><td>null</td><td>null</td><td>null</td><td>null</td><td>&quot;1a26f472c8a488…</td><td>&quot;cdd9b0b79ac4ed…</td><td>&quot;73e54fedf2ba3b…</td><td>&quot;98404ae0ff0f6d…</td><td>&quot;51f7f2eef57fa4…</td><td>&quot;45a291510a51b8…</td><td>&quot;cd3c4af8c8e19c…</td><td>&quot;4bc9fb2d649525…</td></tr><tr><td>null</td><td>&quot;9a5c2aa&quot;</td><td>&quot;baseline&quot;</td><td>&quot;2023-05-02T12:…</td><td>null</td><td>0.280374</td><td>null</td><td>null</td><td>null</td><td>null</td><td>null</td><td>null</td><td>null</td><td>null</td><td>null</td><td>null</td><td>null</td><td>null</td><td>0.121495</td><td>null</td><td>null</td><td>null</td><td>null</td><td>null</td><td>null</td><td>null</td><td>null</td><td>null</td><td>null</td><td>null</td><td>null</td><td>null</td><td>null</td><td>null</td><td>null</td><td>null</td><td>null</td><td>&hellip;</td><td>null</td><td>null</td><td>null</td><td>&quot;90&quot;</td><td>&quot;52&quot;</td><td>&quot;39&quot;</td><td>&quot;321&quot;</td><td>&quot;0.161993769470…</td><td>&quot;cornell-mfd64&quot;</td><td>42</td><td>0.3</td><td>true</td><td>null</td><td>null</td><td>null</td><td>null</td><td>null</td><td>null</td><td>null</td><td>&quot;0057d2cb5fa96c…</td><td>&quot;e832d3471ef79f…</td><td>&quot;0013040cfeb0f4…</td><td>&quot;b208d6a5c83a0e…</td><td>&quot;897ea14dfed07e…</td><td>&quot;8d59315d9f3f21…</td><td>null</td><td>null</td><td>null</td><td>&quot;b72763886abe42…</td><td>null</td><td>null</td><td>&quot;4d53ca018b3e4c…</td><td>&quot;98404ae0ff0f6d…</td><td>&quot;51f7f2eef57fa4…</td><td>&quot;45a291510a51b8…</td><td>&quot;1de20cf7c54e7d…</td><td>&quot;4bc9fb2d649525…</td></tr><tr><td>null</td><td>&quot;5104f8c&quot;</td><td>&quot;baseline&quot;</td><td>&quot;2023-10-18T02:…</td><td>null</td><td>0.766667</td><td>null</td><td>0.97619</td><td>0.7</td><td>null</td><td>1.0</td><td>7</td><td>7</td><td>123</td><td>null</td><td>null</td><td>0.7</td><td>null</td><td>0.75</td><td>null</td><td>1.0</td><td>1.0</td><td>10</td><td>10</td><td>123</td><td>1.0</td><td>0.9</td><td>1.0</td><td>9</td><td>9</td><td>126</td><td>0.9</td><td>0.6</td><td>0.857143</td><td>6</td><td>7</td><td>120</td><td>&hellip;</td><td>null</td><td>null</td><td>null</td><td>null</td><td>null</td><td>null</td><td>null</td><td>null</td><td>&quot;cornell-mfd64&quot;</td><td>42</td><td>0.3</td><td>true</td><td>10</td><td>&quot;[&#x27;min_lot_size…</td><td>&quot;elasticsearch&quot;</td><td>&quot;map&quot;</td><td>12</td><td>null</td><td>null</td><td>&quot;302e323289b318…</td><td>&quot;e832d3471ef79f…</td><td>&quot;0013040cfeb0f4…</td><td>&quot;2311e7a6bb96f9…</td><td>&quot;897ea14dfed07e…</td><td>&quot;11062398489b76…</td><td>null</td><td>null</td><td>null</td><td>null</td><td>&quot;1a26f472c8a488…</td><td>&quot;cdd9b0b79ac4ed…</td><td>&quot;ed75967007eee2…</td><td>&quot;98404ae0ff0f6d…</td><td>&quot;51f7f2eef57fa4…</td><td>&quot;45a291510a51b8…</td><td>&quot;cd3c4af8c8e19c…</td><td>&quot;4bc9fb2d649525…</td></tr><tr><td>&quot;awful-rial&quot;</td><td>&quot;848c203&quot;</td><td>&quot;branch_commit&quot;</td><td>&quot;2023-10-17T17:…</td><td>null</td><td>0.0</td><td>null</td><td>0.0</td><td>0.0</td><td>null</td><td>0.0</td><td>0</td><td>9</td><td>53</td><td>10</td><td>10</td><td>0.9</td><td>1.0</td><td>0.7</td><td>1.0</td><td>0.0</td><td>0.0</td><td>0</td><td>9</td><td>49</td><td>0.9</td><td>0.0</td><td>0.0</td><td>0</td><td>7</td><td>26</td><td>0.7</td><td>0.0</td><td>0.0</td><td>0</td><td>8</td><td>32</td><td>&hellip;</td><td>null</td><td>null</td><td>null</td><td>null</td><td>null</td><td>null</td><td>null</td><td>null</td><td>&quot;cornell-mfd64&quot;</td><td>42</td><td>0.3</td><td>true</td><td>10</td><td>&quot;[&#x27;min_lot_size…</td><td>&quot;elasticsearch&quot;</td><td>&quot;tournament_red…</td><td>null</td><td>2</td><td>0</td><td>&quot;302e323289b318…</td><td>&quot;e832d3471ef79f…</td><td>&quot;0013040cfeb0f4…</td><td>&quot;2311e7a6bb96f9…</td><td>&quot;897ea14dfed07e…</td><td>&quot;11062398489b76…</td><td>null</td><td>null</td><td>null</td><td>null</td><td>&quot;1a26f472c8a488…</td><td>&quot;cdd9b0b79ac4ed…</td><td>&quot;73e54fedf2ba3b…</td><td>&quot;98404ae0ff0f6d…</td><td>&quot;51f7f2eef57fa4…</td><td>&quot;45a291510a51b8…</td><td>&quot;cd3c4af8c8e19c…</td><td>&quot;4bc9fb2d649525…</td></tr><tr><td>null</td><td>&quot;fd3a1d6&quot;</td><td>&quot;baseline&quot;</td><td>&quot;2023-05-02T12:…</td><td>null</td><td>0.181644</td><td>null</td><td>0.511111</td><td>null</td><td>null</td><td>null</td><td>null</td><td>null</td><td>null</td><td>null</td><td>null</td><td>null</td><td>null</td><td>0.85443</td><td>null</td><td>null</td><td>null</td><td>null</td><td>null</td><td>null</td><td>null</td><td>null</td><td>null</td><td>null</td><td>null</td><td>null</td><td>null</td><td>null</td><td>null</td><td>null</td><td>null</td><td>null</td><td>&hellip;</td><td>null</td><td>null</td><td>null</td><td>&quot;95&quot;</td><td>&quot;92&quot;</td><td>&quot;135.0&quot;</td><td>&quot;523&quot;</td><td>&quot;0.175908221797…</td><td>&quot;cornell-mfd64&quot;</td><td>42</td><td>0.3</td><td>true</td><td>null</td><td>null</td><td>null</td><td>null</td><td>null</td><td>null</td><td>null</td><td>&quot;302e323289b318…</td><td>&quot;e832d3471ef79f…</td><td>&quot;0013040cfeb0f4…</td><td>&quot;b208d6a5c83a0e…</td><td>&quot;897ea14dfed07e…</td><td>&quot;11062398489b76…</td><td>null</td><td>null</td><td>null</td><td>null</td><td>&quot;e8e4387015c8ae…</td><td>&quot;b72763886abe42…</td><td>&quot;d53cd6454cb28e…</td><td>&quot;98404ae0ff0f6d…</td><td>&quot;51f7f2eef57fa4…</td><td>&quot;45a291510a51b8…</td><td>&quot;cd3c4af8c8e19c…</td><td>&quot;4bc9fb2d649525…</td></tr></tbody></table></div>"
      ],
      "text/plain": [
       "shape: (10, 134)\n",
       "┌────────────┬─────────┬───────────┬───────────┬───┬───────────┬───────────┬───────────┬───────────┐\n",
       "│ Experiment ┆ rev     ┆ typ       ┆ Created   ┆ … ┆ zoning/da ┆ zoning/da ┆ zoning/da ┆ zoning/da │\n",
       "│ ---        ┆ ---     ┆ ---       ┆ ---       ┆   ┆ ta_proces ┆ ta_proces ┆ ta_proces ┆ ta_proces │\n",
       "│ str        ┆ str     ┆ str       ┆ str       ┆   ┆ sing/gene ┆ sing/gene ┆ sing/inde ┆ sing/uplo │\n",
       "│            ┆         ┆           ┆           ┆   ┆ rate_…    ┆ rate_…    ┆ x_tow…    ┆ ad_zo…    │\n",
       "│            ┆         ┆           ┆           ┆   ┆ ---       ┆ ---       ┆ ---       ┆ ---       │\n",
       "│            ┆         ┆           ┆           ┆   ┆ str       ┆ str       ┆ str       ┆ str       │\n",
       "╞════════════╪═════════╪═══════════╪═══════════╪═══╪═══════════╪═══════════╪═══════════╪═══════════╡\n",
       "│ sixth-jake ┆ 4fc1490 ┆ branch_co ┆ 2023-10-1 ┆ … ┆ 51f7f2eef ┆ 45a291510 ┆ cd3c4af8c ┆ 4bc9fb2d6 │\n",
       "│            ┆         ┆ mmit      ┆ 7T17:30:5 ┆   ┆ 57fa468b3 ┆ a51b88863 ┆ 8e19c9927 ┆ 49525a0c3 │\n",
       "│            ┆         ┆           ┆ 3         ┆   ┆ d03fd2d8f ┆ 978680521 ┆ e28912aaf ┆ 928fe4f7b │\n",
       "│            ┆         ┆           ┆           ┆   ┆ aa385     ┆ 38501     ┆ 7ced5     ┆ c2307     │\n",
       "│ null       ┆ angky   ┆ baseline  ┆ 2023-10-1 ┆ … ┆ 51f7f2eef ┆ 45a291510 ┆ cd3c4af8c ┆ 4bc9fb2d6 │\n",
       "│            ┆         ┆           ┆ 0T20:48:5 ┆   ┆ 57fa468b3 ┆ a51b88863 ┆ 8e19c9927 ┆ 49525a0c3 │\n",
       "│            ┆         ┆           ┆ 2         ┆   ┆ d03fd2d8f ┆ 978680521 ┆ e28912aaf ┆ 928fe4f7b │\n",
       "│            ┆         ┆           ┆           ┆   ┆ aa385     ┆ 38501     ┆ 7ced5     ┆ c2307     │\n",
       "│ null       ┆ 1223338 ┆ baseline  ┆ 2023-04-2 ┆ … ┆ 51f7f2eef ┆ 45a291510 ┆ 1de20cf7c ┆ 4bc9fb2d6 │\n",
       "│            ┆         ┆           ┆ 2T19:51:5 ┆   ┆ 57fa468b3 ┆ a51b88863 ┆ 54e7d04b7 ┆ 49525a0c3 │\n",
       "│            ┆         ┆           ┆ 0         ┆   ┆ d03fd2d8f ┆ 978680521 ┆ 1c61328d4 ┆ 928fe4f7b │\n",
       "│            ┆         ┆           ┆           ┆   ┆ aa385     ┆ 38501     ┆ 1e260     ┆ c2307     │\n",
       "│ metal-keep ┆ fe16a0f ┆ branch_ba ┆ 2023-10-1 ┆ … ┆ 51f7f2eef ┆ 45a291510 ┆ cd3c4af8c ┆ 4bc9fb2d6 │\n",
       "│            ┆         ┆ se        ┆ 7T13:16:0 ┆   ┆ 57fa468b3 ┆ a51b88863 ┆ 8e19c9927 ┆ 49525a0c3 │\n",
       "│            ┆         ┆           ┆ 0         ┆   ┆ d03fd2d8f ┆ 978680521 ┆ e28912aaf ┆ 928fe4f7b │\n",
       "│            ┆         ┆           ┆           ┆   ┆ aa385     ┆ 38501     ┆ 7ced5     ┆ c2307     │\n",
       "│ …          ┆ …       ┆ …         ┆ …         ┆ … ┆ …         ┆ …         ┆ …         ┆ …         │\n",
       "│ null       ┆ 9a5c2aa ┆ baseline  ┆ 2023-05-0 ┆ … ┆ 51f7f2eef ┆ 45a291510 ┆ 1de20cf7c ┆ 4bc9fb2d6 │\n",
       "│            ┆         ┆           ┆ 2T12:56:5 ┆   ┆ 57fa468b3 ┆ a51b88863 ┆ 54e7d04b7 ┆ 49525a0c3 │\n",
       "│            ┆         ┆           ┆ 0         ┆   ┆ d03fd2d8f ┆ 978680521 ┆ 1c61328d4 ┆ 928fe4f7b │\n",
       "│            ┆         ┆           ┆           ┆   ┆ aa385     ┆ 38501     ┆ 1e260     ┆ c2307     │\n",
       "│ null       ┆ 5104f8c ┆ baseline  ┆ 2023-10-1 ┆ … ┆ 51f7f2eef ┆ 45a291510 ┆ cd3c4af8c ┆ 4bc9fb2d6 │\n",
       "│            ┆         ┆           ┆ 8T02:36:0 ┆   ┆ 57fa468b3 ┆ a51b88863 ┆ 8e19c9927 ┆ 49525a0c3 │\n",
       "│            ┆         ┆           ┆ 9         ┆   ┆ d03fd2d8f ┆ 978680521 ┆ e28912aaf ┆ 928fe4f7b │\n",
       "│            ┆         ┆           ┆           ┆   ┆ aa385     ┆ 38501     ┆ 7ced5     ┆ c2307     │\n",
       "│ awful-rial ┆ 848c203 ┆ branch_co ┆ 2023-10-1 ┆ … ┆ 51f7f2eef ┆ 45a291510 ┆ cd3c4af8c ┆ 4bc9fb2d6 │\n",
       "│            ┆         ┆ mmit      ┆ 7T17:32:4 ┆   ┆ 57fa468b3 ┆ a51b88863 ┆ 8e19c9927 ┆ 49525a0c3 │\n",
       "│            ┆         ┆           ┆ 1         ┆   ┆ d03fd2d8f ┆ 978680521 ┆ e28912aaf ┆ 928fe4f7b │\n",
       "│            ┆         ┆           ┆           ┆   ┆ aa385     ┆ 38501     ┆ 7ced5     ┆ c2307     │\n",
       "│ null       ┆ fd3a1d6 ┆ baseline  ┆ 2023-05-0 ┆ … ┆ 51f7f2eef ┆ 45a291510 ┆ cd3c4af8c ┆ 4bc9fb2d6 │\n",
       "│            ┆         ┆           ┆ 2T12:57:1 ┆   ┆ 57fa468b3 ┆ a51b88863 ┆ 8e19c9927 ┆ 49525a0c3 │\n",
       "│            ┆         ┆           ┆ 4         ┆   ┆ d03fd2d8f ┆ 978680521 ┆ e28912aaf ┆ 928fe4f7b │\n",
       "│            ┆         ┆           ┆           ┆   ┆ aa385     ┆ 38501     ┆ 7ced5     ┆ c2307     │\n",
       "└────────────┴─────────┴───────────┴───────────┴───┴───────────┴───────────┴───────────┴───────────┘"
      ]
     },
     "execution_count": 102,
     "metadata": {},
     "output_type": "execute_result"
    }
   ],
   "source": [
    "# Read the CSV file\n",
    "df = pl.read_csv(\"../exps.csv\", ignore_errors=True)\n",
    "\n",
    "# Filter rows where 'answer_accuracy' is not null\n",
    "df = df.filter(df[\"answer_accuracy\"].is_not_null())\n",
    "\n",
    "# Cast columns to Float32\n",
    "df = df.with_columns(\n",
    "    df[\"answer_accuracy\"].cast(pl.Float32, strict=False),\n",
    "    df[\"conditional_answer_accuracy\"].cast(pl.Float32, strict=False)\n",
    ")\n",
    "\n",
    "# rename columns eval.num-eval-rows to num_districts, eval.search-method to search, eval.extraction-method to extraction\n",
    "rename_columns = {\n",
    "    \"eval.num-eval-rows\": \"num_districts\",\n",
    "    \"eval.search-method\": \"search\",\n",
    "    \"eval.extraction-method\": \"extraction\",\n",
    "}\n",
    "df = df.rename(rename_columns)\n",
    "\n",
    "df.sample(10)"
   ]
  },
  {
   "cell_type": "code",
   "execution_count": 103,
   "metadata": {},
   "outputs": [],
   "source": [
    "terms = [\n",
    "    \"min_lot_size\",\n",
    "    \"min_unit_size\",\n",
    "    \"max_height\",\n",
    "    \"max_lot_coverage\",\n",
    "    \"max_lot_coverage_pavement\",\n",
    "    \"min_parking_spaces\",\n",
    "]"
   ]
  },
  {
   "cell_type": "code",
   "execution_count": 111,
   "metadata": {},
   "outputs": [
    {
     "name": "stderr",
     "output_type": "stream",
     "text": [
      "/var/folders/wv/b_h63k2j0997cxn743g60jn40000gn/T/ipykernel_19807/2068419335.py:7: DeprecationWarning:\n",
      "\n",
      "Behavior for `lit` will change for sequence inputs. The result will change to be a literal of type List. To retain the old behavior, pass a Series instead, e.g. `Series(sequence)`.\n",
      "\n"
     ]
    },
    {
     "data": {
      "text/html": [
       "<div><style>\n",
       ".dataframe > thead > tr > th,\n",
       ".dataframe > tbody > tr > td {\n",
       "  text-align: right;\n",
       "  white-space: pre-wrap;\n",
       "}\n",
       "</style>\n",
       "<small>shape: (5, 13)</small><table border=\"1\" class=\"dataframe\"><thead><tr><th>rev</th><th>Experiment</th><th>Created</th><th>typ</th><th>parent</th><th>num_districts</th><th>search</th><th>extraction</th><th>eval.k</th><th>variable</th><th>value</th><th>term</th><th>term_variable</th></tr><tr><td>str</td><td>str</td><td>str</td><td>str</td><td>str</td><td>i64</td><td>str</td><td>str</td><td>i64</td><td>str</td><td>str</td><td>str</td><td>str</td></tr></thead><tbody><tr><td>&quot;workspace&quot;</td><td>null</td><td>null</td><td>&quot;baseline&quot;</td><td>null</td><td>10</td><td>&quot;elasticsearch&quot;</td><td>&quot;map&quot;</td><td>12</td><td>&quot;min_lot_size.a…</td><td>&quot;1.0&quot;</td><td>&quot;min_lot_size&quot;</td><td>&quot;answer_accurac…</td></tr><tr><td>&quot;02a6d8a&quot;</td><td>null</td><td>&quot;2023-10-23T16:…</td><td>&quot;baseline&quot;</td><td>null</td><td>10</td><td>&quot;elasticsearch&quot;</td><td>&quot;map&quot;</td><td>12</td><td>&quot;min_lot_size.a…</td><td>&quot;0.7&quot;</td><td>&quot;min_lot_size&quot;</td><td>&quot;answer_accurac…</td></tr><tr><td>&quot;master&quot;</td><td>null</td><td>&quot;2023-10-21T20:…</td><td>&quot;baseline&quot;</td><td>null</td><td>10</td><td>&quot;elasticsearch&quot;</td><td>&quot;map&quot;</td><td>12</td><td>&quot;min_lot_size.a…</td><td>&quot;0.7&quot;</td><td>&quot;min_lot_size&quot;</td><td>&quot;answer_accurac…</td></tr><tr><td>&quot;d2473af&quot;</td><td>null</td><td>&quot;2023-10-21T20:…</td><td>&quot;baseline&quot;</td><td>null</td><td>10</td><td>&quot;elasticsearch&quot;</td><td>&quot;map&quot;</td><td>12</td><td>&quot;min_lot_size.a…</td><td>&quot;0.7&quot;</td><td>&quot;min_lot_size&quot;</td><td>&quot;answer_accurac…</td></tr><tr><td>&quot;0d2dcac&quot;</td><td>null</td><td>&quot;2023-10-21T21:…</td><td>&quot;baseline&quot;</td><td>null</td><td>10</td><td>&quot;elasticsearch&quot;</td><td>&quot;map&quot;</td><td>12</td><td>&quot;min_lot_size.a…</td><td>&quot;0.7&quot;</td><td>&quot;min_lot_size&quot;</td><td>&quot;answer_accurac…</td></tr></tbody></table></div>"
      ],
      "text/plain": [
       "shape: (5, 13)\n",
       "┌───────────┬────────────┬────────────┬──────────┬───┬────────────┬───────┬────────────┬───────────┐\n",
       "│ rev       ┆ Experiment ┆ Created    ┆ typ      ┆ … ┆ variable   ┆ value ┆ term       ┆ term_vari │\n",
       "│ ---       ┆ ---        ┆ ---        ┆ ---      ┆   ┆ ---        ┆ ---   ┆ ---        ┆ able      │\n",
       "│ str       ┆ str        ┆ str        ┆ str      ┆   ┆ str        ┆ str   ┆ str        ┆ ---       │\n",
       "│           ┆            ┆            ┆          ┆   ┆            ┆       ┆            ┆ str       │\n",
       "╞═══════════╪════════════╪════════════╪══════════╪═══╪════════════╪═══════╪════════════╪═══════════╡\n",
       "│ workspace ┆ null       ┆ null       ┆ baseline ┆ … ┆ min_lot_si ┆ 1.0   ┆ min_lot_si ┆ answer_ac │\n",
       "│           ┆            ┆            ┆          ┆   ┆ ze.answer_ ┆       ┆ ze         ┆ curacy    │\n",
       "│           ┆            ┆            ┆          ┆   ┆ accuracy   ┆       ┆            ┆           │\n",
       "│ 02a6d8a   ┆ null       ┆ 2023-10-23 ┆ baseline ┆ … ┆ min_lot_si ┆ 0.7   ┆ min_lot_si ┆ answer_ac │\n",
       "│           ┆            ┆ T16:50:46  ┆          ┆   ┆ ze.answer_ ┆       ┆ ze         ┆ curacy    │\n",
       "│           ┆            ┆            ┆          ┆   ┆ accuracy   ┆       ┆            ┆           │\n",
       "│ master    ┆ null       ┆ 2023-10-21 ┆ baseline ┆ … ┆ min_lot_si ┆ 0.7   ┆ min_lot_si ┆ answer_ac │\n",
       "│           ┆            ┆ T20:22:47  ┆          ┆   ┆ ze.answer_ ┆       ┆ ze         ┆ curacy    │\n",
       "│           ┆            ┆            ┆          ┆   ┆ accuracy   ┆       ┆            ┆           │\n",
       "│ d2473af   ┆ null       ┆ 2023-10-21 ┆ baseline ┆ … ┆ min_lot_si ┆ 0.7   ┆ min_lot_si ┆ answer_ac │\n",
       "│           ┆            ┆ T20:12:12  ┆          ┆   ┆ ze.answer_ ┆       ┆ ze         ┆ curacy    │\n",
       "│           ┆            ┆            ┆          ┆   ┆ accuracy   ┆       ┆            ┆           │\n",
       "│ 0d2dcac   ┆ null       ┆ 2023-10-21 ┆ baseline ┆ … ┆ min_lot_si ┆ 0.7   ┆ min_lot_si ┆ answer_ac │\n",
       "│           ┆            ┆ T21:20:43  ┆          ┆   ┆ ze.answer_ ┆       ┆ ze         ┆ curacy    │\n",
       "│           ┆            ┆            ┆          ┆   ┆ accuracy   ┆       ┆            ┆           │\n",
       "└───────────┴────────────┴────────────┴──────────┴───┴────────────┴───────┴────────────┴───────────┘"
      ]
     },
     "execution_count": 111,
     "metadata": {},
     "output_type": "execute_result"
    }
   ],
   "source": [
    "df_terms = (\n",
    "    df.melt(id_vars=[\"rev\", \"Experiment\", \"Created\", \"typ\", \"parent\", \"num_districts\", \"search\", \"extraction\", \"eval.k\"])\n",
    "    .with_columns(\n",
    "        pl.col(\"variable\").str.extract(r\"^(\\w+)\\.\\w+$\").alias(\"term\"),\n",
    "        pl.col(\"variable\").str.extract(r\"^\\w+\\.(\\w+$)\").alias(\"term_variable\"),\n",
    "    )\n",
    "    .filter(pl.col(\"term\").is_in(pl.lit(terms)))\n",
    ")\n",
    "df_terms.head()"
   ]
  },
  {
   "cell_type": "code",
   "execution_count": 112,
   "metadata": {},
   "outputs": [
    {
     "name": "stderr",
     "output_type": "stream",
     "text": [
      "/var/folders/wv/b_h63k2j0997cxn743g60jn40000gn/T/ipykernel_19807/1135804182.py:12: DeprecationWarning:\n",
      "\n",
      "`groupby` is deprecated. It has been renamed to `group_by`.\n",
      "\n"
     ]
    }
   ],
   "source": [
    "# Filter for 'answer_accuracy' term_variable and cast the 'value' column to Float32\n",
    "df_terms_accuracy = (\n",
    "    df_terms.filter(pl.col(\"term_variable\") == \"answer_accuracy\")\n",
    "    .with_columns(pl.col(\"value\").cast(pl.Float32, strict=False))\n",
    ")\n",
    "\n",
    "# Sort by 'term', then by 'value' (accuracy) in descending order, and then, for ties, by other relevant columns\n",
    "# (For example: 'rev', 'Experiment', 'Created', etc., you can add more columns for more deterministic sorting)\n",
    "df_sorted = df_terms_accuracy.sort([\"term\", \"value\", \"rev\", \"Experiment\", \"Created\"]).reverse()\n",
    "\n",
    "# Then select top 25 for each 'term'\n",
    "df_top25 = df_sorted.groupby(\"term\").head(25)"
   ]
  },
  {
   "cell_type": "code",
   "execution_count": 115,
   "metadata": {},
   "outputs": [
    {
     "data": {
      "application/vnd.plotly.v1+json": {
       "config": {
        "plotlyServerURL": "https://plot.ly"
       },
       "data": [
        {
         "alignmentgroup": "True",
         "hovertemplate": "term=min_unit_size<br>search=elasticsearch<br>value=%{x}<extra></extra>",
         "legendgroup": "min_unit_size",
         "marker": {
          "color": "#636efa"
         },
         "name": "min_unit_size",
         "notched": false,
         "offsetgroup": "min_unit_size",
         "orientation": "h",
         "showlegend": true,
         "type": "box",
         "x": [
          0.9,
          0.8888889,
          0.8,
          0.8,
          0.8,
          0.8,
          0.8,
          0.8,
          0.8,
          0.8,
          0.8,
          0.8,
          0.8,
          0.8,
          0.8,
          0.8,
          0.8,
          0.8,
          0.8,
          0.8,
          0.8,
          0.8,
          0.8,
          0.8
         ],
         "x0": " ",
         "xaxis": "x",
         "y0": " ",
         "yaxis": "y"
        },
        {
         "alignmentgroup": "True",
         "hovertemplate": "term=min_unit_size<br>search=embeddings_knn<br>value=%{x}<extra></extra>",
         "legendgroup": "min_unit_size",
         "marker": {
          "color": "#636efa"
         },
         "name": "min_unit_size",
         "notched": false,
         "offsetgroup": "min_unit_size",
         "orientation": "h",
         "showlegend": false,
         "type": "box",
         "x": [
          0.8
         ],
         "x0": " ",
         "xaxis": "x2",
         "y0": " ",
         "yaxis": "y2"
        },
        {
         "alignmentgroup": "True",
         "hovertemplate": "term=min_parking_spaces<br>search=elasticsearch<br>value=%{x}<extra></extra>",
         "legendgroup": "min_parking_spaces",
         "marker": {
          "color": "#EF553B"
         },
         "name": "min_parking_spaces",
         "notched": false,
         "offsetgroup": "min_parking_spaces",
         "orientation": "h",
         "showlegend": true,
         "type": "box",
         "x": [
          0.6,
          0.6,
          0.6,
          0.6,
          0.6,
          0.6,
          0.6,
          0.6,
          0.6,
          0.6,
          0.6,
          0.6,
          0.6,
          0.6,
          0.6,
          0.6,
          0.6,
          0.6,
          0.6,
          0.6,
          0.6,
          0.6,
          0.6
         ],
         "x0": " ",
         "xaxis": "x",
         "y0": " ",
         "yaxis": "y"
        },
        {
         "alignmentgroup": "True",
         "hovertemplate": "term=min_parking_spaces<br>search=embeddings_knn<br>value=%{x}<extra></extra>",
         "legendgroup": "min_parking_spaces",
         "marker": {
          "color": "#EF553B"
         },
         "name": "min_parking_spaces",
         "notched": false,
         "offsetgroup": "min_parking_spaces",
         "orientation": "h",
         "showlegend": false,
         "type": "box",
         "x": [
          0.71428573,
          0.6
         ],
         "x0": " ",
         "xaxis": "x2",
         "y0": " ",
         "yaxis": "y2"
        },
        {
         "alignmentgroup": "True",
         "hovertemplate": "term=max_height<br>search=elasticsearch<br>value=%{x}<extra></extra>",
         "legendgroup": "max_height",
         "marker": {
          "color": "#00cc96"
         },
         "name": "max_height",
         "notched": false,
         "offsetgroup": "max_height",
         "orientation": "h",
         "showlegend": true,
         "type": "box",
         "x": [
          1,
          1,
          1,
          1,
          1,
          1,
          1,
          1,
          1,
          1,
          1,
          1,
          1,
          1,
          1,
          1,
          1,
          1,
          1,
          1,
          1,
          1,
          1,
          1
         ],
         "x0": " ",
         "xaxis": "x",
         "y0": " ",
         "yaxis": "y"
        },
        {
         "alignmentgroup": "True",
         "hovertemplate": "term=max_height<br>search=embeddings_knn<br>value=%{x}<extra></extra>",
         "legendgroup": "max_height",
         "marker": {
          "color": "#00cc96"
         },
         "name": "max_height",
         "notched": false,
         "offsetgroup": "max_height",
         "orientation": "h",
         "showlegend": false,
         "type": "box",
         "x": [
          1
         ],
         "x0": " ",
         "xaxis": "x2",
         "y0": " ",
         "yaxis": "y2"
        },
        {
         "alignmentgroup": "True",
         "hovertemplate": "term=max_lot_coverage_pavement<br>search=elasticsearch<br>value=%{x}<extra></extra>",
         "legendgroup": "max_lot_coverage_pavement",
         "marker": {
          "color": "#ab63fa"
         },
         "name": "max_lot_coverage_pavement",
         "notched": false,
         "offsetgroup": "max_lot_coverage_pavement",
         "orientation": "h",
         "showlegend": true,
         "type": "box",
         "x": [
          0.6666667,
          0.6,
          0.6,
          0.6,
          0.6,
          0.6,
          0.6,
          0.6,
          0.6,
          0.6,
          0.6,
          0.6,
          0.6,
          0.6,
          0.6,
          0.6,
          0.6,
          0.6,
          0.6,
          0.6,
          0.6,
          0.6,
          0.6
         ],
         "x0": " ",
         "xaxis": "x",
         "y0": " ",
         "yaxis": "y"
        },
        {
         "alignmentgroup": "True",
         "hovertemplate": "term=max_lot_coverage_pavement<br>search=embeddings_knn<br>value=%{x}<extra></extra>",
         "legendgroup": "max_lot_coverage_pavement",
         "marker": {
          "color": "#ab63fa"
         },
         "name": "max_lot_coverage_pavement",
         "notched": false,
         "offsetgroup": "max_lot_coverage_pavement",
         "orientation": "h",
         "showlegend": false,
         "type": "box",
         "x": [
          0.7,
          0.625
         ],
         "x0": " ",
         "xaxis": "x2",
         "y0": " ",
         "yaxis": "y2"
        },
        {
         "alignmentgroup": "True",
         "hovertemplate": "term=min_lot_size<br>search=elasticsearch<br>value=%{x}<extra></extra>",
         "legendgroup": "min_lot_size",
         "marker": {
          "color": "#FFA15A"
         },
         "name": "min_lot_size",
         "notched": false,
         "offsetgroup": "min_lot_size",
         "orientation": "h",
         "showlegend": true,
         "type": "box",
         "x": [
          1,
          0.8,
          0.8,
          0.8,
          0.8,
          0.8,
          0.8,
          0.8,
          0.8,
          0.8,
          0.8,
          0.8,
          0.8,
          0.7,
          0.7,
          0.7,
          0.7,
          0.7,
          0.7,
          0.7,
          0.7,
          0.7,
          0.7,
          0.7,
          0.7
         ],
         "x0": " ",
         "xaxis": "x",
         "y0": " ",
         "yaxis": "y"
        },
        {
         "alignmentgroup": "True",
         "hovertemplate": "term=max_lot_coverage<br>search=elasticsearch<br>value=%{x}<extra></extra>",
         "legendgroup": "max_lot_coverage",
         "marker": {
          "color": "#19d3f3"
         },
         "name": "max_lot_coverage",
         "notched": false,
         "offsetgroup": "max_lot_coverage",
         "orientation": "h",
         "showlegend": true,
         "type": "box",
         "x": [
          0.9,
          0.9,
          0.9,
          0.9,
          0.9,
          0.9,
          0.9,
          0.9,
          0.9,
          0.9,
          0.9,
          0.9,
          0.9,
          0.9,
          0.9,
          0.9,
          0.9,
          0.9,
          0.9,
          0.9,
          0.9,
          0.9,
          0.9,
          0.9
         ],
         "x0": " ",
         "xaxis": "x",
         "y0": " ",
         "yaxis": "y"
        },
        {
         "alignmentgroup": "True",
         "hovertemplate": "term=max_lot_coverage<br>search=embeddings_knn<br>value=%{x}<extra></extra>",
         "legendgroup": "max_lot_coverage",
         "marker": {
          "color": "#19d3f3"
         },
         "name": "max_lot_coverage",
         "notched": false,
         "offsetgroup": "max_lot_coverage",
         "orientation": "h",
         "showlegend": false,
         "type": "box",
         "x": [
          0.9
         ],
         "x0": " ",
         "xaxis": "x2",
         "y0": " ",
         "yaxis": "y2"
        }
       ],
       "layout": {
        "annotations": [
         {
          "font": {},
          "showarrow": false,
          "text": "search=elasticsearch",
          "x": 0.245,
          "xanchor": "center",
          "xref": "paper",
          "y": 1,
          "yanchor": "bottom",
          "yref": "paper"
         },
         {
          "font": {},
          "showarrow": false,
          "text": "search=embeddings_knn",
          "x": 0.755,
          "xanchor": "center",
          "xref": "paper",
          "y": 1,
          "yanchor": "bottom",
          "yref": "paper"
         }
        ],
        "boxmode": "group",
        "legend": {
         "title": {
          "text": "term"
         },
         "tracegroupgap": 0
        },
        "margin": {
         "t": 60
        },
        "template": {
         "data": {
          "bar": [
           {
            "error_x": {
             "color": "#2a3f5f"
            },
            "error_y": {
             "color": "#2a3f5f"
            },
            "marker": {
             "line": {
              "color": "#E5ECF6",
              "width": 0.5
             },
             "pattern": {
              "fillmode": "overlay",
              "size": 10,
              "solidity": 0.2
             }
            },
            "type": "bar"
           }
          ],
          "barpolar": [
           {
            "marker": {
             "line": {
              "color": "#E5ECF6",
              "width": 0.5
             },
             "pattern": {
              "fillmode": "overlay",
              "size": 10,
              "solidity": 0.2
             }
            },
            "type": "barpolar"
           }
          ],
          "carpet": [
           {
            "aaxis": {
             "endlinecolor": "#2a3f5f",
             "gridcolor": "white",
             "linecolor": "white",
             "minorgridcolor": "white",
             "startlinecolor": "#2a3f5f"
            },
            "baxis": {
             "endlinecolor": "#2a3f5f",
             "gridcolor": "white",
             "linecolor": "white",
             "minorgridcolor": "white",
             "startlinecolor": "#2a3f5f"
            },
            "type": "carpet"
           }
          ],
          "choropleth": [
           {
            "colorbar": {
             "outlinewidth": 0,
             "ticks": ""
            },
            "type": "choropleth"
           }
          ],
          "contour": [
           {
            "colorbar": {
             "outlinewidth": 0,
             "ticks": ""
            },
            "colorscale": [
             [
              0,
              "#0d0887"
             ],
             [
              0.1111111111111111,
              "#46039f"
             ],
             [
              0.2222222222222222,
              "#7201a8"
             ],
             [
              0.3333333333333333,
              "#9c179e"
             ],
             [
              0.4444444444444444,
              "#bd3786"
             ],
             [
              0.5555555555555556,
              "#d8576b"
             ],
             [
              0.6666666666666666,
              "#ed7953"
             ],
             [
              0.7777777777777778,
              "#fb9f3a"
             ],
             [
              0.8888888888888888,
              "#fdca26"
             ],
             [
              1,
              "#f0f921"
             ]
            ],
            "type": "contour"
           }
          ],
          "contourcarpet": [
           {
            "colorbar": {
             "outlinewidth": 0,
             "ticks": ""
            },
            "type": "contourcarpet"
           }
          ],
          "heatmap": [
           {
            "colorbar": {
             "outlinewidth": 0,
             "ticks": ""
            },
            "colorscale": [
             [
              0,
              "#0d0887"
             ],
             [
              0.1111111111111111,
              "#46039f"
             ],
             [
              0.2222222222222222,
              "#7201a8"
             ],
             [
              0.3333333333333333,
              "#9c179e"
             ],
             [
              0.4444444444444444,
              "#bd3786"
             ],
             [
              0.5555555555555556,
              "#d8576b"
             ],
             [
              0.6666666666666666,
              "#ed7953"
             ],
             [
              0.7777777777777778,
              "#fb9f3a"
             ],
             [
              0.8888888888888888,
              "#fdca26"
             ],
             [
              1,
              "#f0f921"
             ]
            ],
            "type": "heatmap"
           }
          ],
          "heatmapgl": [
           {
            "colorbar": {
             "outlinewidth": 0,
             "ticks": ""
            },
            "colorscale": [
             [
              0,
              "#0d0887"
             ],
             [
              0.1111111111111111,
              "#46039f"
             ],
             [
              0.2222222222222222,
              "#7201a8"
             ],
             [
              0.3333333333333333,
              "#9c179e"
             ],
             [
              0.4444444444444444,
              "#bd3786"
             ],
             [
              0.5555555555555556,
              "#d8576b"
             ],
             [
              0.6666666666666666,
              "#ed7953"
             ],
             [
              0.7777777777777778,
              "#fb9f3a"
             ],
             [
              0.8888888888888888,
              "#fdca26"
             ],
             [
              1,
              "#f0f921"
             ]
            ],
            "type": "heatmapgl"
           }
          ],
          "histogram": [
           {
            "marker": {
             "pattern": {
              "fillmode": "overlay",
              "size": 10,
              "solidity": 0.2
             }
            },
            "type": "histogram"
           }
          ],
          "histogram2d": [
           {
            "colorbar": {
             "outlinewidth": 0,
             "ticks": ""
            },
            "colorscale": [
             [
              0,
              "#0d0887"
             ],
             [
              0.1111111111111111,
              "#46039f"
             ],
             [
              0.2222222222222222,
              "#7201a8"
             ],
             [
              0.3333333333333333,
              "#9c179e"
             ],
             [
              0.4444444444444444,
              "#bd3786"
             ],
             [
              0.5555555555555556,
              "#d8576b"
             ],
             [
              0.6666666666666666,
              "#ed7953"
             ],
             [
              0.7777777777777778,
              "#fb9f3a"
             ],
             [
              0.8888888888888888,
              "#fdca26"
             ],
             [
              1,
              "#f0f921"
             ]
            ],
            "type": "histogram2d"
           }
          ],
          "histogram2dcontour": [
           {
            "colorbar": {
             "outlinewidth": 0,
             "ticks": ""
            },
            "colorscale": [
             [
              0,
              "#0d0887"
             ],
             [
              0.1111111111111111,
              "#46039f"
             ],
             [
              0.2222222222222222,
              "#7201a8"
             ],
             [
              0.3333333333333333,
              "#9c179e"
             ],
             [
              0.4444444444444444,
              "#bd3786"
             ],
             [
              0.5555555555555556,
              "#d8576b"
             ],
             [
              0.6666666666666666,
              "#ed7953"
             ],
             [
              0.7777777777777778,
              "#fb9f3a"
             ],
             [
              0.8888888888888888,
              "#fdca26"
             ],
             [
              1,
              "#f0f921"
             ]
            ],
            "type": "histogram2dcontour"
           }
          ],
          "mesh3d": [
           {
            "colorbar": {
             "outlinewidth": 0,
             "ticks": ""
            },
            "type": "mesh3d"
           }
          ],
          "parcoords": [
           {
            "line": {
             "colorbar": {
              "outlinewidth": 0,
              "ticks": ""
             }
            },
            "type": "parcoords"
           }
          ],
          "pie": [
           {
            "automargin": true,
            "type": "pie"
           }
          ],
          "scatter": [
           {
            "fillpattern": {
             "fillmode": "overlay",
             "size": 10,
             "solidity": 0.2
            },
            "type": "scatter"
           }
          ],
          "scatter3d": [
           {
            "line": {
             "colorbar": {
              "outlinewidth": 0,
              "ticks": ""
             }
            },
            "marker": {
             "colorbar": {
              "outlinewidth": 0,
              "ticks": ""
             }
            },
            "type": "scatter3d"
           }
          ],
          "scattercarpet": [
           {
            "marker": {
             "colorbar": {
              "outlinewidth": 0,
              "ticks": ""
             }
            },
            "type": "scattercarpet"
           }
          ],
          "scattergeo": [
           {
            "marker": {
             "colorbar": {
              "outlinewidth": 0,
              "ticks": ""
             }
            },
            "type": "scattergeo"
           }
          ],
          "scattergl": [
           {
            "marker": {
             "colorbar": {
              "outlinewidth": 0,
              "ticks": ""
             }
            },
            "type": "scattergl"
           }
          ],
          "scattermapbox": [
           {
            "marker": {
             "colorbar": {
              "outlinewidth": 0,
              "ticks": ""
             }
            },
            "type": "scattermapbox"
           }
          ],
          "scatterpolar": [
           {
            "marker": {
             "colorbar": {
              "outlinewidth": 0,
              "ticks": ""
             }
            },
            "type": "scatterpolar"
           }
          ],
          "scatterpolargl": [
           {
            "marker": {
             "colorbar": {
              "outlinewidth": 0,
              "ticks": ""
             }
            },
            "type": "scatterpolargl"
           }
          ],
          "scatterternary": [
           {
            "marker": {
             "colorbar": {
              "outlinewidth": 0,
              "ticks": ""
             }
            },
            "type": "scatterternary"
           }
          ],
          "surface": [
           {
            "colorbar": {
             "outlinewidth": 0,
             "ticks": ""
            },
            "colorscale": [
             [
              0,
              "#0d0887"
             ],
             [
              0.1111111111111111,
              "#46039f"
             ],
             [
              0.2222222222222222,
              "#7201a8"
             ],
             [
              0.3333333333333333,
              "#9c179e"
             ],
             [
              0.4444444444444444,
              "#bd3786"
             ],
             [
              0.5555555555555556,
              "#d8576b"
             ],
             [
              0.6666666666666666,
              "#ed7953"
             ],
             [
              0.7777777777777778,
              "#fb9f3a"
             ],
             [
              0.8888888888888888,
              "#fdca26"
             ],
             [
              1,
              "#f0f921"
             ]
            ],
            "type": "surface"
           }
          ],
          "table": [
           {
            "cells": {
             "fill": {
              "color": "#EBF0F8"
             },
             "line": {
              "color": "white"
             }
            },
            "header": {
             "fill": {
              "color": "#C8D4E3"
             },
             "line": {
              "color": "white"
             }
            },
            "type": "table"
           }
          ]
         },
         "layout": {
          "annotationdefaults": {
           "arrowcolor": "#2a3f5f",
           "arrowhead": 0,
           "arrowwidth": 1
          },
          "autotypenumbers": "strict",
          "coloraxis": {
           "colorbar": {
            "outlinewidth": 0,
            "ticks": ""
           }
          },
          "colorscale": {
           "diverging": [
            [
             0,
             "#8e0152"
            ],
            [
             0.1,
             "#c51b7d"
            ],
            [
             0.2,
             "#de77ae"
            ],
            [
             0.3,
             "#f1b6da"
            ],
            [
             0.4,
             "#fde0ef"
            ],
            [
             0.5,
             "#f7f7f7"
            ],
            [
             0.6,
             "#e6f5d0"
            ],
            [
             0.7,
             "#b8e186"
            ],
            [
             0.8,
             "#7fbc41"
            ],
            [
             0.9,
             "#4d9221"
            ],
            [
             1,
             "#276419"
            ]
           ],
           "sequential": [
            [
             0,
             "#0d0887"
            ],
            [
             0.1111111111111111,
             "#46039f"
            ],
            [
             0.2222222222222222,
             "#7201a8"
            ],
            [
             0.3333333333333333,
             "#9c179e"
            ],
            [
             0.4444444444444444,
             "#bd3786"
            ],
            [
             0.5555555555555556,
             "#d8576b"
            ],
            [
             0.6666666666666666,
             "#ed7953"
            ],
            [
             0.7777777777777778,
             "#fb9f3a"
            ],
            [
             0.8888888888888888,
             "#fdca26"
            ],
            [
             1,
             "#f0f921"
            ]
           ],
           "sequentialminus": [
            [
             0,
             "#0d0887"
            ],
            [
             0.1111111111111111,
             "#46039f"
            ],
            [
             0.2222222222222222,
             "#7201a8"
            ],
            [
             0.3333333333333333,
             "#9c179e"
            ],
            [
             0.4444444444444444,
             "#bd3786"
            ],
            [
             0.5555555555555556,
             "#d8576b"
            ],
            [
             0.6666666666666666,
             "#ed7953"
            ],
            [
             0.7777777777777778,
             "#fb9f3a"
            ],
            [
             0.8888888888888888,
             "#fdca26"
            ],
            [
             1,
             "#f0f921"
            ]
           ]
          },
          "colorway": [
           "#636efa",
           "#EF553B",
           "#00cc96",
           "#ab63fa",
           "#FFA15A",
           "#19d3f3",
           "#FF6692",
           "#B6E880",
           "#FF97FF",
           "#FECB52"
          ],
          "font": {
           "color": "#2a3f5f"
          },
          "geo": {
           "bgcolor": "white",
           "lakecolor": "white",
           "landcolor": "#E5ECF6",
           "showlakes": true,
           "showland": true,
           "subunitcolor": "white"
          },
          "hoverlabel": {
           "align": "left"
          },
          "hovermode": "closest",
          "mapbox": {
           "style": "light"
          },
          "paper_bgcolor": "white",
          "plot_bgcolor": "#E5ECF6",
          "polar": {
           "angularaxis": {
            "gridcolor": "white",
            "linecolor": "white",
            "ticks": ""
           },
           "bgcolor": "#E5ECF6",
           "radialaxis": {
            "gridcolor": "white",
            "linecolor": "white",
            "ticks": ""
           }
          },
          "scene": {
           "xaxis": {
            "backgroundcolor": "#E5ECF6",
            "gridcolor": "white",
            "gridwidth": 2,
            "linecolor": "white",
            "showbackground": true,
            "ticks": "",
            "zerolinecolor": "white"
           },
           "yaxis": {
            "backgroundcolor": "#E5ECF6",
            "gridcolor": "white",
            "gridwidth": 2,
            "linecolor": "white",
            "showbackground": true,
            "ticks": "",
            "zerolinecolor": "white"
           },
           "zaxis": {
            "backgroundcolor": "#E5ECF6",
            "gridcolor": "white",
            "gridwidth": 2,
            "linecolor": "white",
            "showbackground": true,
            "ticks": "",
            "zerolinecolor": "white"
           }
          },
          "shapedefaults": {
           "line": {
            "color": "#2a3f5f"
           }
          },
          "ternary": {
           "aaxis": {
            "gridcolor": "white",
            "linecolor": "white",
            "ticks": ""
           },
           "baxis": {
            "gridcolor": "white",
            "linecolor": "white",
            "ticks": ""
           },
           "bgcolor": "#E5ECF6",
           "caxis": {
            "gridcolor": "white",
            "linecolor": "white",
            "ticks": ""
           }
          },
          "title": {
           "x": 0.05
          },
          "xaxis": {
           "automargin": true,
           "gridcolor": "white",
           "linecolor": "white",
           "ticks": "",
           "title": {
            "standoff": 15
           },
           "zerolinecolor": "white",
           "zerolinewidth": 2
          },
          "yaxis": {
           "automargin": true,
           "gridcolor": "white",
           "linecolor": "white",
           "ticks": "",
           "title": {
            "standoff": 15
           },
           "zerolinecolor": "white",
           "zerolinewidth": 2
          }
         }
        },
        "title": {
         "text": "Top 25"
        },
        "xaxis": {
         "anchor": "y",
         "domain": [
          0,
          0.49
         ],
         "title": {
          "text": "value"
         }
        },
        "xaxis2": {
         "anchor": "y2",
         "domain": [
          0.51,
          1
         ],
         "matches": "x",
         "title": {
          "text": "value"
         }
        },
        "yaxis": {
         "anchor": "x",
         "domain": [
          0,
          1
         ]
        },
        "yaxis2": {
         "anchor": "x2",
         "domain": [
          0,
          1
         ],
         "matches": "y",
         "showticklabels": false
        }
       }
      }
     },
     "metadata": {},
     "output_type": "display_data"
    }
   ],
   "source": [
    "fig = px.box(\n",
    "    df_top25.filter(pl.col(\"search\").is_not_null()),\n",
    "    x=\"value\",\n",
    "    color=\"term\",\n",
    "    facet_col=\"search\",\n",
    ")\n",
    "\n",
    "fig.update_layout(title=\"Top 25\")\n",
    "\n",
    "fig.show()\n"
   ]
  },
  {
   "cell_type": "code",
   "execution_count": 120,
   "metadata": {},
   "outputs": [
    {
     "data": {
      "application/vnd.plotly.v1+json": {
       "config": {
        "plotlyServerURL": "https://plot.ly"
       },
       "data": [],
       "layout": {
        "boxmode": "group",
        "legend": {
         "tracegroupgap": 0
        },
        "margin": {
         "t": 60
        },
        "template": {
         "data": {
          "bar": [
           {
            "error_x": {
             "color": "#2a3f5f"
            },
            "error_y": {
             "color": "#2a3f5f"
            },
            "marker": {
             "line": {
              "color": "#E5ECF6",
              "width": 0.5
             },
             "pattern": {
              "fillmode": "overlay",
              "size": 10,
              "solidity": 0.2
             }
            },
            "type": "bar"
           }
          ],
          "barpolar": [
           {
            "marker": {
             "line": {
              "color": "#E5ECF6",
              "width": 0.5
             },
             "pattern": {
              "fillmode": "overlay",
              "size": 10,
              "solidity": 0.2
             }
            },
            "type": "barpolar"
           }
          ],
          "carpet": [
           {
            "aaxis": {
             "endlinecolor": "#2a3f5f",
             "gridcolor": "white",
             "linecolor": "white",
             "minorgridcolor": "white",
             "startlinecolor": "#2a3f5f"
            },
            "baxis": {
             "endlinecolor": "#2a3f5f",
             "gridcolor": "white",
             "linecolor": "white",
             "minorgridcolor": "white",
             "startlinecolor": "#2a3f5f"
            },
            "type": "carpet"
           }
          ],
          "choropleth": [
           {
            "colorbar": {
             "outlinewidth": 0,
             "ticks": ""
            },
            "type": "choropleth"
           }
          ],
          "contour": [
           {
            "colorbar": {
             "outlinewidth": 0,
             "ticks": ""
            },
            "colorscale": [
             [
              0,
              "#0d0887"
             ],
             [
              0.1111111111111111,
              "#46039f"
             ],
             [
              0.2222222222222222,
              "#7201a8"
             ],
             [
              0.3333333333333333,
              "#9c179e"
             ],
             [
              0.4444444444444444,
              "#bd3786"
             ],
             [
              0.5555555555555556,
              "#d8576b"
             ],
             [
              0.6666666666666666,
              "#ed7953"
             ],
             [
              0.7777777777777778,
              "#fb9f3a"
             ],
             [
              0.8888888888888888,
              "#fdca26"
             ],
             [
              1,
              "#f0f921"
             ]
            ],
            "type": "contour"
           }
          ],
          "contourcarpet": [
           {
            "colorbar": {
             "outlinewidth": 0,
             "ticks": ""
            },
            "type": "contourcarpet"
           }
          ],
          "heatmap": [
           {
            "colorbar": {
             "outlinewidth": 0,
             "ticks": ""
            },
            "colorscale": [
             [
              0,
              "#0d0887"
             ],
             [
              0.1111111111111111,
              "#46039f"
             ],
             [
              0.2222222222222222,
              "#7201a8"
             ],
             [
              0.3333333333333333,
              "#9c179e"
             ],
             [
              0.4444444444444444,
              "#bd3786"
             ],
             [
              0.5555555555555556,
              "#d8576b"
             ],
             [
              0.6666666666666666,
              "#ed7953"
             ],
             [
              0.7777777777777778,
              "#fb9f3a"
             ],
             [
              0.8888888888888888,
              "#fdca26"
             ],
             [
              1,
              "#f0f921"
             ]
            ],
            "type": "heatmap"
           }
          ],
          "heatmapgl": [
           {
            "colorbar": {
             "outlinewidth": 0,
             "ticks": ""
            },
            "colorscale": [
             [
              0,
              "#0d0887"
             ],
             [
              0.1111111111111111,
              "#46039f"
             ],
             [
              0.2222222222222222,
              "#7201a8"
             ],
             [
              0.3333333333333333,
              "#9c179e"
             ],
             [
              0.4444444444444444,
              "#bd3786"
             ],
             [
              0.5555555555555556,
              "#d8576b"
             ],
             [
              0.6666666666666666,
              "#ed7953"
             ],
             [
              0.7777777777777778,
              "#fb9f3a"
             ],
             [
              0.8888888888888888,
              "#fdca26"
             ],
             [
              1,
              "#f0f921"
             ]
            ],
            "type": "heatmapgl"
           }
          ],
          "histogram": [
           {
            "marker": {
             "pattern": {
              "fillmode": "overlay",
              "size": 10,
              "solidity": 0.2
             }
            },
            "type": "histogram"
           }
          ],
          "histogram2d": [
           {
            "colorbar": {
             "outlinewidth": 0,
             "ticks": ""
            },
            "colorscale": [
             [
              0,
              "#0d0887"
             ],
             [
              0.1111111111111111,
              "#46039f"
             ],
             [
              0.2222222222222222,
              "#7201a8"
             ],
             [
              0.3333333333333333,
              "#9c179e"
             ],
             [
              0.4444444444444444,
              "#bd3786"
             ],
             [
              0.5555555555555556,
              "#d8576b"
             ],
             [
              0.6666666666666666,
              "#ed7953"
             ],
             [
              0.7777777777777778,
              "#fb9f3a"
             ],
             [
              0.8888888888888888,
              "#fdca26"
             ],
             [
              1,
              "#f0f921"
             ]
            ],
            "type": "histogram2d"
           }
          ],
          "histogram2dcontour": [
           {
            "colorbar": {
             "outlinewidth": 0,
             "ticks": ""
            },
            "colorscale": [
             [
              0,
              "#0d0887"
             ],
             [
              0.1111111111111111,
              "#46039f"
             ],
             [
              0.2222222222222222,
              "#7201a8"
             ],
             [
              0.3333333333333333,
              "#9c179e"
             ],
             [
              0.4444444444444444,
              "#bd3786"
             ],
             [
              0.5555555555555556,
              "#d8576b"
             ],
             [
              0.6666666666666666,
              "#ed7953"
             ],
             [
              0.7777777777777778,
              "#fb9f3a"
             ],
             [
              0.8888888888888888,
              "#fdca26"
             ],
             [
              1,
              "#f0f921"
             ]
            ],
            "type": "histogram2dcontour"
           }
          ],
          "mesh3d": [
           {
            "colorbar": {
             "outlinewidth": 0,
             "ticks": ""
            },
            "type": "mesh3d"
           }
          ],
          "parcoords": [
           {
            "line": {
             "colorbar": {
              "outlinewidth": 0,
              "ticks": ""
             }
            },
            "type": "parcoords"
           }
          ],
          "pie": [
           {
            "automargin": true,
            "type": "pie"
           }
          ],
          "scatter": [
           {
            "fillpattern": {
             "fillmode": "overlay",
             "size": 10,
             "solidity": 0.2
            },
            "type": "scatter"
           }
          ],
          "scatter3d": [
           {
            "line": {
             "colorbar": {
              "outlinewidth": 0,
              "ticks": ""
             }
            },
            "marker": {
             "colorbar": {
              "outlinewidth": 0,
              "ticks": ""
             }
            },
            "type": "scatter3d"
           }
          ],
          "scattercarpet": [
           {
            "marker": {
             "colorbar": {
              "outlinewidth": 0,
              "ticks": ""
             }
            },
            "type": "scattercarpet"
           }
          ],
          "scattergeo": [
           {
            "marker": {
             "colorbar": {
              "outlinewidth": 0,
              "ticks": ""
             }
            },
            "type": "scattergeo"
           }
          ],
          "scattergl": [
           {
            "marker": {
             "colorbar": {
              "outlinewidth": 0,
              "ticks": ""
             }
            },
            "type": "scattergl"
           }
          ],
          "scattermapbox": [
           {
            "marker": {
             "colorbar": {
              "outlinewidth": 0,
              "ticks": ""
             }
            },
            "type": "scattermapbox"
           }
          ],
          "scatterpolar": [
           {
            "marker": {
             "colorbar": {
              "outlinewidth": 0,
              "ticks": ""
             }
            },
            "type": "scatterpolar"
           }
          ],
          "scatterpolargl": [
           {
            "marker": {
             "colorbar": {
              "outlinewidth": 0,
              "ticks": ""
             }
            },
            "type": "scatterpolargl"
           }
          ],
          "scatterternary": [
           {
            "marker": {
             "colorbar": {
              "outlinewidth": 0,
              "ticks": ""
             }
            },
            "type": "scatterternary"
           }
          ],
          "surface": [
           {
            "colorbar": {
             "outlinewidth": 0,
             "ticks": ""
            },
            "colorscale": [
             [
              0,
              "#0d0887"
             ],
             [
              0.1111111111111111,
              "#46039f"
             ],
             [
              0.2222222222222222,
              "#7201a8"
             ],
             [
              0.3333333333333333,
              "#9c179e"
             ],
             [
              0.4444444444444444,
              "#bd3786"
             ],
             [
              0.5555555555555556,
              "#d8576b"
             ],
             [
              0.6666666666666666,
              "#ed7953"
             ],
             [
              0.7777777777777778,
              "#fb9f3a"
             ],
             [
              0.8888888888888888,
              "#fdca26"
             ],
             [
              1,
              "#f0f921"
             ]
            ],
            "type": "surface"
           }
          ],
          "table": [
           {
            "cells": {
             "fill": {
              "color": "#EBF0F8"
             },
             "line": {
              "color": "white"
             }
            },
            "header": {
             "fill": {
              "color": "#C8D4E3"
             },
             "line": {
              "color": "white"
             }
            },
            "type": "table"
           }
          ]
         },
         "layout": {
          "annotationdefaults": {
           "arrowcolor": "#2a3f5f",
           "arrowhead": 0,
           "arrowwidth": 1
          },
          "autotypenumbers": "strict",
          "coloraxis": {
           "colorbar": {
            "outlinewidth": 0,
            "ticks": ""
           }
          },
          "colorscale": {
           "diverging": [
            [
             0,
             "#8e0152"
            ],
            [
             0.1,
             "#c51b7d"
            ],
            [
             0.2,
             "#de77ae"
            ],
            [
             0.3,
             "#f1b6da"
            ],
            [
             0.4,
             "#fde0ef"
            ],
            [
             0.5,
             "#f7f7f7"
            ],
            [
             0.6,
             "#e6f5d0"
            ],
            [
             0.7,
             "#b8e186"
            ],
            [
             0.8,
             "#7fbc41"
            ],
            [
             0.9,
             "#4d9221"
            ],
            [
             1,
             "#276419"
            ]
           ],
           "sequential": [
            [
             0,
             "#0d0887"
            ],
            [
             0.1111111111111111,
             "#46039f"
            ],
            [
             0.2222222222222222,
             "#7201a8"
            ],
            [
             0.3333333333333333,
             "#9c179e"
            ],
            [
             0.4444444444444444,
             "#bd3786"
            ],
            [
             0.5555555555555556,
             "#d8576b"
            ],
            [
             0.6666666666666666,
             "#ed7953"
            ],
            [
             0.7777777777777778,
             "#fb9f3a"
            ],
            [
             0.8888888888888888,
             "#fdca26"
            ],
            [
             1,
             "#f0f921"
            ]
           ],
           "sequentialminus": [
            [
             0,
             "#0d0887"
            ],
            [
             0.1111111111111111,
             "#46039f"
            ],
            [
             0.2222222222222222,
             "#7201a8"
            ],
            [
             0.3333333333333333,
             "#9c179e"
            ],
            [
             0.4444444444444444,
             "#bd3786"
            ],
            [
             0.5555555555555556,
             "#d8576b"
            ],
            [
             0.6666666666666666,
             "#ed7953"
            ],
            [
             0.7777777777777778,
             "#fb9f3a"
            ],
            [
             0.8888888888888888,
             "#fdca26"
            ],
            [
             1,
             "#f0f921"
            ]
           ]
          },
          "colorway": [
           "#636efa",
           "#EF553B",
           "#00cc96",
           "#ab63fa",
           "#FFA15A",
           "#19d3f3",
           "#FF6692",
           "#B6E880",
           "#FF97FF",
           "#FECB52"
          ],
          "font": {
           "color": "#2a3f5f"
          },
          "geo": {
           "bgcolor": "white",
           "lakecolor": "white",
           "landcolor": "#E5ECF6",
           "showlakes": true,
           "showland": true,
           "subunitcolor": "white"
          },
          "hoverlabel": {
           "align": "left"
          },
          "hovermode": "closest",
          "mapbox": {
           "style": "light"
          },
          "paper_bgcolor": "white",
          "plot_bgcolor": "#E5ECF6",
          "polar": {
           "angularaxis": {
            "gridcolor": "white",
            "linecolor": "white",
            "ticks": ""
           },
           "bgcolor": "#E5ECF6",
           "radialaxis": {
            "gridcolor": "white",
            "linecolor": "white",
            "ticks": ""
           }
          },
          "scene": {
           "xaxis": {
            "backgroundcolor": "#E5ECF6",
            "gridcolor": "white",
            "gridwidth": 2,
            "linecolor": "white",
            "showbackground": true,
            "ticks": "",
            "zerolinecolor": "white"
           },
           "yaxis": {
            "backgroundcolor": "#E5ECF6",
            "gridcolor": "white",
            "gridwidth": 2,
            "linecolor": "white",
            "showbackground": true,
            "ticks": "",
            "zerolinecolor": "white"
           },
           "zaxis": {
            "backgroundcolor": "#E5ECF6",
            "gridcolor": "white",
            "gridwidth": 2,
            "linecolor": "white",
            "showbackground": true,
            "ticks": "",
            "zerolinecolor": "white"
           }
          },
          "shapedefaults": {
           "line": {
            "color": "#2a3f5f"
           }
          },
          "ternary": {
           "aaxis": {
            "gridcolor": "white",
            "linecolor": "white",
            "ticks": ""
           },
           "baxis": {
            "gridcolor": "white",
            "linecolor": "white",
            "ticks": ""
           },
           "bgcolor": "#E5ECF6",
           "caxis": {
            "gridcolor": "white",
            "linecolor": "white",
            "ticks": ""
           }
          },
          "title": {
           "x": 0.05
          },
          "xaxis": {
           "automargin": true,
           "gridcolor": "white",
           "linecolor": "white",
           "ticks": "",
           "title": {
            "standoff": 15
           },
           "zerolinecolor": "white",
           "zerolinewidth": 2
          },
          "yaxis": {
           "automargin": true,
           "gridcolor": "white",
           "linecolor": "white",
           "ticks": "",
           "title": {
            "standoff": 15
           },
           "zerolinecolor": "white",
           "zerolinewidth": 2
          }
         }
        },
        "title": {
         "text": "All Experiment Results"
        },
        "xaxis": {
         "anchor": "y",
         "domain": [
          0,
          1
         ],
         "title": {
          "text": "value"
         }
        },
        "yaxis": {
         "anchor": "x",
         "domain": [
          0,
          1
         ]
        }
       }
      }
     },
     "metadata": {},
     "output_type": "display_data"
    }
   ],
   "source": [
    "fig_all = px.box(\n",
    "    df_sorted.filter(\n",
    "        (pl.col(\"search\") == \"elastic\") | (pl.col(\"search\") == \"embeddings\")\n",
    "    ),\n",
    "    x=\"value\",\n",
    "    color=\"term\",\n",
    "    facet_col=\"search\",\n",
    ")\n",
    "\n",
    "fig_all.update_layout(title=\"All Experiment Results\")\n",
    "\n",
    "fig_all.show()"
   ]
  },
  {
   "cell_type": "code",
   "execution_count": 84,
   "metadata": {},
   "outputs": [
    {
     "name": "stderr",
     "output_type": "stream",
     "text": [
      "/var/folders/wv/b_h63k2j0997cxn743g60jn40000gn/T/ipykernel_19807/2179176770.py:5: DeprecationWarning:\n",
      "\n",
      "`groupby` is deprecated. It has been renamed to `group_by`.\n",
      "\n"
     ]
    },
    {
     "data": {
      "text/html": [
       "<div><style>\n",
       ".dataframe > thead > tr > th,\n",
       ".dataframe > tbody > tr > td {\n",
       "  text-align: right;\n",
       "  white-space: pre-wrap;\n",
       "}\n",
       "</style>\n",
       "<small>shape: (5, 134)</small><table border=\"1\" class=\"dataframe\"><thead><tr><th>eval.terms</th><th>eval.k</th><th>eval.elastic-k</th><th>eval.embedding-k</th><th>Experiment</th><th>rev</th><th>typ</th><th>Created</th><th>parent</th><th>answer_accuracy</th><th>answer_page_accuracy</th><th>conditional_answer_accuracy</th><th>min_lot_size.answer_accuracy</th><th>min_lot_size.answer_page_accuracy</th><th>min_lot_size.conditional_answer_accuracy</th><th>min_lot_size.num_correct_answer</th><th>min_lot_size.num_correct_page_searched</th><th>min_lot_size.num_results</th><th>min_lot_size.num_row_input</th><th>min_lot_size.num_row_processed</th><th>min_lot_size.page_search_recall</th><th>min_lot_size.row_processed</th><th>page_search_recall</th><th>row_processed</th><th>max_height.answer_accuracy</th><th>max_height.conditional_answer_accuracy</th><th>max_height.num_correct_answer</th><th>max_height.num_correct_page_searched</th><th>max_height.num_results</th><th>max_height.page_search_recall</th><th>max_lot_coverage.answer_accuracy</th><th>max_lot_coverage.conditional_answer_accuracy</th><th>max_lot_coverage.num_correct_answer</th><th>max_lot_coverage.num_correct_page_searched</th><th>max_lot_coverage.num_results</th><th>max_lot_coverage.page_search_recall</th><th>max_lot_coverage_pavement.answer_accuracy</th><th>&hellip;</th><th>min unit size.conditional_answer_accuracy</th><th>min unit size.num_correct_answer</th><th>min unit size.num_correct_page_extracted</th><th>min unit size.num_correct_page_searched</th><th>min unit size.num_results</th><th>min unit size.page_extract_recall</th><th>min unit size.page_search_recall</th><th>num_correct_answer</th><th>num_correct_page_extracted</th><th>num_correct_page_searched</th><th>num_results</th><th>page_extract_recall</th><th>extract_text.orig_document_s3_bucket</th><th>generate_dataset.seed</th><th>generate_dataset.test_split_frac</th><th>publish_datasets</th><th>num_districts</th><th>search</th><th>extraction</th><th>data/hf_dataset</th><th>data/hf_text_dataset</th><th>data/names_all_towns.json</th><th>data/orig-documents</th><th>data/orig_documents_s3_manifest.json</th><th>data/textract_dataset</th><th>maxdumas/extract_text.py</th><th>maxdumas/generate_dataset.py</th><th>maxdumas/upload_zoning_docs.sh</th><th>templates/extraction.pmpt.tpl</th><th>templates/extraction_chat_completion.pmpt.tpl</th><th>templates/extraction_completion.pmpt.tpl</th><th>zoning/data_processing/eval.py</th><th>zoning/data_processing/extract_text.py</th><th>zoning/data_processing/generate_dataset.py</th><th>zoning/data_processing/generate_text_dataset.py</th><th>zoning/data_processing/index_towns.py</th><th>zoning/data_processing/upload_zoning_docs.sh</th></tr><tr><td>str</td><td>i64</td><td>i64</td><td>i64</td><td>str</td><td>str</td><td>str</td><td>str</td><td>str</td><td>f32</td><td>f64</td><td>f32</td><td>f64</td><td>f64</td><td>f64</td><td>i64</td><td>i64</td><td>i64</td><td>i64</td><td>i64</td><td>f64</td><td>f64</td><td>f64</td><td>f64</td><td>f64</td><td>f64</td><td>i64</td><td>i64</td><td>i64</td><td>f64</td><td>f64</td><td>f64</td><td>i64</td><td>i64</td><td>i64</td><td>f64</td><td>f64</td><td>&hellip;</td><td>str</td><td>str</td><td>str</td><td>str</td><td>str</td><td>str</td><td>str</td><td>str</td><td>str</td><td>str</td><td>str</td><td>str</td><td>str</td><td>i64</td><td>f64</td><td>bool</td><td>i64</td><td>str</td><td>str</td><td>str</td><td>str</td><td>str</td><td>str</td><td>str</td><td>str</td><td>str</td><td>str</td><td>str</td><td>str</td><td>str</td><td>str</td><td>str</td><td>str</td><td>str</td><td>str</td><td>str</td><td>str</td></tr></thead><tbody><tr><td>&quot;[&#x27;min_lot_size…</td><td>12</td><td>null</td><td>null</td><td>null</td><td>&quot;workspace&quot;</td><td>&quot;baseline&quot;</td><td>null</td><td>null</td><td>1.0</td><td>0.0</td><td>0.0</td><td>1.0</td><td>0.0</td><td>0.0</td><td>1</td><td>0</td><td>1</td><td>1</td><td>1</td><td>0.0</td><td>1.0</td><td>0.0</td><td>1.0</td><td>null</td><td>null</td><td>null</td><td>null</td><td>null</td><td>null</td><td>null</td><td>null</td><td>null</td><td>null</td><td>null</td><td>null</td><td>null</td><td>&hellip;</td><td>null</td><td>null</td><td>null</td><td>null</td><td>null</td><td>null</td><td>null</td><td>null</td><td>null</td><td>null</td><td>null</td><td>null</td><td>&quot;cornell-mfd64&quot;</td><td>42</td><td>0.3</td><td>true</td><td>10</td><td>&quot;elasticsearch&quot;</td><td>&quot;map&quot;</td><td>&quot;302e323289b318…</td><td>&quot;e832d3471ef79f…</td><td>&quot;0013040cfeb0f4…</td><td>&quot;2311e7a6bb96f9…</td><td>&quot;897ea14dfed07e…</td><td>&quot;11062398489b76…</td><td>null</td><td>null</td><td>null</td><td>null</td><td>&quot;1a26f472c8a488…</td><td>&quot;cdd9b0b79ac4ed…</td><td>&quot;ed75967007eee2…</td><td>&quot;98404ae0ff0f6d…</td><td>&quot;51f7f2eef57fa4…</td><td>&quot;45a291510a51b8…</td><td>&quot;cd3c4af8c8e19c…</td><td>&quot;4bc9fb2d649525…</td></tr><tr><td>&quot;min_lot_size&quot;</td><td>6</td><td>null</td><td>null</td><td>null</td><td>&quot;jcllobet/featu…</td><td>&quot;baseline&quot;</td><td>&quot;2023-10-11T02:…</td><td>null</td><td>0.8</td><td>null</td><td>0.8</td><td>0.8</td><td>null</td><td>0.8</td><td>8</td><td>10</td><td>17</td><td>10</td><td>10</td><td>1.0</td><td>1.0</td><td>1.0</td><td>1.0</td><td>null</td><td>null</td><td>null</td><td>null</td><td>null</td><td>null</td><td>null</td><td>null</td><td>null</td><td>null</td><td>null</td><td>null</td><td>null</td><td>&hellip;</td><td>null</td><td>null</td><td>null</td><td>null</td><td>null</td><td>null</td><td>null</td><td>null</td><td>null</td><td>null</td><td>null</td><td>null</td><td>&quot;cornell-mfd64&quot;</td><td>42</td><td>0.3</td><td>true</td><td>10</td><td>&quot;elasticsearch&quot;</td><td>&quot;tournament_red…</td><td>&quot;302e323289b318…</td><td>&quot;e832d3471ef79f…</td><td>&quot;0013040cfeb0f4…</td><td>&quot;2311e7a6bb96f9…</td><td>&quot;897ea14dfed07e…</td><td>&quot;11062398489b76…</td><td>null</td><td>null</td><td>null</td><td>null</td><td>&quot;1a26f472c8a488…</td><td>&quot;cdd9b0b79ac4ed…</td><td>&quot;9e93f3809140ca…</td><td>&quot;98404ae0ff0f6d…</td><td>&quot;51f7f2eef57fa4…</td><td>&quot;45a291510a51b8…</td><td>&quot;cd3c4af8c8e19c…</td><td>&quot;4bc9fb2d649525…</td></tr><tr><td>&quot;[&#x27;min_lot_size…</td><td>6</td><td>null</td><td>null</td><td>&quot;finny-ceps&quot;</td><td>&quot;534f715&quot;</td><td>&quot;branch_commit&quot;</td><td>&quot;2023-10-11T02:…</td><td>null</td><td>0.641667</td><td>null</td><td>0.753968</td><td>0.8</td><td>null</td><td>1.0</td><td>4</td><td>4</td><td>6</td><td>null</td><td>null</td><td>0.8</td><td>null</td><td>0.593452</td><td>null</td><td>0.75</td><td>0.857143</td><td>6</td><td>7</td><td>11</td><td>0.875</td><td>0.428571</td><td>1.0</td><td>3</td><td>3</td><td>7</td><td>0.428571</td><td>0.571429</td><td>&hellip;</td><td>null</td><td>null</td><td>null</td><td>null</td><td>null</td><td>null</td><td>null</td><td>null</td><td>null</td><td>null</td><td>null</td><td>null</td><td>&quot;cornell-mfd64&quot;</td><td>42</td><td>0.3</td><td>true</td><td>10</td><td>&quot;elasticsearch&quot;</td><td>&quot;tournament_red…</td><td>&quot;302e323289b318…</td><td>&quot;e832d3471ef79f…</td><td>&quot;0013040cfeb0f4…</td><td>&quot;2311e7a6bb96f9…</td><td>&quot;897ea14dfed07e…</td><td>&quot;11062398489b76…</td><td>null</td><td>null</td><td>null</td><td>null</td><td>&quot;1a26f472c8a488…</td><td>&quot;cdd9b0b79ac4ed…</td><td>&quot;ed75967007eee2…</td><td>&quot;98404ae0ff0f6d…</td><td>&quot;51f7f2eef57fa4…</td><td>&quot;45a291510a51b8…</td><td>&quot;cd3c4af8c8e19c…</td><td>&quot;4bc9fb2d649525…</td></tr><tr><td>&quot;[&#x27;min_lot_size…</td><td>16</td><td>null</td><td>null</td><td>null</td><td>&quot;80c8189&quot;</td><td>&quot;baseline&quot;</td><td>&quot;2023-08-21T21:…</td><td>null</td><td>0.561905</td><td>null</td><td>0.972222</td><td>0.428571</td><td>null</td><td>1.0</td><td>3</td><td>3</td><td>7</td><td>null</td><td>null</td><td>0.428571</td><td>null</td><td>0.535119</td><td>null</td><td>0.8</td><td>1.0</td><td>8</td><td>8</td><td>13</td><td>0.8</td><td>0.428571</td><td>1.0</td><td>3</td><td>3</td><td>12</td><td>0.428571</td><td>0.625</td><td>&hellip;</td><td>null</td><td>null</td><td>null</td><td>null</td><td>null</td><td>null</td><td>null</td><td>null</td><td>null</td><td>null</td><td>null</td><td>null</td><td>&quot;cornell-mfd64&quot;</td><td>42</td><td>0.3</td><td>true</td><td>10</td><td>&quot;embeddings_knn…</td><td>&quot;tournament_red…</td><td>&quot;302e323289b318…</td><td>&quot;e832d3471ef79f…</td><td>&quot;0013040cfeb0f4…</td><td>&quot;2311e7a6bb96f9…</td><td>&quot;897ea14dfed07e…</td><td>&quot;11062398489b76…</td><td>null</td><td>null</td><td>null</td><td>null</td><td>&quot;1a26f472c8a488…</td><td>&quot;cdd9b0b79ac4ed…</td><td>&quot;ed75967007eee2…</td><td>&quot;98404ae0ff0f6d…</td><td>&quot;51f7f2eef57fa4…</td><td>&quot;45a291510a51b8…</td><td>&quot;cd3c4af8c8e19c…</td><td>&quot;4bc9fb2d649525…</td></tr><tr><td>&quot;[&#x27;min_lot_size…</td><td>1</td><td>null</td><td>null</td><td>&quot;metal-keep&quot;</td><td>&quot;fe16a0f&quot;</td><td>&quot;branch_base&quot;</td><td>&quot;2023-10-17T13:…</td><td>null</td><td>0.383333</td><td>null</td><td>0.944444</td><td>0.5</td><td>null</td><td>1.0</td><td>5</td><td>5</td><td>10</td><td>10</td><td>10</td><td>0.5</td><td>1.0</td><td>0.4</td><td>1.0</td><td>0.4</td><td>1.0</td><td>4</td><td>4</td><td>11</td><td>0.4</td><td>0.6</td><td>1.0</td><td>6</td><td>6</td><td>11</td><td>0.6</td><td>0.2</td><td>&hellip;</td><td>null</td><td>null</td><td>null</td><td>null</td><td>null</td><td>null</td><td>null</td><td>null</td><td>null</td><td>null</td><td>null</td><td>null</td><td>&quot;cornell-mfd64&quot;</td><td>42</td><td>0.3</td><td>true</td><td>10</td><td>&quot;embeddings_knn…</td><td>&quot;map&quot;</td><td>&quot;302e323289b318…</td><td>&quot;e832d3471ef79f…</td><td>&quot;0013040cfeb0f4…</td><td>&quot;2311e7a6bb96f9…</td><td>&quot;897ea14dfed07e…</td><td>&quot;11062398489b76…</td><td>null</td><td>null</td><td>null</td><td>null</td><td>&quot;1a26f472c8a488…</td><td>&quot;cdd9b0b79ac4ed…</td><td>&quot;9ab9eaeba23798…</td><td>&quot;98404ae0ff0f6d…</td><td>&quot;51f7f2eef57fa4…</td><td>&quot;45a291510a51b8…</td><td>&quot;cd3c4af8c8e19c…</td><td>&quot;4bc9fb2d649525…</td></tr></tbody></table></div>"
      ],
      "text/plain": [
       "shape: (5, 134)\n",
       "┌────────────┬────────┬────────────┬───────────┬───┬───────────┬───────────┬───────────┬───────────┐\n",
       "│ eval.terms ┆ eval.k ┆ eval.elast ┆ eval.embe ┆ … ┆ zoning/da ┆ zoning/da ┆ zoning/da ┆ zoning/da │\n",
       "│ ---        ┆ ---    ┆ ic-k       ┆ dding-k   ┆   ┆ ta_proces ┆ ta_proces ┆ ta_proces ┆ ta_proces │\n",
       "│ str        ┆ i64    ┆ ---        ┆ ---       ┆   ┆ sing/gene ┆ sing/gene ┆ sing/inde ┆ sing/uplo │\n",
       "│            ┆        ┆ i64        ┆ i64       ┆   ┆ rate_…    ┆ rate_…    ┆ x_tow…    ┆ ad_zo…    │\n",
       "│            ┆        ┆            ┆           ┆   ┆ ---       ┆ ---       ┆ ---       ┆ ---       │\n",
       "│            ┆        ┆            ┆           ┆   ┆ str       ┆ str       ┆ str       ┆ str       │\n",
       "╞════════════╪════════╪════════════╪═══════════╪═══╪═══════════╪═══════════╪═══════════╪═══════════╡\n",
       "│ ['min_lot_ ┆ 12     ┆ null       ┆ null      ┆ … ┆ 51f7f2eef ┆ 45a291510 ┆ cd3c4af8c ┆ 4bc9fb2d6 │\n",
       "│ size', 'mi ┆        ┆            ┆           ┆   ┆ 57fa468b3 ┆ a51b88863 ┆ 8e19c9927 ┆ 49525a0c3 │\n",
       "│ n_unit_siz ┆        ┆            ┆           ┆   ┆ d03fd2d8f ┆ 978680521 ┆ e28912aaf ┆ 928fe4f7b │\n",
       "│ e'…        ┆        ┆            ┆           ┆   ┆ aa385     ┆ 38501     ┆ 7ced5     ┆ c2307     │\n",
       "│ min_lot_si ┆ 6      ┆ null       ┆ null      ┆ … ┆ 51f7f2eef ┆ 45a291510 ┆ cd3c4af8c ┆ 4bc9fb2d6 │\n",
       "│ ze         ┆        ┆            ┆           ┆   ┆ 57fa468b3 ┆ a51b88863 ┆ 8e19c9927 ┆ 49525a0c3 │\n",
       "│            ┆        ┆            ┆           ┆   ┆ d03fd2d8f ┆ 978680521 ┆ e28912aaf ┆ 928fe4f7b │\n",
       "│            ┆        ┆            ┆           ┆   ┆ aa385     ┆ 38501     ┆ 7ced5     ┆ c2307     │\n",
       "│ ['min_lot_ ┆ 6      ┆ null       ┆ null      ┆ … ┆ 51f7f2eef ┆ 45a291510 ┆ cd3c4af8c ┆ 4bc9fb2d6 │\n",
       "│ size', 'mi ┆        ┆            ┆           ┆   ┆ 57fa468b3 ┆ a51b88863 ┆ 8e19c9927 ┆ 49525a0c3 │\n",
       "│ n_unit_siz ┆        ┆            ┆           ┆   ┆ d03fd2d8f ┆ 978680521 ┆ e28912aaf ┆ 928fe4f7b │\n",
       "│ e'…        ┆        ┆            ┆           ┆   ┆ aa385     ┆ 38501     ┆ 7ced5     ┆ c2307     │\n",
       "│ ['min_lot_ ┆ 16     ┆ null       ┆ null      ┆ … ┆ 51f7f2eef ┆ 45a291510 ┆ cd3c4af8c ┆ 4bc9fb2d6 │\n",
       "│ size', 'mi ┆        ┆            ┆           ┆   ┆ 57fa468b3 ┆ a51b88863 ┆ 8e19c9927 ┆ 49525a0c3 │\n",
       "│ n_unit_siz ┆        ┆            ┆           ┆   ┆ d03fd2d8f ┆ 978680521 ┆ e28912aaf ┆ 928fe4f7b │\n",
       "│ e'…        ┆        ┆            ┆           ┆   ┆ aa385     ┆ 38501     ┆ 7ced5     ┆ c2307     │\n",
       "│ ['min_lot_ ┆ 1      ┆ null       ┆ null      ┆ … ┆ 51f7f2eef ┆ 45a291510 ┆ cd3c4af8c ┆ 4bc9fb2d6 │\n",
       "│ size', 'mi ┆        ┆            ┆           ┆   ┆ 57fa468b3 ┆ a51b88863 ┆ 8e19c9927 ┆ 49525a0c3 │\n",
       "│ n_unit_siz ┆        ┆            ┆           ┆   ┆ d03fd2d8f ┆ 978680521 ┆ e28912aaf ┆ 928fe4f7b │\n",
       "│ e'…        ┆        ┆            ┆           ┆   ┆ aa385     ┆ 38501     ┆ 7ced5     ┆ c2307     │\n",
       "└────────────┴────────┴────────────┴───────────┴───┴───────────┴───────────┴───────────┴───────────┘"
      ]
     },
     "execution_count": 84,
     "metadata": {},
     "output_type": "execute_result"
    }
   ],
   "source": [
    "df.filter(\n",
    "    pl.all_horizontal(\n",
    "        pl.col(r\"^eval\\.*.$\").is_not_null()\n",
    "    )\n",
    ").groupby(pl.col(r\"^eval\\..*$\")).agg(\n",
    "    pl.col(\"*\").first()\n",
    ").sort(pl.col(\"answer_accuracy\"), descending=True)"
   ]
  },
  {
   "cell_type": "code",
   "execution_count": 85,
   "metadata": {},
   "outputs": [
    {
     "name": "stderr",
     "output_type": "stream",
     "text": [
      "/var/folders/wv/b_h63k2j0997cxn743g60jn40000gn/T/ipykernel_19807/2456434091.py:3: DeprecationWarning:\n",
      "\n",
      "`groupby` is deprecated. It has been renamed to `group_by`.\n",
      "\n"
     ]
    },
    {
     "data": {
      "application/vnd.plotly.v1+json": {
       "config": {
        "plotlyServerURL": "https://plot.ly"
       },
       "data": [
        {
         "alignmentgroup": "True",
         "hovertemplate": "search=elasticsearch<br>extraction=map<br>eval.k=%{x}<br>answer_accuracy=%{y}<extra></extra>",
         "legendgroup": "elasticsearch",
         "marker": {
          "color": "#636efa",
          "pattern": {
           "shape": ""
          }
         },
         "name": "elasticsearch",
         "offsetgroup": "elasticsearch",
         "orientation": "v",
         "showlegend": true,
         "textposition": "auto",
         "type": "bar",
         "x": [
          12
         ],
         "xaxis": "x",
         "y": [
          1
         ],
         "yaxis": "y"
        },
        {
         "alignmentgroup": "True",
         "hovertemplate": "search=elasticsearch<br>extraction=tournament_reduce<br>eval.k=%{x}<br>answer_accuracy=%{y}<extra></extra>",
         "legendgroup": "elasticsearch",
         "marker": {
          "color": "#636efa",
          "pattern": {
           "shape": ""
          }
         },
         "name": "elasticsearch",
         "offsetgroup": "elasticsearch",
         "orientation": "v",
         "showlegend": false,
         "textposition": "auto",
         "type": "bar",
         "x": [
          6,
          6
         ],
         "xaxis": "x2",
         "y": [
          0.8,
          0.64166665
         ],
         "yaxis": "y2"
        },
        {
         "alignmentgroup": "True",
         "hovertemplate": "search=embeddings_knn<br>extraction=map<br>eval.k=%{x}<br>answer_accuracy=%{y}<extra></extra>",
         "legendgroup": "embeddings_knn",
         "marker": {
          "color": "#EF553B",
          "pattern": {
           "shape": ""
          }
         },
         "name": "embeddings_knn",
         "offsetgroup": "embeddings_knn",
         "orientation": "v",
         "showlegend": true,
         "textposition": "auto",
         "type": "bar",
         "x": [
          1
         ],
         "xaxis": "x",
         "y": [
          0.38333333
         ],
         "yaxis": "y"
        },
        {
         "alignmentgroup": "True",
         "hovertemplate": "search=embeddings_knn<br>extraction=tournament_reduce<br>eval.k=%{x}<br>answer_accuracy=%{y}<extra></extra>",
         "legendgroup": "embeddings_knn",
         "marker": {
          "color": "#EF553B",
          "pattern": {
           "shape": ""
          }
         },
         "name": "embeddings_knn",
         "offsetgroup": "embeddings_knn",
         "orientation": "v",
         "showlegend": false,
         "textposition": "auto",
         "type": "bar",
         "x": [
          16
         ],
         "xaxis": "x2",
         "y": [
          0.5619048
         ],
         "yaxis": "y2"
        }
       ],
       "layout": {
        "annotations": [
         {
          "font": {},
          "showarrow": false,
          "text": "extraction=map",
          "x": 0.245,
          "xanchor": "center",
          "xref": "paper",
          "y": 1,
          "yanchor": "bottom",
          "yref": "paper"
         },
         {
          "font": {},
          "showarrow": false,
          "text": "extraction=tournament_reduce",
          "x": 0.755,
          "xanchor": "center",
          "xref": "paper",
          "y": 1,
          "yanchor": "bottom",
          "yref": "paper"
         }
        ],
        "barmode": "group",
        "legend": {
         "title": {
          "text": "search"
         },
         "tracegroupgap": 0
        },
        "margin": {
         "t": 60
        },
        "template": {
         "data": {
          "bar": [
           {
            "error_x": {
             "color": "#2a3f5f"
            },
            "error_y": {
             "color": "#2a3f5f"
            },
            "marker": {
             "line": {
              "color": "#E5ECF6",
              "width": 0.5
             },
             "pattern": {
              "fillmode": "overlay",
              "size": 10,
              "solidity": 0.2
             }
            },
            "type": "bar"
           }
          ],
          "barpolar": [
           {
            "marker": {
             "line": {
              "color": "#E5ECF6",
              "width": 0.5
             },
             "pattern": {
              "fillmode": "overlay",
              "size": 10,
              "solidity": 0.2
             }
            },
            "type": "barpolar"
           }
          ],
          "carpet": [
           {
            "aaxis": {
             "endlinecolor": "#2a3f5f",
             "gridcolor": "white",
             "linecolor": "white",
             "minorgridcolor": "white",
             "startlinecolor": "#2a3f5f"
            },
            "baxis": {
             "endlinecolor": "#2a3f5f",
             "gridcolor": "white",
             "linecolor": "white",
             "minorgridcolor": "white",
             "startlinecolor": "#2a3f5f"
            },
            "type": "carpet"
           }
          ],
          "choropleth": [
           {
            "colorbar": {
             "outlinewidth": 0,
             "ticks": ""
            },
            "type": "choropleth"
           }
          ],
          "contour": [
           {
            "colorbar": {
             "outlinewidth": 0,
             "ticks": ""
            },
            "colorscale": [
             [
              0,
              "#0d0887"
             ],
             [
              0.1111111111111111,
              "#46039f"
             ],
             [
              0.2222222222222222,
              "#7201a8"
             ],
             [
              0.3333333333333333,
              "#9c179e"
             ],
             [
              0.4444444444444444,
              "#bd3786"
             ],
             [
              0.5555555555555556,
              "#d8576b"
             ],
             [
              0.6666666666666666,
              "#ed7953"
             ],
             [
              0.7777777777777778,
              "#fb9f3a"
             ],
             [
              0.8888888888888888,
              "#fdca26"
             ],
             [
              1,
              "#f0f921"
             ]
            ],
            "type": "contour"
           }
          ],
          "contourcarpet": [
           {
            "colorbar": {
             "outlinewidth": 0,
             "ticks": ""
            },
            "type": "contourcarpet"
           }
          ],
          "heatmap": [
           {
            "colorbar": {
             "outlinewidth": 0,
             "ticks": ""
            },
            "colorscale": [
             [
              0,
              "#0d0887"
             ],
             [
              0.1111111111111111,
              "#46039f"
             ],
             [
              0.2222222222222222,
              "#7201a8"
             ],
             [
              0.3333333333333333,
              "#9c179e"
             ],
             [
              0.4444444444444444,
              "#bd3786"
             ],
             [
              0.5555555555555556,
              "#d8576b"
             ],
             [
              0.6666666666666666,
              "#ed7953"
             ],
             [
              0.7777777777777778,
              "#fb9f3a"
             ],
             [
              0.8888888888888888,
              "#fdca26"
             ],
             [
              1,
              "#f0f921"
             ]
            ],
            "type": "heatmap"
           }
          ],
          "heatmapgl": [
           {
            "colorbar": {
             "outlinewidth": 0,
             "ticks": ""
            },
            "colorscale": [
             [
              0,
              "#0d0887"
             ],
             [
              0.1111111111111111,
              "#46039f"
             ],
             [
              0.2222222222222222,
              "#7201a8"
             ],
             [
              0.3333333333333333,
              "#9c179e"
             ],
             [
              0.4444444444444444,
              "#bd3786"
             ],
             [
              0.5555555555555556,
              "#d8576b"
             ],
             [
              0.6666666666666666,
              "#ed7953"
             ],
             [
              0.7777777777777778,
              "#fb9f3a"
             ],
             [
              0.8888888888888888,
              "#fdca26"
             ],
             [
              1,
              "#f0f921"
             ]
            ],
            "type": "heatmapgl"
           }
          ],
          "histogram": [
           {
            "marker": {
             "pattern": {
              "fillmode": "overlay",
              "size": 10,
              "solidity": 0.2
             }
            },
            "type": "histogram"
           }
          ],
          "histogram2d": [
           {
            "colorbar": {
             "outlinewidth": 0,
             "ticks": ""
            },
            "colorscale": [
             [
              0,
              "#0d0887"
             ],
             [
              0.1111111111111111,
              "#46039f"
             ],
             [
              0.2222222222222222,
              "#7201a8"
             ],
             [
              0.3333333333333333,
              "#9c179e"
             ],
             [
              0.4444444444444444,
              "#bd3786"
             ],
             [
              0.5555555555555556,
              "#d8576b"
             ],
             [
              0.6666666666666666,
              "#ed7953"
             ],
             [
              0.7777777777777778,
              "#fb9f3a"
             ],
             [
              0.8888888888888888,
              "#fdca26"
             ],
             [
              1,
              "#f0f921"
             ]
            ],
            "type": "histogram2d"
           }
          ],
          "histogram2dcontour": [
           {
            "colorbar": {
             "outlinewidth": 0,
             "ticks": ""
            },
            "colorscale": [
             [
              0,
              "#0d0887"
             ],
             [
              0.1111111111111111,
              "#46039f"
             ],
             [
              0.2222222222222222,
              "#7201a8"
             ],
             [
              0.3333333333333333,
              "#9c179e"
             ],
             [
              0.4444444444444444,
              "#bd3786"
             ],
             [
              0.5555555555555556,
              "#d8576b"
             ],
             [
              0.6666666666666666,
              "#ed7953"
             ],
             [
              0.7777777777777778,
              "#fb9f3a"
             ],
             [
              0.8888888888888888,
              "#fdca26"
             ],
             [
              1,
              "#f0f921"
             ]
            ],
            "type": "histogram2dcontour"
           }
          ],
          "mesh3d": [
           {
            "colorbar": {
             "outlinewidth": 0,
             "ticks": ""
            },
            "type": "mesh3d"
           }
          ],
          "parcoords": [
           {
            "line": {
             "colorbar": {
              "outlinewidth": 0,
              "ticks": ""
             }
            },
            "type": "parcoords"
           }
          ],
          "pie": [
           {
            "automargin": true,
            "type": "pie"
           }
          ],
          "scatter": [
           {
            "fillpattern": {
             "fillmode": "overlay",
             "size": 10,
             "solidity": 0.2
            },
            "type": "scatter"
           }
          ],
          "scatter3d": [
           {
            "line": {
             "colorbar": {
              "outlinewidth": 0,
              "ticks": ""
             }
            },
            "marker": {
             "colorbar": {
              "outlinewidth": 0,
              "ticks": ""
             }
            },
            "type": "scatter3d"
           }
          ],
          "scattercarpet": [
           {
            "marker": {
             "colorbar": {
              "outlinewidth": 0,
              "ticks": ""
             }
            },
            "type": "scattercarpet"
           }
          ],
          "scattergeo": [
           {
            "marker": {
             "colorbar": {
              "outlinewidth": 0,
              "ticks": ""
             }
            },
            "type": "scattergeo"
           }
          ],
          "scattergl": [
           {
            "marker": {
             "colorbar": {
              "outlinewidth": 0,
              "ticks": ""
             }
            },
            "type": "scattergl"
           }
          ],
          "scattermapbox": [
           {
            "marker": {
             "colorbar": {
              "outlinewidth": 0,
              "ticks": ""
             }
            },
            "type": "scattermapbox"
           }
          ],
          "scatterpolar": [
           {
            "marker": {
             "colorbar": {
              "outlinewidth": 0,
              "ticks": ""
             }
            },
            "type": "scatterpolar"
           }
          ],
          "scatterpolargl": [
           {
            "marker": {
             "colorbar": {
              "outlinewidth": 0,
              "ticks": ""
             }
            },
            "type": "scatterpolargl"
           }
          ],
          "scatterternary": [
           {
            "marker": {
             "colorbar": {
              "outlinewidth": 0,
              "ticks": ""
             }
            },
            "type": "scatterternary"
           }
          ],
          "surface": [
           {
            "colorbar": {
             "outlinewidth": 0,
             "ticks": ""
            },
            "colorscale": [
             [
              0,
              "#0d0887"
             ],
             [
              0.1111111111111111,
              "#46039f"
             ],
             [
              0.2222222222222222,
              "#7201a8"
             ],
             [
              0.3333333333333333,
              "#9c179e"
             ],
             [
              0.4444444444444444,
              "#bd3786"
             ],
             [
              0.5555555555555556,
              "#d8576b"
             ],
             [
              0.6666666666666666,
              "#ed7953"
             ],
             [
              0.7777777777777778,
              "#fb9f3a"
             ],
             [
              0.8888888888888888,
              "#fdca26"
             ],
             [
              1,
              "#f0f921"
             ]
            ],
            "type": "surface"
           }
          ],
          "table": [
           {
            "cells": {
             "fill": {
              "color": "#EBF0F8"
             },
             "line": {
              "color": "white"
             }
            },
            "header": {
             "fill": {
              "color": "#C8D4E3"
             },
             "line": {
              "color": "white"
             }
            },
            "type": "table"
           }
          ]
         },
         "layout": {
          "annotationdefaults": {
           "arrowcolor": "#2a3f5f",
           "arrowhead": 0,
           "arrowwidth": 1
          },
          "autotypenumbers": "strict",
          "coloraxis": {
           "colorbar": {
            "outlinewidth": 0,
            "ticks": ""
           }
          },
          "colorscale": {
           "diverging": [
            [
             0,
             "#8e0152"
            ],
            [
             0.1,
             "#c51b7d"
            ],
            [
             0.2,
             "#de77ae"
            ],
            [
             0.3,
             "#f1b6da"
            ],
            [
             0.4,
             "#fde0ef"
            ],
            [
             0.5,
             "#f7f7f7"
            ],
            [
             0.6,
             "#e6f5d0"
            ],
            [
             0.7,
             "#b8e186"
            ],
            [
             0.8,
             "#7fbc41"
            ],
            [
             0.9,
             "#4d9221"
            ],
            [
             1,
             "#276419"
            ]
           ],
           "sequential": [
            [
             0,
             "#0d0887"
            ],
            [
             0.1111111111111111,
             "#46039f"
            ],
            [
             0.2222222222222222,
             "#7201a8"
            ],
            [
             0.3333333333333333,
             "#9c179e"
            ],
            [
             0.4444444444444444,
             "#bd3786"
            ],
            [
             0.5555555555555556,
             "#d8576b"
            ],
            [
             0.6666666666666666,
             "#ed7953"
            ],
            [
             0.7777777777777778,
             "#fb9f3a"
            ],
            [
             0.8888888888888888,
             "#fdca26"
            ],
            [
             1,
             "#f0f921"
            ]
           ],
           "sequentialminus": [
            [
             0,
             "#0d0887"
            ],
            [
             0.1111111111111111,
             "#46039f"
            ],
            [
             0.2222222222222222,
             "#7201a8"
            ],
            [
             0.3333333333333333,
             "#9c179e"
            ],
            [
             0.4444444444444444,
             "#bd3786"
            ],
            [
             0.5555555555555556,
             "#d8576b"
            ],
            [
             0.6666666666666666,
             "#ed7953"
            ],
            [
             0.7777777777777778,
             "#fb9f3a"
            ],
            [
             0.8888888888888888,
             "#fdca26"
            ],
            [
             1,
             "#f0f921"
            ]
           ]
          },
          "colorway": [
           "#636efa",
           "#EF553B",
           "#00cc96",
           "#ab63fa",
           "#FFA15A",
           "#19d3f3",
           "#FF6692",
           "#B6E880",
           "#FF97FF",
           "#FECB52"
          ],
          "font": {
           "color": "#2a3f5f"
          },
          "geo": {
           "bgcolor": "white",
           "lakecolor": "white",
           "landcolor": "#E5ECF6",
           "showlakes": true,
           "showland": true,
           "subunitcolor": "white"
          },
          "hoverlabel": {
           "align": "left"
          },
          "hovermode": "closest",
          "mapbox": {
           "style": "light"
          },
          "paper_bgcolor": "white",
          "plot_bgcolor": "#E5ECF6",
          "polar": {
           "angularaxis": {
            "gridcolor": "white",
            "linecolor": "white",
            "ticks": ""
           },
           "bgcolor": "#E5ECF6",
           "radialaxis": {
            "gridcolor": "white",
            "linecolor": "white",
            "ticks": ""
           }
          },
          "scene": {
           "xaxis": {
            "backgroundcolor": "#E5ECF6",
            "gridcolor": "white",
            "gridwidth": 2,
            "linecolor": "white",
            "showbackground": true,
            "ticks": "",
            "zerolinecolor": "white"
           },
           "yaxis": {
            "backgroundcolor": "#E5ECF6",
            "gridcolor": "white",
            "gridwidth": 2,
            "linecolor": "white",
            "showbackground": true,
            "ticks": "",
            "zerolinecolor": "white"
           },
           "zaxis": {
            "backgroundcolor": "#E5ECF6",
            "gridcolor": "white",
            "gridwidth": 2,
            "linecolor": "white",
            "showbackground": true,
            "ticks": "",
            "zerolinecolor": "white"
           }
          },
          "shapedefaults": {
           "line": {
            "color": "#2a3f5f"
           }
          },
          "ternary": {
           "aaxis": {
            "gridcolor": "white",
            "linecolor": "white",
            "ticks": ""
           },
           "baxis": {
            "gridcolor": "white",
            "linecolor": "white",
            "ticks": ""
           },
           "bgcolor": "#E5ECF6",
           "caxis": {
            "gridcolor": "white",
            "linecolor": "white",
            "ticks": ""
           }
          },
          "title": {
           "x": 0.05
          },
          "xaxis": {
           "automargin": true,
           "gridcolor": "white",
           "linecolor": "white",
           "ticks": "",
           "title": {
            "standoff": 15
           },
           "zerolinecolor": "white",
           "zerolinewidth": 2
          },
          "yaxis": {
           "automargin": true,
           "gridcolor": "white",
           "linecolor": "white",
           "ticks": "",
           "title": {
            "standoff": 15
           },
           "zerolinecolor": "white",
           "zerolinewidth": 2
          }
         }
        },
        "xaxis": {
         "anchor": "y",
         "domain": [
          0,
          0.49
         ],
         "title": {
          "text": "eval.k"
         }
        },
        "xaxis2": {
         "anchor": "y2",
         "domain": [
          0.51,
          1
         ],
         "matches": "x",
         "title": {
          "text": "eval.k"
         }
        },
        "yaxis": {
         "anchor": "x",
         "domain": [
          0,
          1
         ],
         "title": {
          "text": "answer_accuracy"
         }
        },
        "yaxis2": {
         "anchor": "x2",
         "domain": [
          0,
          1
         ],
         "matches": "y",
         "showticklabels": false
        }
       }
      }
     },
     "metadata": {},
     "output_type": "display_data"
    }
   ],
   "source": [
    "px.bar(\n",
    "    df.filter(pl.all_horizontal(pl.col(r\"^eval\\.*.$\").is_not_null()))\n",
    "    .groupby(pl.col(r\"^eval\\..*$\"))\n",
    "    .agg(pl.col(\"*\").first())\n",
    "    .sort(pl.col(\"answer_accuracy\"), descending=True),\n",
    "\n",
    "    x=\"eval.k\",\n",
    "    y=\"answer_accuracy\",\n",
    "    color=\"search\",\n",
    "    facet_col=\"extraction\",\n",
    "    barmode=\"group\",\n",
    ")"
   ]
  },
  {
   "cell_type": "code",
   "execution_count": 86,
   "metadata": {},
   "outputs": [
    {
     "data": {
      "application/vnd.plotly.v1+json": {
       "config": {
        "plotlyServerURL": "https://plot.ly"
       },
       "data": [
        {
         "hovertemplate": "extraction=map<br>search=elasticsearch<br>eval.k=%{x}<br>answer_accuracy=%{y}<extra></extra>",
         "legendgroup": "map",
         "marker": {
          "color": "#636efa",
          "symbol": "circle"
         },
         "mode": "markers",
         "name": "map",
         "orientation": "v",
         "showlegend": true,
         "type": "scatter",
         "x": [
          12,
          12,
          12,
          12,
          12,
          12,
          null,
          null,
          null,
          null,
          null,
          12,
          12,
          12,
          12,
          12,
          12,
          12,
          12,
          12,
          12,
          null,
          null,
          null,
          12,
          12,
          12,
          12,
          12,
          12,
          12,
          12,
          12,
          12,
          12,
          12,
          12,
          12,
          12,
          12,
          12,
          12,
          12,
          12,
          12,
          12,
          12,
          12,
          12,
          12,
          6
         ],
         "xaxis": "x",
         "y": [
          1,
          0.76666665,
          0.76666665,
          0.76666665,
          0.76666665,
          0.76666665,
          0,
          0,
          0,
          0,
          0,
          0,
          0.76666665,
          0.76666665,
          0.76666665,
          0.76666665,
          0.76666665,
          0.76666665,
          0.76666665,
          0.76666665,
          0.76666665,
          0,
          0,
          0,
          0.76666665,
          0.76666665,
          0.76666665,
          0.68333334,
          0.76666665,
          0.76666665,
          0.76666665,
          0.76666665,
          0.76666665,
          0.76666665,
          0.76666665,
          0.76666665,
          0.76666665,
          0.76666665,
          0.76666665,
          0.76666665,
          0.76666665,
          0.76666665,
          0.76666665,
          0.76666665,
          0.76666665,
          0.76666665,
          0.76666665,
          0.76666665,
          0.76666665,
          0.76666665,
          0.6851852
         ],
         "yaxis": "y"
        },
        {
         "hovertemplate": "extraction=map<br>search=elastic_and_embeddings<br>eval.k=%{x}<br>answer_accuracy=%{y}<extra></extra>",
         "legendgroup": "map",
         "marker": {
          "color": "#636efa",
          "symbol": "circle"
         },
         "mode": "markers",
         "name": "map",
         "orientation": "v",
         "showlegend": false,
         "type": "scatter",
         "x": [
          null
         ],
         "xaxis": "x2",
         "y": [
          0
         ],
         "yaxis": "y2"
        },
        {
         "hovertemplate": "extraction=map<br>search=embeddings_knn<br>eval.k=%{x}<br>answer_accuracy=%{y}<extra></extra>",
         "legendgroup": "map",
         "marker": {
          "color": "#636efa",
          "symbol": "circle"
         },
         "mode": "markers",
         "name": "map",
         "orientation": "v",
         "showlegend": false,
         "type": "scatter",
         "x": [
          null,
          1,
          16,
          6
         ],
         "xaxis": "x3",
         "y": [
          0.38333333,
          0.38333333,
          0.78333336,
          0.7
         ],
         "yaxis": "y3"
        },
        {
         "hovertemplate": "extraction=tournament_reduce<br>search=elasticsearch<br>eval.k=%{x}<br>answer_accuracy=%{y}<extra></extra>",
         "legendgroup": "tournament_reduce",
         "marker": {
          "color": "#EF553B",
          "symbol": "circle"
         },
         "mode": "markers",
         "name": "tournament_reduce",
         "orientation": "v",
         "showlegend": true,
         "type": "scatter",
         "x": [
          null,
          null,
          null,
          null,
          null,
          null,
          null,
          null,
          null,
          null,
          null,
          null,
          null,
          null,
          null,
          null,
          null,
          null,
          null,
          null,
          null,
          null,
          6,
          6,
          6,
          6,
          6,
          6,
          6,
          6,
          6,
          6,
          6
         ],
         "xaxis": "x",
         "y": [
          0,
          0,
          0,
          0,
          0,
          0,
          0,
          0,
          0,
          0,
          0,
          0,
          0,
          0,
          0,
          0,
          0,
          0,
          0,
          0,
          0,
          0,
          0.8,
          0.64166665,
          0.64166665,
          0.64166665,
          0.64166665,
          0.8,
          0.8,
          0.8,
          0.8,
          0.8,
          0.66805553
         ],
         "yaxis": "y"
        },
        {
         "hovertemplate": "extraction=tournament_reduce<br>search=embeddings_knn<br>eval.k=%{x}<br>answer_accuracy=%{y}<extra></extra>",
         "legendgroup": "tournament_reduce",
         "marker": {
          "color": "#EF553B",
          "symbol": "circle"
         },
         "mode": "markers",
         "name": "tournament_reduce",
         "orientation": "v",
         "showlegend": false,
         "type": "scatter",
         "x": [
          16
         ],
         "xaxis": "x3",
         "y": [
          0.5619048
         ],
         "yaxis": "y3"
        }
       ],
       "layout": {
        "annotations": [
         {
          "font": {},
          "showarrow": false,
          "text": "search=elasticsearch",
          "x": 0.15999999999999998,
          "xanchor": "center",
          "xref": "paper",
          "y": 1,
          "yanchor": "bottom",
          "yref": "paper"
         },
         {
          "font": {},
          "showarrow": false,
          "text": "search=elastic_and_embeddings",
          "x": 0.49999999999999994,
          "xanchor": "center",
          "xref": "paper",
          "y": 1,
          "yanchor": "bottom",
          "yref": "paper"
         },
         {
          "font": {},
          "showarrow": false,
          "text": "search=embeddings_knn",
          "x": 0.8399999999999999,
          "xanchor": "center",
          "xref": "paper",
          "y": 1,
          "yanchor": "bottom",
          "yref": "paper"
         }
        ],
        "legend": {
         "title": {
          "text": "extraction"
         },
         "tracegroupgap": 0
        },
        "margin": {
         "t": 60
        },
        "template": {
         "data": {
          "bar": [
           {
            "error_x": {
             "color": "#2a3f5f"
            },
            "error_y": {
             "color": "#2a3f5f"
            },
            "marker": {
             "line": {
              "color": "#E5ECF6",
              "width": 0.5
             },
             "pattern": {
              "fillmode": "overlay",
              "size": 10,
              "solidity": 0.2
             }
            },
            "type": "bar"
           }
          ],
          "barpolar": [
           {
            "marker": {
             "line": {
              "color": "#E5ECF6",
              "width": 0.5
             },
             "pattern": {
              "fillmode": "overlay",
              "size": 10,
              "solidity": 0.2
             }
            },
            "type": "barpolar"
           }
          ],
          "carpet": [
           {
            "aaxis": {
             "endlinecolor": "#2a3f5f",
             "gridcolor": "white",
             "linecolor": "white",
             "minorgridcolor": "white",
             "startlinecolor": "#2a3f5f"
            },
            "baxis": {
             "endlinecolor": "#2a3f5f",
             "gridcolor": "white",
             "linecolor": "white",
             "minorgridcolor": "white",
             "startlinecolor": "#2a3f5f"
            },
            "type": "carpet"
           }
          ],
          "choropleth": [
           {
            "colorbar": {
             "outlinewidth": 0,
             "ticks": ""
            },
            "type": "choropleth"
           }
          ],
          "contour": [
           {
            "colorbar": {
             "outlinewidth": 0,
             "ticks": ""
            },
            "colorscale": [
             [
              0,
              "#0d0887"
             ],
             [
              0.1111111111111111,
              "#46039f"
             ],
             [
              0.2222222222222222,
              "#7201a8"
             ],
             [
              0.3333333333333333,
              "#9c179e"
             ],
             [
              0.4444444444444444,
              "#bd3786"
             ],
             [
              0.5555555555555556,
              "#d8576b"
             ],
             [
              0.6666666666666666,
              "#ed7953"
             ],
             [
              0.7777777777777778,
              "#fb9f3a"
             ],
             [
              0.8888888888888888,
              "#fdca26"
             ],
             [
              1,
              "#f0f921"
             ]
            ],
            "type": "contour"
           }
          ],
          "contourcarpet": [
           {
            "colorbar": {
             "outlinewidth": 0,
             "ticks": ""
            },
            "type": "contourcarpet"
           }
          ],
          "heatmap": [
           {
            "colorbar": {
             "outlinewidth": 0,
             "ticks": ""
            },
            "colorscale": [
             [
              0,
              "#0d0887"
             ],
             [
              0.1111111111111111,
              "#46039f"
             ],
             [
              0.2222222222222222,
              "#7201a8"
             ],
             [
              0.3333333333333333,
              "#9c179e"
             ],
             [
              0.4444444444444444,
              "#bd3786"
             ],
             [
              0.5555555555555556,
              "#d8576b"
             ],
             [
              0.6666666666666666,
              "#ed7953"
             ],
             [
              0.7777777777777778,
              "#fb9f3a"
             ],
             [
              0.8888888888888888,
              "#fdca26"
             ],
             [
              1,
              "#f0f921"
             ]
            ],
            "type": "heatmap"
           }
          ],
          "heatmapgl": [
           {
            "colorbar": {
             "outlinewidth": 0,
             "ticks": ""
            },
            "colorscale": [
             [
              0,
              "#0d0887"
             ],
             [
              0.1111111111111111,
              "#46039f"
             ],
             [
              0.2222222222222222,
              "#7201a8"
             ],
             [
              0.3333333333333333,
              "#9c179e"
             ],
             [
              0.4444444444444444,
              "#bd3786"
             ],
             [
              0.5555555555555556,
              "#d8576b"
             ],
             [
              0.6666666666666666,
              "#ed7953"
             ],
             [
              0.7777777777777778,
              "#fb9f3a"
             ],
             [
              0.8888888888888888,
              "#fdca26"
             ],
             [
              1,
              "#f0f921"
             ]
            ],
            "type": "heatmapgl"
           }
          ],
          "histogram": [
           {
            "marker": {
             "pattern": {
              "fillmode": "overlay",
              "size": 10,
              "solidity": 0.2
             }
            },
            "type": "histogram"
           }
          ],
          "histogram2d": [
           {
            "colorbar": {
             "outlinewidth": 0,
             "ticks": ""
            },
            "colorscale": [
             [
              0,
              "#0d0887"
             ],
             [
              0.1111111111111111,
              "#46039f"
             ],
             [
              0.2222222222222222,
              "#7201a8"
             ],
             [
              0.3333333333333333,
              "#9c179e"
             ],
             [
              0.4444444444444444,
              "#bd3786"
             ],
             [
              0.5555555555555556,
              "#d8576b"
             ],
             [
              0.6666666666666666,
              "#ed7953"
             ],
             [
              0.7777777777777778,
              "#fb9f3a"
             ],
             [
              0.8888888888888888,
              "#fdca26"
             ],
             [
              1,
              "#f0f921"
             ]
            ],
            "type": "histogram2d"
           }
          ],
          "histogram2dcontour": [
           {
            "colorbar": {
             "outlinewidth": 0,
             "ticks": ""
            },
            "colorscale": [
             [
              0,
              "#0d0887"
             ],
             [
              0.1111111111111111,
              "#46039f"
             ],
             [
              0.2222222222222222,
              "#7201a8"
             ],
             [
              0.3333333333333333,
              "#9c179e"
             ],
             [
              0.4444444444444444,
              "#bd3786"
             ],
             [
              0.5555555555555556,
              "#d8576b"
             ],
             [
              0.6666666666666666,
              "#ed7953"
             ],
             [
              0.7777777777777778,
              "#fb9f3a"
             ],
             [
              0.8888888888888888,
              "#fdca26"
             ],
             [
              1,
              "#f0f921"
             ]
            ],
            "type": "histogram2dcontour"
           }
          ],
          "mesh3d": [
           {
            "colorbar": {
             "outlinewidth": 0,
             "ticks": ""
            },
            "type": "mesh3d"
           }
          ],
          "parcoords": [
           {
            "line": {
             "colorbar": {
              "outlinewidth": 0,
              "ticks": ""
             }
            },
            "type": "parcoords"
           }
          ],
          "pie": [
           {
            "automargin": true,
            "type": "pie"
           }
          ],
          "scatter": [
           {
            "fillpattern": {
             "fillmode": "overlay",
             "size": 10,
             "solidity": 0.2
            },
            "type": "scatter"
           }
          ],
          "scatter3d": [
           {
            "line": {
             "colorbar": {
              "outlinewidth": 0,
              "ticks": ""
             }
            },
            "marker": {
             "colorbar": {
              "outlinewidth": 0,
              "ticks": ""
             }
            },
            "type": "scatter3d"
           }
          ],
          "scattercarpet": [
           {
            "marker": {
             "colorbar": {
              "outlinewidth": 0,
              "ticks": ""
             }
            },
            "type": "scattercarpet"
           }
          ],
          "scattergeo": [
           {
            "marker": {
             "colorbar": {
              "outlinewidth": 0,
              "ticks": ""
             }
            },
            "type": "scattergeo"
           }
          ],
          "scattergl": [
           {
            "marker": {
             "colorbar": {
              "outlinewidth": 0,
              "ticks": ""
             }
            },
            "type": "scattergl"
           }
          ],
          "scattermapbox": [
           {
            "marker": {
             "colorbar": {
              "outlinewidth": 0,
              "ticks": ""
             }
            },
            "type": "scattermapbox"
           }
          ],
          "scatterpolar": [
           {
            "marker": {
             "colorbar": {
              "outlinewidth": 0,
              "ticks": ""
             }
            },
            "type": "scatterpolar"
           }
          ],
          "scatterpolargl": [
           {
            "marker": {
             "colorbar": {
              "outlinewidth": 0,
              "ticks": ""
             }
            },
            "type": "scatterpolargl"
           }
          ],
          "scatterternary": [
           {
            "marker": {
             "colorbar": {
              "outlinewidth": 0,
              "ticks": ""
             }
            },
            "type": "scatterternary"
           }
          ],
          "surface": [
           {
            "colorbar": {
             "outlinewidth": 0,
             "ticks": ""
            },
            "colorscale": [
             [
              0,
              "#0d0887"
             ],
             [
              0.1111111111111111,
              "#46039f"
             ],
             [
              0.2222222222222222,
              "#7201a8"
             ],
             [
              0.3333333333333333,
              "#9c179e"
             ],
             [
              0.4444444444444444,
              "#bd3786"
             ],
             [
              0.5555555555555556,
              "#d8576b"
             ],
             [
              0.6666666666666666,
              "#ed7953"
             ],
             [
              0.7777777777777778,
              "#fb9f3a"
             ],
             [
              0.8888888888888888,
              "#fdca26"
             ],
             [
              1,
              "#f0f921"
             ]
            ],
            "type": "surface"
           }
          ],
          "table": [
           {
            "cells": {
             "fill": {
              "color": "#EBF0F8"
             },
             "line": {
              "color": "white"
             }
            },
            "header": {
             "fill": {
              "color": "#C8D4E3"
             },
             "line": {
              "color": "white"
             }
            },
            "type": "table"
           }
          ]
         },
         "layout": {
          "annotationdefaults": {
           "arrowcolor": "#2a3f5f",
           "arrowhead": 0,
           "arrowwidth": 1
          },
          "autotypenumbers": "strict",
          "coloraxis": {
           "colorbar": {
            "outlinewidth": 0,
            "ticks": ""
           }
          },
          "colorscale": {
           "diverging": [
            [
             0,
             "#8e0152"
            ],
            [
             0.1,
             "#c51b7d"
            ],
            [
             0.2,
             "#de77ae"
            ],
            [
             0.3,
             "#f1b6da"
            ],
            [
             0.4,
             "#fde0ef"
            ],
            [
             0.5,
             "#f7f7f7"
            ],
            [
             0.6,
             "#e6f5d0"
            ],
            [
             0.7,
             "#b8e186"
            ],
            [
             0.8,
             "#7fbc41"
            ],
            [
             0.9,
             "#4d9221"
            ],
            [
             1,
             "#276419"
            ]
           ],
           "sequential": [
            [
             0,
             "#0d0887"
            ],
            [
             0.1111111111111111,
             "#46039f"
            ],
            [
             0.2222222222222222,
             "#7201a8"
            ],
            [
             0.3333333333333333,
             "#9c179e"
            ],
            [
             0.4444444444444444,
             "#bd3786"
            ],
            [
             0.5555555555555556,
             "#d8576b"
            ],
            [
             0.6666666666666666,
             "#ed7953"
            ],
            [
             0.7777777777777778,
             "#fb9f3a"
            ],
            [
             0.8888888888888888,
             "#fdca26"
            ],
            [
             1,
             "#f0f921"
            ]
           ],
           "sequentialminus": [
            [
             0,
             "#0d0887"
            ],
            [
             0.1111111111111111,
             "#46039f"
            ],
            [
             0.2222222222222222,
             "#7201a8"
            ],
            [
             0.3333333333333333,
             "#9c179e"
            ],
            [
             0.4444444444444444,
             "#bd3786"
            ],
            [
             0.5555555555555556,
             "#d8576b"
            ],
            [
             0.6666666666666666,
             "#ed7953"
            ],
            [
             0.7777777777777778,
             "#fb9f3a"
            ],
            [
             0.8888888888888888,
             "#fdca26"
            ],
            [
             1,
             "#f0f921"
            ]
           ]
          },
          "colorway": [
           "#636efa",
           "#EF553B",
           "#00cc96",
           "#ab63fa",
           "#FFA15A",
           "#19d3f3",
           "#FF6692",
           "#B6E880",
           "#FF97FF",
           "#FECB52"
          ],
          "font": {
           "color": "#2a3f5f"
          },
          "geo": {
           "bgcolor": "white",
           "lakecolor": "white",
           "landcolor": "#E5ECF6",
           "showlakes": true,
           "showland": true,
           "subunitcolor": "white"
          },
          "hoverlabel": {
           "align": "left"
          },
          "hovermode": "closest",
          "mapbox": {
           "style": "light"
          },
          "paper_bgcolor": "white",
          "plot_bgcolor": "#E5ECF6",
          "polar": {
           "angularaxis": {
            "gridcolor": "white",
            "linecolor": "white",
            "ticks": ""
           },
           "bgcolor": "#E5ECF6",
           "radialaxis": {
            "gridcolor": "white",
            "linecolor": "white",
            "ticks": ""
           }
          },
          "scene": {
           "xaxis": {
            "backgroundcolor": "#E5ECF6",
            "gridcolor": "white",
            "gridwidth": 2,
            "linecolor": "white",
            "showbackground": true,
            "ticks": "",
            "zerolinecolor": "white"
           },
           "yaxis": {
            "backgroundcolor": "#E5ECF6",
            "gridcolor": "white",
            "gridwidth": 2,
            "linecolor": "white",
            "showbackground": true,
            "ticks": "",
            "zerolinecolor": "white"
           },
           "zaxis": {
            "backgroundcolor": "#E5ECF6",
            "gridcolor": "white",
            "gridwidth": 2,
            "linecolor": "white",
            "showbackground": true,
            "ticks": "",
            "zerolinecolor": "white"
           }
          },
          "shapedefaults": {
           "line": {
            "color": "#2a3f5f"
           }
          },
          "ternary": {
           "aaxis": {
            "gridcolor": "white",
            "linecolor": "white",
            "ticks": ""
           },
           "baxis": {
            "gridcolor": "white",
            "linecolor": "white",
            "ticks": ""
           },
           "bgcolor": "#E5ECF6",
           "caxis": {
            "gridcolor": "white",
            "linecolor": "white",
            "ticks": ""
           }
          },
          "title": {
           "x": 0.05
          },
          "xaxis": {
           "automargin": true,
           "gridcolor": "white",
           "linecolor": "white",
           "ticks": "",
           "title": {
            "standoff": 15
           },
           "zerolinecolor": "white",
           "zerolinewidth": 2
          },
          "yaxis": {
           "automargin": true,
           "gridcolor": "white",
           "linecolor": "white",
           "ticks": "",
           "title": {
            "standoff": 15
           },
           "zerolinecolor": "white",
           "zerolinewidth": 2
          }
         }
        },
        "xaxis": {
         "anchor": "y",
         "domain": [
          0,
          0.31999999999999995
         ],
         "title": {
          "text": "eval.k"
         }
        },
        "xaxis2": {
         "anchor": "y2",
         "domain": [
          0.33999999999999997,
          0.6599999999999999
         ],
         "matches": "x",
         "title": {
          "text": "eval.k"
         }
        },
        "xaxis3": {
         "anchor": "y3",
         "domain": [
          0.6799999999999999,
          0.9999999999999999
         ],
         "matches": "x",
         "title": {
          "text": "eval.k"
         }
        },
        "yaxis": {
         "anchor": "x",
         "domain": [
          0,
          1
         ],
         "title": {
          "text": "answer_accuracy"
         }
        },
        "yaxis2": {
         "anchor": "x2",
         "domain": [
          0,
          1
         ],
         "matches": "y",
         "showticklabels": false
        },
        "yaxis3": {
         "anchor": "x3",
         "domain": [
          0,
          1
         ],
         "matches": "y",
         "showticklabels": false
        }
       }
      }
     },
     "metadata": {},
     "output_type": "display_data"
    }
   ],
   "source": [
    "df_filtered = df.filter(df['search'].is_not_null())\n",
    "\n",
    "px.scatter(\n",
    "    df_filtered.with_columns(pl.col(\"answer_accuracy\").cast(pl.Float32, strict=False)),\n",
    "    x=\"eval.k\",\n",
    "    y=\"answer_accuracy\",\n",
    "    facet_col=\"search\",\n",
    "    color=\"extraction\",\n",
    ")"
   ]
  },
  {
   "cell_type": "code",
   "execution_count": null,
   "metadata": {},
   "outputs": [],
   "source": []
  },
  {
   "cell_type": "code",
   "execution_count": null,
   "metadata": {},
   "outputs": [],
   "source": []
  }
 ],
 "metadata": {
  "kernelspec": {
   "display_name": ".venv",
   "language": "python",
   "name": "python3"
  },
  "language_info": {
   "codemirror_mode": {
    "name": "ipython",
    "version": 3
   },
   "file_extension": ".py",
   "mimetype": "text/x-python",
   "name": "python",
   "nbconvert_exporter": "python",
   "pygments_lexer": "ipython3",
   "version": "3.11.5"
  },
  "orig_nbformat": 4
 },
 "nbformat": 4,
 "nbformat_minor": 2
}
