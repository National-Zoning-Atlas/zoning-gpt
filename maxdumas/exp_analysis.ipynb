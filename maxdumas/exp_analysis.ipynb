{
 "cells": [
  {
   "cell_type": "code",
   "execution_count": 51,
   "metadata": {},
   "outputs": [],
   "source": [
    "import polars as pl\n",
    "import plotly.express as px"
   ]
  },
  {
   "cell_type": "code",
   "execution_count": 52,
   "metadata": {},
   "outputs": [
    {
     "data": {
      "text/html": [
       "<div><style>\n",
       ".dataframe > thead > tr > th,\n",
       ".dataframe > tbody > tr > td {\n",
       "  text-align: right;\n",
       "}\n",
       "</style>\n",
       "<small>shape: (54, 104)</small><table border=\"1\" class=\"dataframe\"><thead><tr><th>Experiment</th><th>rev</th><th>typ</th><th>Created</th><th>parent</th><th>answer_accuracy</th><th>conditional_answer_accuracy</th><th>max_height.answer_accuracy</th><th>max_height.conditional_answer_accuracy</th><th>max_height.num_correct_answer</th><th>max_height.num_correct_page_searched</th><th>max_height.num_results</th><th>max_height.page_search_recall</th><th>max_lot_coverage.answer_accuracy</th><th>max_lot_coverage.conditional_answer_accuracy</th><th>max_lot_coverage.num_correct_answer</th><th>max_lot_coverage.num_correct_page_searched</th><th>max_lot_coverage.num_results</th><th>max_lot_coverage.page_search_recall</th><th>max_lot_coverage_pavement.answer_accuracy</th><th>max_lot_coverage_pavement.conditional_answer_accuracy</th><th>max_lot_coverage_pavement.num_correct_answer</th><th>max_lot_coverage_pavement.num_correct_page_searched</th><th>max_lot_coverage_pavement.num_results</th><th>max_lot_coverage_pavement.page_search_recall</th><th>min_lot_size.answer_accuracy</th><th>min_lot_size.conditional_answer_accuracy</th><th>min_lot_size.num_correct_answer</th><th>min_lot_size.num_correct_page_searched</th><th>min_lot_size.num_results</th><th>min_lot_size.page_search_recall</th><th>min_parking_spaces.answer_accuracy</th><th>min_parking_spaces.conditional_answer_accuracy</th><th>min_parking_spaces.num_correct_answer</th><th>min_parking_spaces.num_correct_page_searched</th><th>min_parking_spaces.num_results</th><th>min_parking_spaces.page_search_recall</th><th>&hellip;</th><th>min unit size.num_correct_page_extracted</th><th>min unit size.num_correct_page_searched</th><th>min unit size.num_results</th><th>min unit size.page_extract_recall</th><th>min unit size.page_search_recall</th><th>num_correct_answer</th><th>num_correct_page_extracted</th><th>num_correct_page_searched</th><th>num_results</th><th>page_extract_recall</th><th>extract_text.orig_document_s3_bucket</th><th>generate_dataset.seed</th><th>generate_dataset.test_split_frac</th><th>publish_datasets</th><th>eval.num-eval-rows</th><th>eval.terms</th><th>eval.search-method</th><th>eval.extraction-method</th><th>eval.k</th><th>data/hf_dataset</th><th>data/hf_text_dataset</th><th>data/names_all_towns.json</th><th>data/orig-documents</th><th>data/orig_documents_s3_manifest.json</th><th>data/textract_dataset</th><th>maxdumas/extract_text.py</th><th>maxdumas/generate_dataset.py</th><th>maxdumas/upload_zoning_docs.sh</th><th>templates/extraction.pmpt.tpl</th><th>templates/extraction_chat_completion.pmpt.tpl</th><th>templates/extraction_completion.pmpt.tpl</th><th>zoning/data_processing/eval.py</th><th>zoning/data_processing/extract_text.py</th><th>zoning/data_processing/generate_dataset.py</th><th>zoning/data_processing/generate_text_dataset.py</th><th>zoning/data_processing/index_towns.py</th><th>zoning/data_processing/upload_zoning_docs.sh</th></tr><tr><td>str</td><td>str</td><td>str</td><td>str</td><td>str</td><td>f32</td><td>f32</td><td>str</td><td>str</td><td>str</td><td>str</td><td>str</td><td>str</td><td>str</td><td>str</td><td>str</td><td>str</td><td>str</td><td>str</td><td>str</td><td>str</td><td>str</td><td>str</td><td>str</td><td>str</td><td>str</td><td>str</td><td>str</td><td>str</td><td>str</td><td>str</td><td>str</td><td>str</td><td>str</td><td>str</td><td>str</td><td>str</td><td>&hellip;</td><td>str</td><td>str</td><td>str</td><td>str</td><td>str</td><td>str</td><td>str</td><td>str</td><td>str</td><td>str</td><td>str</td><td>i64</td><td>f64</td><td>bool</td><td>i64</td><td>str</td><td>str</td><td>str</td><td>i64</td><td>str</td><td>str</td><td>str</td><td>str</td><td>str</td><td>str</td><td>str</td><td>str</td><td>str</td><td>str</td><td>str</td><td>str</td><td>str</td><td>str</td><td>str</td><td>str</td><td>str</td><td>str</td></tr></thead><tbody><tr><td>null</td><td>&quot;adaa401&quot;</td><td>&quot;baseline&quot;</td><td>&quot;2023-08-21T20:…</td><td>null</td><td>0.783333</td><td>0.800794</td><td>&quot;1.0&quot;</td><td>&quot;1.0&quot;</td><td>&quot;10&quot;</td><td>&quot;8&quot;</td><td>&quot;163&quot;</td><td>&quot;0.8&quot;</td><td>&quot;0.9&quot;</td><td>&quot;1.0&quot;</td><td>&quot;9&quot;</td><td>&quot;4&quot;</td><td>&quot;166&quot;</td><td>&quot;0.4&quot;</td><td>&quot;0.7&quot;</td><td>&quot;0.833333333333…</td><td>&quot;7&quot;</td><td>&quot;6&quot;</td><td>&quot;160&quot;</td><td>&quot;0.6&quot;</td><td>&quot;0.7&quot;</td><td>&quot;0.8&quot;</td><td>&quot;7&quot;</td><td>&quot;5&quot;</td><td>&quot;163&quot;</td><td>&quot;0.5&quot;</td><td>&quot;0.6&quot;</td><td>&quot;0.571428571428…</td><td>&quot;6&quot;</td><td>&quot;7&quot;</td><td>&quot;165&quot;</td><td>&quot;0.7&quot;</td><td>&hellip;</td><td>null</td><td>null</td><td>null</td><td>null</td><td>null</td><td>null</td><td>null</td><td>null</td><td>null</td><td>null</td><td>&quot;cornell-mfd64&quot;</td><td>42</td><td>0.3</td><td>true</td><td>10</td><td>&quot;[&#x27;min_lot_size…</td><td>&quot;embeddings_knn…</td><td>&quot;map&quot;</td><td>16</td><td>&quot;302e323289b318…</td><td>&quot;e832d3471ef79f…</td><td>&quot;0013040cfeb0f4…</td><td>&quot;2311e7a6bb96f9…</td><td>&quot;897ea14dfed07e…</td><td>&quot;11062398489b76…</td><td>null</td><td>null</td><td>null</td><td>null</td><td>&quot;1a26f472c8a488…</td><td>&quot;cdd9b0b79ac4ed…</td><td>&quot;d422252768218b…</td><td>&quot;98404ae0ff0f6d…</td><td>&quot;51f7f2eef57fa4…</td><td>&quot;45a291510a51b8…</td><td>&quot;cd3c4af8c8e19c…</td><td>&quot;4bc9fb2d649525…</td></tr><tr><td>&quot;bawdy-kill&quot;</td><td>&quot;d5cf8cc&quot;</td><td>&quot;branch_base&quot;</td><td>&quot;2023-08-21T20:…</td><td>null</td><td>0.783333</td><td>0.800794</td><td>&quot;1.0&quot;</td><td>&quot;1.0&quot;</td><td>&quot;10&quot;</td><td>&quot;8&quot;</td><td>&quot;163&quot;</td><td>&quot;0.8&quot;</td><td>&quot;0.9&quot;</td><td>&quot;1.0&quot;</td><td>&quot;9&quot;</td><td>&quot;4&quot;</td><td>&quot;166&quot;</td><td>&quot;0.4&quot;</td><td>&quot;0.7&quot;</td><td>&quot;0.833333333333…</td><td>&quot;7&quot;</td><td>&quot;6&quot;</td><td>&quot;160&quot;</td><td>&quot;0.6&quot;</td><td>&quot;0.7&quot;</td><td>&quot;0.8&quot;</td><td>&quot;7&quot;</td><td>&quot;5&quot;</td><td>&quot;163&quot;</td><td>&quot;0.5&quot;</td><td>&quot;0.6&quot;</td><td>&quot;0.571428571428…</td><td>&quot;6&quot;</td><td>&quot;7&quot;</td><td>&quot;165&quot;</td><td>&quot;0.7&quot;</td><td>&hellip;</td><td>null</td><td>null</td><td>null</td><td>null</td><td>null</td><td>null</td><td>null</td><td>null</td><td>null</td><td>null</td><td>&quot;cornell-mfd64&quot;</td><td>42</td><td>0.3</td><td>true</td><td>10</td><td>&quot;[&#x27;min_lot_size…</td><td>&quot;embeddings_knn…</td><td>&quot;map&quot;</td><td>16</td><td>&quot;302e323289b318…</td><td>&quot;e832d3471ef79f…</td><td>&quot;0013040cfeb0f4…</td><td>&quot;2311e7a6bb96f9…</td><td>&quot;897ea14dfed07e…</td><td>&quot;11062398489b76…</td><td>null</td><td>null</td><td>null</td><td>null</td><td>&quot;1a26f472c8a488…</td><td>&quot;cdd9b0b79ac4ed…</td><td>&quot;d422252768218b…</td><td>&quot;98404ae0ff0f6d…</td><td>&quot;51f7f2eef57fa4…</td><td>&quot;45a291510a51b8…</td><td>&quot;cd3c4af8c8e19c…</td><td>&quot;4bc9fb2d649525…</td></tr><tr><td>null</td><td>&quot;66b94c6&quot;</td><td>&quot;baseline&quot;</td><td>&quot;2023-08-21T19:…</td><td>null</td><td>0.7</td><td>0.808333</td><td>&quot;0.9&quot;</td><td>&quot;1.0&quot;</td><td>&quot;9&quot;</td><td>&quot;7&quot;</td><td>&quot;63&quot;</td><td>&quot;0.7&quot;</td><td>&quot;0.9&quot;</td><td>&quot;1.0&quot;</td><td>&quot;9&quot;</td><td>&quot;4&quot;</td><td>&quot;66&quot;</td><td>&quot;0.4&quot;</td><td>&quot;0.6&quot;</td><td>&quot;0.8&quot;</td><td>&quot;6&quot;</td><td>&quot;5&quot;</td><td>&quot;60&quot;</td><td>&quot;0.5&quot;</td><td>&quot;0.7&quot;</td><td>&quot;0.8&quot;</td><td>&quot;7&quot;</td><td>&quot;5&quot;</td><td>&quot;63&quot;</td><td>&quot;0.5&quot;</td><td>&quot;0.3&quot;</td><td>&quot;0.5&quot;</td><td>&quot;3&quot;</td><td>&quot;2&quot;</td><td>&quot;61&quot;</td><td>&quot;0.2&quot;</td><td>&hellip;</td><td>null</td><td>null</td><td>null</td><td>null</td><td>null</td><td>null</td><td>null</td><td>null</td><td>null</td><td>null</td><td>&quot;cornell-mfd64&quot;</td><td>42</td><td>0.3</td><td>true</td><td>10</td><td>&quot;[&#x27;min_lot_size…</td><td>&quot;embeddings_knn…</td><td>&quot;map&quot;</td><td>6</td><td>&quot;302e323289b318…</td><td>&quot;e832d3471ef79f…</td><td>&quot;0013040cfeb0f4…</td><td>&quot;2311e7a6bb96f9…</td><td>&quot;897ea14dfed07e…</td><td>&quot;11062398489b76…</td><td>null</td><td>null</td><td>null</td><td>null</td><td>&quot;1a26f472c8a488…</td><td>&quot;cdd9b0b79ac4ed…</td><td>&quot;88e27afc9f9706…</td><td>&quot;98404ae0ff0f6d…</td><td>&quot;51f7f2eef57fa4…</td><td>&quot;45a291510a51b8…</td><td>&quot;cd3c4af8c8e19c…</td><td>&quot;4bc9fb2d649525…</td></tr><tr><td>&quot;nervy-wage&quot;</td><td>&quot;d4f2bdc&quot;</td><td>&quot;branch_base&quot;</td><td>&quot;2023-08-21T19:…</td><td>null</td><td>0.7</td><td>0.808333</td><td>&quot;0.9&quot;</td><td>&quot;1.0&quot;</td><td>&quot;9&quot;</td><td>&quot;7&quot;</td><td>&quot;63&quot;</td><td>&quot;0.7&quot;</td><td>&quot;0.9&quot;</td><td>&quot;1.0&quot;</td><td>&quot;9&quot;</td><td>&quot;4&quot;</td><td>&quot;66&quot;</td><td>&quot;0.4&quot;</td><td>&quot;0.6&quot;</td><td>&quot;0.8&quot;</td><td>&quot;6&quot;</td><td>&quot;5&quot;</td><td>&quot;60&quot;</td><td>&quot;0.5&quot;</td><td>&quot;0.7&quot;</td><td>&quot;0.8&quot;</td><td>&quot;7&quot;</td><td>&quot;5&quot;</td><td>&quot;63&quot;</td><td>&quot;0.5&quot;</td><td>&quot;0.3&quot;</td><td>&quot;0.5&quot;</td><td>&quot;3&quot;</td><td>&quot;2&quot;</td><td>&quot;61&quot;</td><td>&quot;0.2&quot;</td><td>&hellip;</td><td>null</td><td>null</td><td>null</td><td>null</td><td>null</td><td>null</td><td>null</td><td>null</td><td>null</td><td>null</td><td>&quot;cornell-mfd64&quot;</td><td>42</td><td>0.3</td><td>true</td><td>10</td><td>&quot;[&#x27;min_lot_size…</td><td>&quot;embeddings_knn…</td><td>&quot;map&quot;</td><td>6</td><td>&quot;302e323289b318…</td><td>&quot;e832d3471ef79f…</td><td>&quot;0013040cfeb0f4…</td><td>&quot;2311e7a6bb96f9…</td><td>&quot;897ea14dfed07e…</td><td>&quot;11062398489b76…</td><td>null</td><td>null</td><td>null</td><td>null</td><td>&quot;1a26f472c8a488…</td><td>&quot;cdd9b0b79ac4ed…</td><td>&quot;88e27afc9f9706…</td><td>&quot;98404ae0ff0f6d…</td><td>&quot;51f7f2eef57fa4…</td><td>&quot;45a291510a51b8…</td><td>&quot;cd3c4af8c8e19c…</td><td>&quot;4bc9fb2d649525…</td></tr><tr><td>null</td><td>&quot;241aa7b&quot;</td><td>&quot;baseline&quot;</td><td>&quot;2023-08-21T19:…</td><td>null</td><td>0.685185</td><td>0.685516</td><td>&quot;0.9&quot;</td><td>&quot;0.875&quot;</td><td>&quot;9&quot;</td><td>&quot;8&quot;</td><td>&quot;36&quot;</td><td>&quot;0.8&quot;</td><td>&quot;0.666666666666…</td><td>&quot;1.0&quot;</td><td>&quot;6&quot;</td><td>&quot;4&quot;</td><td>&quot;19&quot;</td><td>&quot;0.444444444444…</td><td>&quot;0.555555555555…</td><td>&quot;0.571428571428…</td><td>&quot;5&quot;</td><td>&quot;7&quot;</td><td>&quot;19&quot;</td><td>&quot;0.777777777777…</td><td>&quot;0.8&quot;</td><td>&quot;0.666666666666…</td><td>&quot;8&quot;</td><td>&quot;6&quot;</td><td>&quot;25&quot;</td><td>&quot;0.6&quot;</td><td>&quot;0.3&quot;</td><td>&quot;0&quot;</td><td>&quot;3&quot;</td><td>&quot;0&quot;</td><td>&quot;32&quot;</td><td>&quot;0.0&quot;</td><td>&hellip;</td><td>null</td><td>null</td><td>null</td><td>null</td><td>null</td><td>null</td><td>null</td><td>null</td><td>null</td><td>null</td><td>&quot;cornell-mfd64&quot;</td><td>42</td><td>0.3</td><td>true</td><td>10</td><td>&quot;[&#x27;min_lot_size…</td><td>&quot;elasticsearch&quot;</td><td>&quot;map&quot;</td><td>6</td><td>&quot;302e323289b318…</td><td>&quot;e832d3471ef79f…</td><td>&quot;0013040cfeb0f4…</td><td>&quot;2311e7a6bb96f9…</td><td>&quot;897ea14dfed07e…</td><td>&quot;11062398489b76…</td><td>null</td><td>null</td><td>null</td><td>null</td><td>&quot;1a26f472c8a488…</td><td>&quot;cdd9b0b79ac4ed…</td><td>&quot;88e27afc9f9706…</td><td>&quot;98404ae0ff0f6d…</td><td>&quot;51f7f2eef57fa4…</td><td>&quot;45a291510a51b8…</td><td>&quot;cd3c4af8c8e19c…</td><td>&quot;4bc9fb2d649525…</td></tr><tr><td>&quot;nitty-owls&quot;</td><td>&quot;ca86ea6&quot;</td><td>&quot;branch_base&quot;</td><td>&quot;2023-08-21T19:…</td><td>null</td><td>0.685185</td><td>0.685516</td><td>&quot;0.9&quot;</td><td>&quot;0.875&quot;</td><td>&quot;9&quot;</td><td>&quot;8&quot;</td><td>&quot;36&quot;</td><td>&quot;0.8&quot;</td><td>&quot;0.666666666666…</td><td>&quot;1.0&quot;</td><td>&quot;6&quot;</td><td>&quot;4&quot;</td><td>&quot;19&quot;</td><td>&quot;0.444444444444…</td><td>&quot;0.555555555555…</td><td>&quot;0.571428571428…</td><td>&quot;5&quot;</td><td>&quot;7&quot;</td><td>&quot;19&quot;</td><td>&quot;0.777777777777…</td><td>&quot;0.8&quot;</td><td>&quot;0.666666666666…</td><td>&quot;8&quot;</td><td>&quot;6&quot;</td><td>&quot;25&quot;</td><td>&quot;0.6&quot;</td><td>&quot;0.3&quot;</td><td>&quot;0&quot;</td><td>&quot;3&quot;</td><td>&quot;0&quot;</td><td>&quot;32&quot;</td><td>&quot;0.0&quot;</td><td>&hellip;</td><td>null</td><td>null</td><td>null</td><td>null</td><td>null</td><td>null</td><td>null</td><td>null</td><td>null</td><td>null</td><td>&quot;cornell-mfd64&quot;</td><td>42</td><td>0.3</td><td>true</td><td>10</td><td>&quot;[&#x27;min_lot_size…</td><td>&quot;elasticsearch&quot;</td><td>&quot;map&quot;</td><td>6</td><td>&quot;302e323289b318…</td><td>&quot;e832d3471ef79f…</td><td>&quot;0013040cfeb0f4…</td><td>&quot;2311e7a6bb96f9…</td><td>&quot;897ea14dfed07e…</td><td>&quot;11062398489b76…</td><td>null</td><td>null</td><td>null</td><td>null</td><td>&quot;1a26f472c8a488…</td><td>&quot;cdd9b0b79ac4ed…</td><td>&quot;88e27afc9f9706…</td><td>&quot;98404ae0ff0f6d…</td><td>&quot;51f7f2eef57fa4…</td><td>&quot;45a291510a51b8…</td><td>&quot;cd3c4af8c8e19c…</td><td>&quot;4bc9fb2d649525…</td></tr><tr><td>null</td><td>&quot;f0134e1&quot;</td><td>&quot;baseline&quot;</td><td>&quot;2023-08-21T19:…</td><td>null</td><td>0.668056</td><td>0.8</td><td>&quot;0.875&quot;</td><td>&quot;1.0&quot;</td><td>&quot;7&quot;</td><td>&quot;7&quot;</td><td>&quot;11&quot;</td><td>&quot;0.875&quot;</td><td>&quot;0.5&quot;</td><td>&quot;1.0&quot;</td><td>&quot;4&quot;</td><td>&quot;4&quot;</td><td>&quot;10&quot;</td><td>&quot;0.5&quot;</td><td>&quot;0.666666666666…</td><td>&quot;0.8&quot;</td><td>&quot;4&quot;</td><td>&quot;5&quot;</td><td>&quot;6&quot;</td><td>&quot;0.833333333333…</td><td>&quot;0.666666666666…</td><td>&quot;1.0&quot;</td><td>&quot;4&quot;</td><td>&quot;4&quot;</td><td>&quot;6&quot;</td><td>&quot;0.666666666666…</td><td>&quot;0.5&quot;</td><td>&quot;0&quot;</td><td>&quot;2&quot;</td><td>&quot;0&quot;</td><td>&quot;5&quot;</td><td>&quot;0.0&quot;</td><td>&hellip;</td><td>null</td><td>null</td><td>null</td><td>null</td><td>null</td><td>null</td><td>null</td><td>null</td><td>null</td><td>null</td><td>&quot;cornell-mfd64&quot;</td><td>42</td><td>0.3</td><td>true</td><td>10</td><td>&quot;[&#x27;min_lot_size…</td><td>&quot;elasticsearch&quot;</td><td>&quot;tournament_red…</td><td>6</td><td>&quot;302e323289b318…</td><td>&quot;e832d3471ef79f…</td><td>&quot;0013040cfeb0f4…</td><td>&quot;2311e7a6bb96f9…</td><td>&quot;897ea14dfed07e…</td><td>&quot;11062398489b76…</td><td>null</td><td>null</td><td>null</td><td>null</td><td>&quot;1a26f472c8a488…</td><td>&quot;cdd9b0b79ac4ed…</td><td>&quot;88e27afc9f9706…</td><td>&quot;98404ae0ff0f6d…</td><td>&quot;51f7f2eef57fa4…</td><td>&quot;45a291510a51b8…</td><td>&quot;cd3c4af8c8e19c…</td><td>&quot;4bc9fb2d649525…</td></tr><tr><td>&quot;adust-shad&quot;</td><td>&quot;aece201&quot;</td><td>&quot;branch_base&quot;</td><td>&quot;2023-08-21T19:…</td><td>null</td><td>0.668056</td><td>0.8</td><td>&quot;0.875&quot;</td><td>&quot;1.0&quot;</td><td>&quot;7&quot;</td><td>&quot;7&quot;</td><td>&quot;11&quot;</td><td>&quot;0.875&quot;</td><td>&quot;0.5&quot;</td><td>&quot;1.0&quot;</td><td>&quot;4&quot;</td><td>&quot;4&quot;</td><td>&quot;10&quot;</td><td>&quot;0.5&quot;</td><td>&quot;0.666666666666…</td><td>&quot;0.8&quot;</td><td>&quot;4&quot;</td><td>&quot;5&quot;</td><td>&quot;6&quot;</td><td>&quot;0.833333333333…</td><td>&quot;0.666666666666…</td><td>&quot;1.0&quot;</td><td>&quot;4&quot;</td><td>&quot;4&quot;</td><td>&quot;6&quot;</td><td>&quot;0.666666666666…</td><td>&quot;0.5&quot;</td><td>&quot;0&quot;</td><td>&quot;2&quot;</td><td>&quot;0&quot;</td><td>&quot;5&quot;</td><td>&quot;0.0&quot;</td><td>&hellip;</td><td>null</td><td>null</td><td>null</td><td>null</td><td>null</td><td>null</td><td>null</td><td>null</td><td>null</td><td>null</td><td>&quot;cornell-mfd64&quot;</td><td>42</td><td>0.3</td><td>true</td><td>10</td><td>&quot;[&#x27;min_lot_size…</td><td>&quot;elasticsearch&quot;</td><td>&quot;tournament_red…</td><td>6</td><td>&quot;302e323289b318…</td><td>&quot;e832d3471ef79f…</td><td>&quot;0013040cfeb0f4…</td><td>&quot;2311e7a6bb96f9…</td><td>&quot;897ea14dfed07e…</td><td>&quot;11062398489b76…</td><td>null</td><td>null</td><td>null</td><td>null</td><td>&quot;1a26f472c8a488…</td><td>&quot;cdd9b0b79ac4ed…</td><td>&quot;88e27afc9f9706…</td><td>&quot;98404ae0ff0f6d…</td><td>&quot;51f7f2eef57fa4…</td><td>&quot;45a291510a51b8…</td><td>&quot;cd3c4af8c8e19c…</td><td>&quot;4bc9fb2d649525…</td></tr><tr><td>null</td><td>&quot;c8abaa3&quot;</td><td>&quot;baseline&quot;</td><td>&quot;2023-05-02T17:…</td><td>null</td><td>0.563291</td><td>0.630435</td><td>null</td><td>null</td><td>null</td><td>null</td><td>null</td><td>null</td><td>null</td><td>null</td><td>null</td><td>null</td><td>null</td><td>null</td><td>null</td><td>null</td><td>null</td><td>null</td><td>null</td><td>null</td><td>null</td><td>null</td><td>null</td><td>null</td><td>null</td><td>null</td><td>null</td><td>null</td><td>null</td><td>null</td><td>null</td><td>null</td><td>&hellip;</td><td>null</td><td>null</td><td>null</td><td>null</td><td>null</td><td>&quot;89.0&quot;</td><td>&quot;83.0&quot;</td><td>&quot;138.0&quot;</td><td>&quot;535&quot;</td><td>&quot;0.525316455696…</td><td>&quot;cornell-mfd64&quot;</td><td>42</td><td>0.3</td><td>true</td><td>null</td><td>null</td><td>null</td><td>null</td><td>null</td><td>&quot;302e323289b318…</td><td>&quot;e832d3471ef79f…</td><td>&quot;0013040cfeb0f4…</td><td>&quot;b208d6a5c83a0e…</td><td>&quot;897ea14dfed07e…</td><td>&quot;11062398489b76…</td><td>null</td><td>null</td><td>null</td><td>null</td><td>&quot;51cad22a5491c3…</td><td>&quot;cdd9b0b79ac4ed…</td><td>&quot;3c2b4a5fe88ae3…</td><td>&quot;98404ae0ff0f6d…</td><td>&quot;51f7f2eef57fa4…</td><td>&quot;45a291510a51b8…</td><td>&quot;cd3c4af8c8e19c…</td><td>&quot;4bc9fb2d649525…</td></tr><tr><td>null</td><td>&quot;workspace&quot;</td><td>&quot;baseline&quot;</td><td>null</td><td>null</td><td>0.561905</td><td>0.930556</td><td>&quot;0.8&quot;</td><td>&quot;1.0&quot;</td><td>&quot;8&quot;</td><td>&quot;8&quot;</td><td>&quot;13&quot;</td><td>&quot;0.8&quot;</td><td>&quot;0.428571428571…</td><td>&quot;1.0&quot;</td><td>&quot;3&quot;</td><td>&quot;3&quot;</td><td>&quot;12&quot;</td><td>&quot;0.428571428571…</td><td>&quot;0.625&quot;</td><td>&quot;0.833333333333…</td><td>&quot;5&quot;</td><td>&quot;6&quot;</td><td>&quot;8&quot;</td><td>&quot;0.75&quot;</td><td>&quot;0.428571428571…</td><td>&quot;0.75&quot;</td><td>&quot;3&quot;</td><td>&quot;4&quot;</td><td>&quot;10&quot;</td><td>&quot;0.571428571428…</td><td>&quot;0.714285714285…</td><td>&quot;1.0&quot;</td><td>&quot;5&quot;</td><td>&quot;3&quot;</td><td>&quot;8&quot;</td><td>&quot;0.428571428571…</td><td>&hellip;</td><td>null</td><td>null</td><td>null</td><td>null</td><td>null</td><td>null</td><td>null</td><td>null</td><td>null</td><td>null</td><td>&quot;cornell-mfd64&quot;</td><td>42</td><td>0.3</td><td>true</td><td>10</td><td>&quot;[&#x27;min_lot_size…</td><td>&quot;embeddings_knn…</td><td>&quot;tournament_red…</td><td>16</td><td>&quot;302e323289b318…</td><td>&quot;e832d3471ef79f…</td><td>&quot;0013040cfeb0f4…</td><td>&quot;2311e7a6bb96f9…</td><td>&quot;897ea14dfed07e…</td><td>&quot;11062398489b76…</td><td>null</td><td>null</td><td>null</td><td>null</td><td>&quot;1a26f472c8a488…</td><td>&quot;cdd9b0b79ac4ed…</td><td>&quot;ed75967007eee2…</td><td>&quot;98404ae0ff0f6d…</td><td>&quot;51f7f2eef57fa4…</td><td>&quot;45a291510a51b8…</td><td>&quot;cd3c4af8c8e19c…</td><td>&quot;4bc9fb2d649525…</td></tr><tr><td>null</td><td>&quot;master&quot;</td><td>&quot;baseline&quot;</td><td>&quot;2023-08-21T21:…</td><td>null</td><td>0.561905</td><td>0.972222</td><td>&quot;0.8&quot;</td><td>&quot;1.0&quot;</td><td>&quot;8&quot;</td><td>&quot;8&quot;</td><td>&quot;13&quot;</td><td>&quot;0.8&quot;</td><td>&quot;0.428571428571…</td><td>&quot;1.0&quot;</td><td>&quot;3&quot;</td><td>&quot;3&quot;</td><td>&quot;12&quot;</td><td>&quot;0.428571428571…</td><td>&quot;0.625&quot;</td><td>&quot;0.833333333333…</td><td>&quot;5&quot;</td><td>&quot;6&quot;</td><td>&quot;8&quot;</td><td>&quot;0.75&quot;</td><td>&quot;0.428571428571…</td><td>&quot;1.0&quot;</td><td>&quot;3&quot;</td><td>&quot;3&quot;</td><td>&quot;7&quot;</td><td>&quot;0.428571428571…</td><td>&quot;0.714285714285…</td><td>&quot;1.0&quot;</td><td>&quot;5&quot;</td><td>&quot;3&quot;</td><td>&quot;8&quot;</td><td>&quot;0.428571428571…</td><td>&hellip;</td><td>null</td><td>null</td><td>null</td><td>null</td><td>null</td><td>null</td><td>null</td><td>null</td><td>null</td><td>null</td><td>&quot;cornell-mfd64&quot;</td><td>42</td><td>0.3</td><td>true</td><td>10</td><td>&quot;[&#x27;min_lot_size…</td><td>&quot;embeddings_knn…</td><td>&quot;tournament_red…</td><td>16</td><td>&quot;302e323289b318…</td><td>&quot;e832d3471ef79f…</td><td>&quot;0013040cfeb0f4…</td><td>&quot;2311e7a6bb96f9…</td><td>&quot;897ea14dfed07e…</td><td>&quot;11062398489b76…</td><td>null</td><td>null</td><td>null</td><td>null</td><td>&quot;1a26f472c8a488…</td><td>&quot;cdd9b0b79ac4ed…</td><td>&quot;ed75967007eee2…</td><td>&quot;98404ae0ff0f6d…</td><td>&quot;51f7f2eef57fa4…</td><td>&quot;45a291510a51b8…</td><td>&quot;cd3c4af8c8e19c…</td><td>&quot;4bc9fb2d649525…</td></tr><tr><td>&quot;crack-user&quot;</td><td>&quot;35eb68a&quot;</td><td>&quot;branch_commit&quot;</td><td>&quot;2023-08-21T22:…</td><td>null</td><td>0.561905</td><td>0.930556</td><td>&quot;0.8&quot;</td><td>&quot;1.0&quot;</td><td>&quot;8&quot;</td><td>&quot;8&quot;</td><td>&quot;13&quot;</td><td>&quot;0.8&quot;</td><td>&quot;0.428571428571…</td><td>&quot;1.0&quot;</td><td>&quot;3&quot;</td><td>&quot;3&quot;</td><td>&quot;12&quot;</td><td>&quot;0.428571428571…</td><td>&quot;0.625&quot;</td><td>&quot;0.833333333333…</td><td>&quot;5&quot;</td><td>&quot;6&quot;</td><td>&quot;8&quot;</td><td>&quot;0.75&quot;</td><td>&quot;0.428571428571…</td><td>&quot;0.75&quot;</td><td>&quot;3&quot;</td><td>&quot;4&quot;</td><td>&quot;10&quot;</td><td>&quot;0.571428571428…</td><td>&quot;0.714285714285…</td><td>&quot;1.0&quot;</td><td>&quot;5&quot;</td><td>&quot;3&quot;</td><td>&quot;8&quot;</td><td>&quot;0.428571428571…</td><td>&hellip;</td><td>null</td><td>null</td><td>null</td><td>null</td><td>null</td><td>null</td><td>null</td><td>null</td><td>null</td><td>null</td><td>&quot;cornell-mfd64&quot;</td><td>42</td><td>0.3</td><td>true</td><td>10</td><td>&quot;[&#x27;min_lot_size…</td><td>&quot;embeddings_knn…</td><td>&quot;tournament_red…</td><td>16</td><td>&quot;302e323289b318…</td><td>&quot;e832d3471ef79f…</td><td>&quot;0013040cfeb0f4…</td><td>&quot;2311e7a6bb96f9…</td><td>&quot;897ea14dfed07e…</td><td>&quot;11062398489b76…</td><td>null</td><td>null</td><td>null</td><td>null</td><td>&quot;1a26f472c8a488…</td><td>&quot;cdd9b0b79ac4ed…</td><td>&quot;ed75967007eee2…</td><td>&quot;98404ae0ff0f6d…</td><td>&quot;51f7f2eef57fa4…</td><td>&quot;45a291510a51b8…</td><td>&quot;cd3c4af8c8e19c…</td><td>&quot;4bc9fb2d649525…</td></tr><tr><td>&hellip;</td><td>&hellip;</td><td>&hellip;</td><td>&hellip;</td><td>&hellip;</td><td>&hellip;</td><td>&hellip;</td><td>&hellip;</td><td>&hellip;</td><td>&hellip;</td><td>&hellip;</td><td>&hellip;</td><td>&hellip;</td><td>&hellip;</td><td>&hellip;</td><td>&hellip;</td><td>&hellip;</td><td>&hellip;</td><td>&hellip;</td><td>&hellip;</td><td>&hellip;</td><td>&hellip;</td><td>&hellip;</td><td>&hellip;</td><td>&hellip;</td><td>&hellip;</td><td>&hellip;</td><td>&hellip;</td><td>&hellip;</td><td>&hellip;</td><td>&hellip;</td><td>&hellip;</td><td>&hellip;</td><td>&hellip;</td><td>&hellip;</td><td>&hellip;</td><td>&hellip;</td><td>&hellip;</td><td>&hellip;</td><td>&hellip;</td><td>&hellip;</td><td>&hellip;</td><td>&hellip;</td><td>&hellip;</td><td>&hellip;</td><td>&hellip;</td><td>&hellip;</td><td>&hellip;</td><td>&hellip;</td><td>&hellip;</td><td>&hellip;</td><td>&hellip;</td><td>&hellip;</td><td>&hellip;</td><td>&hellip;</td><td>&hellip;</td><td>&hellip;</td><td>&hellip;</td><td>&hellip;</td><td>&hellip;</td><td>&hellip;</td><td>&hellip;</td><td>&hellip;</td><td>&hellip;</td><td>&hellip;</td><td>&hellip;</td><td>&hellip;</td><td>&hellip;</td><td>&hellip;</td><td>&hellip;</td><td>&hellip;</td><td>&hellip;</td><td>&hellip;</td><td>&hellip;</td><td>&hellip;</td></tr><tr><td>null</td><td>&quot;6577d57&quot;</td><td>&quot;baseline&quot;</td><td>&quot;2023-05-02T12:…</td><td>null</td><td>0.230241</td><td>0.459184</td><td>null</td><td>null</td><td>null</td><td>null</td><td>null</td><td>null</td><td>null</td><td>null</td><td>null</td><td>null</td><td>null</td><td>null</td><td>null</td><td>null</td><td>null</td><td>null</td><td>null</td><td>null</td><td>null</td><td>null</td><td>null</td><td>null</td><td>null</td><td>null</td><td>null</td><td>null</td><td>null</td><td>null</td><td>null</td><td>null</td><td>&hellip;</td><td>null</td><td>null</td><td>null</td><td>null</td><td>null</td><td>&quot;67&quot;</td><td>&quot;90&quot;</td><td>&quot;98.0&quot;</td><td>&quot;291&quot;</td><td>&quot;0.309278350515…</td><td>&quot;cornell-mfd64&quot;</td><td>42</td><td>0.3</td><td>true</td><td>null</td><td>null</td><td>null</td><td>null</td><td>null</td><td>&quot;302e323289b318…</td><td>&quot;e832d3471ef79f…</td><td>&quot;0013040cfeb0f4…</td><td>&quot;b208d6a5c83a0e…</td><td>&quot;897ea14dfed07e…</td><td>&quot;11062398489b76…</td><td>null</td><td>null</td><td>null</td><td>&quot;e8e4387015c8ae…</td><td>null</td><td>null</td><td>&quot;0d5a9d6db679d7…</td><td>&quot;98404ae0ff0f6d…</td><td>&quot;51f7f2eef57fa4…</td><td>&quot;45a291510a51b8…</td><td>&quot;cd3c4af8c8e19c…</td><td>&quot;4bc9fb2d649525…</td></tr><tr><td>null</td><td>&quot;a965b0b&quot;</td><td>&quot;baseline&quot;</td><td>&quot;2023-05-01T10:…</td><td>null</td><td>0.230241</td><td>0.459184</td><td>null</td><td>null</td><td>null</td><td>null</td><td>null</td><td>null</td><td>null</td><td>null</td><td>null</td><td>null</td><td>null</td><td>null</td><td>null</td><td>null</td><td>null</td><td>null</td><td>null</td><td>null</td><td>null</td><td>null</td><td>null</td><td>null</td><td>null</td><td>null</td><td>null</td><td>null</td><td>null</td><td>null</td><td>null</td><td>null</td><td>&hellip;</td><td>null</td><td>null</td><td>null</td><td>null</td><td>null</td><td>&quot;67&quot;</td><td>&quot;90&quot;</td><td>&quot;98.0&quot;</td><td>&quot;291&quot;</td><td>&quot;0.309278350515…</td><td>&quot;cornell-mfd64&quot;</td><td>42</td><td>0.3</td><td>true</td><td>null</td><td>null</td><td>null</td><td>null</td><td>null</td><td>&quot;302e323289b318…</td><td>&quot;e832d3471ef79f…</td><td>&quot;0013040cfeb0f4…</td><td>&quot;b208d6a5c83a0e…</td><td>&quot;897ea14dfed07e…</td><td>&quot;11062398489b76…</td><td>null</td><td>null</td><td>null</td><td>&quot;e8e4387015c8ae…</td><td>null</td><td>null</td><td>&quot;0d5a9d6db679d7…</td><td>&quot;98404ae0ff0f6d…</td><td>&quot;51f7f2eef57fa4…</td><td>&quot;45a291510a51b8…</td><td>&quot;cd3c4af8c8e19c…</td><td>&quot;4bc9fb2d649525…</td></tr><tr><td>null</td><td>&quot;fd3a1d6&quot;</td><td>&quot;baseline&quot;</td><td>&quot;2023-05-02T12:…</td><td>null</td><td>0.181644</td><td>0.511111</td><td>null</td><td>null</td><td>null</td><td>null</td><td>null</td><td>null</td><td>null</td><td>null</td><td>null</td><td>null</td><td>null</td><td>null</td><td>null</td><td>null</td><td>null</td><td>null</td><td>null</td><td>null</td><td>null</td><td>null</td><td>null</td><td>null</td><td>null</td><td>null</td><td>null</td><td>null</td><td>null</td><td>null</td><td>null</td><td>null</td><td>&hellip;</td><td>null</td><td>null</td><td>null</td><td>null</td><td>null</td><td>&quot;95&quot;</td><td>&quot;92&quot;</td><td>&quot;135.0&quot;</td><td>&quot;523&quot;</td><td>&quot;0.175908221797…</td><td>&quot;cornell-mfd64&quot;</td><td>42</td><td>0.3</td><td>true</td><td>null</td><td>null</td><td>null</td><td>null</td><td>null</td><td>&quot;302e323289b318…</td><td>&quot;e832d3471ef79f…</td><td>&quot;0013040cfeb0f4…</td><td>&quot;b208d6a5c83a0e…</td><td>&quot;897ea14dfed07e…</td><td>&quot;11062398489b76…</td><td>null</td><td>null</td><td>null</td><td>null</td><td>&quot;e8e4387015c8ae…</td><td>&quot;b72763886abe42…</td><td>&quot;d53cd6454cb28e…</td><td>&quot;98404ae0ff0f6d…</td><td>&quot;51f7f2eef57fa4…</td><td>&quot;45a291510a51b8…</td><td>&quot;cd3c4af8c8e19c…</td><td>&quot;4bc9fb2d649525…</td></tr><tr><td>null</td><td>&quot;bf11686&quot;</td><td>&quot;baseline&quot;</td><td>&quot;2023-05-02T12:…</td><td>null</td><td>0.181644</td><td>0.511111</td><td>null</td><td>null</td><td>null</td><td>null</td><td>null</td><td>null</td><td>null</td><td>null</td><td>null</td><td>null</td><td>null</td><td>null</td><td>null</td><td>null</td><td>null</td><td>null</td><td>null</td><td>null</td><td>null</td><td>null</td><td>null</td><td>null</td><td>null</td><td>null</td><td>null</td><td>null</td><td>null</td><td>null</td><td>null</td><td>null</td><td>&hellip;</td><td>null</td><td>null</td><td>null</td><td>null</td><td>null</td><td>&quot;95&quot;</td><td>&quot;92&quot;</td><td>&quot;135.0&quot;</td><td>&quot;523&quot;</td><td>&quot;0.175908221797…</td><td>&quot;cornell-mfd64&quot;</td><td>42</td><td>0.3</td><td>true</td><td>null</td><td>null</td><td>null</td><td>null</td><td>null</td><td>&quot;302e323289b318…</td><td>&quot;e832d3471ef79f…</td><td>&quot;0013040cfeb0f4…</td><td>&quot;b208d6a5c83a0e…</td><td>&quot;897ea14dfed07e…</td><td>&quot;11062398489b76…</td><td>null</td><td>null</td><td>null</td><td>null</td><td>&quot;e8e4387015c8ae…</td><td>&quot;b72763886abe42…</td><td>&quot;d53cd6454cb28e…</td><td>&quot;98404ae0ff0f6d…</td><td>&quot;51f7f2eef57fa4…</td><td>&quot;45a291510a51b8…</td><td>&quot;cd3c4af8c8e19c…</td><td>&quot;4bc9fb2d649525…</td></tr><tr><td>null</td><td>&quot;93df421&quot;</td><td>&quot;baseline&quot;</td><td>&quot;2023-05-02T12:…</td><td>null</td><td>0.0</td><td>null</td><td>null</td><td>null</td><td>null</td><td>null</td><td>null</td><td>null</td><td>null</td><td>null</td><td>null</td><td>null</td><td>null</td><td>null</td><td>null</td><td>null</td><td>null</td><td>null</td><td>null</td><td>null</td><td>null</td><td>null</td><td>null</td><td>null</td><td>null</td><td>null</td><td>null</td><td>null</td><td>null</td><td>null</td><td>null</td><td>null</td><td>&hellip;</td><td>null</td><td>null</td><td>null</td><td>null</td><td>null</td><td>&quot;0&quot;</td><td>&quot;0&quot;</td><td>&quot;135.0&quot;</td><td>&quot;482&quot;</td><td>&quot;0.0&quot;</td><td>&quot;cornell-mfd64&quot;</td><td>42</td><td>0.3</td><td>true</td><td>null</td><td>null</td><td>null</td><td>null</td><td>null</td><td>&quot;302e323289b318…</td><td>&quot;e832d3471ef79f…</td><td>&quot;0013040cfeb0f4…</td><td>&quot;b208d6a5c83a0e…</td><td>&quot;897ea14dfed07e…</td><td>&quot;11062398489b76…</td><td>null</td><td>null</td><td>null</td><td>&quot;b72763886abe42…</td><td>null</td><td>null</td><td>&quot;09fc5f04724b48…</td><td>&quot;98404ae0ff0f6d…</td><td>&quot;51f7f2eef57fa4…</td><td>&quot;45a291510a51b8…</td><td>&quot;cd3c4af8c8e19c…</td><td>&quot;4bc9fb2d649525…</td></tr><tr><td>null</td><td>&quot;761ce89&quot;</td><td>&quot;baseline&quot;</td><td>&quot;2023-04-29T17:…</td><td>null</td><td>0.0</td><td>null</td><td>null</td><td>null</td><td>null</td><td>null</td><td>null</td><td>null</td><td>null</td><td>null</td><td>null</td><td>null</td><td>null</td><td>null</td><td>null</td><td>null</td><td>null</td><td>null</td><td>null</td><td>null</td><td>null</td><td>null</td><td>null</td><td>null</td><td>null</td><td>null</td><td>null</td><td>null</td><td>null</td><td>null</td><td>null</td><td>null</td><td>&hellip;</td><td>null</td><td>null</td><td>null</td><td>null</td><td>null</td><td>&quot;0&quot;</td><td>&quot;0&quot;</td><td>&quot;135.0&quot;</td><td>&quot;482&quot;</td><td>&quot;0.0&quot;</td><td>&quot;cornell-mfd64&quot;</td><td>42</td><td>0.3</td><td>true</td><td>null</td><td>null</td><td>null</td><td>null</td><td>null</td><td>&quot;302e323289b318…</td><td>&quot;e832d3471ef79f…</td><td>&quot;0013040cfeb0f4…</td><td>&quot;b208d6a5c83a0e…</td><td>&quot;897ea14dfed07e…</td><td>&quot;11062398489b76…</td><td>null</td><td>null</td><td>null</td><td>&quot;b72763886abe42…</td><td>null</td><td>null</td><td>&quot;09fc5f04724b48…</td><td>&quot;98404ae0ff0f6d…</td><td>&quot;51f7f2eef57fa4…</td><td>&quot;45a291510a51b8…</td><td>&quot;cd3c4af8c8e19c…</td><td>&quot;4bc9fb2d649525…</td></tr><tr><td>null</td><td>&quot;f68c86b&quot;</td><td>&quot;baseline&quot;</td><td>&quot;2023-05-02T18:…</td><td>null</td><td>null</td><td>null</td><td>&quot;!&quot;</td><td>&quot;!&quot;</td><td>&quot;!&quot;</td><td>&quot;!&quot;</td><td>&quot;!&quot;</td><td>&quot;!&quot;</td><td>&quot;!&quot;</td><td>&quot;!&quot;</td><td>&quot;!&quot;</td><td>&quot;!&quot;</td><td>&quot;!&quot;</td><td>&quot;!&quot;</td><td>&quot;!&quot;</td><td>&quot;!&quot;</td><td>&quot;!&quot;</td><td>&quot;!&quot;</td><td>&quot;!&quot;</td><td>&quot;!&quot;</td><td>&quot;!&quot;</td><td>&quot;!&quot;</td><td>&quot;!&quot;</td><td>&quot;!&quot;</td><td>&quot;!&quot;</td><td>&quot;!&quot;</td><td>&quot;!&quot;</td><td>&quot;!&quot;</td><td>&quot;!&quot;</td><td>&quot;!&quot;</td><td>&quot;!&quot;</td><td>&quot;!&quot;</td><td>&hellip;</td><td>&quot;!&quot;</td><td>&quot;!&quot;</td><td>&quot;!&quot;</td><td>&quot;!&quot;</td><td>&quot;!&quot;</td><td>&quot;!&quot;</td><td>&quot;!&quot;</td><td>&quot;!&quot;</td><td>&quot;!&quot;</td><td>&quot;!&quot;</td><td>&quot;cornell-mfd64&quot;</td><td>42</td><td>0.3</td><td>true</td><td>null</td><td>null</td><td>null</td><td>null</td><td>null</td><td>&quot;302e323289b318…</td><td>&quot;e832d3471ef79f…</td><td>&quot;0013040cfeb0f4…</td><td>&quot;b208d6a5c83a0e…</td><td>&quot;897ea14dfed07e…</td><td>&quot;11062398489b76…</td><td>null</td><td>null</td><td>null</td><td>null</td><td>&quot;51cad22a5491c3…</td><td>&quot;cdd9b0b79ac4ed…</td><td>&quot;217a7e39652673…</td><td>&quot;98404ae0ff0f6d…</td><td>&quot;51f7f2eef57fa4…</td><td>&quot;45a291510a51b8…</td><td>&quot;cd3c4af8c8e19c…</td><td>&quot;4bc9fb2d649525…</td></tr><tr><td>null</td><td>&quot;2f47a6e&quot;</td><td>&quot;baseline&quot;</td><td>&quot;2023-05-02T18:…</td><td>null</td><td>null</td><td>null</td><td>&quot;!&quot;</td><td>&quot;!&quot;</td><td>&quot;!&quot;</td><td>&quot;!&quot;</td><td>&quot;!&quot;</td><td>&quot;!&quot;</td><td>&quot;!&quot;</td><td>&quot;!&quot;</td><td>&quot;!&quot;</td><td>&quot;!&quot;</td><td>&quot;!&quot;</td><td>&quot;!&quot;</td><td>&quot;!&quot;</td><td>&quot;!&quot;</td><td>&quot;!&quot;</td><td>&quot;!&quot;</td><td>&quot;!&quot;</td><td>&quot;!&quot;</td><td>&quot;!&quot;</td><td>&quot;!&quot;</td><td>&quot;!&quot;</td><td>&quot;!&quot;</td><td>&quot;!&quot;</td><td>&quot;!&quot;</td><td>&quot;!&quot;</td><td>&quot;!&quot;</td><td>&quot;!&quot;</td><td>&quot;!&quot;</td><td>&quot;!&quot;</td><td>&quot;!&quot;</td><td>&hellip;</td><td>&quot;!&quot;</td><td>&quot;!&quot;</td><td>&quot;!&quot;</td><td>&quot;!&quot;</td><td>&quot;!&quot;</td><td>&quot;!&quot;</td><td>&quot;!&quot;</td><td>&quot;!&quot;</td><td>&quot;!&quot;</td><td>&quot;!&quot;</td><td>&quot;cornell-mfd64&quot;</td><td>42</td><td>0.3</td><td>true</td><td>null</td><td>null</td><td>null</td><td>null</td><td>null</td><td>&quot;302e323289b318…</td><td>&quot;e832d3471ef79f…</td><td>&quot;0013040cfeb0f4…</td><td>&quot;b208d6a5c83a0e…</td><td>&quot;897ea14dfed07e…</td><td>&quot;11062398489b76…</td><td>null</td><td>null</td><td>null</td><td>null</td><td>&quot;51cad22a5491c3…</td><td>&quot;cdd9b0b79ac4ed…</td><td>&quot;4e144ef6c87e4f…</td><td>&quot;98404ae0ff0f6d…</td><td>&quot;51f7f2eef57fa4…</td><td>&quot;45a291510a51b8…</td><td>&quot;cd3c4af8c8e19c…</td><td>&quot;4bc9fb2d649525…</td></tr><tr><td>null</td><td>&quot;e1e659f&quot;</td><td>&quot;baseline&quot;</td><td>&quot;2023-05-02T20:…</td><td>null</td><td>null</td><td>null</td><td>&quot;!&quot;</td><td>&quot;!&quot;</td><td>&quot;!&quot;</td><td>&quot;!&quot;</td><td>&quot;!&quot;</td><td>&quot;!&quot;</td><td>&quot;!&quot;</td><td>&quot;!&quot;</td><td>&quot;!&quot;</td><td>&quot;!&quot;</td><td>&quot;!&quot;</td><td>&quot;!&quot;</td><td>&quot;!&quot;</td><td>&quot;!&quot;</td><td>&quot;!&quot;</td><td>&quot;!&quot;</td><td>&quot;!&quot;</td><td>&quot;!&quot;</td><td>&quot;!&quot;</td><td>&quot;!&quot;</td><td>&quot;!&quot;</td><td>&quot;!&quot;</td><td>&quot;!&quot;</td><td>&quot;!&quot;</td><td>&quot;!&quot;</td><td>&quot;!&quot;</td><td>&quot;!&quot;</td><td>&quot;!&quot;</td><td>&quot;!&quot;</td><td>&quot;!&quot;</td><td>&hellip;</td><td>&quot;!&quot;</td><td>&quot;!&quot;</td><td>&quot;!&quot;</td><td>&quot;!&quot;</td><td>&quot;!&quot;</td><td>&quot;!&quot;</td><td>&quot;!&quot;</td><td>&quot;!&quot;</td><td>&quot;!&quot;</td><td>&quot;!&quot;</td><td>&quot;cornell-mfd64&quot;</td><td>42</td><td>0.3</td><td>true</td><td>null</td><td>null</td><td>null</td><td>null</td><td>null</td><td>&quot;302e323289b318…</td><td>&quot;e832d3471ef79f…</td><td>&quot;0013040cfeb0f4…</td><td>&quot;b208d6a5c83a0e…</td><td>&quot;897ea14dfed07e…</td><td>&quot;11062398489b76…</td><td>null</td><td>null</td><td>null</td><td>null</td><td>&quot;51cad22a5491c3…</td><td>&quot;cdd9b0b79ac4ed…</td><td>&quot;f33cc68195f0ef…</td><td>&quot;98404ae0ff0f6d…</td><td>&quot;51f7f2eef57fa4…</td><td>&quot;45a291510a51b8…</td><td>&quot;cd3c4af8c8e19c…</td><td>&quot;4bc9fb2d649525…</td></tr><tr><td>null</td><td>&quot;f044d62&quot;</td><td>&quot;baseline&quot;</td><td>&quot;2023-05-03T00:…</td><td>null</td><td>null</td><td>null</td><td>&quot;!&quot;</td><td>&quot;!&quot;</td><td>&quot;!&quot;</td><td>&quot;!&quot;</td><td>&quot;!&quot;</td><td>&quot;!&quot;</td><td>&quot;!&quot;</td><td>&quot;!&quot;</td><td>&quot;!&quot;</td><td>&quot;!&quot;</td><td>&quot;!&quot;</td><td>&quot;!&quot;</td><td>&quot;!&quot;</td><td>&quot;!&quot;</td><td>&quot;!&quot;</td><td>&quot;!&quot;</td><td>&quot;!&quot;</td><td>&quot;!&quot;</td><td>&quot;!&quot;</td><td>&quot;!&quot;</td><td>&quot;!&quot;</td><td>&quot;!&quot;</td><td>&quot;!&quot;</td><td>&quot;!&quot;</td><td>&quot;!&quot;</td><td>&quot;!&quot;</td><td>&quot;!&quot;</td><td>&quot;!&quot;</td><td>&quot;!&quot;</td><td>&quot;!&quot;</td><td>&hellip;</td><td>&quot;!&quot;</td><td>&quot;!&quot;</td><td>&quot;!&quot;</td><td>&quot;!&quot;</td><td>&quot;!&quot;</td><td>&quot;!&quot;</td><td>&quot;!&quot;</td><td>&quot;!&quot;</td><td>&quot;!&quot;</td><td>&quot;!&quot;</td><td>&quot;cornell-mfd64&quot;</td><td>42</td><td>0.3</td><td>true</td><td>null</td><td>null</td><td>null</td><td>null</td><td>null</td><td>&quot;302e323289b318…</td><td>&quot;e832d3471ef79f…</td><td>&quot;0013040cfeb0f4…</td><td>&quot;b208d6a5c83a0e…</td><td>&quot;897ea14dfed07e…</td><td>&quot;11062398489b76…</td><td>null</td><td>null</td><td>null</td><td>null</td><td>&quot;51cad22a5491c3…</td><td>&quot;cdd9b0b79ac4ed…</td><td>&quot;567f2189efca3a…</td><td>&quot;98404ae0ff0f6d…</td><td>&quot;51f7f2eef57fa4…</td><td>&quot;45a291510a51b8…</td><td>&quot;cd3c4af8c8e19c…</td><td>&quot;4bc9fb2d649525…</td></tr><tr><td>null</td><td>&quot;946fe3d&quot;</td><td>&quot;baseline&quot;</td><td>&quot;2023-05-03T11:…</td><td>null</td><td>null</td><td>null</td><td>&quot;!&quot;</td><td>&quot;!&quot;</td><td>&quot;!&quot;</td><td>&quot;!&quot;</td><td>&quot;!&quot;</td><td>&quot;!&quot;</td><td>&quot;!&quot;</td><td>&quot;!&quot;</td><td>&quot;!&quot;</td><td>&quot;!&quot;</td><td>&quot;!&quot;</td><td>&quot;!&quot;</td><td>&quot;!&quot;</td><td>&quot;!&quot;</td><td>&quot;!&quot;</td><td>&quot;!&quot;</td><td>&quot;!&quot;</td><td>&quot;!&quot;</td><td>&quot;!&quot;</td><td>&quot;!&quot;</td><td>&quot;!&quot;</td><td>&quot;!&quot;</td><td>&quot;!&quot;</td><td>&quot;!&quot;</td><td>&quot;!&quot;</td><td>&quot;!&quot;</td><td>&quot;!&quot;</td><td>&quot;!&quot;</td><td>&quot;!&quot;</td><td>&quot;!&quot;</td><td>&hellip;</td><td>&quot;!&quot;</td><td>&quot;!&quot;</td><td>&quot;!&quot;</td><td>&quot;!&quot;</td><td>&quot;!&quot;</td><td>&quot;!&quot;</td><td>&quot;!&quot;</td><td>&quot;!&quot;</td><td>&quot;!&quot;</td><td>&quot;!&quot;</td><td>&quot;cornell-mfd64&quot;</td><td>42</td><td>0.3</td><td>true</td><td>null</td><td>null</td><td>null</td><td>null</td><td>null</td><td>&quot;302e323289b318…</td><td>&quot;e832d3471ef79f…</td><td>&quot;0013040cfeb0f4…</td><td>&quot;b208d6a5c83a0e…</td><td>&quot;897ea14dfed07e…</td><td>&quot;11062398489b76…</td><td>null</td><td>null</td><td>null</td><td>null</td><td>&quot;51cad22a5491c3…</td><td>&quot;cdd9b0b79ac4ed…</td><td>&quot;a2c9dd83648f26…</td><td>&quot;98404ae0ff0f6d…</td><td>&quot;51f7f2eef57fa4…</td><td>&quot;45a291510a51b8…</td><td>&quot;cd3c4af8c8e19c…</td><td>&quot;4bc9fb2d649525…</td></tr><tr><td>null</td><td>&quot;d1adcd4&quot;</td><td>&quot;baseline&quot;</td><td>&quot;2023-05-03T11:…</td><td>null</td><td>null</td><td>null</td><td>&quot;!&quot;</td><td>&quot;!&quot;</td><td>&quot;!&quot;</td><td>&quot;!&quot;</td><td>&quot;!&quot;</td><td>&quot;!&quot;</td><td>&quot;!&quot;</td><td>&quot;!&quot;</td><td>&quot;!&quot;</td><td>&quot;!&quot;</td><td>&quot;!&quot;</td><td>&quot;!&quot;</td><td>&quot;!&quot;</td><td>&quot;!&quot;</td><td>&quot;!&quot;</td><td>&quot;!&quot;</td><td>&quot;!&quot;</td><td>&quot;!&quot;</td><td>&quot;!&quot;</td><td>&quot;!&quot;</td><td>&quot;!&quot;</td><td>&quot;!&quot;</td><td>&quot;!&quot;</td><td>&quot;!&quot;</td><td>&quot;!&quot;</td><td>&quot;!&quot;</td><td>&quot;!&quot;</td><td>&quot;!&quot;</td><td>&quot;!&quot;</td><td>&quot;!&quot;</td><td>&hellip;</td><td>&quot;!&quot;</td><td>&quot;!&quot;</td><td>&quot;!&quot;</td><td>&quot;!&quot;</td><td>&quot;!&quot;</td><td>&quot;!&quot;</td><td>&quot;!&quot;</td><td>&quot;!&quot;</td><td>&quot;!&quot;</td><td>&quot;!&quot;</td><td>&quot;cornell-mfd64&quot;</td><td>42</td><td>0.3</td><td>true</td><td>null</td><td>null</td><td>null</td><td>null</td><td>null</td><td>&quot;302e323289b318…</td><td>&quot;e832d3471ef79f…</td><td>&quot;0013040cfeb0f4…</td><td>&quot;b208d6a5c83a0e…</td><td>&quot;897ea14dfed07e…</td><td>&quot;11062398489b76…</td><td>null</td><td>null</td><td>null</td><td>null</td><td>&quot;51cad22a5491c3…</td><td>&quot;cdd9b0b79ac4ed…</td><td>&quot;a2c9dd83648f26…</td><td>&quot;98404ae0ff0f6d…</td><td>&quot;51f7f2eef57fa4…</td><td>&quot;45a291510a51b8…</td><td>&quot;cd3c4af8c8e19c…</td><td>&quot;4bc9fb2d649525…</td></tr></tbody></table></div>"
      ],
      "text/plain": [
       "shape: (54, 104)\n",
       "┌────────────┬─────────┬───────────┬───────────┬───┬───────────┬───────────┬───────────┬───────────┐\n",
       "│ Experiment ┆ rev     ┆ typ       ┆ Created   ┆ … ┆ zoning/da ┆ zoning/da ┆ zoning/da ┆ zoning/da │\n",
       "│ ---        ┆ ---     ┆ ---       ┆ ---       ┆   ┆ ta_proces ┆ ta_proces ┆ ta_proces ┆ ta_proces │\n",
       "│ str        ┆ str     ┆ str       ┆ str       ┆   ┆ sing/gene ┆ sing/gene ┆ sing/inde ┆ sing/uplo │\n",
       "│            ┆         ┆           ┆           ┆   ┆ rate_…    ┆ rate_…    ┆ x_tow…    ┆ ad_zo…    │\n",
       "│            ┆         ┆           ┆           ┆   ┆ ---       ┆ ---       ┆ ---       ┆ ---       │\n",
       "│            ┆         ┆           ┆           ┆   ┆ str       ┆ str       ┆ str       ┆ str       │\n",
       "╞════════════╪═════════╪═══════════╪═══════════╪═══╪═══════════╪═══════════╪═══════════╪═══════════╡\n",
       "│ null       ┆ adaa401 ┆ baseline  ┆ 2023-08-2 ┆ … ┆ 51f7f2eef ┆ 45a291510 ┆ cd3c4af8c ┆ 4bc9fb2d6 │\n",
       "│            ┆         ┆           ┆ 1T20:13:4 ┆   ┆ 57fa468b3 ┆ a51b88863 ┆ 8e19c9927 ┆ 49525a0c3 │\n",
       "│            ┆         ┆           ┆ 1         ┆   ┆ d03fd2d8f ┆ 978680521 ┆ e28912aaf ┆ 928fe4f7b │\n",
       "│            ┆         ┆           ┆           ┆   ┆ aa385     ┆ 38501     ┆ 7ced5     ┆ c2307     │\n",
       "│ bawdy-kill ┆ d5cf8cc ┆ branch_ba ┆ 2023-08-2 ┆ … ┆ 51f7f2eef ┆ 45a291510 ┆ cd3c4af8c ┆ 4bc9fb2d6 │\n",
       "│            ┆         ┆ se        ┆ 1T20:00:3 ┆   ┆ 57fa468b3 ┆ a51b88863 ┆ 8e19c9927 ┆ 49525a0c3 │\n",
       "│            ┆         ┆           ┆ 4         ┆   ┆ d03fd2d8f ┆ 978680521 ┆ e28912aaf ┆ 928fe4f7b │\n",
       "│            ┆         ┆           ┆           ┆   ┆ aa385     ┆ 38501     ┆ 7ced5     ┆ c2307     │\n",
       "│ null       ┆ 66b94c6 ┆ baseline  ┆ 2023-08-2 ┆ … ┆ 51f7f2eef ┆ 45a291510 ┆ cd3c4af8c ┆ 4bc9fb2d6 │\n",
       "│            ┆         ┆           ┆ 1T19:08:0 ┆   ┆ 57fa468b3 ┆ a51b88863 ┆ 8e19c9927 ┆ 49525a0c3 │\n",
       "│            ┆         ┆           ┆ 2         ┆   ┆ d03fd2d8f ┆ 978680521 ┆ e28912aaf ┆ 928fe4f7b │\n",
       "│            ┆         ┆           ┆           ┆   ┆ aa385     ┆ 38501     ┆ 7ced5     ┆ c2307     │\n",
       "│ nervy-wage ┆ d4f2bdc ┆ branch_ba ┆ 2023-08-2 ┆ … ┆ 51f7f2eef ┆ 45a291510 ┆ cd3c4af8c ┆ 4bc9fb2d6 │\n",
       "│            ┆         ┆ se        ┆ 1T19:07:3 ┆   ┆ 57fa468b3 ┆ a51b88863 ┆ 8e19c9927 ┆ 49525a0c3 │\n",
       "│            ┆         ┆           ┆ 1         ┆   ┆ d03fd2d8f ┆ 978680521 ┆ e28912aaf ┆ 928fe4f7b │\n",
       "│            ┆         ┆           ┆           ┆   ┆ aa385     ┆ 38501     ┆ 7ced5     ┆ c2307     │\n",
       "│ …          ┆ …       ┆ …         ┆ …         ┆ … ┆ …         ┆ …         ┆ …         ┆ …         │\n",
       "│ null       ┆ e1e659f ┆ baseline  ┆ 2023-05-0 ┆ … ┆ 51f7f2eef ┆ 45a291510 ┆ cd3c4af8c ┆ 4bc9fb2d6 │\n",
       "│            ┆         ┆           ┆ 2T20:34:3 ┆   ┆ 57fa468b3 ┆ a51b88863 ┆ 8e19c9927 ┆ 49525a0c3 │\n",
       "│            ┆         ┆           ┆ 0         ┆   ┆ d03fd2d8f ┆ 978680521 ┆ e28912aaf ┆ 928fe4f7b │\n",
       "│            ┆         ┆           ┆           ┆   ┆ aa385     ┆ 38501     ┆ 7ced5     ┆ c2307     │\n",
       "│ null       ┆ f044d62 ┆ baseline  ┆ 2023-05-0 ┆ … ┆ 51f7f2eef ┆ 45a291510 ┆ cd3c4af8c ┆ 4bc9fb2d6 │\n",
       "│            ┆         ┆           ┆ 3T00:18:0 ┆   ┆ 57fa468b3 ┆ a51b88863 ┆ 8e19c9927 ┆ 49525a0c3 │\n",
       "│            ┆         ┆           ┆ 9         ┆   ┆ d03fd2d8f ┆ 978680521 ┆ e28912aaf ┆ 928fe4f7b │\n",
       "│            ┆         ┆           ┆           ┆   ┆ aa385     ┆ 38501     ┆ 7ced5     ┆ c2307     │\n",
       "│ null       ┆ 946fe3d ┆ baseline  ┆ 2023-05-0 ┆ … ┆ 51f7f2eef ┆ 45a291510 ┆ cd3c4af8c ┆ 4bc9fb2d6 │\n",
       "│            ┆         ┆           ┆ 3T11:36:5 ┆   ┆ 57fa468b3 ┆ a51b88863 ┆ 8e19c9927 ┆ 49525a0c3 │\n",
       "│            ┆         ┆           ┆ 4         ┆   ┆ d03fd2d8f ┆ 978680521 ┆ e28912aaf ┆ 928fe4f7b │\n",
       "│            ┆         ┆           ┆           ┆   ┆ aa385     ┆ 38501     ┆ 7ced5     ┆ c2307     │\n",
       "│ null       ┆ d1adcd4 ┆ baseline  ┆ 2023-05-0 ┆ … ┆ 51f7f2eef ┆ 45a291510 ┆ cd3c4af8c ┆ 4bc9fb2d6 │\n",
       "│            ┆         ┆           ┆ 3T11:37:4 ┆   ┆ 57fa468b3 ┆ a51b88863 ┆ 8e19c9927 ┆ 49525a0c3 │\n",
       "│            ┆         ┆           ┆ 6         ┆   ┆ d03fd2d8f ┆ 978680521 ┆ e28912aaf ┆ 928fe4f7b │\n",
       "│            ┆         ┆           ┆           ┆   ┆ aa385     ┆ 38501     ┆ 7ced5     ┆ c2307     │\n",
       "└────────────┴─────────┴───────────┴───────────┴───┴───────────┴───────────┴───────────┴───────────┘"
      ]
     },
     "execution_count": 52,
     "metadata": {},
     "output_type": "execute_result"
    }
   ],
   "source": [
    "df = (\n",
    "    pl.read_csv(\"../exps.csv\")\n",
    "    .filter(pl.col(\"answer_accuracy\").is_not_null())\n",
    "    .with_columns(\n",
    "        pl.col(\"answer_accuracy\").cast(pl.Float32, strict=False),\n",
    "        pl.col(\"conditional_answer_accuracy\").cast(pl.Float32, strict=False),\n",
    "    )\n",
    "    .sort(pl.col(\"answer_accuracy\"), descending=True)\n",
    ")\n",
    "df"
   ]
  },
  {
   "cell_type": "code",
   "execution_count": 53,
   "metadata": {},
   "outputs": [],
   "source": [
    "terms = [\n",
    "    \"min_lot_size\",\n",
    "    \"min_unit_size\",\n",
    "    \"max_height\",\n",
    "    \"max_lot_coverage\",\n",
    "    \"max_lot_coverage_pavement\",\n",
    "    \"min_parking_spaces\",\n",
    "]"
   ]
  },
  {
   "cell_type": "code",
   "execution_count": 54,
   "metadata": {},
   "outputs": [
    {
     "name": "stderr",
     "output_type": "stream",
     "text": [
      "/var/folders/gf/tf25xxp14qn47s4gjl9jyjhr0000gn/T/ipykernel_99778/3546865340.py:7: DeprecationWarning:\n",
      "\n",
      "Behavior for `lit` will change for sequence inputs. The result will change to be a literal of type List. To retain the old behavior, pass a Series instead, e.g. `Series(sequence)`.\n",
      "\n"
     ]
    },
    {
     "data": {
      "text/html": [
       "<div><style>\n",
       ".dataframe > thead > tr > th,\n",
       ".dataframe > tbody > tr > td {\n",
       "  text-align: right;\n",
       "}\n",
       "</style>\n",
       "<small>shape: (2_592, 13)</small><table border=\"1\" class=\"dataframe\"><thead><tr><th>rev</th><th>Experiment</th><th>Created</th><th>typ</th><th>parent</th><th>eval.num-eval-rows</th><th>eval.search-method</th><th>eval.extraction-method</th><th>eval.k</th><th>variable</th><th>value</th><th>term</th><th>term_variable</th></tr><tr><td>str</td><td>str</td><td>str</td><td>str</td><td>str</td><td>i64</td><td>str</td><td>str</td><td>i64</td><td>str</td><td>str</td><td>str</td><td>str</td></tr></thead><tbody><tr><td>&quot;adaa401&quot;</td><td>null</td><td>&quot;2023-08-21T20:…</td><td>&quot;baseline&quot;</td><td>null</td><td>10</td><td>&quot;embeddings_knn…</td><td>&quot;map&quot;</td><td>16</td><td>&quot;max_height.ans…</td><td>&quot;1.0&quot;</td><td>&quot;max_height&quot;</td><td>&quot;answer_accurac…</td></tr><tr><td>&quot;d5cf8cc&quot;</td><td>&quot;bawdy-kill&quot;</td><td>&quot;2023-08-21T20:…</td><td>&quot;branch_base&quot;</td><td>null</td><td>10</td><td>&quot;embeddings_knn…</td><td>&quot;map&quot;</td><td>16</td><td>&quot;max_height.ans…</td><td>&quot;1.0&quot;</td><td>&quot;max_height&quot;</td><td>&quot;answer_accurac…</td></tr><tr><td>&quot;66b94c6&quot;</td><td>null</td><td>&quot;2023-08-21T19:…</td><td>&quot;baseline&quot;</td><td>null</td><td>10</td><td>&quot;embeddings_knn…</td><td>&quot;map&quot;</td><td>6</td><td>&quot;max_height.ans…</td><td>&quot;0.9&quot;</td><td>&quot;max_height&quot;</td><td>&quot;answer_accurac…</td></tr><tr><td>&quot;d4f2bdc&quot;</td><td>&quot;nervy-wage&quot;</td><td>&quot;2023-08-21T19:…</td><td>&quot;branch_base&quot;</td><td>null</td><td>10</td><td>&quot;embeddings_knn…</td><td>&quot;map&quot;</td><td>6</td><td>&quot;max_height.ans…</td><td>&quot;0.9&quot;</td><td>&quot;max_height&quot;</td><td>&quot;answer_accurac…</td></tr><tr><td>&quot;241aa7b&quot;</td><td>null</td><td>&quot;2023-08-21T19:…</td><td>&quot;baseline&quot;</td><td>null</td><td>10</td><td>&quot;elasticsearch&quot;</td><td>&quot;map&quot;</td><td>6</td><td>&quot;max_height.ans…</td><td>&quot;0.9&quot;</td><td>&quot;max_height&quot;</td><td>&quot;answer_accurac…</td></tr><tr><td>&quot;ca86ea6&quot;</td><td>&quot;nitty-owls&quot;</td><td>&quot;2023-08-21T19:…</td><td>&quot;branch_base&quot;</td><td>null</td><td>10</td><td>&quot;elasticsearch&quot;</td><td>&quot;map&quot;</td><td>6</td><td>&quot;max_height.ans…</td><td>&quot;0.9&quot;</td><td>&quot;max_height&quot;</td><td>&quot;answer_accurac…</td></tr><tr><td>&quot;f0134e1&quot;</td><td>null</td><td>&quot;2023-08-21T19:…</td><td>&quot;baseline&quot;</td><td>null</td><td>10</td><td>&quot;elasticsearch&quot;</td><td>&quot;tournament_red…</td><td>6</td><td>&quot;max_height.ans…</td><td>&quot;0.875&quot;</td><td>&quot;max_height&quot;</td><td>&quot;answer_accurac…</td></tr><tr><td>&quot;aece201&quot;</td><td>&quot;adust-shad&quot;</td><td>&quot;2023-08-21T19:…</td><td>&quot;branch_base&quot;</td><td>null</td><td>10</td><td>&quot;elasticsearch&quot;</td><td>&quot;tournament_red…</td><td>6</td><td>&quot;max_height.ans…</td><td>&quot;0.875&quot;</td><td>&quot;max_height&quot;</td><td>&quot;answer_accurac…</td></tr><tr><td>&quot;c8abaa3&quot;</td><td>null</td><td>&quot;2023-05-02T17:…</td><td>&quot;baseline&quot;</td><td>null</td><td>null</td><td>null</td><td>null</td><td>null</td><td>&quot;max_height.ans…</td><td>null</td><td>&quot;max_height&quot;</td><td>&quot;answer_accurac…</td></tr><tr><td>&quot;workspace&quot;</td><td>null</td><td>null</td><td>&quot;baseline&quot;</td><td>null</td><td>10</td><td>&quot;embeddings_knn…</td><td>&quot;tournament_red…</td><td>16</td><td>&quot;max_height.ans…</td><td>&quot;0.8&quot;</td><td>&quot;max_height&quot;</td><td>&quot;answer_accurac…</td></tr><tr><td>&quot;master&quot;</td><td>null</td><td>&quot;2023-08-21T21:…</td><td>&quot;baseline&quot;</td><td>null</td><td>10</td><td>&quot;embeddings_knn…</td><td>&quot;tournament_red…</td><td>16</td><td>&quot;max_height.ans…</td><td>&quot;0.8&quot;</td><td>&quot;max_height&quot;</td><td>&quot;answer_accurac…</td></tr><tr><td>&quot;35eb68a&quot;</td><td>&quot;crack-user&quot;</td><td>&quot;2023-08-21T22:…</td><td>&quot;branch_commit&quot;</td><td>null</td><td>10</td><td>&quot;embeddings_knn…</td><td>&quot;tournament_red…</td><td>16</td><td>&quot;max_height.ans…</td><td>&quot;0.8&quot;</td><td>&quot;max_height&quot;</td><td>&quot;answer_accurac…</td></tr><tr><td>&hellip;</td><td>&hellip;</td><td>&hellip;</td><td>&hellip;</td><td>&hellip;</td><td>&hellip;</td><td>&hellip;</td><td>&hellip;</td><td>&hellip;</td><td>&hellip;</td><td>&hellip;</td><td>&hellip;</td><td>&hellip;</td></tr><tr><td>&quot;6577d57&quot;</td><td>null</td><td>&quot;2023-05-02T12:…</td><td>&quot;baseline&quot;</td><td>null</td><td>null</td><td>null</td><td>null</td><td>null</td><td>&quot;min_unit_size.…</td><td>null</td><td>&quot;min_unit_size&quot;</td><td>&quot;page_extract_r…</td></tr><tr><td>&quot;a965b0b&quot;</td><td>null</td><td>&quot;2023-05-01T10:…</td><td>&quot;baseline&quot;</td><td>null</td><td>null</td><td>null</td><td>null</td><td>null</td><td>&quot;min_unit_size.…</td><td>null</td><td>&quot;min_unit_size&quot;</td><td>&quot;page_extract_r…</td></tr><tr><td>&quot;fd3a1d6&quot;</td><td>null</td><td>&quot;2023-05-02T12:…</td><td>&quot;baseline&quot;</td><td>null</td><td>null</td><td>null</td><td>null</td><td>null</td><td>&quot;min_unit_size.…</td><td>null</td><td>&quot;min_unit_size&quot;</td><td>&quot;page_extract_r…</td></tr><tr><td>&quot;bf11686&quot;</td><td>null</td><td>&quot;2023-05-02T12:…</td><td>&quot;baseline&quot;</td><td>null</td><td>null</td><td>null</td><td>null</td><td>null</td><td>&quot;min_unit_size.…</td><td>null</td><td>&quot;min_unit_size&quot;</td><td>&quot;page_extract_r…</td></tr><tr><td>&quot;93df421&quot;</td><td>null</td><td>&quot;2023-05-02T12:…</td><td>&quot;baseline&quot;</td><td>null</td><td>null</td><td>null</td><td>null</td><td>null</td><td>&quot;min_unit_size.…</td><td>null</td><td>&quot;min_unit_size&quot;</td><td>&quot;page_extract_r…</td></tr><tr><td>&quot;761ce89&quot;</td><td>null</td><td>&quot;2023-04-29T17:…</td><td>&quot;baseline&quot;</td><td>null</td><td>null</td><td>null</td><td>null</td><td>null</td><td>&quot;min_unit_size.…</td><td>null</td><td>&quot;min_unit_size&quot;</td><td>&quot;page_extract_r…</td></tr><tr><td>&quot;f68c86b&quot;</td><td>null</td><td>&quot;2023-05-02T18:…</td><td>&quot;baseline&quot;</td><td>null</td><td>null</td><td>null</td><td>null</td><td>null</td><td>&quot;min_unit_size.…</td><td>&quot;!&quot;</td><td>&quot;min_unit_size&quot;</td><td>&quot;page_extract_r…</td></tr><tr><td>&quot;2f47a6e&quot;</td><td>null</td><td>&quot;2023-05-02T18:…</td><td>&quot;baseline&quot;</td><td>null</td><td>null</td><td>null</td><td>null</td><td>null</td><td>&quot;min_unit_size.…</td><td>&quot;!&quot;</td><td>&quot;min_unit_size&quot;</td><td>&quot;page_extract_r…</td></tr><tr><td>&quot;e1e659f&quot;</td><td>null</td><td>&quot;2023-05-02T20:…</td><td>&quot;baseline&quot;</td><td>null</td><td>null</td><td>null</td><td>null</td><td>null</td><td>&quot;min_unit_size.…</td><td>&quot;!&quot;</td><td>&quot;min_unit_size&quot;</td><td>&quot;page_extract_r…</td></tr><tr><td>&quot;f044d62&quot;</td><td>null</td><td>&quot;2023-05-03T00:…</td><td>&quot;baseline&quot;</td><td>null</td><td>null</td><td>null</td><td>null</td><td>null</td><td>&quot;min_unit_size.…</td><td>&quot;!&quot;</td><td>&quot;min_unit_size&quot;</td><td>&quot;page_extract_r…</td></tr><tr><td>&quot;946fe3d&quot;</td><td>null</td><td>&quot;2023-05-03T11:…</td><td>&quot;baseline&quot;</td><td>null</td><td>null</td><td>null</td><td>null</td><td>null</td><td>&quot;min_unit_size.…</td><td>&quot;!&quot;</td><td>&quot;min_unit_size&quot;</td><td>&quot;page_extract_r…</td></tr><tr><td>&quot;d1adcd4&quot;</td><td>null</td><td>&quot;2023-05-03T11:…</td><td>&quot;baseline&quot;</td><td>null</td><td>null</td><td>null</td><td>null</td><td>null</td><td>&quot;min_unit_size.…</td><td>&quot;!&quot;</td><td>&quot;min_unit_size&quot;</td><td>&quot;page_extract_r…</td></tr></tbody></table></div>"
      ],
      "text/plain": [
       "shape: (2_592, 13)\n",
       "┌─────────┬────────────┬────────────┬────────────┬───┬────────────┬───────┬────────────┬───────────┐\n",
       "│ rev     ┆ Experiment ┆ Created    ┆ typ        ┆ … ┆ variable   ┆ value ┆ term       ┆ term_vari │\n",
       "│ ---     ┆ ---        ┆ ---        ┆ ---        ┆   ┆ ---        ┆ ---   ┆ ---        ┆ able      │\n",
       "│ str     ┆ str        ┆ str        ┆ str        ┆   ┆ str        ┆ str   ┆ str        ┆ ---       │\n",
       "│         ┆            ┆            ┆            ┆   ┆            ┆       ┆            ┆ str       │\n",
       "╞═════════╪════════════╪════════════╪════════════╪═══╪════════════╪═══════╪════════════╪═══════════╡\n",
       "│ adaa401 ┆ null       ┆ 2023-08-21 ┆ baseline   ┆ … ┆ max_height ┆ 1.0   ┆ max_height ┆ answer_ac │\n",
       "│         ┆            ┆ T20:13:41  ┆            ┆   ┆ .answer_ac ┆       ┆            ┆ curacy    │\n",
       "│         ┆            ┆            ┆            ┆   ┆ curacy     ┆       ┆            ┆           │\n",
       "│ d5cf8cc ┆ bawdy-kill ┆ 2023-08-21 ┆ branch_bas ┆ … ┆ max_height ┆ 1.0   ┆ max_height ┆ answer_ac │\n",
       "│         ┆            ┆ T20:00:34  ┆ e          ┆   ┆ .answer_ac ┆       ┆            ┆ curacy    │\n",
       "│         ┆            ┆            ┆            ┆   ┆ curacy     ┆       ┆            ┆           │\n",
       "│ 66b94c6 ┆ null       ┆ 2023-08-21 ┆ baseline   ┆ … ┆ max_height ┆ 0.9   ┆ max_height ┆ answer_ac │\n",
       "│         ┆            ┆ T19:08:02  ┆            ┆   ┆ .answer_ac ┆       ┆            ┆ curacy    │\n",
       "│         ┆            ┆            ┆            ┆   ┆ curacy     ┆       ┆            ┆           │\n",
       "│ d4f2bdc ┆ nervy-wage ┆ 2023-08-21 ┆ branch_bas ┆ … ┆ max_height ┆ 0.9   ┆ max_height ┆ answer_ac │\n",
       "│         ┆            ┆ T19:07:31  ┆ e          ┆   ┆ .answer_ac ┆       ┆            ┆ curacy    │\n",
       "│         ┆            ┆            ┆            ┆   ┆ curacy     ┆       ┆            ┆           │\n",
       "│ …       ┆ …          ┆ …          ┆ …          ┆ … ┆ …          ┆ …     ┆ …          ┆ …         │\n",
       "│ e1e659f ┆ null       ┆ 2023-05-02 ┆ baseline   ┆ … ┆ min_unit_s ┆ !     ┆ min_unit_s ┆ page_extr │\n",
       "│         ┆            ┆ T20:34:30  ┆            ┆   ┆ ize.page_e ┆       ┆ ize        ┆ act_recal │\n",
       "│         ┆            ┆            ┆            ┆   ┆ xtract_rec ┆       ┆            ┆ l         │\n",
       "│         ┆            ┆            ┆            ┆   ┆ al…        ┆       ┆            ┆           │\n",
       "│ f044d62 ┆ null       ┆ 2023-05-03 ┆ baseline   ┆ … ┆ min_unit_s ┆ !     ┆ min_unit_s ┆ page_extr │\n",
       "│         ┆            ┆ T00:18:09  ┆            ┆   ┆ ize.page_e ┆       ┆ ize        ┆ act_recal │\n",
       "│         ┆            ┆            ┆            ┆   ┆ xtract_rec ┆       ┆            ┆ l         │\n",
       "│         ┆            ┆            ┆            ┆   ┆ al…        ┆       ┆            ┆           │\n",
       "│ 946fe3d ┆ null       ┆ 2023-05-03 ┆ baseline   ┆ … ┆ min_unit_s ┆ !     ┆ min_unit_s ┆ page_extr │\n",
       "│         ┆            ┆ T11:36:54  ┆            ┆   ┆ ize.page_e ┆       ┆ ize        ┆ act_recal │\n",
       "│         ┆            ┆            ┆            ┆   ┆ xtract_rec ┆       ┆            ┆ l         │\n",
       "│         ┆            ┆            ┆            ┆   ┆ al…        ┆       ┆            ┆           │\n",
       "│ d1adcd4 ┆ null       ┆ 2023-05-03 ┆ baseline   ┆ … ┆ min_unit_s ┆ !     ┆ min_unit_s ┆ page_extr │\n",
       "│         ┆            ┆ T11:37:46  ┆            ┆   ┆ ize.page_e ┆       ┆ ize        ┆ act_recal │\n",
       "│         ┆            ┆            ┆            ┆   ┆ xtract_rec ┆       ┆            ┆ l         │\n",
       "│         ┆            ┆            ┆            ┆   ┆ al…        ┆       ┆            ┆           │\n",
       "└─────────┴────────────┴────────────┴────────────┴───┴────────────┴───────┴────────────┴───────────┘"
      ]
     },
     "execution_count": 54,
     "metadata": {},
     "output_type": "execute_result"
    }
   ],
   "source": [
    "df_terms = (\n",
    "    df.melt(id_vars=[\"rev\", \"Experiment\", \"Created\", \"typ\", \"parent\", \"eval.num-eval-rows\", \"eval.search-method\", \"eval.extraction-method\", \"eval.k\"])\n",
    "    .with_columns(\n",
    "        pl.col(\"variable\").str.extract(r\"^(\\w+)\\.\\w+$\").alias(\"term\"),\n",
    "        pl.col(\"variable\").str.extract(r\"^\\w+\\.(\\w+$)\").alias(\"term_variable\"),\n",
    "    )\n",
    "    .filter(pl.col(\"term\").is_in(pl.lit(terms)))\n",
    ")\n",
    "df_terms"
   ]
  },
  {
   "cell_type": "code",
   "execution_count": 55,
   "metadata": {},
   "outputs": [
    {
     "data": {
      "text/html": [
       "<div><style>\n",
       ".dataframe > thead > tr > th,\n",
       ".dataframe > tbody > tr > td {\n",
       "  text-align: right;\n",
       "}\n",
       "</style>\n",
       "<small>shape: (324, 13)</small><table border=\"1\" class=\"dataframe\"><thead><tr><th>rev</th><th>Experiment</th><th>Created</th><th>typ</th><th>parent</th><th>eval.num-eval-rows</th><th>eval.search-method</th><th>eval.extraction-method</th><th>eval.k</th><th>variable</th><th>value</th><th>term</th><th>term_variable</th></tr><tr><td>str</td><td>str</td><td>str</td><td>str</td><td>str</td><td>i64</td><td>str</td><td>str</td><td>i64</td><td>str</td><td>f32</td><td>str</td><td>str</td></tr></thead><tbody><tr><td>&quot;adaa401&quot;</td><td>null</td><td>&quot;2023-08-21T20:…</td><td>&quot;baseline&quot;</td><td>null</td><td>10</td><td>&quot;embeddings_knn…</td><td>&quot;map&quot;</td><td>16</td><td>&quot;max_height.ans…</td><td>1.0</td><td>&quot;max_height&quot;</td><td>&quot;answer_accurac…</td></tr><tr><td>&quot;d5cf8cc&quot;</td><td>&quot;bawdy-kill&quot;</td><td>&quot;2023-08-21T20:…</td><td>&quot;branch_base&quot;</td><td>null</td><td>10</td><td>&quot;embeddings_knn…</td><td>&quot;map&quot;</td><td>16</td><td>&quot;max_height.ans…</td><td>1.0</td><td>&quot;max_height&quot;</td><td>&quot;answer_accurac…</td></tr><tr><td>&quot;66b94c6&quot;</td><td>null</td><td>&quot;2023-08-21T19:…</td><td>&quot;baseline&quot;</td><td>null</td><td>10</td><td>&quot;embeddings_knn…</td><td>&quot;map&quot;</td><td>6</td><td>&quot;max_height.ans…</td><td>0.9</td><td>&quot;max_height&quot;</td><td>&quot;answer_accurac…</td></tr><tr><td>&quot;d4f2bdc&quot;</td><td>&quot;nervy-wage&quot;</td><td>&quot;2023-08-21T19:…</td><td>&quot;branch_base&quot;</td><td>null</td><td>10</td><td>&quot;embeddings_knn…</td><td>&quot;map&quot;</td><td>6</td><td>&quot;max_height.ans…</td><td>0.9</td><td>&quot;max_height&quot;</td><td>&quot;answer_accurac…</td></tr><tr><td>&quot;241aa7b&quot;</td><td>null</td><td>&quot;2023-08-21T19:…</td><td>&quot;baseline&quot;</td><td>null</td><td>10</td><td>&quot;elasticsearch&quot;</td><td>&quot;map&quot;</td><td>6</td><td>&quot;max_height.ans…</td><td>0.9</td><td>&quot;max_height&quot;</td><td>&quot;answer_accurac…</td></tr><tr><td>&quot;ca86ea6&quot;</td><td>&quot;nitty-owls&quot;</td><td>&quot;2023-08-21T19:…</td><td>&quot;branch_base&quot;</td><td>null</td><td>10</td><td>&quot;elasticsearch&quot;</td><td>&quot;map&quot;</td><td>6</td><td>&quot;max_height.ans…</td><td>0.9</td><td>&quot;max_height&quot;</td><td>&quot;answer_accurac…</td></tr><tr><td>&quot;f0134e1&quot;</td><td>null</td><td>&quot;2023-08-21T19:…</td><td>&quot;baseline&quot;</td><td>null</td><td>10</td><td>&quot;elasticsearch&quot;</td><td>&quot;tournament_red…</td><td>6</td><td>&quot;max_height.ans…</td><td>0.875</td><td>&quot;max_height&quot;</td><td>&quot;answer_accurac…</td></tr><tr><td>&quot;aece201&quot;</td><td>&quot;adust-shad&quot;</td><td>&quot;2023-08-21T19:…</td><td>&quot;branch_base&quot;</td><td>null</td><td>10</td><td>&quot;elasticsearch&quot;</td><td>&quot;tournament_red…</td><td>6</td><td>&quot;max_height.ans…</td><td>0.875</td><td>&quot;max_height&quot;</td><td>&quot;answer_accurac…</td></tr><tr><td>&quot;c8abaa3&quot;</td><td>null</td><td>&quot;2023-05-02T17:…</td><td>&quot;baseline&quot;</td><td>null</td><td>null</td><td>null</td><td>null</td><td>null</td><td>&quot;max_height.ans…</td><td>null</td><td>&quot;max_height&quot;</td><td>&quot;answer_accurac…</td></tr><tr><td>&quot;workspace&quot;</td><td>null</td><td>null</td><td>&quot;baseline&quot;</td><td>null</td><td>10</td><td>&quot;embeddings_knn…</td><td>&quot;tournament_red…</td><td>16</td><td>&quot;max_height.ans…</td><td>0.8</td><td>&quot;max_height&quot;</td><td>&quot;answer_accurac…</td></tr><tr><td>&quot;master&quot;</td><td>null</td><td>&quot;2023-08-21T21:…</td><td>&quot;baseline&quot;</td><td>null</td><td>10</td><td>&quot;embeddings_knn…</td><td>&quot;tournament_red…</td><td>16</td><td>&quot;max_height.ans…</td><td>0.8</td><td>&quot;max_height&quot;</td><td>&quot;answer_accurac…</td></tr><tr><td>&quot;35eb68a&quot;</td><td>&quot;crack-user&quot;</td><td>&quot;2023-08-21T22:…</td><td>&quot;branch_commit&quot;</td><td>null</td><td>10</td><td>&quot;embeddings_knn…</td><td>&quot;tournament_red…</td><td>16</td><td>&quot;max_height.ans…</td><td>0.8</td><td>&quot;max_height&quot;</td><td>&quot;answer_accurac…</td></tr><tr><td>&hellip;</td><td>&hellip;</td><td>&hellip;</td><td>&hellip;</td><td>&hellip;</td><td>&hellip;</td><td>&hellip;</td><td>&hellip;</td><td>&hellip;</td><td>&hellip;</td><td>&hellip;</td><td>&hellip;</td><td>&hellip;</td></tr><tr><td>&quot;6577d57&quot;</td><td>null</td><td>&quot;2023-05-02T12:…</td><td>&quot;baseline&quot;</td><td>null</td><td>null</td><td>null</td><td>null</td><td>null</td><td>&quot;min_unit_size.…</td><td>null</td><td>&quot;min_unit_size&quot;</td><td>&quot;answer_accurac…</td></tr><tr><td>&quot;a965b0b&quot;</td><td>null</td><td>&quot;2023-05-01T10:…</td><td>&quot;baseline&quot;</td><td>null</td><td>null</td><td>null</td><td>null</td><td>null</td><td>&quot;min_unit_size.…</td><td>null</td><td>&quot;min_unit_size&quot;</td><td>&quot;answer_accurac…</td></tr><tr><td>&quot;fd3a1d6&quot;</td><td>null</td><td>&quot;2023-05-02T12:…</td><td>&quot;baseline&quot;</td><td>null</td><td>null</td><td>null</td><td>null</td><td>null</td><td>&quot;min_unit_size.…</td><td>null</td><td>&quot;min_unit_size&quot;</td><td>&quot;answer_accurac…</td></tr><tr><td>&quot;bf11686&quot;</td><td>null</td><td>&quot;2023-05-02T12:…</td><td>&quot;baseline&quot;</td><td>null</td><td>null</td><td>null</td><td>null</td><td>null</td><td>&quot;min_unit_size.…</td><td>null</td><td>&quot;min_unit_size&quot;</td><td>&quot;answer_accurac…</td></tr><tr><td>&quot;93df421&quot;</td><td>null</td><td>&quot;2023-05-02T12:…</td><td>&quot;baseline&quot;</td><td>null</td><td>null</td><td>null</td><td>null</td><td>null</td><td>&quot;min_unit_size.…</td><td>null</td><td>&quot;min_unit_size&quot;</td><td>&quot;answer_accurac…</td></tr><tr><td>&quot;761ce89&quot;</td><td>null</td><td>&quot;2023-04-29T17:…</td><td>&quot;baseline&quot;</td><td>null</td><td>null</td><td>null</td><td>null</td><td>null</td><td>&quot;min_unit_size.…</td><td>null</td><td>&quot;min_unit_size&quot;</td><td>&quot;answer_accurac…</td></tr><tr><td>&quot;f68c86b&quot;</td><td>null</td><td>&quot;2023-05-02T18:…</td><td>&quot;baseline&quot;</td><td>null</td><td>null</td><td>null</td><td>null</td><td>null</td><td>&quot;min_unit_size.…</td><td>null</td><td>&quot;min_unit_size&quot;</td><td>&quot;answer_accurac…</td></tr><tr><td>&quot;2f47a6e&quot;</td><td>null</td><td>&quot;2023-05-02T18:…</td><td>&quot;baseline&quot;</td><td>null</td><td>null</td><td>null</td><td>null</td><td>null</td><td>&quot;min_unit_size.…</td><td>null</td><td>&quot;min_unit_size&quot;</td><td>&quot;answer_accurac…</td></tr><tr><td>&quot;e1e659f&quot;</td><td>null</td><td>&quot;2023-05-02T20:…</td><td>&quot;baseline&quot;</td><td>null</td><td>null</td><td>null</td><td>null</td><td>null</td><td>&quot;min_unit_size.…</td><td>null</td><td>&quot;min_unit_size&quot;</td><td>&quot;answer_accurac…</td></tr><tr><td>&quot;f044d62&quot;</td><td>null</td><td>&quot;2023-05-03T00:…</td><td>&quot;baseline&quot;</td><td>null</td><td>null</td><td>null</td><td>null</td><td>null</td><td>&quot;min_unit_size.…</td><td>null</td><td>&quot;min_unit_size&quot;</td><td>&quot;answer_accurac…</td></tr><tr><td>&quot;946fe3d&quot;</td><td>null</td><td>&quot;2023-05-03T11:…</td><td>&quot;baseline&quot;</td><td>null</td><td>null</td><td>null</td><td>null</td><td>null</td><td>&quot;min_unit_size.…</td><td>null</td><td>&quot;min_unit_size&quot;</td><td>&quot;answer_accurac…</td></tr><tr><td>&quot;d1adcd4&quot;</td><td>null</td><td>&quot;2023-05-03T11:…</td><td>&quot;baseline&quot;</td><td>null</td><td>null</td><td>null</td><td>null</td><td>null</td><td>&quot;min_unit_size.…</td><td>null</td><td>&quot;min_unit_size&quot;</td><td>&quot;answer_accurac…</td></tr></tbody></table></div>"
      ],
      "text/plain": [
       "shape: (324, 13)\n",
       "┌─────────┬────────────┬────────────┬────────────┬───┬────────────┬───────┬────────────┬───────────┐\n",
       "│ rev     ┆ Experiment ┆ Created    ┆ typ        ┆ … ┆ variable   ┆ value ┆ term       ┆ term_vari │\n",
       "│ ---     ┆ ---        ┆ ---        ┆ ---        ┆   ┆ ---        ┆ ---   ┆ ---        ┆ able      │\n",
       "│ str     ┆ str        ┆ str        ┆ str        ┆   ┆ str        ┆ f32   ┆ str        ┆ ---       │\n",
       "│         ┆            ┆            ┆            ┆   ┆            ┆       ┆            ┆ str       │\n",
       "╞═════════╪════════════╪════════════╪════════════╪═══╪════════════╪═══════╪════════════╪═══════════╡\n",
       "│ adaa401 ┆ null       ┆ 2023-08-21 ┆ baseline   ┆ … ┆ max_height ┆ 1.0   ┆ max_height ┆ answer_ac │\n",
       "│         ┆            ┆ T20:13:41  ┆            ┆   ┆ .answer_ac ┆       ┆            ┆ curacy    │\n",
       "│         ┆            ┆            ┆            ┆   ┆ curacy     ┆       ┆            ┆           │\n",
       "│ d5cf8cc ┆ bawdy-kill ┆ 2023-08-21 ┆ branch_bas ┆ … ┆ max_height ┆ 1.0   ┆ max_height ┆ answer_ac │\n",
       "│         ┆            ┆ T20:00:34  ┆ e          ┆   ┆ .answer_ac ┆       ┆            ┆ curacy    │\n",
       "│         ┆            ┆            ┆            ┆   ┆ curacy     ┆       ┆            ┆           │\n",
       "│ 66b94c6 ┆ null       ┆ 2023-08-21 ┆ baseline   ┆ … ┆ max_height ┆ 0.9   ┆ max_height ┆ answer_ac │\n",
       "│         ┆            ┆ T19:08:02  ┆            ┆   ┆ .answer_ac ┆       ┆            ┆ curacy    │\n",
       "│         ┆            ┆            ┆            ┆   ┆ curacy     ┆       ┆            ┆           │\n",
       "│ d4f2bdc ┆ nervy-wage ┆ 2023-08-21 ┆ branch_bas ┆ … ┆ max_height ┆ 0.9   ┆ max_height ┆ answer_ac │\n",
       "│         ┆            ┆ T19:07:31  ┆ e          ┆   ┆ .answer_ac ┆       ┆            ┆ curacy    │\n",
       "│         ┆            ┆            ┆            ┆   ┆ curacy     ┆       ┆            ┆           │\n",
       "│ …       ┆ …          ┆ …          ┆ …          ┆ … ┆ …          ┆ …     ┆ …          ┆ …         │\n",
       "│ e1e659f ┆ null       ┆ 2023-05-02 ┆ baseline   ┆ … ┆ min_unit_s ┆ null  ┆ min_unit_s ┆ answer_ac │\n",
       "│         ┆            ┆ T20:34:30  ┆            ┆   ┆ ize.answer ┆       ┆ ize        ┆ curacy    │\n",
       "│         ┆            ┆            ┆            ┆   ┆ _accuracy  ┆       ┆            ┆           │\n",
       "│ f044d62 ┆ null       ┆ 2023-05-03 ┆ baseline   ┆ … ┆ min_unit_s ┆ null  ┆ min_unit_s ┆ answer_ac │\n",
       "│         ┆            ┆ T00:18:09  ┆            ┆   ┆ ize.answer ┆       ┆ ize        ┆ curacy    │\n",
       "│         ┆            ┆            ┆            ┆   ┆ _accuracy  ┆       ┆            ┆           │\n",
       "│ 946fe3d ┆ null       ┆ 2023-05-03 ┆ baseline   ┆ … ┆ min_unit_s ┆ null  ┆ min_unit_s ┆ answer_ac │\n",
       "│         ┆            ┆ T11:36:54  ┆            ┆   ┆ ize.answer ┆       ┆ ize        ┆ curacy    │\n",
       "│         ┆            ┆            ┆            ┆   ┆ _accuracy  ┆       ┆            ┆           │\n",
       "│ d1adcd4 ┆ null       ┆ 2023-05-03 ┆ baseline   ┆ … ┆ min_unit_s ┆ null  ┆ min_unit_s ┆ answer_ac │\n",
       "│         ┆            ┆ T11:37:46  ┆            ┆   ┆ ize.answer ┆       ┆ ize        ┆ curacy    │\n",
       "│         ┆            ┆            ┆            ┆   ┆ _accuracy  ┆       ┆            ┆           │\n",
       "└─────────┴────────────┴────────────┴────────────┴───┴────────────┴───────┴────────────┴───────────┘"
      ]
     },
     "execution_count": 55,
     "metadata": {},
     "output_type": "execute_result"
    }
   ],
   "source": [
    "df_terms.filter(pl.col(\"term_variable\") == \"answer_accuracy\").with_columns(pl.col(\"value\").cast(pl.Float32, strict=False))"
   ]
  },
  {
   "cell_type": "code",
   "execution_count": 56,
   "metadata": {},
   "outputs": [
    {
     "data": {
      "application/vnd.plotly.v1+json": {
       "config": {
        "plotlyServerURL": "https://plot.ly"
       },
       "data": [
        {
         "alignmentgroup": "True",
         "hovertemplate": "term=max_height<br>eval.search-method=embeddings_knn<br>value=%{x}<extra></extra>",
         "legendgroup": "max_height",
         "marker": {
          "color": "#636efa"
         },
         "name": "max_height",
         "notched": false,
         "offsetgroup": "max_height",
         "orientation": "h",
         "showlegend": true,
         "type": "box",
         "x": [
          1,
          1,
          0.9,
          0.9,
          0.8,
          0.8,
          0.8,
          0.8,
          0.8,
          0.8,
          0.8
         ],
         "x0": " ",
         "xaxis": "x",
         "y0": " ",
         "yaxis": "y"
        },
        {
         "alignmentgroup": "True",
         "hovertemplate": "term=max_height<br>eval.search-method=elasticsearch<br>value=%{x}<extra></extra>",
         "legendgroup": "max_height",
         "marker": {
          "color": "#636efa"
         },
         "name": "max_height",
         "notched": false,
         "offsetgroup": "max_height",
         "orientation": "h",
         "showlegend": false,
         "type": "box",
         "x": [
          0.9,
          0.9,
          0.875,
          0.875
         ],
         "x0": " ",
         "xaxis": "x2",
         "y0": " ",
         "yaxis": "y2"
        },
        {
         "alignmentgroup": "True",
         "hovertemplate": "term=max_lot_coverage<br>eval.search-method=embeddings_knn<br>value=%{x}<extra></extra>",
         "legendgroup": "max_lot_coverage",
         "marker": {
          "color": "#EF553B"
         },
         "name": "max_lot_coverage",
         "notched": false,
         "offsetgroup": "max_lot_coverage",
         "orientation": "h",
         "showlegend": true,
         "type": "box",
         "x": [
          0.9,
          0.9,
          0.9,
          0.9,
          0.42857143,
          0.42857143,
          0.42857143,
          0.42857143,
          0.42857143,
          0.42857143,
          0.42857143
         ],
         "x0": " ",
         "xaxis": "x",
         "y0": " ",
         "yaxis": "y"
        },
        {
         "alignmentgroup": "True",
         "hovertemplate": "term=max_lot_coverage<br>eval.search-method=elasticsearch<br>value=%{x}<extra></extra>",
         "legendgroup": "max_lot_coverage",
         "marker": {
          "color": "#EF553B"
         },
         "name": "max_lot_coverage",
         "notched": false,
         "offsetgroup": "max_lot_coverage",
         "orientation": "h",
         "showlegend": false,
         "type": "box",
         "x": [
          0.6666667,
          0.6666667,
          0.5,
          0.5
         ],
         "x0": " ",
         "xaxis": "x2",
         "y0": " ",
         "yaxis": "y2"
        },
        {
         "alignmentgroup": "True",
         "hovertemplate": "term=max_lot_coverage_pavement<br>eval.search-method=embeddings_knn<br>value=%{x}<extra></extra>",
         "legendgroup": "max_lot_coverage_pavement",
         "marker": {
          "color": "#00cc96"
         },
         "name": "max_lot_coverage_pavement",
         "notched": false,
         "offsetgroup": "max_lot_coverage_pavement",
         "orientation": "h",
         "showlegend": true,
         "type": "box",
         "x": [
          0.7,
          0.7,
          0.6,
          0.6,
          0.625,
          0.625,
          0.625,
          0.625,
          0.625,
          0.625,
          0.625
         ],
         "x0": " ",
         "xaxis": "x",
         "y0": " ",
         "yaxis": "y"
        },
        {
         "alignmentgroup": "True",
         "hovertemplate": "term=max_lot_coverage_pavement<br>eval.search-method=elasticsearch<br>value=%{x}<extra></extra>",
         "legendgroup": "max_lot_coverage_pavement",
         "marker": {
          "color": "#00cc96"
         },
         "name": "max_lot_coverage_pavement",
         "notched": false,
         "offsetgroup": "max_lot_coverage_pavement",
         "orientation": "h",
         "showlegend": false,
         "type": "box",
         "x": [
          0.5555556,
          0.5555556,
          0.6666667,
          0.6666667
         ],
         "x0": " ",
         "xaxis": "x2",
         "y0": " ",
         "yaxis": "y2"
        },
        {
         "alignmentgroup": "True",
         "hovertemplate": "term=min_lot_size<br>eval.search-method=embeddings_knn<br>value=%{x}<extra></extra>",
         "legendgroup": "min_lot_size",
         "marker": {
          "color": "#ab63fa"
         },
         "name": "min_lot_size",
         "notched": false,
         "offsetgroup": "min_lot_size",
         "orientation": "h",
         "showlegend": true,
         "type": "box",
         "x": [
          0.7,
          0.7,
          0.7,
          0.7,
          0.42857143,
          0.42857143,
          0.42857143,
          0.42857143,
          0.42857143,
          0.42857143,
          0.42857143
         ],
         "x0": " ",
         "xaxis": "x",
         "y0": " ",
         "yaxis": "y"
        },
        {
         "alignmentgroup": "True",
         "hovertemplate": "term=min_lot_size<br>eval.search-method=elasticsearch<br>value=%{x}<extra></extra>",
         "legendgroup": "min_lot_size",
         "marker": {
          "color": "#ab63fa"
         },
         "name": "min_lot_size",
         "notched": false,
         "offsetgroup": "min_lot_size",
         "orientation": "h",
         "showlegend": false,
         "type": "box",
         "x": [
          0.8,
          0.8,
          0.6666667,
          0.6666667
         ],
         "x0": " ",
         "xaxis": "x2",
         "y0": " ",
         "yaxis": "y2"
        },
        {
         "alignmentgroup": "True",
         "hovertemplate": "term=min_parking_spaces<br>eval.search-method=embeddings_knn<br>value=%{x}<extra></extra>",
         "legendgroup": "min_parking_spaces",
         "marker": {
          "color": "#FFA15A"
         },
         "name": "min_parking_spaces",
         "notched": false,
         "offsetgroup": "min_parking_spaces",
         "orientation": "h",
         "showlegend": true,
         "type": "box",
         "x": [
          0.6,
          0.6,
          0.3,
          0.3,
          0.71428573,
          0.71428573,
          0.71428573,
          0.71428573,
          0.71428573,
          0.71428573,
          0.71428573
         ],
         "x0": " ",
         "xaxis": "x",
         "y0": " ",
         "yaxis": "y"
        },
        {
         "alignmentgroup": "True",
         "hovertemplate": "term=min_parking_spaces<br>eval.search-method=elasticsearch<br>value=%{x}<extra></extra>",
         "legendgroup": "min_parking_spaces",
         "marker": {
          "color": "#FFA15A"
         },
         "name": "min_parking_spaces",
         "notched": false,
         "offsetgroup": "min_parking_spaces",
         "orientation": "h",
         "showlegend": false,
         "type": "box",
         "x": [
          0.3,
          0.3,
          0.5,
          0.5
         ],
         "x0": " ",
         "xaxis": "x2",
         "y0": " ",
         "yaxis": "y2"
        },
        {
         "alignmentgroup": "True",
         "hovertemplate": "term=min_unit_size<br>eval.search-method=embeddings_knn<br>value=%{x}<extra></extra>",
         "legendgroup": "min_unit_size",
         "marker": {
          "color": "#19d3f3"
         },
         "name": "min_unit_size",
         "notched": false,
         "offsetgroup": "min_unit_size",
         "orientation": "h",
         "showlegend": true,
         "type": "box",
         "x": [
          0.8,
          0.8,
          0.8,
          0.8,
          0.375,
          0.375,
          0.375,
          0.375,
          0.375,
          0.375,
          0.375
         ],
         "x0": " ",
         "xaxis": "x",
         "y0": " ",
         "yaxis": "y"
        },
        {
         "alignmentgroup": "True",
         "hovertemplate": "term=min_unit_size<br>eval.search-method=elasticsearch<br>value=%{x}<extra></extra>",
         "legendgroup": "min_unit_size",
         "marker": {
          "color": "#19d3f3"
         },
         "name": "min_unit_size",
         "notched": false,
         "offsetgroup": "min_unit_size",
         "orientation": "h",
         "showlegend": false,
         "type": "box",
         "x": [
          0.8888889,
          0.8888889,
          0.8,
          0.8
         ],
         "x0": " ",
         "xaxis": "x2",
         "y0": " ",
         "yaxis": "y2"
        }
       ],
       "layout": {
        "annotations": [
         {
          "font": {},
          "showarrow": false,
          "text": "eval.search-method=embeddings_knn",
          "x": 0.245,
          "xanchor": "center",
          "xref": "paper",
          "y": 1,
          "yanchor": "bottom",
          "yref": "paper"
         },
         {
          "font": {},
          "showarrow": false,
          "text": "eval.search-method=elasticsearch",
          "x": 0.755,
          "xanchor": "center",
          "xref": "paper",
          "y": 1,
          "yanchor": "bottom",
          "yref": "paper"
         }
        ],
        "boxmode": "group",
        "legend": {
         "title": {
          "text": "term"
         },
         "tracegroupgap": 0
        },
        "margin": {
         "t": 60
        },
        "template": {
         "data": {
          "bar": [
           {
            "error_x": {
             "color": "#2a3f5f"
            },
            "error_y": {
             "color": "#2a3f5f"
            },
            "marker": {
             "line": {
              "color": "#E5ECF6",
              "width": 0.5
             },
             "pattern": {
              "fillmode": "overlay",
              "size": 10,
              "solidity": 0.2
             }
            },
            "type": "bar"
           }
          ],
          "barpolar": [
           {
            "marker": {
             "line": {
              "color": "#E5ECF6",
              "width": 0.5
             },
             "pattern": {
              "fillmode": "overlay",
              "size": 10,
              "solidity": 0.2
             }
            },
            "type": "barpolar"
           }
          ],
          "carpet": [
           {
            "aaxis": {
             "endlinecolor": "#2a3f5f",
             "gridcolor": "white",
             "linecolor": "white",
             "minorgridcolor": "white",
             "startlinecolor": "#2a3f5f"
            },
            "baxis": {
             "endlinecolor": "#2a3f5f",
             "gridcolor": "white",
             "linecolor": "white",
             "minorgridcolor": "white",
             "startlinecolor": "#2a3f5f"
            },
            "type": "carpet"
           }
          ],
          "choropleth": [
           {
            "colorbar": {
             "outlinewidth": 0,
             "ticks": ""
            },
            "type": "choropleth"
           }
          ],
          "contour": [
           {
            "colorbar": {
             "outlinewidth": 0,
             "ticks": ""
            },
            "colorscale": [
             [
              0,
              "#0d0887"
             ],
             [
              0.1111111111111111,
              "#46039f"
             ],
             [
              0.2222222222222222,
              "#7201a8"
             ],
             [
              0.3333333333333333,
              "#9c179e"
             ],
             [
              0.4444444444444444,
              "#bd3786"
             ],
             [
              0.5555555555555556,
              "#d8576b"
             ],
             [
              0.6666666666666666,
              "#ed7953"
             ],
             [
              0.7777777777777778,
              "#fb9f3a"
             ],
             [
              0.8888888888888888,
              "#fdca26"
             ],
             [
              1,
              "#f0f921"
             ]
            ],
            "type": "contour"
           }
          ],
          "contourcarpet": [
           {
            "colorbar": {
             "outlinewidth": 0,
             "ticks": ""
            },
            "type": "contourcarpet"
           }
          ],
          "heatmap": [
           {
            "colorbar": {
             "outlinewidth": 0,
             "ticks": ""
            },
            "colorscale": [
             [
              0,
              "#0d0887"
             ],
             [
              0.1111111111111111,
              "#46039f"
             ],
             [
              0.2222222222222222,
              "#7201a8"
             ],
             [
              0.3333333333333333,
              "#9c179e"
             ],
             [
              0.4444444444444444,
              "#bd3786"
             ],
             [
              0.5555555555555556,
              "#d8576b"
             ],
             [
              0.6666666666666666,
              "#ed7953"
             ],
             [
              0.7777777777777778,
              "#fb9f3a"
             ],
             [
              0.8888888888888888,
              "#fdca26"
             ],
             [
              1,
              "#f0f921"
             ]
            ],
            "type": "heatmap"
           }
          ],
          "heatmapgl": [
           {
            "colorbar": {
             "outlinewidth": 0,
             "ticks": ""
            },
            "colorscale": [
             [
              0,
              "#0d0887"
             ],
             [
              0.1111111111111111,
              "#46039f"
             ],
             [
              0.2222222222222222,
              "#7201a8"
             ],
             [
              0.3333333333333333,
              "#9c179e"
             ],
             [
              0.4444444444444444,
              "#bd3786"
             ],
             [
              0.5555555555555556,
              "#d8576b"
             ],
             [
              0.6666666666666666,
              "#ed7953"
             ],
             [
              0.7777777777777778,
              "#fb9f3a"
             ],
             [
              0.8888888888888888,
              "#fdca26"
             ],
             [
              1,
              "#f0f921"
             ]
            ],
            "type": "heatmapgl"
           }
          ],
          "histogram": [
           {
            "marker": {
             "pattern": {
              "fillmode": "overlay",
              "size": 10,
              "solidity": 0.2
             }
            },
            "type": "histogram"
           }
          ],
          "histogram2d": [
           {
            "colorbar": {
             "outlinewidth": 0,
             "ticks": ""
            },
            "colorscale": [
             [
              0,
              "#0d0887"
             ],
             [
              0.1111111111111111,
              "#46039f"
             ],
             [
              0.2222222222222222,
              "#7201a8"
             ],
             [
              0.3333333333333333,
              "#9c179e"
             ],
             [
              0.4444444444444444,
              "#bd3786"
             ],
             [
              0.5555555555555556,
              "#d8576b"
             ],
             [
              0.6666666666666666,
              "#ed7953"
             ],
             [
              0.7777777777777778,
              "#fb9f3a"
             ],
             [
              0.8888888888888888,
              "#fdca26"
             ],
             [
              1,
              "#f0f921"
             ]
            ],
            "type": "histogram2d"
           }
          ],
          "histogram2dcontour": [
           {
            "colorbar": {
             "outlinewidth": 0,
             "ticks": ""
            },
            "colorscale": [
             [
              0,
              "#0d0887"
             ],
             [
              0.1111111111111111,
              "#46039f"
             ],
             [
              0.2222222222222222,
              "#7201a8"
             ],
             [
              0.3333333333333333,
              "#9c179e"
             ],
             [
              0.4444444444444444,
              "#bd3786"
             ],
             [
              0.5555555555555556,
              "#d8576b"
             ],
             [
              0.6666666666666666,
              "#ed7953"
             ],
             [
              0.7777777777777778,
              "#fb9f3a"
             ],
             [
              0.8888888888888888,
              "#fdca26"
             ],
             [
              1,
              "#f0f921"
             ]
            ],
            "type": "histogram2dcontour"
           }
          ],
          "mesh3d": [
           {
            "colorbar": {
             "outlinewidth": 0,
             "ticks": ""
            },
            "type": "mesh3d"
           }
          ],
          "parcoords": [
           {
            "line": {
             "colorbar": {
              "outlinewidth": 0,
              "ticks": ""
             }
            },
            "type": "parcoords"
           }
          ],
          "pie": [
           {
            "automargin": true,
            "type": "pie"
           }
          ],
          "scatter": [
           {
            "fillpattern": {
             "fillmode": "overlay",
             "size": 10,
             "solidity": 0.2
            },
            "type": "scatter"
           }
          ],
          "scatter3d": [
           {
            "line": {
             "colorbar": {
              "outlinewidth": 0,
              "ticks": ""
             }
            },
            "marker": {
             "colorbar": {
              "outlinewidth": 0,
              "ticks": ""
             }
            },
            "type": "scatter3d"
           }
          ],
          "scattercarpet": [
           {
            "marker": {
             "colorbar": {
              "outlinewidth": 0,
              "ticks": ""
             }
            },
            "type": "scattercarpet"
           }
          ],
          "scattergeo": [
           {
            "marker": {
             "colorbar": {
              "outlinewidth": 0,
              "ticks": ""
             }
            },
            "type": "scattergeo"
           }
          ],
          "scattergl": [
           {
            "marker": {
             "colorbar": {
              "outlinewidth": 0,
              "ticks": ""
             }
            },
            "type": "scattergl"
           }
          ],
          "scattermapbox": [
           {
            "marker": {
             "colorbar": {
              "outlinewidth": 0,
              "ticks": ""
             }
            },
            "type": "scattermapbox"
           }
          ],
          "scatterpolar": [
           {
            "marker": {
             "colorbar": {
              "outlinewidth": 0,
              "ticks": ""
             }
            },
            "type": "scatterpolar"
           }
          ],
          "scatterpolargl": [
           {
            "marker": {
             "colorbar": {
              "outlinewidth": 0,
              "ticks": ""
             }
            },
            "type": "scatterpolargl"
           }
          ],
          "scatterternary": [
           {
            "marker": {
             "colorbar": {
              "outlinewidth": 0,
              "ticks": ""
             }
            },
            "type": "scatterternary"
           }
          ],
          "surface": [
           {
            "colorbar": {
             "outlinewidth": 0,
             "ticks": ""
            },
            "colorscale": [
             [
              0,
              "#0d0887"
             ],
             [
              0.1111111111111111,
              "#46039f"
             ],
             [
              0.2222222222222222,
              "#7201a8"
             ],
             [
              0.3333333333333333,
              "#9c179e"
             ],
             [
              0.4444444444444444,
              "#bd3786"
             ],
             [
              0.5555555555555556,
              "#d8576b"
             ],
             [
              0.6666666666666666,
              "#ed7953"
             ],
             [
              0.7777777777777778,
              "#fb9f3a"
             ],
             [
              0.8888888888888888,
              "#fdca26"
             ],
             [
              1,
              "#f0f921"
             ]
            ],
            "type": "surface"
           }
          ],
          "table": [
           {
            "cells": {
             "fill": {
              "color": "#EBF0F8"
             },
             "line": {
              "color": "white"
             }
            },
            "header": {
             "fill": {
              "color": "#C8D4E3"
             },
             "line": {
              "color": "white"
             }
            },
            "type": "table"
           }
          ]
         },
         "layout": {
          "annotationdefaults": {
           "arrowcolor": "#2a3f5f",
           "arrowhead": 0,
           "arrowwidth": 1
          },
          "autotypenumbers": "strict",
          "coloraxis": {
           "colorbar": {
            "outlinewidth": 0,
            "ticks": ""
           }
          },
          "colorscale": {
           "diverging": [
            [
             0,
             "#8e0152"
            ],
            [
             0.1,
             "#c51b7d"
            ],
            [
             0.2,
             "#de77ae"
            ],
            [
             0.3,
             "#f1b6da"
            ],
            [
             0.4,
             "#fde0ef"
            ],
            [
             0.5,
             "#f7f7f7"
            ],
            [
             0.6,
             "#e6f5d0"
            ],
            [
             0.7,
             "#b8e186"
            ],
            [
             0.8,
             "#7fbc41"
            ],
            [
             0.9,
             "#4d9221"
            ],
            [
             1,
             "#276419"
            ]
           ],
           "sequential": [
            [
             0,
             "#0d0887"
            ],
            [
             0.1111111111111111,
             "#46039f"
            ],
            [
             0.2222222222222222,
             "#7201a8"
            ],
            [
             0.3333333333333333,
             "#9c179e"
            ],
            [
             0.4444444444444444,
             "#bd3786"
            ],
            [
             0.5555555555555556,
             "#d8576b"
            ],
            [
             0.6666666666666666,
             "#ed7953"
            ],
            [
             0.7777777777777778,
             "#fb9f3a"
            ],
            [
             0.8888888888888888,
             "#fdca26"
            ],
            [
             1,
             "#f0f921"
            ]
           ],
           "sequentialminus": [
            [
             0,
             "#0d0887"
            ],
            [
             0.1111111111111111,
             "#46039f"
            ],
            [
             0.2222222222222222,
             "#7201a8"
            ],
            [
             0.3333333333333333,
             "#9c179e"
            ],
            [
             0.4444444444444444,
             "#bd3786"
            ],
            [
             0.5555555555555556,
             "#d8576b"
            ],
            [
             0.6666666666666666,
             "#ed7953"
            ],
            [
             0.7777777777777778,
             "#fb9f3a"
            ],
            [
             0.8888888888888888,
             "#fdca26"
            ],
            [
             1,
             "#f0f921"
            ]
           ]
          },
          "colorway": [
           "#636efa",
           "#EF553B",
           "#00cc96",
           "#ab63fa",
           "#FFA15A",
           "#19d3f3",
           "#FF6692",
           "#B6E880",
           "#FF97FF",
           "#FECB52"
          ],
          "font": {
           "color": "#2a3f5f"
          },
          "geo": {
           "bgcolor": "white",
           "lakecolor": "white",
           "landcolor": "#E5ECF6",
           "showlakes": true,
           "showland": true,
           "subunitcolor": "white"
          },
          "hoverlabel": {
           "align": "left"
          },
          "hovermode": "closest",
          "mapbox": {
           "style": "light"
          },
          "paper_bgcolor": "white",
          "plot_bgcolor": "#E5ECF6",
          "polar": {
           "angularaxis": {
            "gridcolor": "white",
            "linecolor": "white",
            "ticks": ""
           },
           "bgcolor": "#E5ECF6",
           "radialaxis": {
            "gridcolor": "white",
            "linecolor": "white",
            "ticks": ""
           }
          },
          "scene": {
           "xaxis": {
            "backgroundcolor": "#E5ECF6",
            "gridcolor": "white",
            "gridwidth": 2,
            "linecolor": "white",
            "showbackground": true,
            "ticks": "",
            "zerolinecolor": "white"
           },
           "yaxis": {
            "backgroundcolor": "#E5ECF6",
            "gridcolor": "white",
            "gridwidth": 2,
            "linecolor": "white",
            "showbackground": true,
            "ticks": "",
            "zerolinecolor": "white"
           },
           "zaxis": {
            "backgroundcolor": "#E5ECF6",
            "gridcolor": "white",
            "gridwidth": 2,
            "linecolor": "white",
            "showbackground": true,
            "ticks": "",
            "zerolinecolor": "white"
           }
          },
          "shapedefaults": {
           "line": {
            "color": "#2a3f5f"
           }
          },
          "ternary": {
           "aaxis": {
            "gridcolor": "white",
            "linecolor": "white",
            "ticks": ""
           },
           "baxis": {
            "gridcolor": "white",
            "linecolor": "white",
            "ticks": ""
           },
           "bgcolor": "#E5ECF6",
           "caxis": {
            "gridcolor": "white",
            "linecolor": "white",
            "ticks": ""
           }
          },
          "title": {
           "x": 0.05
          },
          "xaxis": {
           "automargin": true,
           "gridcolor": "white",
           "linecolor": "white",
           "ticks": "",
           "title": {
            "standoff": 15
           },
           "zerolinecolor": "white",
           "zerolinewidth": 2
          },
          "yaxis": {
           "automargin": true,
           "gridcolor": "white",
           "linecolor": "white",
           "ticks": "",
           "title": {
            "standoff": 15
           },
           "zerolinecolor": "white",
           "zerolinewidth": 2
          }
         }
        },
        "xaxis": {
         "anchor": "y",
         "domain": [
          0,
          0.49
         ],
         "title": {
          "text": "value"
         }
        },
        "xaxis2": {
         "anchor": "y2",
         "domain": [
          0.51,
          1
         ],
         "matches": "x",
         "title": {
          "text": "value"
         }
        },
        "yaxis": {
         "anchor": "x",
         "domain": [
          0,
          1
         ]
        },
        "yaxis2": {
         "anchor": "x2",
         "domain": [
          0,
          1
         ],
         "matches": "y",
         "showticklabels": false
        }
       }
      }
     },
     "metadata": {},
     "output_type": "display_data"
    }
   ],
   "source": [
    "px.box(\n",
    "    df_terms.filter(\n",
    "        (pl.col(\"term_variable\") == \"answer_accuracy\")\n",
    "        & (pl.col(\"eval.search-method\").is_not_null())\n",
    "    ).with_columns(pl.col(\"value\").cast(pl.Float32, strict=False)),\n",
    "    x=\"value\",\n",
    "    color=\"term\",\n",
    "    facet_col=\"eval.search-method\",\n",
    ")"
   ]
  },
  {
   "cell_type": "code",
   "execution_count": 57,
   "metadata": {},
   "outputs": [
    {
     "data": {
      "text/html": [
       "<div><style>\n",
       ".dataframe > thead > tr > th,\n",
       ".dataframe > tbody > tr > td {\n",
       "  text-align: right;\n",
       "}\n",
       "</style>\n",
       "<small>shape: (6, 104)</small><table border=\"1\" class=\"dataframe\"><thead><tr><th>eval.search-method</th><th>eval.extraction-method</th><th>eval.k</th><th>Experiment</th><th>rev</th><th>typ</th><th>Created</th><th>parent</th><th>answer_accuracy</th><th>conditional_answer_accuracy</th><th>max_height.answer_accuracy</th><th>max_height.conditional_answer_accuracy</th><th>max_height.num_correct_answer</th><th>max_height.num_correct_page_searched</th><th>max_height.num_results</th><th>max_height.page_search_recall</th><th>max_lot_coverage.answer_accuracy</th><th>max_lot_coverage.conditional_answer_accuracy</th><th>max_lot_coverage.num_correct_answer</th><th>max_lot_coverage.num_correct_page_searched</th><th>max_lot_coverage.num_results</th><th>max_lot_coverage.page_search_recall</th><th>max_lot_coverage_pavement.answer_accuracy</th><th>max_lot_coverage_pavement.conditional_answer_accuracy</th><th>max_lot_coverage_pavement.num_correct_answer</th><th>max_lot_coverage_pavement.num_correct_page_searched</th><th>max_lot_coverage_pavement.num_results</th><th>max_lot_coverage_pavement.page_search_recall</th><th>min_lot_size.answer_accuracy</th><th>min_lot_size.conditional_answer_accuracy</th><th>min_lot_size.num_correct_answer</th><th>min_lot_size.num_correct_page_searched</th><th>min_lot_size.num_results</th><th>min_lot_size.page_search_recall</th><th>min_parking_spaces.answer_accuracy</th><th>min_parking_spaces.conditional_answer_accuracy</th><th>min_parking_spaces.num_correct_answer</th><th>&hellip;</th><th>min unit size.answer_accuracy</th><th>min unit size.conditional_answer_accuracy</th><th>min unit size.num_correct_answer</th><th>min unit size.num_correct_page_extracted</th><th>min unit size.num_correct_page_searched</th><th>min unit size.num_results</th><th>min unit size.page_extract_recall</th><th>min unit size.page_search_recall</th><th>num_correct_answer</th><th>num_correct_page_extracted</th><th>num_correct_page_searched</th><th>num_results</th><th>page_extract_recall</th><th>extract_text.orig_document_s3_bucket</th><th>generate_dataset.seed</th><th>generate_dataset.test_split_frac</th><th>publish_datasets</th><th>eval.num-eval-rows</th><th>eval.terms</th><th>data/hf_dataset</th><th>data/hf_text_dataset</th><th>data/names_all_towns.json</th><th>data/orig-documents</th><th>data/orig_documents_s3_manifest.json</th><th>data/textract_dataset</th><th>maxdumas/extract_text.py</th><th>maxdumas/generate_dataset.py</th><th>maxdumas/upload_zoning_docs.sh</th><th>templates/extraction.pmpt.tpl</th><th>templates/extraction_chat_completion.pmpt.tpl</th><th>templates/extraction_completion.pmpt.tpl</th><th>zoning/data_processing/eval.py</th><th>zoning/data_processing/extract_text.py</th><th>zoning/data_processing/generate_dataset.py</th><th>zoning/data_processing/generate_text_dataset.py</th><th>zoning/data_processing/index_towns.py</th><th>zoning/data_processing/upload_zoning_docs.sh</th></tr><tr><td>str</td><td>str</td><td>i64</td><td>str</td><td>str</td><td>str</td><td>str</td><td>str</td><td>f32</td><td>f32</td><td>str</td><td>str</td><td>str</td><td>str</td><td>str</td><td>str</td><td>str</td><td>str</td><td>str</td><td>str</td><td>str</td><td>str</td><td>str</td><td>str</td><td>str</td><td>str</td><td>str</td><td>str</td><td>str</td><td>str</td><td>str</td><td>str</td><td>str</td><td>str</td><td>str</td><td>str</td><td>str</td><td>&hellip;</td><td>str</td><td>str</td><td>str</td><td>str</td><td>str</td><td>str</td><td>str</td><td>str</td><td>str</td><td>str</td><td>str</td><td>str</td><td>str</td><td>str</td><td>i64</td><td>f64</td><td>bool</td><td>i64</td><td>str</td><td>str</td><td>str</td><td>str</td><td>str</td><td>str</td><td>str</td><td>str</td><td>str</td><td>str</td><td>str</td><td>str</td><td>str</td><td>str</td><td>str</td><td>str</td><td>str</td><td>str</td><td>str</td></tr></thead><tbody><tr><td>&quot;embeddings_knn…</td><td>&quot;map&quot;</td><td>16</td><td>null</td><td>&quot;adaa401&quot;</td><td>&quot;baseline&quot;</td><td>&quot;2023-08-21T20:…</td><td>null</td><td>0.783333</td><td>0.800794</td><td>&quot;1.0&quot;</td><td>&quot;1.0&quot;</td><td>&quot;10&quot;</td><td>&quot;8&quot;</td><td>&quot;163&quot;</td><td>&quot;0.8&quot;</td><td>&quot;0.9&quot;</td><td>&quot;1.0&quot;</td><td>&quot;9&quot;</td><td>&quot;4&quot;</td><td>&quot;166&quot;</td><td>&quot;0.4&quot;</td><td>&quot;0.7&quot;</td><td>&quot;0.833333333333…</td><td>&quot;7&quot;</td><td>&quot;6&quot;</td><td>&quot;160&quot;</td><td>&quot;0.6&quot;</td><td>&quot;0.7&quot;</td><td>&quot;0.8&quot;</td><td>&quot;7&quot;</td><td>&quot;5&quot;</td><td>&quot;163&quot;</td><td>&quot;0.5&quot;</td><td>&quot;0.6&quot;</td><td>&quot;0.571428571428…</td><td>&quot;6&quot;</td><td>&hellip;</td><td>null</td><td>null</td><td>null</td><td>null</td><td>null</td><td>null</td><td>null</td><td>null</td><td>null</td><td>null</td><td>null</td><td>null</td><td>null</td><td>&quot;cornell-mfd64&quot;</td><td>42</td><td>0.3</td><td>true</td><td>10</td><td>&quot;[&#x27;min_lot_size…</td><td>&quot;302e323289b318…</td><td>&quot;e832d3471ef79f…</td><td>&quot;0013040cfeb0f4…</td><td>&quot;2311e7a6bb96f9…</td><td>&quot;897ea14dfed07e…</td><td>&quot;11062398489b76…</td><td>null</td><td>null</td><td>null</td><td>null</td><td>&quot;1a26f472c8a488…</td><td>&quot;cdd9b0b79ac4ed…</td><td>&quot;d422252768218b…</td><td>&quot;98404ae0ff0f6d…</td><td>&quot;51f7f2eef57fa4…</td><td>&quot;45a291510a51b8…</td><td>&quot;cd3c4af8c8e19c…</td><td>&quot;4bc9fb2d649525…</td></tr><tr><td>&quot;embeddings_knn…</td><td>&quot;map&quot;</td><td>6</td><td>null</td><td>&quot;66b94c6&quot;</td><td>&quot;baseline&quot;</td><td>&quot;2023-08-21T19:…</td><td>null</td><td>0.7</td><td>0.808333</td><td>&quot;0.9&quot;</td><td>&quot;1.0&quot;</td><td>&quot;9&quot;</td><td>&quot;7&quot;</td><td>&quot;63&quot;</td><td>&quot;0.7&quot;</td><td>&quot;0.9&quot;</td><td>&quot;1.0&quot;</td><td>&quot;9&quot;</td><td>&quot;4&quot;</td><td>&quot;66&quot;</td><td>&quot;0.4&quot;</td><td>&quot;0.6&quot;</td><td>&quot;0.8&quot;</td><td>&quot;6&quot;</td><td>&quot;5&quot;</td><td>&quot;60&quot;</td><td>&quot;0.5&quot;</td><td>&quot;0.7&quot;</td><td>&quot;0.8&quot;</td><td>&quot;7&quot;</td><td>&quot;5&quot;</td><td>&quot;63&quot;</td><td>&quot;0.5&quot;</td><td>&quot;0.3&quot;</td><td>&quot;0.5&quot;</td><td>&quot;3&quot;</td><td>&hellip;</td><td>null</td><td>null</td><td>null</td><td>null</td><td>null</td><td>null</td><td>null</td><td>null</td><td>null</td><td>null</td><td>null</td><td>null</td><td>null</td><td>&quot;cornell-mfd64&quot;</td><td>42</td><td>0.3</td><td>true</td><td>10</td><td>&quot;[&#x27;min_lot_size…</td><td>&quot;302e323289b318…</td><td>&quot;e832d3471ef79f…</td><td>&quot;0013040cfeb0f4…</td><td>&quot;2311e7a6bb96f9…</td><td>&quot;897ea14dfed07e…</td><td>&quot;11062398489b76…</td><td>null</td><td>null</td><td>null</td><td>null</td><td>&quot;1a26f472c8a488…</td><td>&quot;cdd9b0b79ac4ed…</td><td>&quot;88e27afc9f9706…</td><td>&quot;98404ae0ff0f6d…</td><td>&quot;51f7f2eef57fa4…</td><td>&quot;45a291510a51b8…</td><td>&quot;cd3c4af8c8e19c…</td><td>&quot;4bc9fb2d649525…</td></tr><tr><td>&quot;elasticsearch&quot;</td><td>&quot;map&quot;</td><td>6</td><td>null</td><td>&quot;241aa7b&quot;</td><td>&quot;baseline&quot;</td><td>&quot;2023-08-21T19:…</td><td>null</td><td>0.685185</td><td>0.685516</td><td>&quot;0.9&quot;</td><td>&quot;0.875&quot;</td><td>&quot;9&quot;</td><td>&quot;8&quot;</td><td>&quot;36&quot;</td><td>&quot;0.8&quot;</td><td>&quot;0.666666666666…</td><td>&quot;1.0&quot;</td><td>&quot;6&quot;</td><td>&quot;4&quot;</td><td>&quot;19&quot;</td><td>&quot;0.444444444444…</td><td>&quot;0.555555555555…</td><td>&quot;0.571428571428…</td><td>&quot;5&quot;</td><td>&quot;7&quot;</td><td>&quot;19&quot;</td><td>&quot;0.777777777777…</td><td>&quot;0.8&quot;</td><td>&quot;0.666666666666…</td><td>&quot;8&quot;</td><td>&quot;6&quot;</td><td>&quot;25&quot;</td><td>&quot;0.6&quot;</td><td>&quot;0.3&quot;</td><td>&quot;0&quot;</td><td>&quot;3&quot;</td><td>&hellip;</td><td>null</td><td>null</td><td>null</td><td>null</td><td>null</td><td>null</td><td>null</td><td>null</td><td>null</td><td>null</td><td>null</td><td>null</td><td>null</td><td>&quot;cornell-mfd64&quot;</td><td>42</td><td>0.3</td><td>true</td><td>10</td><td>&quot;[&#x27;min_lot_size…</td><td>&quot;302e323289b318…</td><td>&quot;e832d3471ef79f…</td><td>&quot;0013040cfeb0f4…</td><td>&quot;2311e7a6bb96f9…</td><td>&quot;897ea14dfed07e…</td><td>&quot;11062398489b76…</td><td>null</td><td>null</td><td>null</td><td>null</td><td>&quot;1a26f472c8a488…</td><td>&quot;cdd9b0b79ac4ed…</td><td>&quot;88e27afc9f9706…</td><td>&quot;98404ae0ff0f6d…</td><td>&quot;51f7f2eef57fa4…</td><td>&quot;45a291510a51b8…</td><td>&quot;cd3c4af8c8e19c…</td><td>&quot;4bc9fb2d649525…</td></tr><tr><td>&quot;elasticsearch&quot;</td><td>&quot;tournament_red…</td><td>6</td><td>null</td><td>&quot;f0134e1&quot;</td><td>&quot;baseline&quot;</td><td>&quot;2023-08-21T19:…</td><td>null</td><td>0.668056</td><td>0.8</td><td>&quot;0.875&quot;</td><td>&quot;1.0&quot;</td><td>&quot;7&quot;</td><td>&quot;7&quot;</td><td>&quot;11&quot;</td><td>&quot;0.875&quot;</td><td>&quot;0.5&quot;</td><td>&quot;1.0&quot;</td><td>&quot;4&quot;</td><td>&quot;4&quot;</td><td>&quot;10&quot;</td><td>&quot;0.5&quot;</td><td>&quot;0.666666666666…</td><td>&quot;0.8&quot;</td><td>&quot;4&quot;</td><td>&quot;5&quot;</td><td>&quot;6&quot;</td><td>&quot;0.833333333333…</td><td>&quot;0.666666666666…</td><td>&quot;1.0&quot;</td><td>&quot;4&quot;</td><td>&quot;4&quot;</td><td>&quot;6&quot;</td><td>&quot;0.666666666666…</td><td>&quot;0.5&quot;</td><td>&quot;0&quot;</td><td>&quot;2&quot;</td><td>&hellip;</td><td>null</td><td>null</td><td>null</td><td>null</td><td>null</td><td>null</td><td>null</td><td>null</td><td>null</td><td>null</td><td>null</td><td>null</td><td>null</td><td>&quot;cornell-mfd64&quot;</td><td>42</td><td>0.3</td><td>true</td><td>10</td><td>&quot;[&#x27;min_lot_size…</td><td>&quot;302e323289b318…</td><td>&quot;e832d3471ef79f…</td><td>&quot;0013040cfeb0f4…</td><td>&quot;2311e7a6bb96f9…</td><td>&quot;897ea14dfed07e…</td><td>&quot;11062398489b76…</td><td>null</td><td>null</td><td>null</td><td>null</td><td>&quot;1a26f472c8a488…</td><td>&quot;cdd9b0b79ac4ed…</td><td>&quot;88e27afc9f9706…</td><td>&quot;98404ae0ff0f6d…</td><td>&quot;51f7f2eef57fa4…</td><td>&quot;45a291510a51b8…</td><td>&quot;cd3c4af8c8e19c…</td><td>&quot;4bc9fb2d649525…</td></tr><tr><td>&quot;embeddings_knn…</td><td>&quot;tournament_red…</td><td>16</td><td>null</td><td>&quot;workspace&quot;</td><td>&quot;baseline&quot;</td><td>null</td><td>null</td><td>0.561905</td><td>0.930556</td><td>&quot;0.8&quot;</td><td>&quot;1.0&quot;</td><td>&quot;8&quot;</td><td>&quot;8&quot;</td><td>&quot;13&quot;</td><td>&quot;0.8&quot;</td><td>&quot;0.428571428571…</td><td>&quot;1.0&quot;</td><td>&quot;3&quot;</td><td>&quot;3&quot;</td><td>&quot;12&quot;</td><td>&quot;0.428571428571…</td><td>&quot;0.625&quot;</td><td>&quot;0.833333333333…</td><td>&quot;5&quot;</td><td>&quot;6&quot;</td><td>&quot;8&quot;</td><td>&quot;0.75&quot;</td><td>&quot;0.428571428571…</td><td>&quot;0.75&quot;</td><td>&quot;3&quot;</td><td>&quot;4&quot;</td><td>&quot;10&quot;</td><td>&quot;0.571428571428…</td><td>&quot;0.714285714285…</td><td>&quot;1.0&quot;</td><td>&quot;5&quot;</td><td>&hellip;</td><td>null</td><td>null</td><td>null</td><td>null</td><td>null</td><td>null</td><td>null</td><td>null</td><td>null</td><td>null</td><td>null</td><td>null</td><td>null</td><td>&quot;cornell-mfd64&quot;</td><td>42</td><td>0.3</td><td>true</td><td>10</td><td>&quot;[&#x27;min_lot_size…</td><td>&quot;302e323289b318…</td><td>&quot;e832d3471ef79f…</td><td>&quot;0013040cfeb0f4…</td><td>&quot;2311e7a6bb96f9…</td><td>&quot;897ea14dfed07e…</td><td>&quot;11062398489b76…</td><td>null</td><td>null</td><td>null</td><td>null</td><td>&quot;1a26f472c8a488…</td><td>&quot;cdd9b0b79ac4ed…</td><td>&quot;ed75967007eee2…</td><td>&quot;98404ae0ff0f6d…</td><td>&quot;51f7f2eef57fa4…</td><td>&quot;45a291510a51b8…</td><td>&quot;cd3c4af8c8e19c…</td><td>&quot;4bc9fb2d649525…</td></tr><tr><td>&quot;embeddings_knn…</td><td>&quot;tournament_red…</td><td>20</td><td>&quot;socko-coze&quot;</td><td>&quot;590a325&quot;</td><td>&quot;branch_base&quot;</td><td>&quot;2023-08-21T22:…</td><td>null</td><td>0.561905</td><td>0.972222</td><td>&quot;0.8&quot;</td><td>&quot;1.0&quot;</td><td>&quot;8&quot;</td><td>&quot;8&quot;</td><td>&quot;13&quot;</td><td>&quot;0.8&quot;</td><td>&quot;0.428571428571…</td><td>&quot;1.0&quot;</td><td>&quot;3&quot;</td><td>&quot;3&quot;</td><td>&quot;12&quot;</td><td>&quot;0.428571428571…</td><td>&quot;0.625&quot;</td><td>&quot;0.833333333333…</td><td>&quot;5&quot;</td><td>&quot;6&quot;</td><td>&quot;8&quot;</td><td>&quot;0.75&quot;</td><td>&quot;0.428571428571…</td><td>&quot;1.0&quot;</td><td>&quot;3&quot;</td><td>&quot;3&quot;</td><td>&quot;7&quot;</td><td>&quot;0.428571428571…</td><td>&quot;0.714285714285…</td><td>&quot;1.0&quot;</td><td>&quot;5&quot;</td><td>&hellip;</td><td>null</td><td>null</td><td>null</td><td>null</td><td>null</td><td>null</td><td>null</td><td>null</td><td>null</td><td>null</td><td>null</td><td>null</td><td>null</td><td>&quot;cornell-mfd64&quot;</td><td>42</td><td>0.3</td><td>true</td><td>10</td><td>&quot;[&#x27;min_lot_size…</td><td>&quot;302e323289b318…</td><td>&quot;e832d3471ef79f…</td><td>&quot;0013040cfeb0f4…</td><td>&quot;2311e7a6bb96f9…</td><td>&quot;897ea14dfed07e…</td><td>&quot;11062398489b76…</td><td>null</td><td>null</td><td>null</td><td>null</td><td>&quot;1a26f472c8a488…</td><td>&quot;cdd9b0b79ac4ed…</td><td>&quot;ed75967007eee2…</td><td>&quot;98404ae0ff0f6d…</td><td>&quot;51f7f2eef57fa4…</td><td>&quot;45a291510a51b8…</td><td>&quot;cd3c4af8c8e19c…</td><td>&quot;4bc9fb2d649525…</td></tr></tbody></table></div>"
      ],
      "text/plain": [
       "shape: (6, 104)\n",
       "┌────────────┬────────────┬────────┬───────────┬───┬───────────┬───────────┬───────────┬───────────┐\n",
       "│ eval.searc ┆ eval.extra ┆ eval.k ┆ Experimen ┆ … ┆ zoning/da ┆ zoning/da ┆ zoning/da ┆ zoning/da │\n",
       "│ h-method   ┆ ction-meth ┆ ---    ┆ t         ┆   ┆ ta_proces ┆ ta_proces ┆ ta_proces ┆ ta_proces │\n",
       "│ ---        ┆ od         ┆ i64    ┆ ---       ┆   ┆ sing/gene ┆ sing/gene ┆ sing/inde ┆ sing/uplo │\n",
       "│ str        ┆ ---        ┆        ┆ str       ┆   ┆ rate_…    ┆ rate_…    ┆ x_tow…    ┆ ad_zo…    │\n",
       "│            ┆ str        ┆        ┆           ┆   ┆ ---       ┆ ---       ┆ ---       ┆ ---       │\n",
       "│            ┆            ┆        ┆           ┆   ┆ str       ┆ str       ┆ str       ┆ str       │\n",
       "╞════════════╪════════════╪════════╪═══════════╪═══╪═══════════╪═══════════╪═══════════╪═══════════╡\n",
       "│ embeddings ┆ map        ┆ 16     ┆ null      ┆ … ┆ 51f7f2eef ┆ 45a291510 ┆ cd3c4af8c ┆ 4bc9fb2d6 │\n",
       "│ _knn       ┆            ┆        ┆           ┆   ┆ 57fa468b3 ┆ a51b88863 ┆ 8e19c9927 ┆ 49525a0c3 │\n",
       "│            ┆            ┆        ┆           ┆   ┆ d03fd2d8f ┆ 978680521 ┆ e28912aaf ┆ 928fe4f7b │\n",
       "│            ┆            ┆        ┆           ┆   ┆ aa385     ┆ 38501     ┆ 7ced5     ┆ c2307     │\n",
       "│ embeddings ┆ map        ┆ 6      ┆ null      ┆ … ┆ 51f7f2eef ┆ 45a291510 ┆ cd3c4af8c ┆ 4bc9fb2d6 │\n",
       "│ _knn       ┆            ┆        ┆           ┆   ┆ 57fa468b3 ┆ a51b88863 ┆ 8e19c9927 ┆ 49525a0c3 │\n",
       "│            ┆            ┆        ┆           ┆   ┆ d03fd2d8f ┆ 978680521 ┆ e28912aaf ┆ 928fe4f7b │\n",
       "│            ┆            ┆        ┆           ┆   ┆ aa385     ┆ 38501     ┆ 7ced5     ┆ c2307     │\n",
       "│ elasticsea ┆ map        ┆ 6      ┆ null      ┆ … ┆ 51f7f2eef ┆ 45a291510 ┆ cd3c4af8c ┆ 4bc9fb2d6 │\n",
       "│ rch        ┆            ┆        ┆           ┆   ┆ 57fa468b3 ┆ a51b88863 ┆ 8e19c9927 ┆ 49525a0c3 │\n",
       "│            ┆            ┆        ┆           ┆   ┆ d03fd2d8f ┆ 978680521 ┆ e28912aaf ┆ 928fe4f7b │\n",
       "│            ┆            ┆        ┆           ┆   ┆ aa385     ┆ 38501     ┆ 7ced5     ┆ c2307     │\n",
       "│ elasticsea ┆ tournament ┆ 6      ┆ null      ┆ … ┆ 51f7f2eef ┆ 45a291510 ┆ cd3c4af8c ┆ 4bc9fb2d6 │\n",
       "│ rch        ┆ _reduce    ┆        ┆           ┆   ┆ 57fa468b3 ┆ a51b88863 ┆ 8e19c9927 ┆ 49525a0c3 │\n",
       "│            ┆            ┆        ┆           ┆   ┆ d03fd2d8f ┆ 978680521 ┆ e28912aaf ┆ 928fe4f7b │\n",
       "│            ┆            ┆        ┆           ┆   ┆ aa385     ┆ 38501     ┆ 7ced5     ┆ c2307     │\n",
       "│ embeddings ┆ tournament ┆ 16     ┆ null      ┆ … ┆ 51f7f2eef ┆ 45a291510 ┆ cd3c4af8c ┆ 4bc9fb2d6 │\n",
       "│ _knn       ┆ _reduce    ┆        ┆           ┆   ┆ 57fa468b3 ┆ a51b88863 ┆ 8e19c9927 ┆ 49525a0c3 │\n",
       "│            ┆            ┆        ┆           ┆   ┆ d03fd2d8f ┆ 978680521 ┆ e28912aaf ┆ 928fe4f7b │\n",
       "│            ┆            ┆        ┆           ┆   ┆ aa385     ┆ 38501     ┆ 7ced5     ┆ c2307     │\n",
       "│ embeddings ┆ tournament ┆ 20     ┆ socko-coz ┆ … ┆ 51f7f2eef ┆ 45a291510 ┆ cd3c4af8c ┆ 4bc9fb2d6 │\n",
       "│ _knn       ┆ _reduce    ┆        ┆ e         ┆   ┆ 57fa468b3 ┆ a51b88863 ┆ 8e19c9927 ┆ 49525a0c3 │\n",
       "│            ┆            ┆        ┆           ┆   ┆ d03fd2d8f ┆ 978680521 ┆ e28912aaf ┆ 928fe4f7b │\n",
       "│            ┆            ┆        ┆           ┆   ┆ aa385     ┆ 38501     ┆ 7ced5     ┆ c2307     │\n",
       "└────────────┴────────────┴────────┴───────────┴───┴───────────┴───────────┴───────────┴───────────┘"
      ]
     },
     "execution_count": 57,
     "metadata": {},
     "output_type": "execute_result"
    }
   ],
   "source": [
    "df.filter(\n",
    "    pl.all_horizontal(\n",
    "        pl.col(\"eval.search-method\", \"eval.extraction-method\", \"eval.k\").is_not_null()\n",
    "    )\n",
    ").groupby(pl.col(\"eval.search-method\", \"eval.extraction-method\", \"eval.k\")).agg(\n",
    "    pl.col(\"*\").first()\n",
    ").sort(pl.col(\"answer_accuracy\"), descending=True)"
   ]
  },
  {
   "cell_type": "code",
   "execution_count": 58,
   "metadata": {},
   "outputs": [
    {
     "data": {
      "application/vnd.plotly.v1+json": {
       "config": {
        "plotlyServerURL": "https://plot.ly"
       },
       "data": [
        {
         "hovertemplate": "eval.extraction-method=map<br>eval.search-method=embeddings_knn<br>eval.k=%{x}<br>answer_accuracy=%{y}<extra></extra>",
         "legendgroup": "map",
         "marker": {
          "color": "#636efa",
          "symbol": "circle"
         },
         "mode": "markers",
         "name": "map",
         "orientation": "v",
         "showlegend": true,
         "type": "scatter",
         "x": [
          16,
          16,
          6,
          6
         ],
         "xaxis": "x",
         "y": [
          0.78333336,
          0.78333336,
          0.7,
          0.7
         ],
         "yaxis": "y"
        },
        {
         "hovertemplate": "eval.extraction-method=map<br>eval.search-method=elasticsearch<br>eval.k=%{x}<br>answer_accuracy=%{y}<extra></extra>",
         "legendgroup": "map",
         "marker": {
          "color": "#636efa",
          "symbol": "circle"
         },
         "mode": "markers",
         "name": "map",
         "orientation": "v",
         "showlegend": false,
         "type": "scatter",
         "x": [
          6,
          6
         ],
         "xaxis": "x2",
         "y": [
          0.6851852,
          0.6851852
         ],
         "yaxis": "y2"
        },
        {
         "hovertemplate": "eval.extraction-method=tournament_reduce<br>eval.search-method=embeddings_knn<br>eval.k=%{x}<br>answer_accuracy=%{y}<extra></extra>",
         "legendgroup": "tournament_reduce",
         "marker": {
          "color": "#EF553B",
          "symbol": "circle"
         },
         "mode": "markers",
         "name": "tournament_reduce",
         "orientation": "v",
         "showlegend": true,
         "type": "scatter",
         "x": [
          16,
          16,
          16,
          16,
          16,
          20,
          16
         ],
         "xaxis": "x",
         "y": [
          0.5619048,
          0.5619048,
          0.5619048,
          0.5619048,
          0.5619048,
          0.5619048,
          0.5619048
         ],
         "yaxis": "y"
        },
        {
         "hovertemplate": "eval.extraction-method=tournament_reduce<br>eval.search-method=elasticsearch<br>eval.k=%{x}<br>answer_accuracy=%{y}<extra></extra>",
         "legendgroup": "tournament_reduce",
         "marker": {
          "color": "#EF553B",
          "symbol": "circle"
         },
         "mode": "markers",
         "name": "tournament_reduce",
         "orientation": "v",
         "showlegend": false,
         "type": "scatter",
         "x": [
          6,
          6
         ],
         "xaxis": "x2",
         "y": [
          0.66805553,
          0.66805553
         ],
         "yaxis": "y2"
        }
       ],
       "layout": {
        "annotations": [
         {
          "font": {},
          "showarrow": false,
          "text": "eval.search-method=embeddings_knn",
          "x": 0.15999999999999998,
          "xanchor": "center",
          "xref": "paper",
          "y": 1,
          "yanchor": "bottom",
          "yref": "paper"
         },
         {
          "font": {},
          "showarrow": false,
          "text": "eval.search-method=elasticsearch",
          "x": 0.49999999999999994,
          "xanchor": "center",
          "xref": "paper",
          "y": 1,
          "yanchor": "bottom",
          "yref": "paper"
         },
         {
          "font": {},
          "showarrow": false,
          "text": "eval.search-method=nan",
          "x": 0.8399999999999999,
          "xanchor": "center",
          "xref": "paper",
          "y": 1,
          "yanchor": "bottom",
          "yref": "paper"
         }
        ],
        "legend": {
         "title": {
          "text": "eval.extraction-method"
         },
         "tracegroupgap": 0
        },
        "margin": {
         "t": 60
        },
        "template": {
         "data": {
          "bar": [
           {
            "error_x": {
             "color": "#2a3f5f"
            },
            "error_y": {
             "color": "#2a3f5f"
            },
            "marker": {
             "line": {
              "color": "#E5ECF6",
              "width": 0.5
             },
             "pattern": {
              "fillmode": "overlay",
              "size": 10,
              "solidity": 0.2
             }
            },
            "type": "bar"
           }
          ],
          "barpolar": [
           {
            "marker": {
             "line": {
              "color": "#E5ECF6",
              "width": 0.5
             },
             "pattern": {
              "fillmode": "overlay",
              "size": 10,
              "solidity": 0.2
             }
            },
            "type": "barpolar"
           }
          ],
          "carpet": [
           {
            "aaxis": {
             "endlinecolor": "#2a3f5f",
             "gridcolor": "white",
             "linecolor": "white",
             "minorgridcolor": "white",
             "startlinecolor": "#2a3f5f"
            },
            "baxis": {
             "endlinecolor": "#2a3f5f",
             "gridcolor": "white",
             "linecolor": "white",
             "minorgridcolor": "white",
             "startlinecolor": "#2a3f5f"
            },
            "type": "carpet"
           }
          ],
          "choropleth": [
           {
            "colorbar": {
             "outlinewidth": 0,
             "ticks": ""
            },
            "type": "choropleth"
           }
          ],
          "contour": [
           {
            "colorbar": {
             "outlinewidth": 0,
             "ticks": ""
            },
            "colorscale": [
             [
              0,
              "#0d0887"
             ],
             [
              0.1111111111111111,
              "#46039f"
             ],
             [
              0.2222222222222222,
              "#7201a8"
             ],
             [
              0.3333333333333333,
              "#9c179e"
             ],
             [
              0.4444444444444444,
              "#bd3786"
             ],
             [
              0.5555555555555556,
              "#d8576b"
             ],
             [
              0.6666666666666666,
              "#ed7953"
             ],
             [
              0.7777777777777778,
              "#fb9f3a"
             ],
             [
              0.8888888888888888,
              "#fdca26"
             ],
             [
              1,
              "#f0f921"
             ]
            ],
            "type": "contour"
           }
          ],
          "contourcarpet": [
           {
            "colorbar": {
             "outlinewidth": 0,
             "ticks": ""
            },
            "type": "contourcarpet"
           }
          ],
          "heatmap": [
           {
            "colorbar": {
             "outlinewidth": 0,
             "ticks": ""
            },
            "colorscale": [
             [
              0,
              "#0d0887"
             ],
             [
              0.1111111111111111,
              "#46039f"
             ],
             [
              0.2222222222222222,
              "#7201a8"
             ],
             [
              0.3333333333333333,
              "#9c179e"
             ],
             [
              0.4444444444444444,
              "#bd3786"
             ],
             [
              0.5555555555555556,
              "#d8576b"
             ],
             [
              0.6666666666666666,
              "#ed7953"
             ],
             [
              0.7777777777777778,
              "#fb9f3a"
             ],
             [
              0.8888888888888888,
              "#fdca26"
             ],
             [
              1,
              "#f0f921"
             ]
            ],
            "type": "heatmap"
           }
          ],
          "heatmapgl": [
           {
            "colorbar": {
             "outlinewidth": 0,
             "ticks": ""
            },
            "colorscale": [
             [
              0,
              "#0d0887"
             ],
             [
              0.1111111111111111,
              "#46039f"
             ],
             [
              0.2222222222222222,
              "#7201a8"
             ],
             [
              0.3333333333333333,
              "#9c179e"
             ],
             [
              0.4444444444444444,
              "#bd3786"
             ],
             [
              0.5555555555555556,
              "#d8576b"
             ],
             [
              0.6666666666666666,
              "#ed7953"
             ],
             [
              0.7777777777777778,
              "#fb9f3a"
             ],
             [
              0.8888888888888888,
              "#fdca26"
             ],
             [
              1,
              "#f0f921"
             ]
            ],
            "type": "heatmapgl"
           }
          ],
          "histogram": [
           {
            "marker": {
             "pattern": {
              "fillmode": "overlay",
              "size": 10,
              "solidity": 0.2
             }
            },
            "type": "histogram"
           }
          ],
          "histogram2d": [
           {
            "colorbar": {
             "outlinewidth": 0,
             "ticks": ""
            },
            "colorscale": [
             [
              0,
              "#0d0887"
             ],
             [
              0.1111111111111111,
              "#46039f"
             ],
             [
              0.2222222222222222,
              "#7201a8"
             ],
             [
              0.3333333333333333,
              "#9c179e"
             ],
             [
              0.4444444444444444,
              "#bd3786"
             ],
             [
              0.5555555555555556,
              "#d8576b"
             ],
             [
              0.6666666666666666,
              "#ed7953"
             ],
             [
              0.7777777777777778,
              "#fb9f3a"
             ],
             [
              0.8888888888888888,
              "#fdca26"
             ],
             [
              1,
              "#f0f921"
             ]
            ],
            "type": "histogram2d"
           }
          ],
          "histogram2dcontour": [
           {
            "colorbar": {
             "outlinewidth": 0,
             "ticks": ""
            },
            "colorscale": [
             [
              0,
              "#0d0887"
             ],
             [
              0.1111111111111111,
              "#46039f"
             ],
             [
              0.2222222222222222,
              "#7201a8"
             ],
             [
              0.3333333333333333,
              "#9c179e"
             ],
             [
              0.4444444444444444,
              "#bd3786"
             ],
             [
              0.5555555555555556,
              "#d8576b"
             ],
             [
              0.6666666666666666,
              "#ed7953"
             ],
             [
              0.7777777777777778,
              "#fb9f3a"
             ],
             [
              0.8888888888888888,
              "#fdca26"
             ],
             [
              1,
              "#f0f921"
             ]
            ],
            "type": "histogram2dcontour"
           }
          ],
          "mesh3d": [
           {
            "colorbar": {
             "outlinewidth": 0,
             "ticks": ""
            },
            "type": "mesh3d"
           }
          ],
          "parcoords": [
           {
            "line": {
             "colorbar": {
              "outlinewidth": 0,
              "ticks": ""
             }
            },
            "type": "parcoords"
           }
          ],
          "pie": [
           {
            "automargin": true,
            "type": "pie"
           }
          ],
          "scatter": [
           {
            "fillpattern": {
             "fillmode": "overlay",
             "size": 10,
             "solidity": 0.2
            },
            "type": "scatter"
           }
          ],
          "scatter3d": [
           {
            "line": {
             "colorbar": {
              "outlinewidth": 0,
              "ticks": ""
             }
            },
            "marker": {
             "colorbar": {
              "outlinewidth": 0,
              "ticks": ""
             }
            },
            "type": "scatter3d"
           }
          ],
          "scattercarpet": [
           {
            "marker": {
             "colorbar": {
              "outlinewidth": 0,
              "ticks": ""
             }
            },
            "type": "scattercarpet"
           }
          ],
          "scattergeo": [
           {
            "marker": {
             "colorbar": {
              "outlinewidth": 0,
              "ticks": ""
             }
            },
            "type": "scattergeo"
           }
          ],
          "scattergl": [
           {
            "marker": {
             "colorbar": {
              "outlinewidth": 0,
              "ticks": ""
             }
            },
            "type": "scattergl"
           }
          ],
          "scattermapbox": [
           {
            "marker": {
             "colorbar": {
              "outlinewidth": 0,
              "ticks": ""
             }
            },
            "type": "scattermapbox"
           }
          ],
          "scatterpolar": [
           {
            "marker": {
             "colorbar": {
              "outlinewidth": 0,
              "ticks": ""
             }
            },
            "type": "scatterpolar"
           }
          ],
          "scatterpolargl": [
           {
            "marker": {
             "colorbar": {
              "outlinewidth": 0,
              "ticks": ""
             }
            },
            "type": "scatterpolargl"
           }
          ],
          "scatterternary": [
           {
            "marker": {
             "colorbar": {
              "outlinewidth": 0,
              "ticks": ""
             }
            },
            "type": "scatterternary"
           }
          ],
          "surface": [
           {
            "colorbar": {
             "outlinewidth": 0,
             "ticks": ""
            },
            "colorscale": [
             [
              0,
              "#0d0887"
             ],
             [
              0.1111111111111111,
              "#46039f"
             ],
             [
              0.2222222222222222,
              "#7201a8"
             ],
             [
              0.3333333333333333,
              "#9c179e"
             ],
             [
              0.4444444444444444,
              "#bd3786"
             ],
             [
              0.5555555555555556,
              "#d8576b"
             ],
             [
              0.6666666666666666,
              "#ed7953"
             ],
             [
              0.7777777777777778,
              "#fb9f3a"
             ],
             [
              0.8888888888888888,
              "#fdca26"
             ],
             [
              1,
              "#f0f921"
             ]
            ],
            "type": "surface"
           }
          ],
          "table": [
           {
            "cells": {
             "fill": {
              "color": "#EBF0F8"
             },
             "line": {
              "color": "white"
             }
            },
            "header": {
             "fill": {
              "color": "#C8D4E3"
             },
             "line": {
              "color": "white"
             }
            },
            "type": "table"
           }
          ]
         },
         "layout": {
          "annotationdefaults": {
           "arrowcolor": "#2a3f5f",
           "arrowhead": 0,
           "arrowwidth": 1
          },
          "autotypenumbers": "strict",
          "coloraxis": {
           "colorbar": {
            "outlinewidth": 0,
            "ticks": ""
           }
          },
          "colorscale": {
           "diverging": [
            [
             0,
             "#8e0152"
            ],
            [
             0.1,
             "#c51b7d"
            ],
            [
             0.2,
             "#de77ae"
            ],
            [
             0.3,
             "#f1b6da"
            ],
            [
             0.4,
             "#fde0ef"
            ],
            [
             0.5,
             "#f7f7f7"
            ],
            [
             0.6,
             "#e6f5d0"
            ],
            [
             0.7,
             "#b8e186"
            ],
            [
             0.8,
             "#7fbc41"
            ],
            [
             0.9,
             "#4d9221"
            ],
            [
             1,
             "#276419"
            ]
           ],
           "sequential": [
            [
             0,
             "#0d0887"
            ],
            [
             0.1111111111111111,
             "#46039f"
            ],
            [
             0.2222222222222222,
             "#7201a8"
            ],
            [
             0.3333333333333333,
             "#9c179e"
            ],
            [
             0.4444444444444444,
             "#bd3786"
            ],
            [
             0.5555555555555556,
             "#d8576b"
            ],
            [
             0.6666666666666666,
             "#ed7953"
            ],
            [
             0.7777777777777778,
             "#fb9f3a"
            ],
            [
             0.8888888888888888,
             "#fdca26"
            ],
            [
             1,
             "#f0f921"
            ]
           ],
           "sequentialminus": [
            [
             0,
             "#0d0887"
            ],
            [
             0.1111111111111111,
             "#46039f"
            ],
            [
             0.2222222222222222,
             "#7201a8"
            ],
            [
             0.3333333333333333,
             "#9c179e"
            ],
            [
             0.4444444444444444,
             "#bd3786"
            ],
            [
             0.5555555555555556,
             "#d8576b"
            ],
            [
             0.6666666666666666,
             "#ed7953"
            ],
            [
             0.7777777777777778,
             "#fb9f3a"
            ],
            [
             0.8888888888888888,
             "#fdca26"
            ],
            [
             1,
             "#f0f921"
            ]
           ]
          },
          "colorway": [
           "#636efa",
           "#EF553B",
           "#00cc96",
           "#ab63fa",
           "#FFA15A",
           "#19d3f3",
           "#FF6692",
           "#B6E880",
           "#FF97FF",
           "#FECB52"
          ],
          "font": {
           "color": "#2a3f5f"
          },
          "geo": {
           "bgcolor": "white",
           "lakecolor": "white",
           "landcolor": "#E5ECF6",
           "showlakes": true,
           "showland": true,
           "subunitcolor": "white"
          },
          "hoverlabel": {
           "align": "left"
          },
          "hovermode": "closest",
          "mapbox": {
           "style": "light"
          },
          "paper_bgcolor": "white",
          "plot_bgcolor": "#E5ECF6",
          "polar": {
           "angularaxis": {
            "gridcolor": "white",
            "linecolor": "white",
            "ticks": ""
           },
           "bgcolor": "#E5ECF6",
           "radialaxis": {
            "gridcolor": "white",
            "linecolor": "white",
            "ticks": ""
           }
          },
          "scene": {
           "xaxis": {
            "backgroundcolor": "#E5ECF6",
            "gridcolor": "white",
            "gridwidth": 2,
            "linecolor": "white",
            "showbackground": true,
            "ticks": "",
            "zerolinecolor": "white"
           },
           "yaxis": {
            "backgroundcolor": "#E5ECF6",
            "gridcolor": "white",
            "gridwidth": 2,
            "linecolor": "white",
            "showbackground": true,
            "ticks": "",
            "zerolinecolor": "white"
           },
           "zaxis": {
            "backgroundcolor": "#E5ECF6",
            "gridcolor": "white",
            "gridwidth": 2,
            "linecolor": "white",
            "showbackground": true,
            "ticks": "",
            "zerolinecolor": "white"
           }
          },
          "shapedefaults": {
           "line": {
            "color": "#2a3f5f"
           }
          },
          "ternary": {
           "aaxis": {
            "gridcolor": "white",
            "linecolor": "white",
            "ticks": ""
           },
           "baxis": {
            "gridcolor": "white",
            "linecolor": "white",
            "ticks": ""
           },
           "bgcolor": "#E5ECF6",
           "caxis": {
            "gridcolor": "white",
            "linecolor": "white",
            "ticks": ""
           }
          },
          "title": {
           "x": 0.05
          },
          "xaxis": {
           "automargin": true,
           "gridcolor": "white",
           "linecolor": "white",
           "ticks": "",
           "title": {
            "standoff": 15
           },
           "zerolinecolor": "white",
           "zerolinewidth": 2
          },
          "yaxis": {
           "automargin": true,
           "gridcolor": "white",
           "linecolor": "white",
           "ticks": "",
           "title": {
            "standoff": 15
           },
           "zerolinecolor": "white",
           "zerolinewidth": 2
          }
         }
        },
        "xaxis": {
         "anchor": "y",
         "domain": [
          0,
          0.31999999999999995
         ],
         "title": {
          "text": "eval.k"
         }
        },
        "xaxis2": {
         "anchor": "y2",
         "domain": [
          0.33999999999999997,
          0.6599999999999999
         ],
         "matches": "x",
         "title": {
          "text": "eval.k"
         }
        },
        "xaxis3": {
         "anchor": "y3",
         "domain": [
          0.6799999999999999,
          0.9999999999999999
         ],
         "matches": "x",
         "title": {
          "text": "eval.k"
         }
        },
        "yaxis": {
         "anchor": "x",
         "domain": [
          0,
          1
         ],
         "title": {
          "text": "answer_accuracy"
         }
        },
        "yaxis2": {
         "anchor": "x2",
         "domain": [
          0,
          1
         ],
         "matches": "y",
         "showticklabels": false
        },
        "yaxis3": {
         "anchor": "x3",
         "domain": [
          0,
          1
         ],
         "matches": "y",
         "showticklabels": false
        }
       }
      }
     },
     "metadata": {},
     "output_type": "display_data"
    }
   ],
   "source": [
    "px.scatter(\n",
    "    df.with_columns(pl.col(\"answer_accuracy\").cast(pl.Float32, strict=False)),\n",
    "    x=\"eval.k\",\n",
    "    y=\"answer_accuracy\",\n",
    "    facet_col=\"eval.search-method\",\n",
    "    color=\"eval.extraction-method\",\n",
    ")"
   ]
  }
 ],
 "metadata": {
  "kernelspec": {
   "display_name": ".venv",
   "language": "python",
   "name": "python3"
  },
  "language_info": {
   "codemirror_mode": {
    "name": "ipython",
    "version": 3
   },
   "file_extension": ".py",
   "mimetype": "text/x-python",
   "name": "python",
   "nbconvert_exporter": "python",
   "pygments_lexer": "ipython3",
   "version": "3.11.5"
  },
  "orig_nbformat": 4
 },
 "nbformat": 4,
 "nbformat_minor": 2
}
